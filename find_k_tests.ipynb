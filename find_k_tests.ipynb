{
 "cells": [
  {
   "cell_type": "code",
   "execution_count": 3,
   "id": "44e7c1f9",
   "metadata": {},
   "outputs": [],
   "source": [
    "import numpy as np"
   ]
  },
  {
   "cell_type": "code",
   "execution_count": 12,
   "id": "fab8bb55",
   "metadata": {},
   "outputs": [
    {
     "name": "stdout",
     "output_type": "stream",
     "text": [
      "32\n"
     ]
    }
   ],
   "source": [
    "#ch = np.array( [i for i in range(256)])\n",
    "\n",
    "filename1 = \"MrZoat_WithThisRingS01_Gould.txt\"\n",
    "\n",
    "with open(filename1, 'rb') as f:\n",
    "    text = f.read()\n",
    "\n",
    "unique, counts  = np.unique(list(text), return_counts=True)\n",
    "print(unique[list(counts).index(np.max(counts))])"
   ]
  },
  {
   "cell_type": "code",
   "execution_count": 13,
   "id": "3beea38f",
   "metadata": {},
   "outputs": [],
   "source": [
    "ch =  [i for i in range(256)]\n",
    "\n",
    "count = []\n",
    "\n",
    "for i in ch:\n",
    "    search_bytes = bytes([ch[i], 32])\n",
    "    count.append(text.count(search_bytes))"
   ]
  },
  {
   "cell_type": "code",
   "execution_count": 16,
   "id": "9596752f",
   "metadata": {},
   "outputs": [
    {
     "name": "stdout",
     "output_type": "stream",
     "text": [
      "724362 4213440 0.17191700843016633\n"
     ]
    }
   ],
   "source": [
    "print(max(counts), sum(counts), max(counts)/sum(counts))"
   ]
  },
  {
   "cell_type": "code",
   "execution_count": 15,
   "id": "7b29605c",
   "metadata": {},
   "outputs": [
    {
     "name": "stdout",
     "output_type": "stream",
     "text": [
      "120288 724362 0.16606061610078937\n"
     ]
    }
   ],
   "source": [
    "print(max(count), sum(count), max(count)/sum(count))"
   ]
  },
  {
   "cell_type": "code",
   "execution_count": 18,
   "id": "b28ed5cc",
   "metadata": {},
   "outputs": [
    {
     "name": "stdout",
     "output_type": "stream",
     "text": [
      "101\n"
     ]
    }
   ],
   "source": [
    "print(count.index(max(count)))"
   ]
  },
  {
   "cell_type": "code",
   "execution_count": 22,
   "id": "b92a799a",
   "metadata": {},
   "outputs": [],
   "source": [
    "count3 = []\n",
    "\n",
    "for i in ch:\n",
    "    search_bytes = bytes([ch[i], 101, 32])\n",
    "    count3.append(text.count(search_bytes))"
   ]
  },
  {
   "cell_type": "code",
   "execution_count": 23,
   "id": "0753f6ac",
   "metadata": {},
   "outputs": [
    {
     "name": "stdout",
     "output_type": "stream",
     "text": [
      "39278 120288 0.32653298749667464\n"
     ]
    }
   ],
   "source": [
    "print(max(count3), sum(count3), max(count3)/sum(count3))"
   ]
  },
  {
   "cell_type": "code",
   "execution_count": 25,
   "id": "6ee3a4cd",
   "metadata": {},
   "outputs": [
    {
     "name": "stdout",
     "output_type": "stream",
     "text": [
      "104\n"
     ]
    }
   ],
   "source": [
    "print(count3.index(max(count3)))"
   ]
  },
  {
   "cell_type": "code",
   "execution_count": 26,
   "id": "e7e9d92e",
   "metadata": {},
   "outputs": [
    {
     "name": "stdout",
     "output_type": "stream",
     "text": [
      "29476 39278 0.7504455420337084\n",
      "116\n"
     ]
    }
   ],
   "source": [
    "count4 = []\n",
    "\n",
    "for i in ch:\n",
    "    search_bytes = bytes([ch[i], 104, 101, 32])\n",
    "    count4.append(text.count(search_bytes))\n",
    "\n",
    "print(max(count4), sum(count4), max(count4)/sum(count4))\n",
    "\n",
    "print(count4.index(max(count4)))"
   ]
  },
  {
   "cell_type": "code",
   "execution_count": 27,
   "id": "ba576a1e",
   "metadata": {},
   "outputs": [
    {
     "name": "stdout",
     "output_type": "stream",
     "text": [
      "29401 29475 0.9974893977947413\n",
      "32\n"
     ]
    }
   ],
   "source": [
    "count4 = []\n",
    "\n",
    "for i in ch:\n",
    "    search_bytes = bytes([ch[i], 116, 104, 101, 32])\n",
    "    count4.append(text.count(search_bytes))\n",
    "\n",
    "print(max(count4), sum(count4), max(count4)/sum(count4))\n",
    "\n",
    "print(count4.index(max(count4)))"
   ]
  },
  {
   "cell_type": "code",
   "execution_count": 12,
   "id": "e2a5f976",
   "metadata": {},
   "outputs": [
    {
     "name": "stdout",
     "output_type": "stream",
     "text": [
      "4507 29402 0.1532888919121148\n",
      "110\n"
     ]
    }
   ],
   "source": [
    "count4 = []\n",
    "\n",
    "for i in ch:\n",
    "    search_bytes = bytes([ch[i], 32, 116, 104, 101, 32])\n",
    "    count4.append(text.count(search_bytes))\n",
    "\n",
    "print(max(count4), sum(count4), max(count4)/sum(count4))\n",
    "\n",
    "print(count4.index(max(count4)))"
   ]
  },
  {
   "cell_type": "code",
   "execution_count": 13,
   "id": "7a330061",
   "metadata": {},
   "outputs": [
    {
     "name": "stdout",
     "output_type": "stream",
     "text": [
      "2137 4507 0.4741513201686266\n",
      "105\n"
     ]
    }
   ],
   "source": [
    "count4 = []\n",
    "\n",
    "for i in ch:\n",
    "    search_bytes = bytes([ch[i], 110, 32,116,  104, 101, 32])\n",
    "    count4.append(text.count(search_bytes))\n",
    "\n",
    "print(max(count4), sum(count4), max(count4)/sum(count4))\n",
    "\n",
    "print(count4.index(max(count4)))"
   ]
  },
  {
   "cell_type": "code",
   "execution_count": 14,
   "id": "9c5fd321",
   "metadata": {},
   "outputs": [
    {
     "name": "stdout",
     "output_type": "stream",
     "text": [
      "2017 2137 0.9438465138043987\n",
      "32\n"
     ]
    }
   ],
   "source": [
    "count4 = []\n",
    "\n",
    "for i in ch:\n",
    "    search_bytes = bytes([ch[i], 105, 110, 32,116,  104, 101, 32])\n",
    "    count4.append(text.count(search_bytes))\n",
    "\n",
    "print(max(count4), sum(count4), max(count4)/sum(count4))\n",
    "\n",
    "print(count4.index(max(count4)))"
   ]
  },
  {
   "cell_type": "code",
   "execution_count": 15,
   "id": "5a4cc8be",
   "metadata": {},
   "outputs": [
    {
     "name": "stdout",
     "output_type": "stream",
     "text": [
      "386 2017 0.19137332672285573\n",
      "101\n"
     ]
    }
   ],
   "source": [
    "count4 = []\n",
    "\n",
    "for i in ch:\n",
    "    search_bytes = bytes([ch[i], 32, 105, 110, 32,116,  104, 101, 32])\n",
    "    count4.append(text.count(search_bytes))\n",
    "\n",
    "print(max(count4), sum(count4), max(count4)/sum(count4))\n",
    "\n",
    "print(count4.index(max(count4)))"
   ]
  },
  {
   "cell_type": "code",
   "execution_count": 16,
   "id": "80108794",
   "metadata": {},
   "outputs": [
    {
     "name": "stdout",
     "output_type": "stream",
     "text": [
      "90 386 0.23316062176165803\n",
      "114\n"
     ]
    }
   ],
   "source": [
    "count4 = []\n",
    "\n",
    "for i in ch:\n",
    "    search_bytes = bytes([ch[i], 101, 32, 105, 110, 32,116,  104, 101, 32])\n",
    "    count4.append(text.count(search_bytes))\n",
    "\n",
    "print(max(count4), sum(count4), max(count4)/sum(count4))\n",
    "\n",
    "print(count4.index(max(count4)))"
   ]
  },
  {
   "cell_type": "code",
   "execution_count": 17,
   "id": "313ed57c",
   "metadata": {},
   "outputs": [
    {
     "name": "stdout",
     "output_type": "stream",
     "text": [
      "30 90 0.3333333333333333\n",
      "101\n"
     ]
    }
   ],
   "source": [
    "count4 = []\n",
    "\n",
    "for i in ch:\n",
    "    search_bytes = bytes([ch[i], 114, 101, 32, 105, 110, 32,116,  104, 101, 32])\n",
    "    count4.append(text.count(search_bytes))\n",
    "\n",
    "print(max(count4), sum(count4), max(count4)/sum(count4))\n",
    "\n",
    "print(count4.index(max(count4)))"
   ]
  },
  {
   "cell_type": "code",
   "execution_count": 18,
   "id": "f6415fde",
   "metadata": {},
   "outputs": [
    {
     "name": "stdout",
     "output_type": "stream",
     "text": [
      "17 30 0.5666666666666667\n",
      "104\n"
     ]
    }
   ],
   "source": [
    "count4 = []\n",
    "\n",
    "for i in ch:\n",
    "    search_bytes = bytes([ch[i],101, 114, 101, 32, 105, 110, 32,116,  104, 101, 32])\n",
    "    count4.append(text.count(search_bytes))\n",
    "\n",
    "print(max(count4), sum(count4), max(count4)/sum(count4))\n",
    "\n",
    "print(count4.index(max(count4)))"
   ]
  },
  {
   "cell_type": "code",
   "execution_count": 19,
   "id": "671ac505",
   "metadata": {},
   "outputs": [
    {
     "name": "stdout",
     "output_type": "stream",
     "text": [
      "9 17 0.5294117647058824\n",
      "119\n"
     ]
    }
   ],
   "source": [
    "count4 = []\n",
    "\n",
    "for i in ch:\n",
    "    search_bytes = bytes([ch[i], 104,101, 114, 101, 32, 105, 110, 32,116,  104, 101, 32])\n",
    "    count4.append(text.count(search_bytes))\n",
    "\n",
    "print(max(count4), sum(count4), max(count4)/sum(count4))\n",
    "\n",
    "print(count4.index(max(count4)))"
   ]
  },
  {
   "cell_type": "code",
   "execution_count": 20,
   "id": "515bb820",
   "metadata": {},
   "outputs": [
    {
     "name": "stdout",
     "output_type": "stream",
     "text": [
      "6 9 0.6666666666666666\n",
      "101\n"
     ]
    }
   ],
   "source": [
    "count4 = []\n",
    "\n",
    "for i in ch:\n",
    "    search_bytes = bytes([ch[i], 119, 104,101, 114, 101, 32, 105, 110, 32,116,  104, 101, 32])\n",
    "    count4.append(text.count(search_bytes))\n",
    "\n",
    "print(max(count4), sum(count4), max(count4)/sum(count4))\n",
    "\n",
    "print(count4.index(max(count4)))"
   ]
  },
  {
   "cell_type": "markdown",
   "id": "5f32ed6d",
   "metadata": {},
   "source": []
  },
  {
   "cell_type": "code",
   "execution_count": null,
   "id": "e07a01f3",
   "metadata": {},
   "outputs": [],
   "source": [
    "filename1 = \"MrZoat_WithThisRingS01_Gould.txt\"\n",
    "\n",
    "with open(filename1, 'rb') as f:\n",
    "    text = f.read()"
   ]
  },
  {
   "cell_type": "code",
   "execution_count": null,
   "id": "c319b517",
   "metadata": {},
   "outputs": [
    {
     "name": "stdout",
     "output_type": "stream",
     "text": [
      "[32]\n",
      "[101, 32]\n",
      "[104, 101, 32]\n",
      "[116, 104, 101, 32]\n",
      "[32, 116, 104, 101, 32]\n",
      "4\n"
     ]
    }
   ],
   "source": [
    "def find_k(text):\n",
    "    ch =  [i for i in range(256)]\n",
    "\n",
    "    byte_arr = []\n",
    "    prob_arr = []\n",
    "\n",
    "    for k in range(15):\n",
    "        count = []\n",
    "\n",
    "        for i in ch:\n",
    "            search_bytes = bytes([ch[i]]+ byte_arr)\n",
    "            count.append(text.count(search_bytes))\n",
    "\n",
    "        byte_arr = [count.index(max(count))] + byte_arr\n",
    "        prob_arr.append(max(count)/sum(count))\n",
    "\n",
    "        #print(byte_arr)\n",
    "\n",
    "        if max(count) < 20:\n",
    "            #print(k)\n",
    "            break\n",
    "        if max(count)/sum(count) > 0.98:\n",
    "            #print(k)\n",
    "            break\n",
    "\n",
    "    k = prob_arr.index(max(prob_arr))\n",
    "    return k"
   ]
  },
  {
   "cell_type": "code",
   "execution_count": 11,
   "id": "c4648d5e",
   "metadata": {},
   "outputs": [
    {
     "name": "stdout",
     "output_type": "stream",
     "text": [
      "[0.17191700843016633, 0.16606061610078937, 0.32653298749667464, 0.7504455420337084, 0.9974893977947413]\n"
     ]
    }
   ],
   "source": [
    "print(prob_arr)"
   ]
  },
  {
   "cell_type": "markdown",
   "id": "2c71028e",
   "metadata": {},
   "source": []
  },
  {
   "cell_type": "code",
   "execution_count": null,
   "id": "d1b8c0a8",
   "metadata": {},
   "outputs": [],
   "source": []
  }
 ],
 "metadata": {
  "kernelspec": {
   "display_name": "base",
   "language": "python",
   "name": "python3"
  },
  "language_info": {
   "codemirror_mode": {
    "name": "ipython",
    "version": 3
   },
   "file_extension": ".py",
   "mimetype": "text/x-python",
   "name": "python",
   "nbconvert_exporter": "python",
   "pygments_lexer": "ipython3",
   "version": "3.12.9"
  }
 },
 "nbformat": 4,
 "nbformat_minor": 5
}
