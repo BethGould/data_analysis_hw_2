{
 "cells": [
  {
   "cell_type": "markdown",
   "id": "32fd9cdb-0605-4a74-9700-ac40e41deba8",
   "metadata": {},
   "source": [
    "# Byte Management Classes and Functions "
   ]
  },
  {
   "cell_type": "markdown",
   "id": "9a062e6a-baa0-4a5e-b81e-1a16eff045fd",
   "metadata": {},
   "source": [
    "1) fix arithmetic decoder -- now to halfway, problem is the window size (divide by 0 means ho = lo - 1)\n",
    "2) I need to check that the code is actually widening the window (but it is ... I have seen it)\n",
    "3) everything else appears good -- it can now be fully run to create one big file, then to decode that file (although in a few cases, the active code must be changed\n",
    "4) The full file runs, but there appear to be capitalization exceptions added."
   ]
  },
  {
   "cell_type": "code",
   "execution_count": 2,
   "id": "67522c01-05ac-4a3a-b2df-e3a0a4975010",
   "metadata": {},
   "outputs": [],
   "source": [
    "# libraries\n",
    "import string\n",
    "import re\n",
    "import numpy as np\n",
    "import math"
   ]
  },
  {
   "cell_type": "code",
   "execution_count": 4,
   "id": "9a2a0380-e019-4654-ac4d-875ed71b8ffa",
   "metadata": {},
   "outputs": [],
   "source": [
    "# load the file, remove bits from the byte array\n",
    "# byte_store = loaded encoded text\n",
    "# byte = int from 0 to 255, which holds the current byte, with used bits set to 0\n",
    "# jj = index of byte_store (our current byte)\n",
    "# ii = current bit within our current byte, from 0 (all available) to 7 (only the last bit is available)\n",
    "# ll = len(byte_store)\n",
    "class byte_mng:\n",
    "    def __init__(self):\n",
    "        self.byte_store = b'' # here I am filling the bytes, should be integers from 0 to 255\n",
    "        self.byte = 0         # active byte\n",
    "\n",
    "        self.ii = 0           # bits already read, goes from 0 to 7\n",
    "        self.jj = 0           # bytes already read\n",
    "        self.ll = 0           # length of the bytearray\n",
    "\n",
    "        self.iio = 0\n",
    "        self.jjo = 0\n",
    "        self.rem = self.ll\n",
    "        \n",
    "    # unlike the previous version, the file is read first, not last\n",
    "    # I need to check that this does what I think it does\n",
    "    def load_file(self, filename):\n",
    "        with open(filename, \"rb\") as f:\n",
    "            self.byte_store = f.read() # the file should be put into a byte stream\n",
    "            \n",
    "        self.byte = self.byte_store[0]\n",
    "        self.ii = 0         \n",
    "        self.jj = 0          \n",
    "        self.ll = len(self.byte_store) \n",
    "\n",
    "        self.iio = 0\n",
    "        self.jjo = 0\n",
    "        self.byteo = self.byte\n",
    "        self.rem = self.ll\n",
    "        \n",
    "    # Once I open a file, I can start reading it. I never alter the data, but I will not access what has already been read. \n",
    "    # The first function assumes a known number of bits. We remove them one-by-one or 2 by 2 if we don't know how many we need.\n",
    "    # sets self.iio and self.jjo, so the start of reading can be reset\n",
    "    # return: value (int), whether or not we reach or superceed the length of the file\n",
    "    def read_bits(self, lngth):\n",
    "        done = False\n",
    "        self.iio = self.ii\n",
    "        self.jjo = self.jj\n",
    "        self.byteo = self.byte\n",
    "        self.rem = self.ll - self.jj\n",
    "        \n",
    "        # error-checking\n",
    "        if self.ll == 0:\n",
    "            print('File not defined.')\n",
    "            done = True\n",
    "\n",
    "        if self.rem == 0:\n",
    "            print('End of file previously reached.')\n",
    "            done = True\n",
    "\n",
    "        ret_arr = [self.byte] # start with our return here\n",
    "        used_bits = 8 - self.ii # used for length > remaining bit size\n",
    "        k = (lngth - used_bits) // 8 # used for length > remaining bit size + 8\n",
    "\n",
    "        #print(\"part1: \", self.ii, \", \", self.byte, \", \", lngth)\n",
    "        \n",
    "        # don't remove the bytes which don't need to be removed\n",
    "        if (self.ii < (8 - lngth)) & (done == False): \n",
    "            mask = int(255) - int((2**(8 - lngth - self.ii) - 1))\n",
    "            ret_arr[0] = ret_arr[0] & mask\n",
    "            self.ii = self.ii + lngth\n",
    "            mask = int(2**(8-self.ii) - 1)\n",
    "            self.byte = self.byte & mask\n",
    "            done = True\n",
    "\n",
    "        #print(\"part1: \", self.ii, \", \", self.byte, \", \", lngth, \", \", done)\n",
    "\n",
    "        #print(self.ii, self.jj)\n",
    "\n",
    "        # full bytes\n",
    "        if (done == False):\n",
    "            if k > 0:\n",
    "                for i in range(1, k+1):\n",
    "                    if self.jj + i < self.ll:\n",
    "                        ret_arr.append(self.byte_store[self.jj+i])\n",
    "                    else:\n",
    "                        print('Reached end of array.')\n",
    "                        done = True\n",
    "                        break\n",
    "            if k >= 0:\n",
    "                self.jj += k+1\n",
    "                if self.jj < self.ll:\n",
    "                    self.byte = self.byte_store[self.jj]\n",
    "                else:\n",
    "                    self.byte = 0 # end of array\n",
    "                self.ii = 0 # return to beginning\n",
    "                used_bits = used_bits + 8 * k\n",
    "                \n",
    "        if (done == False) & (lngth == used_bits):\n",
    "            done = True\n",
    "        elif (done == False) & (self.jj >= self.ll):\n",
    "            print('Reached end of file')\n",
    "            done = True\n",
    "        elif (done == False) & (used_bits > lngth):\n",
    "            print(lngth, used_bits)\n",
    "            done = True\n",
    "\n",
    "        #print(self.ii, self.jj)\n",
    "\n",
    "        # and for the last byte\n",
    "        if done == False:\n",
    "            ret_arr.append(self.byte)\n",
    "            #remaining bits\n",
    "            rem_bits = lngth - used_bits\n",
    "            #print(\"part2: \", rem_bits, \", \", lngth, \", \", used_bits)\n",
    "            i = rem_bits\n",
    "            mask = int(255) - int((2**(8-i) - 1))\n",
    "            #if i > 8: print(i)\n",
    "            ret_arr[-1] = ret_arr[-1] & mask\n",
    "            self.ii = i\n",
    "            mask = int((2**(8-i) - 1))\n",
    "            self.byte = self.byte & mask\n",
    "\n",
    "        #print(self.ii, self.jj, ret_arr)\n",
    "\n",
    "        return self.byte_to_int(ret_arr, self.iio, self.ii)\n",
    "\n",
    "    # this combines all bits into an integer\n",
    "    def byte_to_int(self, byte_arr, start, end):\n",
    "        lgt = len(byte_arr)\n",
    "        num_bits = (lgt-1)*8 - start + end\n",
    "        if end == 0:\n",
    "            num_bits += 8\n",
    "        out = 0\n",
    "        for i in range(num_bits):\n",
    "            # we want to take of the bit at index start + i\n",
    "            ind = start + i\n",
    "            kk = ind // 8\n",
    "            ind = ind % 8\n",
    "            pwr1 = int(2**(7-ind))\n",
    "            num = pwr1 & byte_arr[kk] \n",
    "            #if ind < 7: num = num >> (7-ind)\n",
    "            pwr_full = int(2**(num_bits - i - 1))\n",
    "            if num > 0: out += pwr_full\n",
    "        return(out)\n",
    "\n",
    "    # if I read the next byte as a test, and find it is for the next section instead\n",
    "    def revert(self):\n",
    "        self.ii = self.iio\n",
    "        self.jj = self.jjo\n",
    "        self.byte = self.byteo\n",
    "        self.rem = self.ll - self.jj\n",
    "        \n",
    "    def to_end_of_byte(self):\n",
    "        if self.ii > 0:\n",
    "            self.jj = self.jj + 1\n",
    "        self.ii = 0\n",
    "        self.rem = self.ll - self.jj\n",
    "        if self.rem > 0:\n",
    "            self.byte = self.byte_store[self.jj]\n",
    "        else:\n",
    "            self.byte = 0\n",
    "\n",
    "    # now for the code for ternary code\n",
    "    def read_ternary(self):\n",
    "        # 00, 01, 10, 11\n",
    "        # leading will be 1 or 0\n",
    "\n",
    "        # 1 for 2 and 0 for 1\n",
    "        # this gets the leading digit\n",
    "        ter = [self.read_bits(1)+1]\n",
    "\n",
    "        # repeat for the rest of the digits\n",
    "        # 01 = 0, 10 = 1, 11 = 2\n",
    "        code = 0\n",
    "        while code >= 0:\n",
    "            code = self.read_bits(2) - 1\n",
    "            if code >= 0:\n",
    "                ter.append(code)\n",
    "\n",
    "        #print(ter, code)\n",
    "\n",
    "        # now to return the number\n",
    "        num = 0\n",
    "        for i in range(len(ter)):\n",
    "            #print(num)\n",
    "            num += ter[i] * (3**(len(ter)-1-i))\n",
    "            \n",
    "        return num\n",
    "\n",
    "    def read_list(self):\n",
    "        word_arr = []\n",
    "        cont = True\n",
    "        while cont:\n",
    "            word = self.read_word()\n",
    "            if word == '':\n",
    "                cont = False\n",
    "            else:\n",
    "                word_arr.append(word)\n",
    "        return word_arr\n",
    "\n",
    "    def read_word(self):\n",
    "        word = ''\n",
    "        cont = True\n",
    "        while cont:\n",
    "            char = self.read_char()\n",
    "            if char == '':\n",
    "                cont = False\n",
    "            else:\n",
    "                word = word + char\n",
    "        return word\n",
    "\n",
    "    def read_char(self):\n",
    "        #000xx = stop\n",
    "        #0010x = stop\n",
    "        #0011x = ab\n",
    "        #01xxx = c-j\n",
    "        #10xxx = k-r\n",
    "        #11xxx = s-z\n",
    "        \n",
    "        code_a = ord('a') - int('110', 2)\n",
    "        #num = ord(cha) - ord('a') + code_a # the order is unchanged, but the numbering starts earlier\n",
    "        #ord(cha) = num + ord('a') - code_a\n",
    "        \n",
    "        f3b = self.read_bits(3)\n",
    "        if f3b == 0:\n",
    "            char = ''\n",
    "        elif f3b == 1:\n",
    "            b4 = self.read_bits(1)\n",
    "            if b4 == 0:\n",
    "                char = '' # I could add a separate behavor here, but right now I have not.\n",
    "            else:\n",
    "                b5 = self.read_bits(1)\n",
    "                if b5 == 0:\n",
    "                    char = 'a'\n",
    "                else:\n",
    "                    char = 'b'\n",
    "        else:\n",
    "            b45 = self.read_bits(2)\n",
    "            char_num = b45 + f3b*4 + code_a\n",
    "            char = chr(char_num)\n",
    "\n",
    "        return char"
   ]
  },
  {
   "cell_type": "code",
   "execution_count": 6,
   "id": "117daf47-f381-47cb-aaa0-58c75996bba8",
   "metadata": {},
   "outputs": [],
   "source": [
    "# I currently need to load three separate binary files, but they will be unified\n",
    "# The order is as follows: a) encoding info and counts, b) capitalization data, c) text\n",
    "byte_count = byte_mng()\n",
    "#byte_count.load_file(\"test_counts_2\")\n",
    "byte_count.load_file(\"full_text_encode_Gould\")"
   ]
  },
  {
   "cell_type": "code",
   "execution_count": 57,
   "id": "12dffe59-3ed1-49cc-9369-efba21bfdf31",
   "metadata": {},
   "outputs": [],
   "source": [
    "#print(byte_count.byte)"
   ]
  },
  {
   "cell_type": "code",
   "execution_count": 8,
   "id": "0cefec55-7367-41ae-9db9-7b453de74396",
   "metadata": {},
   "outputs": [],
   "source": [
    "low = []\n",
    "upp = []\n",
    "for i in range(26):\n",
    "    low.append(string.ascii_lowercase[i])\n",
    "    upp.append(string.ascii_uppercase[i])\n",
    "num = []\n",
    "for i in range(10):\n",
    "    num.append(string.digits[i])\n",
    "sim = []"
   ]
  },
  {
   "cell_type": "markdown",
   "id": "76607213-c2e7-495b-b090-95ab4afc7f31",
   "metadata": {
    "jp-MarkdownHeadingCollapsed": true
   },
   "source": [
    "# Count Array\n",
    "New variant:\n",
    "\n",
    " - p1: {10, 22, 1, 1, 2, 1, 1, 1, 1, 1, 1, 1, 1, 1, 1, 1, 1, 1, 1, 2, 1, 2, 2, 5, 1, 3}\n",
    " - size: (bit size -> 7, 6, 6, 6, {5}, 5, ..., 5, {4}, 4, 4, 4, 4, {2}, 2 or just all 7)\n",
    " - p2: {'ABC'} -- The first three characters of the document (index 0 - 60). \n",
    " - p3: {c2_non0\\[1\\]\\[0\\]+1, c2_non0\\[1\\]\\[1:\\]- c2_non0\\[1\\]\\[0:-1\\]} -- Add 61 to all non-positive.\n",
    " - x = 61\n",
    " - p4: {c3n_non0\\[1\\]\\[0\\]+1, c3n_non0\\[1\\]\\[1:\\]- c3n_non0\\[1\\]\\[0:-1\\]} -- Add 61 to all non-positive.\n",
    " - y = 61\n",
    " - p5: {c4_non0\\[1\\]\\[0\\]+1, c4_non0\\[1\\]\\[1:\\]- c4_non0\\[1\\]\\[0:-1\\]} -- Add 61 to all non-positive character spacings. Counts are only important here, as the old counts can be calculated from these counts and the first 3 characters.\n",
    " - z = 61, to indicate end of file \n",
    " - w = (bin(max(count4)) - 2) = number of bits in max count - ternary encoding\n",
    " - count4\n",
    "\n",
    "Indicies encoded 0-60 (straight) 61 indicates need to increment the first index only if not obvious."
   ]
  },
  {
   "cell_type": "code",
   "execution_count": 59,
   "id": "8cb57933-9b51-4bc3-b7c6-b1634a04ea74",
   "metadata": {},
   "outputs": [],
   "source": [
    "#byte_count.ii = 0\n",
    "#byte_count.jj = 0\n",
    "#byte_count.byte = byte_count.byte_store[0]"
   ]
  },
  {
   "cell_type": "code",
   "execution_count": 10,
   "id": "45dab8eb-dce0-42b6-a385-f47c7fa8ebc1",
   "metadata": {},
   "outputs": [],
   "source": [
    "# first = p1\n",
    "\n",
    "def remove_sym_arr(bm):\n",
    "    sym_space = []\n",
    "    bit_len = int(7)\n",
    "    rem_chars = int(128 - 26*2 - 10)\n",
    "    while rem_chars > 0:\n",
    "        sym_space.append(int(bm.read_bits(bit_len)))\n",
    "        rem_chars = rem_chars - sym_space[-1]\n",
    "        bit_len = len(bin(rem_chars - 1)) - 2\n",
    "        # print(sym_space, rem_chars, bit_len)\n",
    "        # 0 is possible as the first character, but not as a spacing\n",
    "        # if there are no special chars, the last number will be >= 66; \n",
    "        # but 0 may be used instead as the end after this\n",
    "        if sym_space[-1] == 0 and len(sym_space) > 1: \n",
    "            break\n",
    "    \n",
    "    sym_space.pop() # remove the last, unused space, which ends the array\n",
    "    print(sym_space)\n",
    "\n",
    "    #print(len(sym_space))\n",
    "    x1=x2=x3=False\n",
    "    for i in range(1,len(sym_space)):\n",
    "        sym_space[i] = sym_space[i] + sym_space[i-1]\n",
    "        if sym_space[i] >= 48 and x1 == False: # digits\n",
    "            x1 = True\n",
    "            sym_space[i] += 10\n",
    "        if sym_space[i] >= 65 and x2 == False: # uppercase letters\n",
    "            x2 = True\n",
    "            sym_space[i] += 26\n",
    "        if sym_space[i] >= 97 and x3 == False: # lowercase layers\n",
    "            x3 = True\n",
    "            sym_space[i] += 26\n",
    "    # now sym_space gives the ascii code for all the special characters\n",
    "\n",
    "    print(sym_space)\n",
    "\n",
    "    sym = []\n",
    "    for i in sym_space:\n",
    "        sym.append(chr(i))\n",
    "\n",
    "    return sym"
   ]
  },
  {
   "cell_type": "code",
   "execution_count": 12,
   "id": "a70cf3e6-6622-4887-9b99-af0c090af14f",
   "metadata": {},
   "outputs": [
    {
     "name": "stdout",
     "output_type": "stream",
     "text": [
      "[10, 22, 1, 1, 2, 1, 1, 1, 1, 1, 1, 1, 1, 1, 1, 1, 1, 1, 1, 2, 1, 2, 2, 5, 1]\n",
      "[10, 32, 33, 34, 36, 37, 38, 39, 40, 41, 42, 43, 44, 45, 46, 47, 58, 59, 60, 62, 63, 91, 93, 124, 125]\n",
      "6 61 61 ['\\n', ' ', '!', '\"', '$', '%', '&', \"'\", '(', ')', '*', '+', ',', '-', '.', '/', ':', ';', '<', '>', '?', '[', ']', '|', '}']\n"
     ]
    }
   ],
   "source": [
    "sim = remove_sym_arr(byte_count)\n",
    "n = len(sim) + 26 + 10\n",
    "size = len(bin(n)) - 2\n",
    "\n",
    "ch = []\n",
    "for i in range(48):\n",
    "    if chr(i) in sim:    \n",
    "        ch.append(chr(i))\n",
    "ch = ch + num\n",
    "for i in range(58, 97):\n",
    "    if chr(i) in sim:    \n",
    "        ch.append(chr(i))\n",
    "ch = ch + low\n",
    "for i in range(123, 128):\n",
    "    if chr(i) in sim:\n",
    "        ch.append(chr(i))\n",
    "print(size, n, len(ch), sim)"
   ]
  },
  {
   "cell_type": "code",
   "execution_count": 893,
   "id": "4d210a4a-84b6-4218-a320-94aee12eef17",
   "metadata": {},
   "outputs": [],
   "source": [
    "# ['\\n', ' ', '!', '\\\"', '$', '%', '&', '\\'', '(', ')', '*', '+', ',', '-', '.', '/' ]\n",
    "# sim2 = [':', ';', '<', '>', '?', '[', ']']\n",
    "# sim3 = ['|', '}']\n",
    "# {10(7), 22(6), 1(6), 1(6), 2(5), 1(5), 1, 1, 1, 1, 1, 1, 1, 1, 1, 1, 1, 1, 1, 2, 1, 2, 2, 5, 1, 3}\n",
    "# size_sim_arr = [7, 6, 6, 6, 5, 5, 5, 5, 5, 5, 5, 5, 5, 5, 5, 5, 5, 5, 5, 4, 4, 4, 4, 4, 2, 2]\n",
    "#len([10, 22, 1, 1, 2, 1, 1, 1, 1, 1, 1, 1, 1, 1, 1, 1, 1, 1, 1, 2, 1, 2, 2, 5, 1, 0])"
   ]
  },
  {
   "cell_type": "code",
   "execution_count": 14,
   "id": "2274e865-397d-411b-b7c0-8e72cd98e09b",
   "metadata": {},
   "outputs": [
    {
     "name": "stdout",
     "output_type": "stream",
     "text": [
      "[55, 41, 52]\n"
     ]
    }
   ],
   "source": [
    "# p2: {'ABC'} -- The first three characters of the document (index 0 - 60). \n",
    "context = []\n",
    "#size = 6\n",
    "for i in range(3):\n",
    "    context.append(byte_count.read_bits(size))\n",
    "print(context)"
   ]
  },
  {
   "cell_type": "code",
   "execution_count": 896,
   "id": "ef8e75b8-0d1b-4fc5-b7fd-91b921d122e9",
   "metadata": {},
   "outputs": [],
   "source": [
    "# so far correct"
   ]
  },
  {
   "cell_type": "code",
   "execution_count": 16,
   "id": "ceb006e3-ad13-402e-b234-6473ca47cef4",
   "metadata": {},
   "outputs": [
    {
     "name": "stdout",
     "output_type": "stream",
     "text": [
      "6 17 0 6\n"
     ]
    }
   ],
   "source": [
    "print(byte_count.ii, byte_count.jj, byte_count.byte, size)"
   ]
  },
  {
   "cell_type": "code",
   "execution_count": 898,
   "id": "dddd0c9d-6fce-4825-8be5-84542f38330b",
   "metadata": {},
   "outputs": [],
   "source": [
    "# save my position, to not rerun everything after an error\n",
    "#byte_count.ii = 6\n",
    "#byte_count.jj = 17\n",
    "#byte_count.byte = 0\n",
    "#size = 6"
   ]
  },
  {
   "cell_type": "code",
   "execution_count": 18,
   "id": "480ca5dc-f561-4aba-a316-1d951c3ad900",
   "metadata": {},
   "outputs": [],
   "source": [
    "# p3: {c2_non0\\[1\\]\\[0\\]+1, c2_non0\\[1\\]\\[1:\\]- c2_non0\\[1\\]\\[0:-1\\]} \n",
    "# two indicies, first of length 61, second of leng\n",
    "# there should be 1427 numbers loaded, each with a length of 6 bits\n",
    "\n",
    "p3_arr = ([], [])\n",
    "notdone = True\n",
    "i = 0 # i is increasing by one at the beginning -- this gives the correct results\n",
    "j = 0\n",
    "notFirst= False\n",
    "\n",
    "while notdone:\n",
    "    jo = j\n",
    "    j = byte_count.read_bits(size)\n",
    "    if j <= jo and notFirst:\n",
    "        i = i + 1\n",
    "        if i >= len(ch):\n",
    "            print('i greater than len')\n",
    "            byte_count.revert()\n",
    "            notdone = False\n",
    "    elif j >= len(ch):\n",
    "        i = i + 1\n",
    "        if i < len(ch):\n",
    "            j = byte_count.read_bits(size)\n",
    "        else:\n",
    "            notdone = False\n",
    "    if notdone:\n",
    "        p3_arr[0].append(i)\n",
    "        p3_arr[1].append(j)\n",
    "    notFirst = True"
   ]
  },
  {
   "cell_type": "code",
   "execution_count": 20,
   "id": "99f95e57-83a2-4291-b329-0fb37e4f8e3e",
   "metadata": {},
   "outputs": [
    {
     "name": "stdout",
     "output_type": "stream",
     "text": [
      "1427\n"
     ]
    }
   ],
   "source": [
    "print(len(p3_arr[0]))"
   ]
  },
  {
   "cell_type": "code",
   "execution_count": 904,
   "id": "9a1e5020-7b31-4a13-b48c-0670bd20c2f0",
   "metadata": {},
   "outputs": [],
   "source": [
    "#print(set(p3_arr[0]))"
   ]
  },
  {
   "cell_type": "code",
   "execution_count": 905,
   "id": "ec75464a-7e5a-441c-93c4-f4e58e764fc8",
   "metadata": {},
   "outputs": [],
   "source": [
    "#print(p3_arr[1][0:30])"
   ]
  },
  {
   "cell_type": "code",
   "execution_count": 22,
   "id": "bab276db-544d-4dbe-b836-915f641d5e7a",
   "metadata": {},
   "outputs": [
    {
     "name": "stdout",
     "output_type": "stream",
     "text": [
      "2 1090 2\n"
     ]
    }
   ],
   "source": [
    "print(byte_count.ii, byte_count.jj, byte_count.byte)"
   ]
  },
  {
   "cell_type": "code",
   "execution_count": 912,
   "id": "f49105c8-2363-41cb-939c-315fd8dae884",
   "metadata": {},
   "outputs": [],
   "source": [
    "# save my position, to not rerun everything after an error\n",
    "#byte_count.ii = 2\n",
    "#byte_count.jj = 1090\n",
    "#byte_count.byte = 2\n",
    "#size = 6"
   ]
  },
  {
   "cell_type": "code",
   "execution_count": 24,
   "id": "24e442ab-1945-4dd8-8a81-aa847313904a",
   "metadata": {},
   "outputs": [],
   "source": [
    "# p4: {c3n_non0\\[1\\]\\[0\\]+1, c3n_non0\\[1\\]\\[1:\\]- c3n_non0\\[1\\]\\[0:-1\\]} -- Add 61 to all non-positive.\n",
    "# y = 61\n",
    "# target size -- 12699\n",
    "\n",
    "p4_arr = ([], [])\n",
    "notdone = True\n",
    "i = 0\n",
    "j = 0\n",
    "notFirst= False\n",
    "\n",
    "while notdone:\n",
    "    jo = j\n",
    "    j = byte_count.read_bits(size)\n",
    "    if j <= jo and notFirst:\n",
    "        i = i + 1\n",
    "        if i >= len(p3_arr[0]):\n",
    "            print('i greater than len')\n",
    "            byte_count.revert()\n",
    "            notdone = False\n",
    "    elif j >= len(ch):\n",
    "        i = i + 1\n",
    "        if i < len(p3_arr[0]):\n",
    "            j = byte_count.read_bits(size)\n",
    "        else:\n",
    "            notdone = False\n",
    "    if notdone:\n",
    "        p4_arr[0].append(i)\n",
    "        p4_arr[1].append(j)\n",
    "    notFirst= True"
   ]
  },
  {
   "cell_type": "code",
   "execution_count": 26,
   "id": "974a5aa3-7b8c-4310-b224-fae0eef13ab6",
   "metadata": {},
   "outputs": [
    {
     "name": "stdout",
     "output_type": "stream",
     "text": [
      "12699\n"
     ]
    }
   ],
   "source": [
    "print(len(p4_arr[0]))"
   ]
  },
  {
   "cell_type": "code",
   "execution_count": 28,
   "id": "bc59c770-7472-4cc2-bb9c-301f44448a1e",
   "metadata": {},
   "outputs": [
    {
     "name": "stdout",
     "output_type": "stream",
     "text": [
      "1427\n"
     ]
    }
   ],
   "source": [
    "print(len(set(p4_arr[0])))"
   ]
  },
  {
   "cell_type": "code",
   "execution_count": 34,
   "id": "930d56e2-f00f-45a5-bdd9-2bd37e5859ab",
   "metadata": {},
   "outputs": [],
   "source": [
    "#print(p4_arr[1][0:30])"
   ]
  },
  {
   "cell_type": "code",
   "execution_count": null,
   "id": "8efe0bf2-3e2a-427a-95aa-7dc7976b8fb2",
   "metadata": {},
   "outputs": [],
   "source": [
    "# strangely correct. need to compare actual numbers\n",
    "# I think it is because the first index is 0 for the first one, while non-zero for later ones\n",
    "# now it works properly, but in theory I should correct this so the code could in theory work with other texts"
   ]
  },
  {
   "cell_type": "code",
   "execution_count": 30,
   "id": "8af792e4-8053-4e72-b706-733a0fa99192",
   "metadata": {},
   "outputs": [
    {
     "name": "stdout",
     "output_type": "stream",
     "text": [
      "0 10727 8\n"
     ]
    }
   ],
   "source": [
    "print(byte_count.ii, byte_count.jj, byte_count.byte)"
   ]
  },
  {
   "cell_type": "code",
   "execution_count": null,
   "id": "4ac90b2f-76de-4eb1-9fd8-106aa43207fa",
   "metadata": {},
   "outputs": [],
   "source": [
    "# save my position, to not rerun everything after an error\n",
    "#byte_count.ii = 0\n",
    "#byte_count.jj = 10727\n",
    "#byte_count.byte = 8\n",
    "#size = 6"
   ]
  },
  {
   "cell_type": "code",
   "execution_count": 32,
   "id": "57020a26-4c2d-4d19-8986-3c77cdac4b26",
   "metadata": {},
   "outputs": [],
   "source": [
    "#  p5: {c4_non0\\[1\\]\\[0\\]+1, c4_non0\\[1\\]\\[1:\\]- c4_non0\\[1\\]\\[0:-1\\]} -- Add 61 to all non-positive character spacings. Counts are only important here, as the old counts can be calculated from these counts and the first 3 characters.\n",
    "# z = 61, to indicate end of file \n",
    "# target size: 59088\n",
    "\n",
    "p5_arr = ([], [])\n",
    "notdone = True\n",
    "i = 0\n",
    "j = 0\n",
    "notFirst= False\n",
    "\n",
    "while notdone:\n",
    "    jo = j\n",
    "    j = byte_count.read_bits(size)\n",
    "    if j <= jo and notFirst:\n",
    "        i = i + 1\n",
    "        if i >= len(p4_arr[0]):\n",
    "            print('i greater than len')\n",
    "            byte_count.revert()\n",
    "            notdone = False\n",
    "    elif j >= len(ch):\n",
    "        i = i + 1\n",
    "        if i < len(p4_arr[0]):\n",
    "            j = byte_count.read_bits(size)\n",
    "        else:\n",
    "            notdone = False\n",
    "    if notdone:\n",
    "        p5_arr[0].append(i)\n",
    "        p5_arr[1].append(j)\n",
    "    notFirst= True"
   ]
  },
  {
   "cell_type": "code",
   "execution_count": 34,
   "id": "ebda24c8-bc79-4d85-a9e4-859717ac061d",
   "metadata": {},
   "outputs": [
    {
     "name": "stdout",
     "output_type": "stream",
     "text": [
      "59088\n"
     ]
    }
   ],
   "source": [
    "print(len(p5_arr[0]))"
   ]
  },
  {
   "cell_type": "code",
   "execution_count": null,
   "id": "092cf233-80e6-4178-8473-c7a823537d1c",
   "metadata": {},
   "outputs": [],
   "source": [
    "#also correct"
   ]
  },
  {
   "cell_type": "code",
   "execution_count": 36,
   "id": "48abba9e-6d66-4034-b425-aeea36e28074",
   "metadata": {},
   "outputs": [
    {
     "name": "stdout",
     "output_type": "stream",
     "text": [
      "2 56752 28\n"
     ]
    }
   ],
   "source": [
    "print(byte_count.ii, byte_count.jj, byte_count.byte)"
   ]
  },
  {
   "cell_type": "code",
   "execution_count": 93,
   "id": "37dac063-e78c-47da-ba0d-b99d9208d07a",
   "metadata": {},
   "outputs": [],
   "source": [
    "# save my position, to not rerun everything after an error\n",
    "#byte_count.ii = 2\n",
    "#byte_count.jj = 56752\n",
    "#byte_count.byte = 28\n",
    "#size = 6"
   ]
  },
  {
   "cell_type": "code",
   "execution_count": 38,
   "id": "71bd68e3-85af-44cb-8bb4-37c0a1636c5a",
   "metadata": {},
   "outputs": [
    {
     "name": "stdout",
     "output_type": "stream",
     "text": [
      "16\n"
     ]
    }
   ],
   "source": [
    "w = byte_count.read_ternary()\n",
    "print(w)"
   ]
  },
  {
   "cell_type": "code",
   "execution_count": 40,
   "id": "911a0c52-9d9f-4799-af63-6cbdb8844cfa",
   "metadata": {},
   "outputs": [
    {
     "name": "stdout",
     "output_type": "stream",
     "text": [
      "1 56753 0\n"
     ]
    }
   ],
   "source": [
    "#p2:  3 18\n",
    "#p3:  1429 1091\n",
    "#p4:  12848 10728\n",
    "#p5:  61366 56753\n",
    "#w =  16\n",
    "#p6:  59088 174930\n",
    "\n",
    "#w is now correct\n",
    "print(byte_count.ii, byte_count.jj, byte_count.byte)"
   ]
  },
  {
   "cell_type": "code",
   "execution_count": 42,
   "id": "b9387495-22f4-41cb-a455-71715aa5001a",
   "metadata": {},
   "outputs": [
    {
     "name": "stdout",
     "output_type": "stream",
     "text": [
      "785358\n"
     ]
    }
   ],
   "source": [
    "print(len(byte_count.byte_store))"
   ]
  },
  {
   "cell_type": "code",
   "execution_count": 44,
   "id": "de9a3c86-f46c-421a-9752-e31f2b4f99a8",
   "metadata": {},
   "outputs": [
    {
     "name": "stdout",
     "output_type": "stream",
     "text": [
      "0\n"
     ]
    }
   ],
   "source": [
    "# w = (bin(max(count4)) - 2) = number of bits in max count - ternary encoding\n",
    "\n",
    "count4 = [] #np.zeros(len(p5_arr[0]), 'int')\n",
    "\n",
    "# count4\n",
    "for i in range(len(p5_arr[0])):\n",
    "    count4.append(byte_count.read_bits(w))\n",
    "\n",
    "whitespace2 = byte_count.read_bits(3) # this exists only in the full file encod\n",
    "byte_count.to_end_of_byte() # should be the end now, but needed if the files are joined\n",
    "\n",
    "print(whitespace2)"
   ]
  },
  {
   "cell_type": "code",
   "execution_count": 46,
   "id": "6c5daca2-5c09-4605-8023-e28449f7f330",
   "metadata": {},
   "outputs": [
    {
     "name": "stdout",
     "output_type": "stream",
     "text": [
      "0 174930 84 785358\n"
     ]
    }
   ],
   "source": [
    "print(byte_count.ii, byte_count.jj, byte_count.byte, byte_count.ll)"
   ]
  },
  {
   "cell_type": "code",
   "execution_count": 48,
   "id": "76a03581-25f3-494d-aa6b-e37e32a5d8b2",
   "metadata": {},
   "outputs": [
    {
     "name": "stdout",
     "output_type": "stream",
     "text": [
      "42912\n"
     ]
    }
   ],
   "source": [
    "print(max(count4))"
   ]
  },
  {
   "cell_type": "code",
   "execution_count": null,
   "id": "da04d0b0-779b-4d6d-a6cb-b48178b75ccc",
   "metadata": {},
   "outputs": [],
   "source": [
    "# ends at the correct time, has the correct max count"
   ]
  },
  {
   "cell_type": "code",
   "execution_count": 50,
   "id": "fc397c57-e197-494d-b246-939238945ae1",
   "metadata": {},
   "outputs": [
    {
     "name": "stdout",
     "output_type": "stream",
     "text": [
      "[4, 1, 4, 1, 3, 4, 3, 8, 5, 6, 18, 3, 24, 17, 1, 7, 6, 8, 8, 2, 1, 8, 2, 2, 1, 32, 98, 71, 1, 1] [4, 8, 1, 1, 17, 1, 1, 2, 1, 5, 1, 4, 1, 1, 2, 1, 4, 7, 1, 110, 8, 2, 2, 6, 1, 1, 1, 2, 1, 1]\n"
     ]
    }
   ],
   "source": [
    "print(count4[0:30], count4[-30:])"
   ]
  },
  {
   "cell_type": "markdown",
   "id": "ddbfad03-0ca3-4935-b64c-8303a8bb536c",
   "metadata": {
    "jp-MarkdownHeadingCollapsed": true
   },
   "source": [
    "# Pandas"
   ]
  },
  {
   "cell_type": "raw",
   "id": "bd1df348-f5ee-4f16-8959-aeec343ace86",
   "metadata": {},
   "source": [
    "import pandas as pd"
   ]
  },
  {
   "cell_type": "raw",
   "id": "eff7d59a-76f0-4bf7-b983-892073e29818",
   "metadata": {},
   "source": [
    "count4_store = pd.DataFrame(count4)\n",
    "count4_store.to_csv(\"count4v2.csv\")"
   ]
  },
  {
   "cell_type": "raw",
   "id": "d01d40a6-7560-4e37-b721-c0e6ee3d7c5c",
   "metadata": {},
   "source": [
    "c3n_non0_dict = {0: p4_arr[0], 1: p4_arr[1]}\n",
    "c3n_non0_pd = pd.DataFrame(c3n_non0_dict)\n",
    "c3n_non0_pd.to_csv(\"c3_non0v2.csv\")"
   ]
  },
  {
   "cell_type": "raw",
   "id": "eb228006-0059-4116-a38e-3610c2b23bd6",
   "metadata": {},
   "source": [
    "c4_non0_dict = {0: p5_arr[0], 1: p5_arr[1]}\n",
    "c4_non0_pd = pd.DataFrame(c4_non0_dict)\n",
    "c4_non0_pd.to_csv(\"c4_non0v2.csv\")"
   ]
  },
  {
   "cell_type": "raw",
   "id": "840b1cfa-3a07-459c-b711-9f7b5a2c894d",
   "metadata": {},
   "source": [
    "c2_non0_dict = {0: p3_arr[0], 1: p3_arr[1]}\n",
    "c2_non0_pd = pd.DataFrame(c2_non0_dict)\n",
    "c2_non0_pd.to_csv(\"c2_non0v2.csv\")"
   ]
  },
  {
   "cell_type": "raw",
   "id": "89259a24-60fb-426e-9032-3928f3df2ebf",
   "metadata": {},
   "source": [
    "p3 = []\n",
    "p3.append(pd.read_csv('c2_non0.csv').to_numpy())\n",
    "p3.append(pd.read_csv('c2_non0v2.csv').to_numpy())\n",
    "p3.append(pd.read_csv('c3n_non0.csv').to_numpy())\n",
    "p3.append(pd.read_csv('c3_non0v2.csv').to_numpy())\n",
    "p3.append(pd.read_csv('c4_non0.csv').to_numpy())\n",
    "p3.append(pd.read_csv('c4_non0v2.csv').to_numpy())"
   ]
  },
  {
   "cell_type": "raw",
   "id": "d540b309-6b67-44b8-9017-5250199e0c2b",
   "metadata": {},
   "source": [
    "print(np.nonzero(p3[0]-p3[1]))"
   ]
  },
  {
   "cell_type": "raw",
   "id": "a545b93c-f1fd-4aa0-8406-c37e7acf63a0",
   "metadata": {},
   "source": [
    "print(np.nonzero(p3[2]-p3[3]))\n",
    "#(array([], dtype=int64), array([], dtype=int64))"
   ]
  },
  {
   "cell_type": "raw",
   "id": "4d4d7f3f-5099-4961-827e-2170c72f813d",
   "metadata": {},
   "source": [
    "print(np.nonzero(p3[4]-p3[5]))\n",
    "#(array([], dtype=int64), array([], dtype=int64))"
   ]
  },
  {
   "cell_type": "raw",
   "id": "96592e20-4fd1-414f-8a90-e99d2d534267",
   "metadata": {},
   "source": [
    "count4f = pd.read_csv('count4.csv', index_col = 0).to_numpy()\n",
    "#count4f"
   ]
  },
  {
   "cell_type": "raw",
   "id": "24e26841-55a6-4178-971a-2312f0092ecf",
   "metadata": {},
   "source": [
    "c3_non0 = pd.read_csv('c3_non0.csv', index_col = 0).to_numpy()"
   ]
  },
  {
   "cell_type": "markdown",
   "id": "79df3e75-74ec-426f-9d0d-04c5334ff385",
   "metadata": {
    "jp-MarkdownHeadingCollapsed": true
   },
   "source": [
    "# Capitalization Array"
   ]
  },
  {
   "cell_type": "code",
   "execution_count": 213,
   "id": "6c42621b-38ae-4875-9d36-1cf43a107946",
   "metadata": {},
   "outputs": [],
   "source": [
    "# this is because the files are separate\n",
    "#byte_count = byte_mng()\n",
    "#byte_count.load_file(\"test_capital\")"
   ]
  },
  {
   "cell_type": "code",
   "execution_count": 52,
   "id": "910e62be-d3b8-41a8-aaa2-0b7d2af17436",
   "metadata": {},
   "outputs": [],
   "source": [
    "abr_arr = byte_count.read_list()\n",
    "name_arr = byte_count.read_list()\n",
    "\n",
    "exc_size = byte_count.read_ternary()\n",
    "exc_arr = []\n",
    "for i in range(exc_size):\n",
    "    exc_arr.append(byte_count.read_ternary())\n",
    "byte_count.to_end_of_byte() # should be the end now, but needed if the files are joined"
   ]
  },
  {
   "cell_type": "code",
   "execution_count": 54,
   "id": "a8b9c27d-4153-4a39-9102-d4669b201e0a",
   "metadata": {},
   "outputs": [
    {
     "name": "stdout",
     "output_type": "stream",
     "text": [
      "['emp', 'ged', 'scu', 'ceo', 'cia', 'ftl', 'bbc', 'gmt', 'dcu', 'hud', 'gbs', 'xcom', 'wxyz', 'babum', 'gcse']\n"
     ]
    }
   ],
   "source": [
    "# should be ['GBS','GMT', 'BBC', 'FTL', 'SCU', 'CIA','HUD','DCU','CEO','EMP','GED','GCSE','XCOM','WXYZ','BABUM']\n",
    "print(abr_arr)"
   ]
  },
  {
   "cell_type": "code",
   "execution_count": 56,
   "id": "e0c77206-c730-476f-b45a-1eda6c401a6f",
   "metadata": {},
   "outputs": [
    {
     "name": "stdout",
     "output_type": "stream",
     "text": [
      "756\n"
     ]
    }
   ],
   "source": [
    "print(len(name_arr)) #756 is the target"
   ]
  },
  {
   "cell_type": "code",
   "execution_count": 58,
   "id": "7947a5a9-afca-4e97-b6f4-8adca8795e76",
   "metadata": {},
   "outputs": [
    {
     "name": "stdout",
     "output_type": "stream",
     "text": [
      "['hey', 'controller', 'harp', 'clark', 'pffff', 'bonfire', 'omega', 'taiwanese', 'gardn', 'africa', 'mrs', 'unable', 'nn', 'gn', 'art', 'thanagar', 'gaea', 'selina', 'nooo', 'chinese'] ['masters', 'bah', 'rrrrr', 'whow', 'orleans', 'ooo', 'haha', 'manta', 'wow', 'megan']\n"
     ]
    }
   ],
   "source": [
    "print(name_arr[0:20], name_arr[-10:])"
   ]
  },
  {
   "cell_type": "code",
   "execution_count": 60,
   "id": "193ffc42-1f3a-4518-a637-46aca354742b",
   "metadata": {},
   "outputs": [
    {
     "name": "stdout",
     "output_type": "stream",
     "text": [
      "17850 4359\n"
     ]
    }
   ],
   "source": [
    "print(len(exc_arr), max(exc_arr)) #17850 4359"
   ]
  },
  {
   "cell_type": "code",
   "execution_count": 62,
   "id": "7e9075c3-b022-4dfb-bdc6-2294a593d766",
   "metadata": {},
   "outputs": [
    {
     "name": "stdout",
     "output_type": "stream",
     "text": [
      "[1, 5, 5, 6, 3, 6, 3, 6, 13, 6, 9, 7, 8, 7, 13, 18, 1, 4, 1, 3]\n"
     ]
    }
   ],
   "source": [
    "print(exc_arr[0:20])"
   ]
  },
  {
   "cell_type": "code",
   "execution_count": 225,
   "id": "2431e50c-c664-4e03-8e31-8803557015ed",
   "metadata": {},
   "outputs": [],
   "source": [
    "# I need to also calculate indicies from the given spacings\n",
    "#note that encoding starts at 1, not 0, so should be shifted by one\n",
    "#for i in range(len(exc) - 1):\n",
    "#    j = len(exc) - i - 1\n",
    "#    exc[j] = exc[j] - exc[j-1] # will be 1 if the numbers are next to each other, but encodings start at 1\n",
    "#exc[0] = exc[0] + 1 # to start at 1, not 0"
   ]
  },
  {
   "cell_type": "code",
   "execution_count": 64,
   "id": "16d2551b-90f4-4da1-8741-40ba89d8856d",
   "metadata": {},
   "outputs": [],
   "source": [
    "exc_arr[0] = exc_arr[0] - 1 # subtract one from the first index\n",
    "\n",
    "for i in range(1,len(exc_arr)):\n",
    "    exc_arr[i] = exc_arr[i] + exc_arr[i-1] # add the previous to go from spacing to index"
   ]
  },
  {
   "cell_type": "code",
   "execution_count": 66,
   "id": "f21fbed2-69f8-4375-b3bc-a15244d77592",
   "metadata": {},
   "outputs": [
    {
     "name": "stdout",
     "output_type": "stream",
     "text": [
      "[0, 5, 10, 16, 19, 25, 28, 34, 47, 53, 62, 69, 77, 84, 97, 115, 116, 120, 121, 124]\n"
     ]
    }
   ],
   "source": [
    "print(exc_arr[0:20])"
   ]
  },
  {
   "cell_type": "code",
   "execution_count": null,
   "id": "d7e56cb1-b59c-4018-b3d1-105427fd2798",
   "metadata": {},
   "outputs": [],
   "source": [
    "# I think the error was in the loading here. I checked in the past, but perhaps there was an error along the way. ...\n",
    "# I loaded the sorted array instead of the unsorted array ...\n",
    "# Works now."
   ]
  },
  {
   "cell_type": "markdown",
   "id": "d514d6e6-85f2-4562-b386-476d5b6fb000",
   "metadata": {
    "jp-MarkdownHeadingCollapsed": true
   },
   "source": [
    "# Capitalization Test\n",
    "I can just load the text, decapitalizize, and see if it returns the original text. This will deal will get around the need to fix the text encoding algorithm."
   ]
  },
  {
   "cell_type": "raw",
   "id": "bf08bae6-d1f6-4447-baec-146853bed473",
   "metadata": {},
   "source": [
    "#load text\n",
    "f = open(\"MrZoat_WithThisRingS01_Gould.txt\")\n",
    "text = f.read()\n",
    "f.close()\n",
    "text_dec = list(text.lower()) # this is the form I will recieve the text in from the decoder"
   ]
  },
  {
   "cell_type": "raw",
   "id": "d7fddb6a-19ab-4742-9d01-b08887fb3633",
   "metadata": {},
   "source": [
    "print(text_dec[0:20]) \n",
    "#['w', 'i', 't', 'h', ' ', 't', 'h', 'i', 's', ' ', 'r', 'i', 'n', 'g', ' ', '[', 's', '0', '1', 'e']"
   ]
  },
  {
   "cell_type": "raw",
   "id": "a46fba17-1675-4419-9133-185af0f5b21a",
   "metadata": {},
   "source": [
    "text_dec_read = ''.join(text_dec) # for finding words / reading\n",
    "print(text_dec_read[0:20])\n",
    "#with this ring [s01e"
   ]
  },
  {
   "cell_type": "code",
   "execution_count": null,
   "id": "41419fb4-dbf8-4ae7-8333-fc6a74290834",
   "metadata": {},
   "outputs": [],
   "source": [
    "# just like the encoder"
   ]
  },
  {
   "cell_type": "raw",
   "id": "2c27c154-ab5a-4c79-9780-d050efcdf6d8",
   "metadata": {},
   "source": [
    "i = text_dec_read[0:-1].find('.')\n",
    "j=0\n",
    "k=-1\n",
    "while i >= 0:\n",
    "    # j is set to i, the last found location of a punctuation mark\n",
    "    j = i\n",
    "    # find the next letter after the punctuation mark\n",
    "    x = re.search('[A-Za-z]', text_dec_read[j:-1])\n",
    "    # end of text, no more letters\n",
    "    if x == None:\n",
    "        break\n",
    "    # k is the position of the letter to capitalize\n",
    "    k = x.start()+j\n",
    "    # switch case of the letter\n",
    "    if not(any(text_dec_read[k-1] == item for item in num)):\n",
    "        text_dec[k] = text_dec[k].capitalize()\n",
    "    # find next instance of any type of punctuation or a new paragraph\n",
    "    i2 = k+1+text_dec_read[k+1:-1].find('\\n\\n')\n",
    "    cont = True\n",
    "    i1 = k+1\n",
    "    while (cont):\n",
    "        x = re.search('[.?!]', text_dec_read[i1:-1])\n",
    "        cont = False\n",
    "        if x == None:\n",
    "            #we have no more punctuation, only '\\n\\n' relevent (but will be -1)\n",
    "            i1 = i2\n",
    "        else:\n",
    "            #set our index\n",
    "            i1 = i1+x.start()\n",
    "            # we need to now add an additional check for '.. '\n",
    "            if (text_dec_read[i1+1]=='.' and text_dec_read[i1+2]==' '):\n",
    "                i1 = i1 + 2\n",
    "                #print(k, i1, text_dec_read[i1-3:i1+2])\n",
    "                cont = True                \n",
    "    if i2 < k+1:\n",
    "        #we have no more new paragraphs, only punctuation relevant\n",
    "        #note that if x = None as well, this does nothing, and they both indicate that there are no more instances\n",
    "        i2 = i1\n",
    "    i = min(i1,i2)\n",
    "    # no more punctuation and no more new paragraphs\n",
    "    if i < k+1:\n",
    "        break"
   ]
  },
  {
   "cell_type": "raw",
   "id": "52ad938e-44a1-47be-beee-512d2623b503",
   "metadata": {},
   "source": [
    "# code is still taking a while but much faster\n",
    "# titles I am skipping, so the next is for the letter I in isolation\n",
    "\n",
    "for i in range(len(text_dec)):\n",
    "    if text_dec_read[i] == 'I' or text_dec_read[i] == 'i':\n",
    "        if i == 0:\n",
    "            if any(text_dec_read[1] == item for item in sim):\n",
    "                text_dec[i] = text_dec[i].capitalize()\n",
    "        elif i == len(text) - 1:\n",
    "            if any(text_dec_read[i-1] == item for item in sim):\n",
    "                text_dec[i] = text_dec[i].capitalize()\n",
    "        else:\n",
    "            if any(text_dec_read[i-1] == item for item in sim) and any(text_dec_read[i+1] == item for item in sim):\n",
    "                text_dec[i] = text_dec[i].capitalize()"
   ]
  },
  {
   "cell_type": "raw",
   "id": "590ac329-7990-4976-b2ec-3fe2b9aafdf1",
   "metadata": {},
   "source": [
    "# now to flip for the abr list\n",
    "# k, kk are the index of interest\n",
    "for i in abr_arr:\n",
    "    k = 0      # reset the index\n",
    "    l = len(i)\n",
    "    for j in range(text_dec_read.lower().count(i.lower())):\n",
    "        k = k + 1\n",
    "        kk = text_dec_read[k:].lower().find(i.lower()) + k\n",
    "        k = kk # set the index\n",
    "        # if both sides are symbols \n",
    "        #if j == 0:\n",
    "        if any(text_dec_read[k-1] == item for item in sim) and any(text_dec_read[k+l] == item for item in sim):\n",
    "            for ii in range(l):\n",
    "                text_dec[k+ii] = text_dec[k+ii].capitalize()\n",
    "            #print(i, text_dec[k-1:k+l+1])"
   ]
  },
  {
   "cell_type": "raw",
   "id": "45f1c947-8f65-4caa-b716-979ab977c72c",
   "metadata": {},
   "source": [
    "# now to flip for the name list\n",
    "# k, kk are the index of interest\n",
    "for i in name_arr:\n",
    "    k = 0      # reset the index\n",
    "    l = len(i)\n",
    "    for j in range(text_dec_read.lower().count(i.lower())):\n",
    "        k = k + 1\n",
    "        kk = text_dec_read[k:].lower().find(i.lower()) + k\n",
    "        k = kk # set the index\n",
    "        # if both sides are symbols \n",
    "        if any(text_dec_read[k-1] == item for item in sim) and any(text_dec_read[k+l] == item for item in sim):\n",
    "            text_dec[k] = text_dec[k].capitalize()\n",
    "            #print(i, text_dec[k-1:k+l+1])"
   ]
  },
  {
   "cell_type": "raw",
   "id": "42e8a4f1-42fe-4215-9302-4b206fbc1fee",
   "metadata": {},
   "source": [
    "for i in exc_arr:\n",
    "    text_dec[i] = text_dec[i].swapcase()"
   ]
  },
  {
   "cell_type": "raw",
   "id": "74b6258f-139a-4efd-b426-6a1d3c645995",
   "metadata": {},
   "source": [
    "text2 = ''.join(text_dec)\n",
    "print(text2[0:200])\n",
    "\n",
    "'''With This Ring [S01E01 - S01E26]\n",
    "\n",
    "Information\n",
    "[Story Only and Latest Thread]\n",
    "Second Half of 2010\n",
    "Author: Mr. Zoat [SB / SV]\n",
    "Compiled By: Twilight D. Dragon [SB / SV]\n",
    "Content: 26 Episodes / 590 Snippet'''"
   ]
  },
  {
   "cell_type": "raw",
   "id": "8f9f7754-48e7-4d98-bc9b-9f08134cfde8",
   "metadata": {},
   "source": [
    "text2 == text\n",
    "\n",
    "#True"
   ]
  },
  {
   "cell_type": "code",
   "execution_count": null,
   "id": "eb63f889-1d88-431d-9974-ff7c3a228118",
   "metadata": {},
   "outputs": [],
   "source": [
    "# success"
   ]
  },
  {
   "cell_type": "markdown",
   "id": "cfaba34d-8c8b-49a5-8721-35629657fc0d",
   "metadata": {},
   "source": [
    "# Text Decoding"
   ]
  },
  {
   "cell_type": "code",
   "execution_count": 795,
   "id": "8427cd49-9dba-46eb-aa3e-293d89775db7",
   "metadata": {},
   "outputs": [],
   "source": [
    "# this is because the files are separate\n",
    "#byte_count = byte_mng()\n",
    "#byte_count.load_file(\"text_encode\")"
   ]
  },
  {
   "cell_type": "code",
   "execution_count": 68,
   "id": "138da96c-278d-4820-960e-3f51e18a79e1",
   "metadata": {},
   "outputs": [],
   "source": [
    "# this is where are decoded text will be stored\n",
    "#context = [ch.index('w'), ch.index('i'), ch.index('t')]\n",
    "text = []\n",
    "for i in context:\n",
    "    text.append(ch[i])"
   ]
  },
  {
   "cell_type": "code",
   "execution_count": 70,
   "id": "a292c4b1-e794-4e48-8a02-72d04025e445",
   "metadata": {},
   "outputs": [
    {
     "name": "stdout",
     "output_type": "stream",
     "text": [
      "['w', 'i', 't']\n"
     ]
    }
   ],
   "source": [
    "print(text)"
   ]
  },
  {
   "cell_type": "code",
   "execution_count": 434,
   "id": "95930c17-72ac-46cb-a5e9-186f418054ec",
   "metadata": {},
   "outputs": [],
   "source": [
    "# ch                             -- (character indicies) -- like before\n",
    "# count4 [len(p5_arr[0])]        -- (our counts)\n",
    "# c3_non0[:3][:len(num3_non0)]   -- (to find the first index based on character indicies)\n",
    "# p3_arr[2][len] -- p3[0] is 0 to 60, p3[1] is 0 to 60\n",
    "# p4_arr[2][len] -- p4[0] is 0 to len(p3) -1, p4[1] is 0 to 60\n",
    "# p5_arr[2][len] -- p5[0] is 0 to len(p4) -1, p5[1] is 0 to 60\n",
    "\n",
    "# first 3 characters\n",
    "# context\n",
    "# push context each time (new = {0,1,2}) ... \n",
    "\n",
    "# counts = count4, context = 'XYZ', char = 'W'\n",
    "# def find_count(counts, context, char):\n",
    "#    i,j,k,m = find_indicies(context, char)\n",
    "#    return counts(ii, jj)\n",
    "\n",
    "# I don't pass the counts like needed, so I removed this requirement\n",
    "# context = [x, y, z] char = w, where w,x,y,z are all indicies\n",
    "# I am storing the context in the form of indicies, not characters\n",
    "#def find_count(context, char, counts = count4, c2 = p3_arr, c3 = p4_arr, c4 = p5_arr):\n",
    "\n",
    "# find_count not used here, new version in the class"
   ]
  },
  {
   "cell_type": "code",
   "execution_count": null,
   "id": "5f8bc43b-52ea-4f03-93c1-41301eb5ec3e",
   "metadata": {},
   "outputs": [],
   "source": [
    "# testing for find_count"
   ]
  },
  {
   "cell_type": "code",
   "execution_count": null,
   "id": "86a62b91-c099-4325-8a34-c7ca931b3ae4",
   "metadata": {},
   "outputs": [],
   "source": [
    "# - find the probabilities and borders based on the counts (give counts, find left and right border)\n",
    "# def find_probs(counts):\n",
    "# again not used for decoding"
   ]
  },
  {
   "cell_type": "code",
   "execution_count": null,
   "id": "49c0cd2c-6b83-4c07-9456-0d0a04ba45aa",
   "metadata": {},
   "outputs": [],
   "source": [
    "# testing for find_probs"
   ]
  },
  {
   "cell_type": "code",
   "execution_count": null,
   "id": "7a988709-2172-4f85-a43f-5abb0e8cdd23",
   "metadata": {},
   "outputs": [],
   "source": [
    "# bit management is here in the encoder, but I already have one"
   ]
  },
  {
   "cell_type": "code",
   "execution_count": 72,
   "id": "afe49b7b-d512-41ce-96c0-69ba7c0e7cb6",
   "metadata": {},
   "outputs": [],
   "source": [
    "# - keep track of and update l, h, bits\n",
    "# {l_old, h_old, bits_old -> a, b -> h-l+1, h-l+1 / 2^n -> a+ term, b+ term -> l, \n",
    "#  h -> bin l, bin h -> enc update -> new bin l, new bin h, bits_new -> new l, new h}\n",
    "class arith_code_mng:\n",
    "    def __init__(self, context, byte_m = byte_count):\n",
    "        # window size\n",
    "        self.N = 32\n",
    "        self.win_size = 2**self.N\n",
    "\n",
    "        # left and right borders\n",
    "        # I know I don't need so many, but it should be fine right now\n",
    "        self.l = 0\n",
    "        self.h = self.win_size - 1\n",
    "        self.bits = 0\n",
    "        self.lo = 0\n",
    "        self.ho = self.win_size - 1\n",
    "        self.ln = 0\n",
    "        self.hn = self.win_size - 1\n",
    "\n",
    "        # context\n",
    "        self.context = context\n",
    "        self.char = 0\n",
    "\n",
    "        # counts\n",
    "        # this is currently global\n",
    "\n",
    "        # encoding\n",
    "        self.byte_encode = byte_m\n",
    "        self.duration_static = 0\n",
    "        self.static_count = 0\n",
    "        self.end = 0\n",
    "        self.window = 0\n",
    "        self.contin = True\n",
    "\n",
    "        self.find_last_byte()\n",
    "        self.find_first_byte()\n",
    "\n",
    "    def find_last_byte(self):\n",
    "        self.byte_l = self.byte_encode.ll\n",
    "        self.cur_by = self.byte_encode.jj\n",
    "        self.cur_bi = self.byte_encode.ii\n",
    "        self.bit_end = 7\n",
    "\n",
    "        # remove 0 bytes\n",
    "        byte = 0\n",
    "        while (byte == 0) and (self.byte_l >= self.cur_by):\n",
    "            self.byte_l = self.byte_l - 1\n",
    "            byte = self.byte_encode.byte_store[self.byte_l]\n",
    "            self.duration_static = self.duration_static + 8\n",
    "\n",
    "        # now for 0 bits\n",
    "        i = 0\n",
    "        while i < 8:\n",
    "            i = i + 1 \n",
    "            byte_new = (byte >> i) << i\n",
    "            if byte_new != byte:\n",
    "                break\n",
    "\n",
    "        self.bit_end = 8 - i\n",
    "            \n",
    "        # we need to fix duration_static now\n",
    "        # this gives the minimum duration\n",
    "        #if self.duration_static > 8:\n",
    "        #    self.duration_static -= self.bit_end\n",
    "        self.duration_static += i - 1\n",
    "        self.duration_static -= whitespace2\n",
    "\n",
    "        # the last bit is now guarenteed to be 1 (unless there are no more remaining 1s)\n",
    "        # the following condition marks this situation\n",
    "        if (self.cur_by > self.byte_l) or ((self.cur_by == self.byte_l) and (self.cur_bi > self.bit_end)):\n",
    "            self.contin = False\n",
    "\n",
    "    def read_bit(self):\n",
    "        if (self.cur_by < self.byte_l) or ((self.cur_by == self.byte_l) and (self.cur_bi <= self.bit_end)):\n",
    "            bit = self.byte_encode.read_bits(1)\n",
    "            self.cur_by = self.byte_encode.jj\n",
    "            self.cur_bi = self.byte_encode.ii                                                                \n",
    "        else:\n",
    "            bit = 0\n",
    "            self.end = self.end + 1 # I don't think I need this, but ...\n",
    "        return bit\n",
    "\n",
    "    def find_first_byte(self):\n",
    "        byte = 0\n",
    "        for i in range(self.N):\n",
    "            bit = self.read_bit()\n",
    "            byte = byte << 1\n",
    "            byte = byte | bit\n",
    "        self.window = byte\n",
    "        \n",
    "    def cont(self):\n",
    "        # the last non-zero byte has been removed\n",
    "        # and we need the count of unchanged cycles, which I think I forgot to encode\n",
    "        if ((self.window == 2**(self.N - 1)) or (self.window == 0)) and ((self.cur_by > self.byte_l) or ((self.cur_by == self.byte_l) and (self.cur_bi > self.bit_end))):\n",
    "            if (self.static_count >= self.duration_static) or (self.window == 0):\n",
    "                self.contin = False\n",
    "                \n",
    "        return self.contin\n",
    "\n",
    "    def shift_byte(self, n=1):\n",
    "        for i in range(n):\n",
    "            self.window = (self.window << 1) % self.win_size\n",
    "            self.window = self.window | self.read_bit()\n",
    "\n",
    "    def shift_byte_bits(self, n=1):\n",
    "        for i in range(n):\n",
    "            fb = (self.window // 2**(self.N-1)) << (self.N-1)\n",
    "            self.window = (self.window << 1) % 2**(self.N-1) # removes 2 bits from the start, clearing a spot at the end and at the beginning\n",
    "            self.window = self.window | self.read_bit() # add a bit to the end\n",
    "            self.window = self.window | fb # return the first bit to the beginning\n",
    "\n",
    "    # ----- here we have initialized everything,\n",
    "    #      can check if we need to keep going\n",
    "    #      and can find our byte string to read -----\n",
    "            \n",
    "    def remove_character(self):\n",
    "        # find the location in the probability space for our byte array window \n",
    "        hl1_N = float(self.ho-self.lo+1) / float(self.win_size)\n",
    "        w_pl = (self.window - self.lo) / hl1_N\n",
    "        #print('w_pl, lo, ho, win')\n",
    "        #print(bin(math.ceil(w_pl)), bin(self.lo), bin(self.ho), bin(self.window))\n",
    "\n",
    "        # find the probabilities of various characters\n",
    "        ind1, ind2, char_arr = self.find_nonzero_chars(self.context)\n",
    "        a, char, b = self.find_window_chars(w_pl, ind1, ind2, char_arr)\n",
    "\n",
    "        # update l and h like before\n",
    "        a_pl = math.ceil(hl1_N * a)\n",
    "        b_pl = math.ceil(hl1_N * (b + 1)) - 1\n",
    "\n",
    "        self.l = self.lo + a_pl\n",
    "        self.h = self.lo + b_pl\n",
    "        \n",
    "        #print(format(self.l, '032b'),\",\", format(self.h, '032b'),\",\", format(self.window, '032b'))\n",
    "        #print(\"new l, h: \", bin(self.h), bin(self.l))\n",
    "        enc_n, bit_n = self.update_window() # shifts the window and records how many bits need to be removed from l and h\n",
    "        self.new_lh(enc_n, bit_n) # removes bits from l and h\n",
    "        #print(\"remove: \", bin(self.hn), bin(self.ln), enc_n, bit_n)\n",
    "\n",
    "        # updates for the next run\n",
    "        # there is definately an error here in the encoding ...\n",
    "        self.char = char\n",
    "        self.lo = self.ln\n",
    "        self.ho = self.hn\n",
    "        self.update_context() # so that the next context uses the current character and removes the oldest\n",
    "\n",
    "        return ch[char] # this array should not be global ... \n",
    "\n",
    "    def find_nonzero_chars(self, context):\n",
    "        ind1 = 0\n",
    "        ind2 = 0\n",
    "        char_arr = []\n",
    "\n",
    "        i1 = p3_arr[0].index(context[0])\n",
    "        ii = p3_arr[1].index(context[1], i1)\n",
    "        if p3_arr[0][ii] != context[0]:\n",
    "            print('find_index issue, p3, ', p3_arr[0][ii], \", \", jj)\n",
    "\n",
    "        #c3 for jj\n",
    "        j1 = p4_arr[0].index(ii)\n",
    "        jj = p4_arr[1].index(context[2], j1)\n",
    "        if p4_arr[0][jj] != ii:\n",
    "            print('find_index issue, p4, ', p4_arr[0], \", \", ii)\n",
    "    \n",
    "        #c4 for kk\n",
    "        ind1 = p5_arr[0].index(jj)\n",
    "        if jj < len(p4_arr[0])-1:\n",
    "            ind2 = p5_arr[0].index(jj+1, ind1) - 1\n",
    "        else:\n",
    "            ind2 = len(p5_arr[0]) - 1\n",
    "\n",
    "        char_arr = p5_arr[1][ind1:ind2+1]\n",
    "\n",
    "        return ind1, ind2, char_arr\n",
    "        # for comparison:\n",
    "        # return sum(counts[k1:kk]), counts[kk], sum(counts[k, kk:k2])\n",
    "\n",
    "    #      a, char, b = self.find_windows_chars(w_pl, ind1, ind2, char_arr)\n",
    "    def find_window_chars(self, w_pl, ind1, ind2, char_arr):\n",
    "        # this gets the counts\n",
    "        char_counts = count4[ind1:ind2+1]\n",
    "\n",
    "        den = float(sum(char_counts))\n",
    "        b_fl = float(0)\n",
    "        a = lb = 0\n",
    "        num = float(0)\n",
    "        i = b = rb = -1\n",
    "        while rb < math.ceil(w_pl):\n",
    "            a = lb\n",
    "            i += 1\n",
    "            num = num + float(char_counts[i])\n",
    "            b_fl = num / den\n",
    "            rb = math.ceil(b_fl * self.win_size) - 1\n",
    "            b = rb\n",
    "            lb = rb + 1 # for the next cycle\n",
    "        \n",
    "        return a, char_arr[i], b\n",
    "\n",
    "\n",
    "    #enc_n, bit_n = self.update_window() # shifts the window and records how many bits need to be removed from l and h\n",
    "    #self.new_lh(enc_n, bit_n) # removes bits from l and h\n",
    "    # This is from the previous\n",
    "    # This loads the bits into the array and updates bits, but so far doesn't update l and h\n",
    "    def update_window(self):\n",
    "        l = self.l\n",
    "        h = self.h\n",
    "\n",
    "        nbitload = 0\n",
    "        nbits = 0\n",
    "\n",
    "        #print(self.h-self.l)\n",
    "        # both l and h are N bits long\n",
    "        x = self.win_size\n",
    "        #print(l / x, h / x)\n",
    "\n",
    "        lb = 0\n",
    "        hb = 0\n",
    "        \n",
    "        for i in range(self.N):\n",
    "            #print(\"bits:\", i, lb,hb, l/x, h/x)\n",
    "            x = x // 2\n",
    "            lb = l // x\n",
    "            l = l % x\n",
    "            hb = h // x\n",
    "            h = h % x\n",
    "            #print(\"bits:\", i, lb,hb, l/x, h/x, self.bits)\n",
    "            if lb == hb:\n",
    "                self.shift_byte() # we are no longer loading\n",
    "                while self.bits > 0:\n",
    "                    #self.byte_encode.load_bits(1,1) # they are removed earlier\n",
    "                    #self.shift_byte_bits()\n",
    "                    self.bits -= 1\n",
    "                nbitload += 1\n",
    "            else:\n",
    "                #print(i)\n",
    "                break\n",
    "\n",
    "        # the final 0s in the file\n",
    "        if nbitload == 0:\n",
    "            self.duration_static += 1\n",
    "        else:\n",
    "            self.duration_static = 0\n",
    "\n",
    "        # widening the window\n",
    "        # print(l / x, h / x)\n",
    "        for i in range(self.N - nbitload - 1):\n",
    "            x = x // 2\n",
    "            lb = l // x\n",
    "            l = l % x\n",
    "            hb = h // x\n",
    "            h = h % x\n",
    "            if lb == 1 and hb == 0:\n",
    "                nbits += 1\n",
    "                self.bits += 1\n",
    "                self.shift_byte_bits()\n",
    "            else:\n",
    "                break\n",
    "\n",
    "        #print(self.h-self.l, nbitload, nbits)\n",
    "        return nbitload,nbits\n",
    "\n",
    "    # again, I need to check this and check the logic\n",
    "    # should be unchanged\n",
    "    def new_lh(self, nbitload, nbits):\n",
    "        # removing bits\n",
    "        self.ln = (self.l << nbitload) % self.win_size\n",
    "        self.hn = (self.h << nbitload) % self.win_size\n",
    "        self.hn = self.hn | (2**nbitload - 1) # fill the end with 1s, not 0s\n",
    "\n",
    "        # widening of the window\n",
    "        if nbits > 0:\n",
    "            l_fb = (self.ln // 2**(self.N-1)) << (self.N-1)\n",
    "            h_fb = (self.hn // 2**(self.N-1)) << (self.N-1)\n",
    "            self.ln = (self.ln % 2**(self.N-1-nbits)) << nbits\n",
    "            self.hn = (self.hn % 2**(self.N-1-nbits)) << nbits\n",
    "            self.hn = self.hn | (2**nbits - 1) # fill the end with 1s, not 0s\n",
    "            # and return the first bit to the array\n",
    "            self.ln = self.ln | l_fb\n",
    "            self.hn = self.hn | h_fb\n",
    "\n",
    "    # unchanged\n",
    "    def update_context(self):\n",
    "        # This is not the most effective version of fofo list structure, but\n",
    "        # I have only 3 elements, and it is the easiest to work with. \n",
    "        # I could get only 2 updates having a number which record the start, but\n",
    "        # then I need to tell everything to access the array based on this.\n",
    "        self.context[0] = self.context[1]\n",
    "        self.context[1] = self.context[2]\n",
    "        self.context[2] = self.char\n",
    "\n",
    "        #print(self.context)\n",
    "\n",
    "    # I need error-checking here to prevent using any routines if this has already been applied\n",
    "    #def finalize(self):\n",
    "    #    self.byte_encode.load_bits(1,1) # this is always 1, because 00, 01, 11 are the only possibilities, and 00 and 11 will already be removed.\n",
    "    #    if self.duration_static > 0:\n",
    "    #        self.byte_encode.load_bits(0, self.duration_static) # how many final characters the fraction was unchanged\n",
    "            \n",
    "        # now to finalize the bytestream\n",
    "    #    a = 8 - self.byte_encode.bit_count\n",
    "        # the encoding is already correct unless a = 8\n",
    "    #    if a == 8:\n",
    "    #        a = 0\n",
    "            # remove the last zero byte\n",
    "    #        b = self.byte_encode.byte_store.pop()\n",
    "    #    return a"
   ]
  },
  {
   "cell_type": "code",
   "execution_count": 74,
   "id": "920c781a-3179-468f-9c96-95ba2e6e919b",
   "metadata": {},
   "outputs": [
    {
     "name": "stdout",
     "output_type": "stream",
     "text": [
      "with this ring [s01e01 - s01e26]\n",
      "\n",
      "information\n",
      "[story only and latest thread]\n",
      "second half of 2010\n",
      "author: mr. zoat [sb / sv]\n",
      "compiled by: twilight d. dragon [sb / sv]\n",
      "content: 26 episodes / 590 snippets\n",
      "length: 754.363 words\n",
      "status: completed\n",
      "\n",
      "started on: 14/08/2013\n",
      "completed on: 07/04/2015\n",
      "rewrite: [01/01/2016 - 09/04/2016]\n",
      "compliled on: 25/01/2017\n",
      "\n",
      "table of contents\n",
      "\n",
      "01 & 02) dependency day\n",
      "03) welcome to happy hour\n",
      "04) prod zone\n",
      "05) skived\n",
      "06) exfiltrator\n",
      "07) acceptance\n",
      "08) initiative\n",
      "09) clueless\n",
      "10) tracers\n",
      "11) exaltations\n",
      "12) home font\n",
      "13) beta male\n",
      "14) revolution\n",
      "15) inhumanity\n",
      "16) contingency\n",
      "17) reordered\n",
      "18) transparency\n",
      "19) displaced\n",
      "20) half-hearted\n",
      "21) mirage\n",
      "22) minutes\n",
      "23) insincerity\n",
      "24) preparation\n",
      "25) unusual suspicions\n",
      "26) gude-willie waught\n",
      "\n",
      "*episode 01 & 02:* dependency day\n",
      "\n",
      "5th july\n",
      "\n",
      "my bed feels soft. did i go to sleep on top of the duvet? stars? did i leave the blinds open? i try to turn to the clock, but there's just more stars? i wake up pretty much instantly at that point and oh shit that's the earth! i see the earth and it's a long way away and i'm breathing? i bring my hands up to my face. no, no space suit. i see the earth and i'm breathing and i'm not cold or hot and there's no space suit? i'm in space. what?\n",
      "\n",
      "there's something glowing on my left hand. i don't wear rings but i now have one on my ring finger? it's orange. in fact, i'm orange. i'm glowing orange. i hold my hand up to my eyes and-\n",
      "\n",
      "-aaaaaaaauuhhhh!?\n",
      "\n",
      "that's an orange power ring. i'm being kept alive in space by an orange power ring. well i... i suppose i've never felt suicidal, so that much makes sense. i poke my other arm. yes, definitely flesh, i haven't been turned into a construct. i don't seem to feel the overwhelming avarice that comes from the orange central power battery, so i guess this is one of the other rings? one of the ones that larfleeze keeps in his cave? does he know it's gone?\n",
      "\n",
      "fucking stupid. it's larfleeze. of course he knows it's gone.\n",
      "\n",
      "alright. i'm ca\n"
     ]
    }
   ],
   "source": [
    "#context_start = [ch.index(text[0]), ch.index(text[1]), ch.index(text[2])]\n",
    "\n",
    "encoder_new = arith_code_mng(context)\n",
    "cond = encoder_new.cont()\n",
    "\n",
    "while cond:\n",
    "#for i in range(1900):\n",
    "    text.append(encoder_new.remove_character())\n",
    "    cond = encoder_new.cont()\n",
    "\n",
    "text_out_f = ''.join(text)\n",
    "\n",
    "print(text_out_f[0:2000])\n",
    "\n",
    "#whitespace2 = encoder_new.finalize()\n",
    "\n",
    "# I also need to add a number somewhere to indicate how many 0s are added to the end due to not being a full byte, and the size of the capitalization encoding,\n",
    "# since neither this nor the captialization encoding have a definite end (I can add an end to the capitalization only when I know the text size)"
   ]
  },
  {
   "cell_type": "code",
   "execution_count": 76,
   "id": "053f77e2-9a46-4e6b-8da4-1837d0cdc3c5",
   "metadata": {},
   "outputs": [
    {
     "name": "stdout",
     "output_type": "stream",
     "text": [
      "2150000\n",
      "nd in motion.\"\n",
      "we swim through concrete, metal and rock in the direction of our room.\n",
      "\"for the dark things cannot stand the light-\"\n",
      "\n",
      "we come out in the corridor. we try changing back to our human body-\n",
      "\n",
      "\"nerd.\"\n",
      "\n",
      "\"you recognised it, jackass.\"\n",
      "\n",
      "\"focus, gentlemen, please.\"\n",
      "\n",
      "-but the internal defences i\n"
     ]
    }
   ],
   "source": [
    "print(len(text))\n",
    "text_out_f = ''.join(text)\n",
    "print(text_out_f[-300:])"
   ]
  },
  {
   "cell_type": "code",
   "execution_count": 78,
   "id": "bd196816-a38f-4ef5-beda-a932068ec7b7",
   "metadata": {},
   "outputs": [],
   "source": [
    "filename = 'MrZoat_WithThisRingS01_Gould.txt'\n",
    "with open(filename) as f:\n",
    "    text3 = f.read()"
   ]
  },
  {
   "cell_type": "code",
   "execution_count": 80,
   "id": "6bdbf7a6-6e57-4c9e-b631-4b4df3ede7d8",
   "metadata": {},
   "outputs": [
    {
     "data": {
      "text/plain": [
       "True"
      ]
     },
     "execution_count": 80,
     "metadata": {},
     "output_type": "execute_result"
    }
   ],
   "source": [
    "text_out_f == text3.lower()[0:2150000]"
   ]
  },
  {
   "cell_type": "raw",
   "id": "ab139c19-1260-44c1-9599-0e01e268ef97",
   "metadata": {},
   "source": [
    "---------------------------------------------------------------------------\n",
    "ZeroDivisionError                         Traceback (most recent call last)\n",
    "Cell In[801], line 8\n",
    "      4 cond = encoder_new.cont()\n",
    "      6 while cond:\n",
    "      7 #for i in range(1900):\n",
    "----> 8     text.append(encoder_new.remove_character())\n",
    "      9     cond = encoder_new.cont()\n",
    "     11 text_out_f = ''.join(text)\n",
    "\n",
    "Cell In[787], line 117, in arith_code_mng.remove_character(self)\n",
    "    114 def remove_character(self):\n",
    "    115     # find the location in the probability space for our byte array window \n",
    "    116     hl1_N = float(self.ho-self.lo+1) / float(self.win_size)\n",
    "--> 117     w_pl = (self.window - self.lo) / hl1_N\n",
    "    118     #print('w_pl, lo, ho, win')\n",
    "    119     #print(bin(math.ceil(w_pl)), bin(self.lo), bin(self.ho), bin(self.window))\n",
    "    120 \n",
    "    121     # find the probabilities of various characters\n",
    "    122     ind1, ind2, char_arr = self.find_nonzero_chars(self.context)\n",
    "\n",
    "ZeroDivisionError: float division by zero\n",
    "-----------------------------------------------------------------------\n",
    "len(text)\n",
    "#2179748\n",
    "-----------------------------------------------------------------------\n",
    "text_out_f = ''.join(text)\n",
    "text_dec_2 = ''.join(text_dec).lower()\n",
    "print(text_out_f[-300:])\n",
    "''' face. gone. we're alone.\n",
    "\n",
    "**...sure this is safe? ow! hey!**\n",
    "\n",
    "**no, kid, this ain't even close to safe.**\n",
    "\n",
    "**i'm not... what? i just wanted to be clear, okay? i'm not backing out.**\n",
    "\n",
    "**alright, listen up. father mattias thinks we finally started breaking paul and the snake apart**\n",
    "\n",
    "wanttogotothemet'''\n",
    "----------------------------------------------------\n",
    "text_out_f[0:2179746] == text_dec_2[0:2179746]\n",
    "#True\n",
    "-----------------------------------------------\n",
    "\n",
    "The final line should be: wanttogotothembu\n",
    "(2 mistakes until the error)"
   ]
  },
  {
   "cell_type": "raw",
   "id": "25b47c7b-debb-4477-aae9-a0e4ea4da438",
   "metadata": {},
   "source": [
    "len(text)\n",
    "#2179748"
   ]
  },
  {
   "cell_type": "raw",
   "id": "8d8d09d7-727e-4446-bef5-6ddf8f2284f9",
   "metadata": {},
   "source": [
    "text_out_f = ''.join(text)\n",
    "text_dec_2 = ''.join(text_dec).lower()"
   ]
  },
  {
   "cell_type": "raw",
   "id": "46478aa5-604c-43c6-83ba-5a3a6f22cd39",
   "metadata": {},
   "source": [
    "print(text_out_f[-300:])\n",
    "\n",
    "'''\n",
    " face. gone. we're alone.\n",
    "\n",
    "**...sure this is safe? ow! hey!**\n",
    "\n",
    "**no, kid, this ain't even close to safe.**\n",
    "\n",
    "**i'm not... what? i just wanted to be clear, okay? i'm not backing out.**\n",
    "\n",
    "**alright, listen up. father mattias thinks we finally started breaking paul and the snake apart**\n",
    "\n",
    "wanttogotothemet\n",
    "'''"
   ]
  },
  {
   "cell_type": "raw",
   "id": "8b76b8a7-cbf3-4e41-ac41-77ca03c682ec",
   "metadata": {},
   "source": [
    "text_out_f[0:2179746] == text_dec_2[0:2179746]\n",
    "#True "
   ]
  },
  {
   "cell_type": "markdown",
   "id": "4cd7fd31-2a73-4967-a6b2-e1a3a8c430af",
   "metadata": {},
   "source": [
    "# Capitalization"
   ]
  },
  {
   "cell_type": "code",
   "execution_count": null,
   "id": "d0bc6f40-dc13-41be-b812-a66024381ab5",
   "metadata": {},
   "outputs": [],
   "source": [
    "#Due to not getting the whole text, I will need to be careful of the exceptions."
   ]
  },
  {
   "cell_type": "code",
   "execution_count": 110,
   "id": "5d1e13b2-59b1-4812-a5eb-283eb5dca8ed",
   "metadata": {},
   "outputs": [
    {
     "data": {
      "text/plain": [
       "True"
      ]
     },
     "execution_count": 110,
     "metadata": {},
     "output_type": "execute_result"
    }
   ],
   "source": [
    "text = list(text_out_f)\n",
    "text_out_f == text3.lower()[0:2150000]"
   ]
  },
  {
   "cell_type": "code",
   "execution_count": 112,
   "id": "e2765ca1-98d3-43c2-8df8-08542fb817e3",
   "metadata": {},
   "outputs": [],
   "source": [
    "i = text_out_f[0:-1].find('.')\n",
    "j=0\n",
    "k=-1\n",
    "while i >= 0:\n",
    "    # j is set to i, the last found location of a punctuation mark\n",
    "    j = i\n",
    "    # find the next letter after the punctuation mark\n",
    "    x = re.search('[A-Za-z]', text_out_f[j:-1])\n",
    "    # end of text, no more letters\n",
    "    if x == None:\n",
    "        break\n",
    "    # k is the position of the letter to capitalize\n",
    "    k = x.start()+j\n",
    "    # switch case of the letter\n",
    "    if not(any(text_out_f[k-1] == item for item in num)):\n",
    "        text[k] = text[k].capitalize()\n",
    "    # find next instance of any type of punctuation or a new paragraph\n",
    "    i2 = k+1+text_out_f[k+1:-1].find('\\n\\n')\n",
    "    cont = True\n",
    "    i1 = k+1\n",
    "    while (cont):\n",
    "        x = re.search('[.?!]', text_out_f[i1:-1])\n",
    "        cont = False\n",
    "        if x == None:\n",
    "            #we have no more punctuation, only '\\n\\n' relevent (but will be -1)\n",
    "            i1 = i2\n",
    "        else:\n",
    "            #set our index\n",
    "            i1 = i1+x.start()\n",
    "            # we need to now add an additional check for '.. '\n",
    "            if (text_out_f[i1+1]=='.' and text_out_f[i1+2]==' '):\n",
    "                i1 = i1 + 2\n",
    "                #print(k, i1, text_out_f[i1-3:i1+2])\n",
    "                cont = True                \n",
    "    if i2 < k+1:\n",
    "        #we have no more new paragraphs, only punctuation relevant\n",
    "        #note that if x = None as well, this does nothing, and they both indicate that there are no more instances\n",
    "        i2 = i1\n",
    "    i = min(i1,i2)\n",
    "    # no more punctuation and no more new paragraphs\n",
    "    if i < k+1:\n",
    "        break"
   ]
  },
  {
   "cell_type": "code",
   "execution_count": 113,
   "id": "60cbae67-174e-4c09-81e4-ceffa854b940",
   "metadata": {},
   "outputs": [],
   "source": [
    "# code is still taking a while but much faster\n",
    "# titles I am skipping, so the next is for the letter I in isolation\n",
    "\n",
    "for i in range(len(text)):\n",
    "    if text_out_f[i] == 'I' or text_out_f[i] == 'i':\n",
    "        if i == 0:\n",
    "            if any(text_out_f[1] == item for item in sim):\n",
    "                text[i] = text[i].capitalize()\n",
    "        elif i == len(text) - 1:\n",
    "            if any(text_out_f[i-1] == item for item in sim):\n",
    "                text[i] = text[i].capitalize()\n",
    "        else:\n",
    "            if any(text_out_f[i-1] == item for item in sim) and any(text_out_f[i+1] == item for item in sim):\n",
    "                text[i] = text[i].capitalize()"
   ]
  },
  {
   "cell_type": "code",
   "execution_count": 114,
   "id": "f67eb34f-05b5-4dcb-b9a4-0306f703fd0a",
   "metadata": {},
   "outputs": [],
   "source": [
    "# now to flip for the abr list\n",
    "# k, kk are the index of interest\n",
    "for i in abr_arr:\n",
    "    k = 0      # reset the index\n",
    "    l = len(i)\n",
    "    for j in range(text_out_f.lower().count(i.lower())):\n",
    "        k = k + 1\n",
    "        kk = text_out_f[k:].lower().find(i.lower()) + k\n",
    "        k = kk # set the index\n",
    "        # if both sides are symbols \n",
    "        #if j == 0:\n",
    "        if any(text_out_f[k-1] == item for item in sim) and any(text_out_f[k+l] == item for item in sim):\n",
    "            for ii in range(l):\n",
    "                text[k+ii] = text[k+ii].capitalize()\n",
    "            #print(i, text[k-1:k+l+1])"
   ]
  },
  {
   "cell_type": "code",
   "execution_count": 115,
   "id": "34095670-1e28-4ae7-8f45-d6ada1d615a7",
   "metadata": {},
   "outputs": [],
   "source": [
    "# now to flip for the name list\n",
    "# k, kk are the index of interest\n",
    "for i in name_arr:\n",
    "    k = 0      # reset the index\n",
    "    l = len(i)\n",
    "    for j in range(text_out_f.lower().count(i.lower())):\n",
    "        k = k + 1\n",
    "        kk = text_out_f[k:].lower().find(i.lower()) + k\n",
    "        k = kk # set the index\n",
    "        # if both sides are symbols \n",
    "        if any(text_out_f[k-1] == item for item in sim) and any(text_out_f[k+l] == item for item in sim):\n",
    "            text[k] = text[k].capitalize()\n",
    "            #print(i, text[k-1:k+l+1])"
   ]
  },
  {
   "cell_type": "code",
   "execution_count": 125,
   "id": "f34c00ad-e1fe-4164-86de-2115cc6c1f41",
   "metadata": {},
   "outputs": [
    {
     "data": {
      "text/plain": [
       "(array([ 9160,  9161,  9162, ..., 17847, 17848, 17849], dtype=int64),)"
      ]
     },
     "execution_count": 125,
     "metadata": {},
     "output_type": "execute_result"
    }
   ],
   "source": [
    "np.nonzero(np.array(exc_arr) > 2150000)"
   ]
  },
  {
   "cell_type": "code",
   "execution_count": 129,
   "id": "83e69e03-d0f4-4a4e-8a93-fcb13f414930",
   "metadata": {},
   "outputs": [
    {
     "data": {
      "text/plain": [
       "2149973"
      ]
     },
     "execution_count": 129,
     "metadata": {},
     "output_type": "execute_result"
    }
   ],
   "source": [
    "exc_arr[9159]"
   ]
  },
  {
   "cell_type": "code",
   "execution_count": 131,
   "id": "2c8d5ca6-3dfa-4b07-b0b8-ce40e993290d",
   "metadata": {},
   "outputs": [],
   "source": [
    "for i in exc_arr[:9160]:\n",
    "    #if i > len(text):\n",
    "    #    break\n",
    "    text[i] = text[i].swapcase()"
   ]
  },
  {
   "cell_type": "code",
   "execution_count": 135,
   "id": "06bf2209-21d5-4c13-84c9-76c9c1726cbf",
   "metadata": {},
   "outputs": [],
   "source": [
    "text[-1] = text[-1].swapcase() # because it is an 'i'"
   ]
  },
  {
   "cell_type": "code",
   "execution_count": 137,
   "id": "c4ee9d30-3d6d-4edd-b527-c535b3848f97",
   "metadata": {},
   "outputs": [
    {
     "name": "stdout",
     "output_type": "stream",
     "text": [
      "With This Ring [S01E01 - S01E26]\n",
      "\n",
      "Information\n",
      "[Story Only and Latest Thread]\n",
      "Second Half of 2010\n",
      "Author: Mr. Zoat [SB / SV]\n",
      "Compiled By: Twilight D. Dragon [SB / SV]\n",
      "Content: 26 Episodes / 590 Snippet\n"
     ]
    }
   ],
   "source": [
    "text2 = ''.join(text)\n",
    "print(text2[0:200])"
   ]
  },
  {
   "cell_type": "code",
   "execution_count": 94,
   "id": "de2561ba-aa53-43e9-96de-e2ef0c72d126",
   "metadata": {},
   "outputs": [],
   "source": [
    "filename = 'decode_Gould.txt'\n",
    "with open(filename, \"w\") as f:\n",
    "    f.write(text2)"
   ]
  },
  {
   "cell_type": "code",
   "execution_count": null,
   "id": "bb011a36-e77c-43bd-b926-ca93ab7f0a57",
   "metadata": {},
   "outputs": [],
   "source": [
    "#filename = 'MrZoat_WithThisRingS01_Gould.txt'\n",
    "#with open(filename) as f:\n",
    "#    text3 = f.read()"
   ]
  },
  {
   "cell_type": "code",
   "execution_count": 189,
   "id": "42bc6da6-01f7-4e17-9a8d-88c78564e4c9",
   "metadata": {},
   "outputs": [
    {
     "name": "stdout",
     "output_type": "stream",
     "text": [
      "\"Haha Haha haaha!\n",
      "\"Haha haha haaha!\n"
     ]
    }
   ],
   "source": [
    "# First error. I must have messed up my exception array, because a previous version worked properly.\n",
    "print(text2[1423733:1423750])\n",
    "print(text3[1423733:1423750])"
   ]
  },
  {
   "cell_type": "code",
   "execution_count": 193,
   "id": "95509465-1446-4102-be0f-7506f0606d3d",
   "metadata": {},
   "outputs": [
    {
     "data": {
      "text/plain": [
       "(array([ 5749,  5750,  5751, ..., 17847, 17848, 17849], dtype=int64),)"
      ]
     },
     "execution_count": 193,
     "metadata": {},
     "output_type": "execute_result"
    }
   ],
   "source": [
    "np.nonzero(np.array(exc_arr) > 1423730)"
   ]
  },
  {
   "cell_type": "code",
   "execution_count": 203,
   "id": "cb380c01-2fcd-4f90-a1b5-81d974b31e69",
   "metadata": {},
   "outputs": [
    {
     "data": {
      "text/plain": [
       "[1423021, 1423739, 1425764]"
      ]
     },
     "execution_count": 203,
     "metadata": {},
     "output_type": "execute_result"
    }
   ],
   "source": [
    "exc_arr[5748:5751] # an erroneous exception was added"
   ]
  },
  {
   "cell_type": "code",
   "execution_count": 139,
   "id": "68758059-cacb-43bf-899c-49abe97b091a",
   "metadata": {},
   "outputs": [
    {
     "data": {
      "text/plain": [
       "2150000"
      ]
     },
     "execution_count": 139,
     "metadata": {},
     "output_type": "execute_result"
    }
   ],
   "source": [
    "len(text2)"
   ]
  },
  {
   "cell_type": "code",
   "execution_count": 161,
   "id": "1da07972-833c-4a1a-ba74-8904fc8ab2af",
   "metadata": {},
   "outputs": [
    {
     "data": {
      "text/plain": [
       "True"
      ]
     },
     "execution_count": 161,
     "metadata": {},
     "output_type": "execute_result"
    }
   ],
   "source": [
    "text2[0:1423000] == text3[0:1423000]"
   ]
  },
  {
   "cell_type": "code",
   "execution_count": 245,
   "id": "7afc1db2-8d0b-45b1-9717-cd4c95f15386",
   "metadata": {},
   "outputs": [
    {
     "data": {
      "text/plain": [
       "True"
      ]
     },
     "execution_count": 245,
     "metadata": {},
     "output_type": "execute_result"
    }
   ],
   "source": [
    "i1 = 1425000\n",
    "i2 = 1660000\n",
    "#i1 = 1790000\n",
    "#i2 = 2010000\n",
    "#i1 = 2034000\n",
    "#i2 = 2150000\n",
    "text2[i1:i2] == text3[i1:i2]"
   ]
  },
  {
   "cell_type": "code",
   "execution_count": null,
   "id": "b70a41df-caca-4699-8168-34add6e5a865",
   "metadata": {},
   "outputs": [],
   "source": [
    "#There are a bunch of them. I need to figure out what I changed. It was working before."
   ]
  },
  {
   "cell_type": "markdown",
   "id": "dc6bd976-e782-49ce-8fd2-c36444443db7",
   "metadata": {},
   "source": [
    "# Tests for Debugging"
   ]
  },
  {
   "cell_type": "raw",
   "id": "57afe390-6041-463d-a062-431de3f96bea",
   "metadata": {},
   "source": [
    "print(count4[0:30])\n",
    "print(count4f)\n",
    "\n",
    "'''[4, 1, 4, 1, 3, 4, 3, 8, 5, 6, 18, 3, 24, 17, 1, 7, 6, 8, 8, 2, 1, 8, 2, 2, 1, 32, 98, 71, 1, 1]\n",
    "[[ 0  0  4 ...  0  0  0]\n",
    " [ 0  2  0 ... 17  0  0]\n",
    " [ 0  0  0 ...  0  0  0]\n",
    " ...\n",
    " [ 0  0  0 ...  2  0  0]\n",
    " [ 0  0  0 ...  0  0  0]\n",
    " [ 1  0  0 ...  0  0  0]]'''"
   ]
  },
  {
   "cell_type": "raw",
   "id": "c083b3e9-7e59-4fd2-abef-41113a4bbc48",
   "metadata": {},
   "source": [
    "c3_non0.T[0]\n",
    "#array([ 0,  0,  0, ..., 58, 59, 60], dtype=int64)"
   ]
  },
  {
   "cell_type": "raw",
   "id": "c90bce1a-0c69-4f74-8a8e-7fa284ad5bc7",
   "metadata": {},
   "source": [
    "def find_count(context, char, counts=count4f, indis = c3_non0.T):\n",
    "    #ii = c3_non0[0][i] #<- find X first 'X' -> k =  ch.index('X')\n",
    "    i1 = np.nonzero(indis[0]==context[0])[0][0]\n",
    "    if context[0] < 60:\n",
    "        i2 = np.nonzero(indis[0]==context[0]+1)[0][0] \n",
    "    else:\n",
    "        i2 = len(indis[0])\n",
    "    j1 = np.nonzero(indis[1][i1:i2]==context[1])[0][0] + i1\n",
    "    j2 = 0\n",
    "    j_store = np.nonzero(indis[1][i1:i2]==context[1]+1)[0] #<- may be -1\n",
    "    if len(j_store) > 0:\n",
    "        j2 = np.nonzero(indis[1][i1:i2]==context[1]+1)[0][0] + i1\n",
    "    else:\n",
    "        j2 = len(indis[1])\n",
    "    k = np.nonzero(indis[2][j1:j2]==context[2])[0][0] + j1 #<- exactly one\n",
    "\n",
    "    # check the borders here\n",
    "\n",
    "    # all the counts to the correct one, the correct count, all the counts after\n",
    "    return sum(counts[k, :char]), counts[k, char], sum(counts[k, char+1:])\n",
    "\n",
    "def find_probs(counts):\n",
    "    den = float(counts[0]+counts[1]+counts[2])\n",
    "    num1 = float(counts[0])\n",
    "    num2 = float(counts[0]+counts[1])\n",
    "    lb_fl = num1 / den\n",
    "    rb_fl = num2 / den\n",
    "    win = 2**32\n",
    "    #print(lb_fl, rb_fl, win)\n",
    "    lb = math.ceil(lb_fl * win)\n",
    "    rb = math.ceil(rb_fl * win) - 1\n",
    "    return lb, rb"
   ]
  },
  {
   "cell_type": "raw",
   "id": "6cb3ea4d-83a1-4926-832e-99310303c2cf",
   "metadata": {},
   "source": [
    "print(count4[0:20])\n",
    "#[4, 1, 4, 1, 3, 4, 3, 8, 5, 6, 18, 3, 24, 17, 1, 7, 6, 8, 8, 2]"
   ]
  },
  {
   "cell_type": "raw",
   "id": "2afa67db-3d05-4b02-80d6-ca9777e1b27e",
   "metadata": {},
   "source": [
    "def find_nonzero_chars(context, counts=count4, ind2=p3_arr, ind3=p4_arr, ind4=p5_arr):\n",
    "    in1 = 0\n",
    "    in2 = 0\n",
    "    char_arr = []\n",
    "\n",
    "    i1 = ind2[0].index(context[0])\n",
    "    ii = ind2[1].index(context[1], i1)\n",
    "    if ind2[0][ii] != context[0]:\n",
    "        print('find_index issue, p3, ', ind2[0][ii], \", \", jj)\n",
    "\n",
    "    #c3 for jj\n",
    "    j1 = ind3[0].index(ii)\n",
    "    jj = ind3[1].index(context[2], j1)\n",
    "    if ind3[0][jj] != ii:\n",
    "        print('find_index issue, p4, ', ind3[0], \", \", ii)\n",
    "    \n",
    "    #c4 for kk\n",
    "    in1 = ind4[0].index(jj)\n",
    "    if jj < len(ind3[0])-1:\n",
    "        in2 = ind4[0].index(jj+1, in1) - 1\n",
    "    else:\n",
    "        in2 = len(ind4[0]) - 1\n",
    "\n",
    "    char_arr = ind4[1][in1:in2+1]\n",
    "\n",
    "    return in1, in2, char_arr\n",
    "    # for comparison:\n",
    "    # return sum(counts[k1:kk]), counts[kk], sum(counts[k, kk:k2])\n",
    "\n",
    "def find_window_chars(w_pl, ind1, ind2, char_arr, counts=count4, N = 32):\n",
    "    # this gets the counts\n",
    "    char_counts = counts[ind1:ind2+1]\n",
    "\n",
    "    den = float(sum(char_counts))\n",
    "    b_fl = float(0)\n",
    "    a = lb = 0\n",
    "    num = float(0)\n",
    "    i = -1\n",
    "    b = rb = -1\n",
    "    \n",
    "    print(den, rb < math.ceil(w_pl), math.ceil(w_pl))\n",
    "    \n",
    "    while rb < math.floor(w_pl):\n",
    "        a = lb\n",
    "        i += 1\n",
    "        num = num + float(char_counts[i])\n",
    "        b_fl = num / den\n",
    "        rb = math.ceil(b_fl * 2**N) - 1\n",
    "        b = rb\n",
    "        lb = rb + 1 # for the next cycle\n",
    "        \n",
    "    return a, char_arr[i], b"
   ]
  },
  {
   "cell_type": "raw",
   "id": "7894db60-01ed-42a6-ac0f-22cace29870e",
   "metadata": {},
   "source": [
    "context = [ch.index('h'), ch.index('e'), ch.index('m')]\n",
    "char = ch.index('b')\n",
    "out1 = find_count(context, char)\n",
    "out2 = find_nonzero_chars(context)\n",
    "print(out1)\n",
    "#print(char)\n",
    "#print(count4[out2[0]:out2[1]+1], out2[2])\n",
    "print(sum(count4[out2[0]:out2[0]+out2[2].index(char)]), count4[out2[0]+out2[2].index(char)], sum(count4[out2[0]+out2[2].index(char)+1:out2[1]+1]))\n",
    "\n",
    "#(2208, 1, 354)\n",
    "#2208 1 354"
   ]
  },
  {
   "cell_type": "code",
   "execution_count": null,
   "id": "155620ad-2071-464c-a79d-eff7b1fa503c",
   "metadata": {},
   "outputs": [],
   "source": [
    "# both algorithms get the same results -- not a problem with count4, or the access to count4\n",
    "# I could move the update to both of the real versions"
   ]
  },
  {
   "cell_type": "raw",
   "id": "ce662908-99dd-44f5-93e4-beba80d856a0",
   "metadata": {},
   "source": [
    "out2[2]"
   ]
  },
  {
   "cell_type": "raw",
   "id": "f6308ef4-b888-4f82-bd79-f7a8e6be3d33",
   "metadata": {},
   "source": [
    "ch[6], ch[13], ch[39]"
   ]
  },
  {
   "cell_type": "raw",
   "id": "cdddc681-fa7b-4a07-b5e5-4fd5069b3be4",
   "metadata": {},
   "source": [
    "a,b=find_probs(out1) # I have already checked this in the past, though. \n",
    "w_test = b\n",
    "print(bin(a//2**20), char, bin(b//2**20))\n",
    "x = find_window_chars(w_test, out2[0],out2[1],out2[2])\n",
    "print(bin(x[0]//2**20), x[1], bin(x[2]//2**20))\n",
    "\n",
    "#0b110111001000 34 0b110111001010\n",
    "#2563.0 True 3701749027\n",
    "#0b110111001000 34 0b110111001010"
   ]
  },
  {
   "cell_type": "markdown",
   "id": "13e35440-246b-4dc8-905a-de2b5e65d008",
   "metadata": {},
   "source": [
    "2**32"
   ]
  },
  {
   "cell_type": "code",
   "execution_count": null,
   "id": "8b9891f3-5f0b-4d72-8767-390a65215b9d",
   "metadata": {},
   "outputs": [],
   "source": [
    "# def find_window_chars(w_pl, ind1, ind2, char_arr):\n",
    "# I need a w_pl within the window given"
   ]
  },
  {
   "cell_type": "code",
   "execution_count": null,
   "id": "8603244e-52cd-4fd0-8226-da79ca95eb92",
   "metadata": {},
   "outputs": [],
   "source": [
    "# anything within the window gives what I need\n",
    "# one error fixed, onto the next part"
   ]
  }
 ],
 "metadata": {
  "kernelspec": {
   "display_name": "Python [conda env:base] *",
   "language": "python",
   "name": "conda-base-py"
  },
  "language_info": {
   "codemirror_mode": {
    "name": "ipython",
    "version": 3
   },
   "file_extension": ".py",
   "mimetype": "text/x-python",
   "name": "python",
   "nbconvert_exporter": "python",
   "pygments_lexer": "ipython3",
   "version": "3.12.9"
  }
 },
 "nbformat": 4,
 "nbformat_minor": 5
}
