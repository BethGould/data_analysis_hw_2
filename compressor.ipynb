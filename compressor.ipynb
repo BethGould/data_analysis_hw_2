{
 "cells": [
  {
   "cell_type": "markdown",
   "id": "dff27102-ac91-46ee-8ff3-19e632d89f93",
   "metadata": {
    "jp-MarkdownHeadingCollapsed": true
   },
   "source": [
    "# Standard rules (to be applied first): \n",
    "Note that we need to flip the capitalization in order to find the exceptions. However, all rules force capitalization, so perhaps only decapitalize and mark exceptions. Or maybe we can do everything together. \n",
    " - Capitalization of the first letter in a sentence: Applied to first letter following ('.','!','?','\\n\\n') as well as first letter of text. '.. ' doesn't count, while '...' counts. The text seems inconsistent on this rule. '\\n\\n' replaces '\\n\\t' due to using internet style of paragraphs, which avoid '\\t' due to it's use for document control. (I think I forgot about the first letter.)\n",
    " - Capitalization of the title: The titles here are marked as \\*text\\*, so the rule would be everything (except of, and, the, etc. ) until the first star, and likewise on lines with * but not ** together. Due to the difficulty of transmittion, non-standard form, and fact that there actually are not many titles besides the table of contents, I removed this rule.\n",
    " - Capitalization of 'I' when surrounded only by symbols: Note that many of these cases are triggered by the first rule, so I need to be careful about finding exceptions.\n",
    "Proper nouns should be done as exceptions, as well as abbreviations."
   ]
  },
  {
   "cell_type": "code",
   "execution_count": 181,
   "id": "151afbc4-707a-49ae-9f0c-f7b44d390f76",
   "metadata": {},
   "outputs": [],
   "source": [
    "#libraries\n",
    "import string\n",
    "import re\n",
    "import numpy"
   ]
  },
  {
   "cell_type": "code",
   "execution_count": 183,
   "id": "43efb4ee-d96e-4646-a8a7-d6358ac3a82d",
   "metadata": {},
   "outputs": [],
   "source": [
    "#load text\n",
    "f = open(\"MrZoat_WithThisRingS01_Gould.txt\")\n",
    "text = f.read()\n",
    "f.close()\n",
    "#print(text[0:200])"
   ]
  },
  {
   "cell_type": "code",
   "execution_count": 22,
   "id": "3faa20fc-b6f7-4a36-a0f7-aa556c02207b",
   "metadata": {},
   "outputs": [],
   "source": [
    "#t2 = text.casefold()\n",
    "#print(t2[0:200])"
   ]
  },
  {
   "cell_type": "code",
   "execution_count": 185,
   "id": "d7de1133-1805-4b70-b089-80ad220248f7",
   "metadata": {},
   "outputs": [
    {
     "data": {
      "text/plain": [
       "25"
      ]
     },
     "execution_count": 185,
     "metadata": {},
     "output_type": "execute_result"
    }
   ],
   "source": [
    "sim = ['*', '+', '|', '/', ':', '-', ';', '\\'', '\\\"', ',', '.', '?', '!', '$', '%', '&', '}', '[', ']', '(', ')', '<', '>', ' ', '\\n']\n",
    "#charlist = ['*+|/:-;\\'\\\",.?!$%&}[]()<> \\n']\n",
    "len(sim)"
   ]
  },
  {
   "cell_type": "code",
   "execution_count": 26,
   "id": "a1285825-6883-479a-b299-c43af6ed3365",
   "metadata": {},
   "outputs": [
    {
     "name": "stdout",
     "output_type": "stream",
     "text": [
      "5793\n",
      "28\n",
      "1\n",
      "111\n",
      "522\n",
      "5717\n",
      "314\n",
      "34222\n",
      "42394\n",
      "28972\n",
      "77648\n",
      "11159\n",
      "3318\n",
      "1\n",
      "4\n",
      "6\n",
      "1\n",
      "27\n",
      "22\n",
      "8\n",
      "35\n",
      "1\n",
      "2\n",
      "724362\n",
      "57012\n"
     ]
    }
   ],
   "source": [
    "for i in sim:\n",
    "    print(text.count(i))"
   ]
  },
  {
   "cell_type": "markdown",
   "id": "d465baeb-3ddf-4a42-b22b-5e6b6701dc2a",
   "metadata": {},
   "source": [
    "Test to see that the text is in ascii and that there are limited types of whitespace."
   ]
  },
  {
   "cell_type": "code",
   "execution_count": 28,
   "id": "18f8eea7-8694-4d48-b045-1d53af7161b7",
   "metadata": {},
   "outputs": [],
   "source": [
    "clist2 = ['  ', '\\n ', ' \\n', '\\n\\n\\n', '\\t']"
   ]
  },
  {
   "cell_type": "code",
   "execution_count": 30,
   "id": "9d44462a-fb37-42e6-8802-88dd81ee313b",
   "metadata": {},
   "outputs": [
    {
     "name": "stdout",
     "output_type": "stream",
     "text": [
      "0\n",
      "0\n",
      "0\n",
      "0\n",
      "0\n"
     ]
    }
   ],
   "source": [
    "for i in clist2:\n",
    "    print(text.count(i))"
   ]
  },
  {
   "cell_type": "code",
   "execution_count": 32,
   "id": "21911a33-985f-4c97-9cff-1eb965da1849",
   "metadata": {},
   "outputs": [
    {
     "data": {
      "text/plain": [
       "True"
      ]
     },
     "execution_count": 32,
     "metadata": {},
     "output_type": "execute_result"
    }
   ],
   "source": [
    "text.isascii()"
   ]
  },
  {
   "cell_type": "code",
   "execution_count": 34,
   "id": "3fd54941-b759-4e35-aaf4-f1355a5f4f01",
   "metadata": {},
   "outputs": [
    {
     "name": "stdout",
     "output_type": "stream",
     "text": [
      "57012\n",
      "28242\n",
      "528\n"
     ]
    }
   ],
   "source": [
    "nl = print(text.count('\\n'))\n",
    "nl2 = print(text.count('\\n\\n'))\n",
    "nl1 = 57012-2*28242\n",
    "print(nl1)"
   ]
  },
  {
   "cell_type": "code",
   "execution_count": 213,
   "id": "f7cfd868-1532-42bc-a598-7c22fb33f4a7",
   "metadata": {},
   "outputs": [],
   "source": [
    "low = []\n",
    "upp = []\n",
    "for i in range(26):\n",
    "    low.append(string.ascii_lowercase[i])\n",
    "    upp.append(string.ascii_uppercase[i])\n",
    "num = []\n",
    "for i in range(10):\n",
    "    num.append(string.digits[i])"
   ]
  },
  {
   "cell_type": "code",
   "execution_count": 38,
   "id": "e59ffd5a-5082-48bf-a63d-5dd856ea6bfd",
   "metadata": {},
   "outputs": [
    {
     "name": "stdout",
     "output_type": "stream",
     "text": [
      "260816\n",
      "51386\n",
      "78609\n",
      "114678\n",
      "373960\n",
      "61620\n",
      "79781\n",
      "184312\n",
      "234962\n",
      "6536\n",
      "39224\n",
      "131581\n",
      "88726\n",
      "230955\n",
      "254119\n",
      "57170\n",
      "2531\n",
      "184912\n",
      "200581\n",
      "310442\n",
      "100061\n",
      "27934\n",
      "69026\n",
      "4939\n",
      "67958\n",
      "2833\n"
     ]
    }
   ],
   "source": [
    "for i in low:\n",
    "    print(text.lower().count(i))"
   ]
  },
  {
   "cell_type": "code",
   "execution_count": 42,
   "id": "8f7f057f-6175-4a66-b11e-b3b93efd122a",
   "metadata": {},
   "outputs": [
    {
     "name": "stdout",
     "output_type": "stream",
     "text": [
      "310\n",
      "436\n",
      "322\n",
      "166\n",
      "129\n",
      "329\n",
      "135\n",
      "111\n",
      "79\n",
      "91\n"
     ]
    }
   ],
   "source": [
    "for i in num:\n",
    "    print(text.count(i))"
   ]
  },
  {
   "cell_type": "code",
   "execution_count": 46,
   "id": "d94a92f3-751d-4bbe-905f-95f32f07c452",
   "metadata": {},
   "outputs": [],
   "source": [
    "#t1 = text"
   ]
  },
  {
   "cell_type": "markdown",
   "id": "0bc5746f-bf6a-41db-98f7-1d051d875d48",
   "metadata": {},
   "source": [
    "From the original text we can use a set of rules, flip the case of all which conform to that rule, and look for capitals\n",
    "First rule: - titles are completely capitalized\n",
    "Second rule: - the first letter of sentences are capitalized. "
   ]
  },
  {
   "cell_type": "code",
   "execution_count": 44,
   "id": "417f2eae-a561-4529-a970-177da90e3e16",
   "metadata": {},
   "outputs": [
    {
     "data": {
      "text/plain": [
       "-1"
      ]
     },
     "execution_count": 44,
     "metadata": {},
     "output_type": "execute_result"
    }
   ],
   "source": [
    "text.find('\\t')"
   ]
  },
  {
   "cell_type": "raw",
   "id": "052b2bf9-68e6-459e-9239-c8654918fc1f",
   "metadata": {},
   "source": [
    "tout = \"\"\n",
    "i = text[0:-1].find('.')\n",
    "j=0\n",
    "k=-1\n",
    "while i >= 0:\n",
    "    tout += text[k+1:i]\n",
    "    j = i\n",
    "    x = re.search('[A-Za-z]', text[j:-1])\n",
    "    if x == None:\n",
    "        k = i -1\n",
    "        break\n",
    "    k = x.start()+j\n",
    "    #switch case of the letter\n",
    "    if any(text[k-1] == item for item in num):\n",
    "        tout += text[i:k]+text[k]\n",
    "    else:\n",
    "        tout += text[i:k]+text[k].swapcase()\n",
    "    #find next instance\n",
    "    x = re.search('[.?!]', text[k+1:-1])\n",
    "    i2 = k+1+text[k+1:-1].find('\\n\\n')\n",
    "    if x == None:\n",
    "        i1 = i2\n",
    "    else:\n",
    "        i1 = k+1+x.start()\n",
    "    if i2 < k+1:\n",
    "        i2 = i1\n",
    "    i = min(i1,i2)\n",
    "    if i < k+1:\n",
    "        break\n",
    "#print(k)\n",
    "tout += text[k+1:]\n",
    "t1 = tout\n",
    "print(len(t1)-len(text))"
   ]
  },
  {
   "cell_type": "code",
   "execution_count": 1134,
   "id": "b76cb3fc-3775-4ceb-825c-088ec8ada906",
   "metadata": {},
   "outputs": [],
   "source": [
    "#print(tout[700:1000])"
   ]
  },
  {
   "cell_type": "code",
   "execution_count": 1136,
   "id": "0c12ee3d-9771-4feb-b674-f01b6366a737",
   "metadata": {},
   "outputs": [],
   "source": [
    "#print(tout[-103400:-103300])"
   ]
  },
  {
   "cell_type": "code",
   "execution_count": 1138,
   "id": "7edc60d3-521e-4bf7-8921-fd3a0382bace",
   "metadata": {},
   "outputs": [],
   "source": [
    "#tout = \"\"\n",
    "#st0=0\n",
    "#st1=t1[st0:].find('*')+st0\n",
    "#print(st1)\n",
    "#st2 = t1[st1:-1].find('\\n')+st1+1\n",
    "#tout += t1[0:st2].lower()#.title()\n",
    "#st0 = st2 +1\n",
    "#print(st0,st1,st2)\n",
    "#while st0 >= 0:\n",
    "#    st1=t1[st0:].find('*')\n",
    "#    if st1 < 0:\n",
    "#        break\n",
    "#    st1 = st1 + st0\n",
    "#    if t1[st1+1]!='*':\n",
    "        #print(st0,st1,st2)\n",
    "#        tout += t1[st2:st1]\n",
    "#        st2 = t1[st1:-1].find('\\n')+st1\n",
    "#        tf = t1[st1:st2].lower()#.title()\n",
    "#        tout +=tf\n",
    "#        st0=st2\n",
    "#    else:\n",
    "#        st0 = st1+2\n",
    "    #if st0 > 10000:\n",
    "    #st0 = -1\n",
    "#print(k)\n",
    "#tout+=t1[st2:]\n",
    "#print(len(tout)-len(t1))\n",
    "#t1 = tout"
   ]
  },
  {
   "cell_type": "markdown",
   "id": "053ec15a-f58d-4ada-b94e-e32bbe76f5b2",
   "metadata": {},
   "source": [
    "Now we need a list of all our names including 'I'. "
   ]
  },
  {
   "cell_type": "raw",
   "id": "996549a2-0223-4529-b9b4-caf76eb78321",
   "metadata": {},
   "source": [
    "t3 = \"\"\n",
    "for i in range(len(t1)):\n",
    "    if t1[i] == 'I' or t1[i] == 'i':\n",
    "        if i == 0:\n",
    "            if any(text[1] == item for item in sim):\n",
    "                t3 += 'i'\n",
    "            else:\n",
    "                t3 += t1[0]\n",
    "        elif i == len(t1) - 1:\n",
    "            if any(text[i-1] == item for item in sim):\n",
    "                t3 += 'i'\n",
    "            else:\n",
    "                t3 += t1[i]\n",
    "        else:\n",
    "            if any(text[i-1] == item for item in sim) and any(text[i+1] == item for item in sim):\n",
    "                t3 += 'i'\n",
    "            else:\n",
    "                t3 += t1[i]\n",
    "    else:\n",
    "        t3 += t1[i]"
   ]
  },
  {
   "cell_type": "code",
   "execution_count": 1140,
   "id": "263ce493-e401-4c35-ae3c-cca2766cbe13",
   "metadata": {},
   "outputs": [],
   "source": [
    "#print(t3[0:1000])"
   ]
  },
  {
   "cell_type": "markdown",
   "id": "af59baf4-8b3a-4bdb-b069-e546b9fa584e",
   "metadata": {
    "jp-MarkdownHeadingCollapsed": true
   },
   "source": [
    "# Exceptions\n",
    "\n",
    "The main point here is that we have a list of exceptions ...\n",
    "Separating out the names doesn't seem to be the most effective. Instead we just have an array of spaces between exceptions. Marking spacings between exceptions rather than distance from the start gives the same information, but with smaller numbers. ABCD... would be A = index of first exception, B = index of second exception - (A+1) so that if B = 0, B is the next element after A. We can then choose a number encoding to reduce the size of this array. \n",
    "\n",
    "For a text length of > 4 mil, currently found 55500 exceptions = average spacing of 76. Number of words with exceptions is ~100 average spacing. Most likely Fibinachi is the best variant for saving space based on requiring efficient storage for all ranges to ~ 200. \n",
    "\n",
    "File size ~ 4 MB. 55500 * 10 = 555000 kb = ~ 70000 kB. \n",
    "\n",
    "In theory I could have two types of exceptions, a name list and a separate exception list. \n",
    "abbr. list;  stop; name list; stop; exception list; stop; text"
   ]
  },
  {
   "cell_type": "code",
   "execution_count": 187,
   "id": "5c30ce4f-c5bb-42e3-b15e-5af6c3d5315f",
   "metadata": {},
   "outputs": [
    {
     "data": {
      "text/plain": [
       "32"
      ]
     },
     "execution_count": 187,
     "metadata": {},
     "output_type": "execute_result"
    }
   ],
   "source": [
    "len(re.findall('[A-Z][A-Z][a-z]', text))"
   ]
  },
  {
   "cell_type": "markdown",
   "id": "ffb33123-2077-40cd-95ed-cac2e5238a9a",
   "metadata": {},
   "source": [
    "abbreviation list\n",
    "Note that with 26 options, 5 bits is enough to store each letter, with 6 stops = 3 bits at the end for the stop (18 bits each). Encoding should be simple: alphabetical order.\n",
    "\n",
    "000xx = stop\n",
    "0010x = stop\n",
    "0011x = ab\n",
    "01xxx = c-j\n",
    "10xxx = k-r\n",
    "11xxx = s-z\n",
    "\n",
    "(1 - 16, 0 - 10 + 6 -> 1 - 8, 0 - 2 + 6 -> 1 - 2 + 2, 0 - 4)\n",
    "\n",
    "The following were found (threshold 5): \n",
    "SCU EMP FTL GMT GBS HUD WXYZ BABUM\n",
    "The following were found (threshold 3): \n",
    "SCU EMP FTL CIA BBC GMT GBS DCU HUD GED WXYZ BABUM GCSE XCOM "
   ]
  },
  {
   "cell_type": "code",
   "execution_count": 189,
   "id": "6d783daa-b83a-4b2a-a04c-d48e34b87cd8",
   "metadata": {},
   "outputs": [
    {
     "data": {
      "text/plain": [
       "['EMP',\n",
       " 'GED',\n",
       " 'SCU',\n",
       " 'CEO',\n",
       " 'CIA',\n",
       " 'FTL',\n",
       " 'BBC',\n",
       " 'GMT',\n",
       " 'DCU',\n",
       " 'HUD',\n",
       " 'GBS',\n",
       " 'XCOM',\n",
       " 'WXYZ',\n",
       " 'BABUM',\n",
       " 'GCSE']"
      ]
     },
     "execution_count": 189,
     "metadata": {},
     "output_type": "execute_result"
    }
   ],
   "source": [
    "abr = []\n",
    "\n",
    "set01 = set(re.findall(' [A-Z][A-Z][A-Z] ', text))\n",
    "\n",
    "for i in set01:\n",
    "    if text.count(i.strip()) > 2 and text.count(i.lower()) < 2:\n",
    "        abr.append(i.strip())\n",
    "\n",
    "set02 = set(re.findall(' [A-Z][A-Z][A-Z][A-Z][A-Z.?! ]', text))\n",
    "\n",
    "for i in set02:\n",
    "    if text.count(i.strip()) > 2 and text.count(i.lower()[0:5]) < 3 and text.count(i.lower().strip().capitalize()) < 3:\n",
    "        abr.append(i.strip())\n",
    "\n",
    "abr"
   ]
  },
  {
   "cell_type": "markdown",
   "id": "1355cbd1-874a-426f-bdb6-45c3a0520cfe",
   "metadata": {},
   "source": [
    "BABUM does appear lowercase, but more often all uppercase. MONQI is more often lowercase. BABUM is no longer found. HAHAH is new, but also often lowercase."
   ]
  },
  {
   "cell_type": "markdown",
   "id": "79759ae6-85c4-4c8c-b778-1b676d661975",
   "metadata": {},
   "source": [
    "Name list\n",
    "Names also have a standard form, so character count is also 26. The efficency of transmition depends on the length of the name however. Longer names could in principle be shortened, since longer text strings are unlikely to repeat in an alternative context. Unlike abbreviations, character frequency and context mean something, and there are many more names. However, I don't want to deal with setting up such an encoding right now, and the frequencies have lower dependence than normal words due to language mixing. \n",
    "\n",
    "If transmittion of an exception requires ~ 10-12 bits, while transmittion of a name requires 3 + 5 * length bits (or 8 * length bits), the count should be equal to about half the length, perhaps up to the length. Just be sure that it doesn't appear in lowercase form."
   ]
  },
  {
   "cell_type": "code",
   "execution_count": 52,
   "id": "83ce6b8f-6d38-475b-9aa8-0329f5c28771",
   "metadata": {},
   "outputs": [],
   "source": [
    "#print(len(set03), len(set04))"
   ]
  },
  {
   "cell_type": "code",
   "execution_count": 191,
   "id": "4a4e55f1-d796-447c-8f4e-a66e64e4f502",
   "metadata": {},
   "outputs": [],
   "source": [
    "w3=re.findall('[A-Z][a-z]+', text)\n",
    "set03 = list(set(w3))"
   ]
  },
  {
   "cell_type": "code",
   "execution_count": 739,
   "id": "24661fa6-d69b-4107-888d-b27bcfb6b8fc",
   "metadata": {},
   "outputs": [],
   "source": [
    "#for i in range(len(set03)):\n",
    "#    set03[i] = set03[i][0:4]"
   ]
  },
  {
   "cell_type": "code",
   "execution_count": 193,
   "id": "8158423c-0003-4352-97e0-14a08dded8c4",
   "metadata": {},
   "outputs": [],
   "source": [
    "set04 = []\n",
    "for i in set03:\n",
    "    cntr = text.count(i)\n",
    "    if cntr > len(i) and text.count(' ' + i.lower()) < (cntr - 2) and text.count('\\n' + i.lower()) < (cntr - 2):\n",
    "        set04.append(i)"
   ]
  },
  {
   "cell_type": "code",
   "execution_count": 194,
   "id": "76992882-253d-464d-86b7-cc7082c5be94",
   "metadata": {},
   "outputs": [
    {
     "name": "stdout",
     "output_type": "stream",
     "text": [
      "6531 756\n"
     ]
    }
   ],
   "source": [
    "print(len(set03), len(set04))"
   ]
  },
  {
   "cell_type": "markdown",
   "id": "a38f2689-c383-485a-9d56-7e458a1f70cc",
   "metadata": {},
   "source": [
    "There are many ways to do better with the names, but for now I have a list."
   ]
  },
  {
   "cell_type": "code",
   "execution_count": 719,
   "id": "c2a3247f-28d9-4359-a038-b4c07e694c2a",
   "metadata": {},
   "outputs": [],
   "source": [
    "#set03"
   ]
  },
  {
   "cell_type": "code",
   "execution_count": 195,
   "id": "91e0c919-db84-477d-8031-d90d6f62fbb3",
   "metadata": {},
   "outputs": [],
   "source": [
    "name = set04"
   ]
  },
  {
   "cell_type": "markdown",
   "id": "743e77d1-82fd-4e11-83e6-2526926f2774",
   "metadata": {},
   "source": [
    "Exceptions are now found character by character. After flipping by all the above by the rules, now we find every remaining capital letter. \n",
    "Algorithm : \n",
    " - create a boolean array of the length of the character array, filled with False\n",
    " - everytime the rules and lists would trigger capitalization, turn the position on the array to True (don't touch the old array)\n",
    " - create a new string with a capitalization flip at every position marked as True\n",
    " - create a list of integers\n",
    " - iterate through the new string, and add the index of the character to integer list if it is a capital\n",
    " - from the last to first integer, subtract the index of the previous integer + 1 from the given index\n",
    " - (check that the calculations are correct)\n",
    " - calculate the bit cost to encode to encode the integer array for various types of encoding (gamma, delta, Fibinachi, triad, dynamic Hoffman?, omega?)"
   ]
  },
  {
   "cell_type": "code",
   "execution_count": 835,
   "id": "8a4861f8-a0d1-47d4-b9bd-f0b9baac8a4a",
   "metadata": {},
   "outputs": [],
   "source": [
    "#bytesArr = bytearray(b'\\x00\\x00\\x16\\xa3') "
   ]
  },
  {
   "cell_type": "code",
   "execution_count": 340,
   "id": "6e63df74-0fdf-4331-9db0-657b6e906784",
   "metadata": {},
   "outputs": [],
   "source": [
    "cflip = [False]*len(text) # marks if need to flip the letter by a rule"
   ]
  },
  {
   "cell_type": "code",
   "execution_count": 342,
   "id": "9bc61e2a-6bbe-4292-9796-9bb3fd567a28",
   "metadata": {},
   "outputs": [],
   "source": [
    "i = text[0:-1].find('.')\n",
    "j=0\n",
    "k=-1\n",
    "while i >= 0:\n",
    "    # j is set to i, the last found location of a punctuation mark\n",
    "    j = i\n",
    "    # find the next letter after the punctuation mark\n",
    "    x = re.search('[A-Za-z]', text[j:-1])\n",
    "    # end of text, no more letters\n",
    "    if x == None:\n",
    "        break\n",
    "    # k is the position of the letter to capitalize\n",
    "    k = x.start()+j\n",
    "    # switch case of the letter\n",
    "    if not(any(text[k-1] == item for item in num)):\n",
    "        cflip[k] = True\n",
    "    # find next instance of any type of punctuation or a new paragraph\n",
    "    i2 = k+1+text[k+1:-1].find('\\n\\n')\n",
    "    cont = True\n",
    "    i1 = k+1\n",
    "    while (cont):\n",
    "        x = re.search('[.?!]', text[i1:-1])\n",
    "        cont = False\n",
    "        if x == None:\n",
    "            #we have no more punctuation, only '\\n\\n' relevent (but will be -1)\n",
    "            i1 = i2\n",
    "        else:\n",
    "            #set our index\n",
    "            i1 = i1+x.start()\n",
    "            # we need to now add an additional check for '.. '\n",
    "            if (text[i1+1]=='.' and text[i1+2]==' '):\n",
    "                i1 = i1 + 2\n",
    "                #print(k, i1, text[i1-3:i1+2])\n",
    "                cont = True                \n",
    "    if i2 < k+1:\n",
    "        #we have no more new paragraphs, only punctuation relevant\n",
    "        #note that if x = None as well, this does nothing, and they both indicate that there are no more instances\n",
    "        i2 = i1\n",
    "    i = min(i1,i2)\n",
    "    # no more punctuation and no more new paragraphs\n",
    "    if i < k+1:\n",
    "        break"
   ]
  },
  {
   "cell_type": "code",
   "execution_count": 343,
   "id": "678ef95f-a4e8-4648-a0a6-4a39d4eb7edc",
   "metadata": {},
   "outputs": [],
   "source": [
    "# code is still taking a while but much faster\n",
    "# titles I am skipping, so the next is for the letter I in isolation\n",
    "\n",
    "for i in range(len(text)):\n",
    "    if text[i] == 'I' or text[i] == 'i':\n",
    "        if i == 0:\n",
    "            if any(text[1] == item for item in sim):\n",
    "                cflip[i] = True\n",
    "        elif i == len(text) - 1:\n",
    "            if any(text[i-1] == item for item in sim):\n",
    "                cflip[i] = True\n",
    "        else:\n",
    "            if any(text[i-1] == item for item in sim) and any(text[i+1] == item for item in sim):\n",
    "                cflip[i] = True"
   ]
  },
  {
   "cell_type": "code",
   "execution_count": null,
   "id": "ff91448c-8942-4646-8326-d9b32798892c",
   "metadata": {},
   "outputs": [],
   "source": [
    "# much faster\n",
    "#for i in range(10000):\n",
    "#    if cflip[i]:\n",
    "#        print(text[i-5:i+1])\n",
    "# abr, num, sim, low, upp, cflip, text, name"
   ]
  },
  {
   "cell_type": "code",
   "execution_count": null,
   "id": "08c7bce8-b8ab-4bc2-bd8a-2a079acdd712",
   "metadata": {},
   "outputs": [],
   "source": [
    "# now to flip for the abr list\n",
    "# k, kk are the index of interest\n",
    "for i in abr:\n",
    "    k = 0      # reset the index\n",
    "    l = len(i)\n",
    "    for j in range(text.lower().count(i.lower())):\n",
    "        k = k + 1 #k+l+1, but need to clear these from name\n",
    "        kk = text[k:].lower().find(i.lower()) + k\n",
    "        k = kk # set the index\n",
    "        # if both sides are symbols \n",
    "        #if j == 0:\n",
    "        if any(text[k-1] == item for item in sim) and any(text[k+l] == item for item in sim):\n",
    "            for ii in range(l):\n",
    "                cflip[k+ii] = True\n",
    "            #print(i, cflip[k-1:k+l+1])"
   ]
  },
  {
   "cell_type": "code",
   "execution_count": null,
   "id": "fcd44825-8702-405e-a41f-3ca9549017b7",
   "metadata": {},
   "outputs": [],
   "source": [
    "# now to flip for the name list\n",
    "# k, kk are the index of interest\n",
    "for i in name:\n",
    "    k = 0      # reset the index\n",
    "    l = len(i)\n",
    "    for j in range(text.lower().count(i.lower())):\n",
    "        k = k + 1 #k+l+1, but need to clear these from name\n",
    "        kk = text[k:].lower().find(i.lower()) + k\n",
    "        k = kk # set the index\n",
    "        # if both sides are symbols \n",
    "        if any(text[k-1] == item for item in sim) and any(text[k+l] == item for item in sim):\n",
    "            cflip[k] = True\n",
    "            #print(i, cflip[k-1:k+l+1])"
   ]
  },
  {
   "cell_type": "code",
   "execution_count": 1010,
   "id": "7d1238bd-0562-49ca-a9a2-d6aed373621a",
   "metadata": {},
   "outputs": [],
   "source": [
    "#print(text[1000:2000])"
   ]
  },
  {
   "cell_type": "code",
   "execution_count": null,
   "id": "1a5b02ed-a267-4f76-b3cc-f470c91bfca2",
   "metadata": {},
   "outputs": [],
   "source": [
    "tf = \"\"\n",
    "for i in range(len(text)):\n",
    "    if cflip[i]:\n",
    "        tf += text[i].swapcase()\n",
    "    else:\n",
    "        tf += text[i]"
   ]
  },
  {
   "cell_type": "code",
   "execution_count": 75,
   "id": "0afe3498-6320-4cc2-8794-f9707655e1cd",
   "metadata": {},
   "outputs": [],
   "source": [
    "# one instance of the really slow thing\n",
    "#with open(\"text_flip_case.txt\", \"w\") as f:\n",
    "#    f.write(tf)"
   ]
  },
  {
   "cell_type": "markdown",
   "id": "1bff87d4-d1b3-4f0b-ac20-af0e32259e92",
   "metadata": {},
   "source": [
    "The name list appears to not be aggressive enough, but otherwise the file looks good.\n",
    "Now we can create an exception list."
   ]
  },
  {
   "cell_type": "code",
   "execution_count": null,
   "id": "6cc3188b-cd94-4b9a-85fc-7845f9331ebd",
   "metadata": {},
   "outputs": [],
   "source": [
    "exc = []\n",
    "for i in range(len(tf)):\n",
    "    if any(tf[i] == item for item in upp):\n",
    "        exc.append(i)"
   ]
  },
  {
   "cell_type": "code",
   "execution_count": null,
   "id": "88729269-9d16-4716-a5f8-4165774869a5",
   "metadata": {},
   "outputs": [],
   "source": [
    "print(len(exc))"
   ]
  },
  {
   "cell_type": "code",
   "execution_count": 242,
   "id": "8ca5877e-a02c-4e62-8dec-e126d0f8e5e5",
   "metadata": {},
   "outputs": [],
   "source": [
    "#note that encoding starts at 1, not 0, so should be shifted by one\n",
    "#reverse order ti subtract the old index, not the new one\n",
    "for i in range(len(exc) - 1):\n",
    "    j = len(exc) - i - 1\n",
    "    exc[j] = exc[j] - exc[j-1] # will be 1 if the numbers are next to each other, but encodings start at 1\n",
    "exc[0] = exc[0] + 1 # to start at 1, not 0"
   ]
  },
  {
   "cell_type": "code",
   "execution_count": null,
   "id": "4d58bd48-a6d2-4cde-8e1e-f6d010ce04cd",
   "metadata": {},
   "outputs": [],
   "source": [
    "# check that exc now points to the correct exceptions\n",
    "# looks good"
   ]
  },
  {
   "cell_type": "code",
   "execution_count": 244,
   "id": "b7567e0a-c758-424b-8d5d-37b339de396a",
   "metadata": {},
   "outputs": [
    {
     "name": "stdout",
     "output_type": "stream",
     "text": [
      "17850 4359\n"
     ]
    }
   ],
   "source": [
    "print(len(exc), max(exc))"
   ]
  },
  {
   "cell_type": "markdown",
   "id": "860469a4-6803-4bf8-bdd5-be6fcd8ac078",
   "metadata": {},
   "source": [
    "Now we need to figure out encoding lengths."
   ]
  },
  {
   "cell_type": "raw",
   "id": "e4dac9c1-408e-4603-a1c1-548a0faab02f",
   "metadata": {},
   "source": [
    "# Lets put in the tables\n",
    "range_max = [1,2,3,4,7,8,12,15,20,26,31,33,54,63,80,88,127,133,222,242,255,376,511,609,728,986,1023,1596,2047,2186,2583,4095]\n",
    "gam = [1,3,3,5,5,7,7,7,9,9,9,11,11,11,13,13,13,15,15,15,15,17,17,19,19,19,19,21,21,23,23,23]\n",
    "delt = [1,4,3,5,5,8,8,8,9,9,9,10,10,10,11,11,11,14,14,14,14,15,15,16,16,16,16,17,17,18,18,18]\n",
    "fib = [2,3,4,4,5,6,6,7,7,8,8,8,9,10,10,10,11,11,12,13,13,13,14,14,15,15,16,16,17,17,17,18]\n",
    "thr = [3,3,5,5,5,5,7,7,7,7,9,9,9,9,9,11,11,11,11,11,13,13,13,13,13,15,15,15,15,15,17,17]"
   ]
  },
  {
   "cell_type": "raw",
   "id": "50495683-d9c3-4830-89f0-6c1452b4f4e0",
   "metadata": {},
   "source": [
    "print(len(range_max), len(gam), len(delt), len(fib), len(thr)) #checking"
   ]
  },
  {
   "cell_type": "raw",
   "id": "119909af-4a2f-42ba-b91e-2da0694ea244",
   "metadata": {},
   "source": [
    "exc2 = exc\n",
    "exc2.sort() # we will use the sorted list to calculate the expected size, while the unsorted list needs to be encoded"
   ]
  },
  {
   "cell_type": "raw",
   "id": "7a7ef4f4-8fe1-49ab-95c0-461be483b070",
   "metadata": {},
   "source": [
    "#np.count_nonzero(np.array(exc2) > 60)"
   ]
  },
  {
   "cell_type": "raw",
   "id": "f1b0ab5c-2c84-49e5-afc2-c0e6793e3035",
   "metadata": {},
   "source": [
    "len(bin(3840))\n",
    "#14"
   ]
  },
  {
   "cell_type": "raw",
   "id": "7879ae8a-b8b6-4454-8ad9-dc7da7ff23f5",
   "metadata": {},
   "source": [
    "j = 0\n",
    "sums = [0,0,0,0,0]\n",
    "for i in range(len(exc2)):\n",
    "    while exc2[i] > range_max[j]:\n",
    "        j = j + 1\n",
    "    sums[0] += gam[j]\n",
    "    sums[1] += delt[j]\n",
    "    sums[2] += fib[j]\n",
    "    sums[3] += thr[j]\n",
    "    sums[4] += 12     #two less than the string representation of the binary -- unencoded\n",
    "print(sums)\n",
    "\n",
    "#[214934, 193585, 176169, 171410, 214200]"
   ]
  },
  {
   "cell_type": "raw",
   "id": "b3d6d458-d378-43a4-b09f-347fb6fc9dac",
   "metadata": {},
   "source": [
    "#print(len(abr), len(name))"
   ]
  },
  {
   "cell_type": "raw",
   "id": "58846756-a3d5-4f90-9aa9-4b7e7413230f",
   "metadata": {},
   "source": [
    "j = 0\n",
    "sums2 = [0,0]\n",
    "for i in range(len(abr)):\n",
    "    sums2[0] += 3 + len(abr[i]) * 5\n",
    "for i in range(len(name)):\n",
    "    sums2[1] += 3 + len(name[i]) *5\n",
    "print(sums2)\n",
    "\n",
    "#[295, 23653]"
   ]
  },
  {
   "cell_type": "raw",
   "id": "5418ae9d-e3e8-4a78-b4df-7dd21e491ed6",
   "metadata": {},
   "source": [
    "(sums2[0]+3+sums2[1]+3+sums[3])/8\n",
    "\n",
    "#24420.5"
   ]
  },
  {
   "cell_type": "markdown",
   "id": "8297aca1-cbc6-40c1-adc2-5d5d2706ff29",
   "metadata": {},
   "source": [
    "Ternary code wins. It will do even better if I am more agressive with the names. But that is for later.\n",
    "\n",
    "The current total count is 277 + 3 + 12610 + 3 + 237225 = 250118 bits = 31265 bytes. Note that the +3 between them are an additional space after each of the character strings -- 1 space = end of element, 2 spaces = end of list. The one flaw with this is that I don't have an end of file character for the ternary code, so it needs to be added to the end of the encoded text, not the beginning. I could also define the maximum number first, then give the array, and a number greater than the maximum ends the array.\n",
    "\n",
    "Now I need the code to actually store this binary. I need to figure out how to do that in Python 3+. I believe I also need to figure out how to fill in extra space for the two additional bits which are not included yet. "
   ]
  },
  {
   "cell_type": "markdown",
   "id": "1cbbaa21-c7cc-488c-a1cb-140c7176ae55",
   "metadata": {},
   "source": [
    "However, lets recalculate byte length with the requirement of a whole number of bytes."
   ]
  },
  {
   "cell_type": "code",
   "execution_count": null,
   "id": "4635e70c-ee96-4671-9a39-478e20a8e0a4",
   "metadata": {},
   "outputs": [],
   "source": [
    "(295+3)/8 # all caps lists"
   ]
  },
  {
   "cell_type": "code",
   "execution_count": 791,
   "id": "87eb1d77-7317-4929-bcab-79343fae90d5",
   "metadata": {},
   "outputs": [
    {
     "data": {
      "text/plain": [
       "2957.375"
      ]
     },
     "execution_count": 791,
     "metadata": {},
     "output_type": "execute_result"
    }
   ],
   "source": [
    "(23653 + 3+3)/8 # 3 extra here for a whole number of bytes -- names list"
   ]
  },
  {
   "cell_type": "code",
   "execution_count": 793,
   "id": "dda49f82-4e03-42a2-be5b-710db302ddb9",
   "metadata": {},
   "outputs": [
    {
     "data": {
      "text/plain": [
       "21426.25"
      ]
     },
     "execution_count": 793,
     "metadata": {},
     "output_type": "execute_result"
    }
   ],
   "source": [
    "171410/8 # and now 1 byte over; however, I can add whatever if I go beyond the length of the text."
   ]
  },
  {
   "cell_type": "raw",
   "id": "8450e4ec-5b21-43f0-8c57-85fe40d6d682",
   "metadata": {},
   "source": [
    "print(len(text) - sum(exc))\n",
    "#text[-891]\n",
    "#891 has length 15 in ternery, must add at least 15 bits\n",
    "\n",
    "#890"
   ]
  },
  {
   "cell_type": "code",
   "execution_count": 232,
   "id": "5ebcab11-374d-4010-aafa-f0756b71eefc",
   "metadata": {},
   "outputs": [
    {
     "data": {
      "text/plain": [
       "29655.0"
      ]
     },
     "execution_count": 232,
     "metadata": {},
     "output_type": "execute_result"
    }
   ],
   "source": [
    "(237225+15)/8 #however, now it is a whole number"
   ]
  },
  {
   "cell_type": "code",
   "execution_count": 1124,
   "id": "50955d5a-3a17-4c12-9e71-3426c3c294b2",
   "metadata": {},
   "outputs": [
    {
     "data": {
      "text/plain": [
       "31267.0"
      ]
     },
     "execution_count": 1124,
     "metadata": {},
     "output_type": "execute_result"
    }
   ],
   "source": [
    "#total count\n",
    "(277+3+12610 + 3+3+237225+15)/8\n",
    "#two more than the previous estimate"
   ]
  },
  {
   "cell_type": "markdown",
   "id": "cff4ccc2-9f0b-446a-b9a3-f0066fd13ee6",
   "metadata": {},
   "source": [
    "The rest of this is to program the encoding. I will deal with it later if I have time."
   ]
  },
  {
   "cell_type": "markdown",
   "id": "c1c667f6-f3c8-47d3-9d09-6ca06b30c084",
   "metadata": {},
   "source": [
    "abr, name, exc #"
   ]
  },
  {
   "cell_type": "raw",
   "id": "ea39e72c-41c0-4ea3-aefe-de70fe24916d",
   "metadata": {},
   "source": [
    "def concat_binary_numbers_bitwise(x):\n",
    "    result = x[0]\n",
    "    shift = 0\n",
    "    for i in range(1, len(x)):\n",
    "        shift = x[i-1].bit_length()\n",
    "        result = (result << shift) | x[i]\n",
    "    return result\n",
    "\n",
    "#print(concat_binary_numbers_bitwise(3))"
   ]
  },
  {
   "cell_type": "code",
   "execution_count": 246,
   "id": "942ddc42-5b79-4282-b763-9a3c310e9f85",
   "metadata": {},
   "outputs": [],
   "source": [
    "# - store bits and bytes, take bits and add it to the byte list (input array of bools, update encoding)\n",
    "class byte_mng:\n",
    "    def __init__(self):\n",
    "        self.byte_store = [0] # here I am filling the bytes, should be integers from 0 to 255\n",
    "        self.bit_count = 0    # this is the number of bits in byte_store which are full; ensures that I don't overfill bytes and send them to the string when ready\n",
    "        self.j = 0            # counts the length of byte_store\n",
    "        \n",
    "    def load_bits(self, bits, lngth):\n",
    "        # the old bits are already shifted appropriately\n",
    "        jj = self.byte_store[self.j]\n",
    "        \n",
    "        # bit shift new bits\n",
    "        if self.bit_count < (8 - lngth): \n",
    "            ii = bits << int(8 - lngth - self.bit_count)\n",
    "        elif self.bit_count == (8 - lngth):\n",
    "            ii = bits\n",
    "        else:\n",
    "            ii = bits >> (self.bit_count - 8 + lngth) # The excess will go off the end. I will encode them later.\n",
    "\n",
    "        #print(lngth, self.bit_count, jj, ii)\n",
    "        # bitwise or is the same as + in this case\n",
    "        self.byte_store[self.j] = jj | ii\n",
    "        used_bits = 8 - self.bit_count     # for when bit_count + lngth > 7\n",
    "        self.bit_count += lngth\n",
    "\n",
    "        bits_n = bits\n",
    "        lngth_n = lngth\n",
    "\n",
    "        #print(lngth, self.bit_count, jj, ii)\n",
    "        # now, to work on the next byte\n",
    "        while self.bit_count > 7:\n",
    "            #print('here')\n",
    "            self.j += 1\n",
    "            self.bit_count -=8\n",
    "            \n",
    "            # we now need to take only the right most bit_count bits and put it in ii\n",
    "            lngth_n -= used_bits\n",
    "            bits_n = bits_n % (2**lngth_n) # removes the used bits\n",
    "            if self.bit_count < 8:\n",
    "                ii = (bits_n << 8 - lngth_n)%256\n",
    "            else:\n",
    "                ii = bits_n >> (lngth_n - 8)\n",
    "                used_bits = 8\n",
    "                \n",
    "            self.byte_store.append(ii)\n",
    "\n",
    "    # load letter and load word are for the abreviation list and name list\n",
    "    def load_letter(self, cha):\n",
    "        #000xx = stop\n",
    "        #0010x = stop\n",
    "        #0011x = ab\n",
    "        #01xxx = c-j\n",
    "        #10xxx = k-r\n",
    "        #11xxx = s-z\n",
    "\n",
    "        code_a = int('110', 2)\n",
    "        num = ord(cha) - ord('a') + code_a # the order is unchanged, but the numbering starts earlier\n",
    "        if num > 0 and num < 32:\n",
    "            self.load_bits(num, 5)\n",
    "        elif num <= 0:\n",
    "            self.load_bits(0,3) # stop condition\n",
    "        else:\n",
    "            self.load_bits(2,4) # if I need another indicator\n",
    "\n",
    "    # this will load the whole word into the bit string, then add a stop condition\n",
    "    def load_word(self, word):\n",
    "        word2 = word.lower()\n",
    "        word2 = word2 + ' '\n",
    "        for i in range(len(word2)):\n",
    "            self.load_letter(word2[i])\n",
    "\n",
    "    # now for the code for ternary code\n",
    "    def load_ternary(self, num):\n",
    "        # 00, 01, 10, 11\n",
    "        # leading will be 1 or 0\n",
    "\n",
    "        # number of digits for base 3 representation\n",
    "        n = 0\n",
    "        x = num\n",
    "        while x >= 1:\n",
    "            x = x / 3\n",
    "            n += 1\n",
    "        n2 = n\n",
    "\n",
    "        # start with the leading bit\n",
    "        # there are two variants only: 1 or 2\n",
    "        n = n-1\n",
    "        x = num // 3**n\n",
    "        y = num % 3**n\n",
    "\n",
    "        #print(x,y, x-1)\n",
    "        self.load_bits(x-1,1) # 1 for 2 and 0 for 1\n",
    "        \n",
    "        # repeat for the rest of the digits\n",
    "        for i in range(n2-1):\n",
    "            n = n-1\n",
    "            x = y // 3**n\n",
    "            y = y % 3**n\n",
    "            #print(x,y,1+x)\n",
    "            self.load_bits(1+x,2) # 01 = 0, 10 = 1, 11 = 2\n",
    "\n",
    "        # and load the end of number code\n",
    "        self.load_bits(0,2)\n",
    "            \n",
    "    def save_bits(self, filename):\n",
    "        self.byte_encode = bytearray(self.byte_store)\n",
    "        with open(filename, \"wb\") as f:\n",
    "            f.write(self.byte_encode)"
   ]
  },
  {
   "cell_type": "raw",
   "id": "1991644b-ff5a-4da1-88ad-d467f91a8810",
   "metadata": {},
   "source": [
    "n = 0\n",
    "test_num = 1853\n",
    "x = test_num\n",
    "while x >= 1:\n",
    "    x = x / 3\n",
    "    n += 1\n",
    "print(n, test_num / 3**n, test_num / 3**(n-1))\n",
    "\n",
    "# 7 0.8472793781435757 2.541838134430727"
   ]
  },
  {
   "cell_type": "raw",
   "id": "151584f0-602c-446f-86c6-d3b16aed1081",
   "metadata": {},
   "source": [
    "test_bits = byte_mng()\n",
    "\n",
    "test_word = 'destsw'\n",
    "test_bits.load_word(test_word)\n",
    "print(test_bits.byte_store)\n",
    "\n",
    "#[74, 177, 156, 112, 0]"
   ]
  },
  {
   "cell_type": "code",
   "execution_count": 248,
   "id": "df768f4b-acc0-4265-a467-669361f603a9",
   "metadata": {},
   "outputs": [
    {
     "name": "stdout",
     "output_type": "stream",
     "text": [
      "[1, 5, 5, 6, 3, 6, 3, 6, 13, 6, 9, 7, 8, 7, 13, 18, 1, 4, 1, 3, 9, 4, 9, 11, 1, 4, 1, 3, 12, 15, 9, 22, 8, 19, 15, 10, 15, 35, 10, 25, 30, 8, 11, 6, 9, 5, 9, 11, 16, 15]\n"
     ]
    }
   ],
   "source": [
    "print(exc[0:50])"
   ]
  },
  {
   "cell_type": "code",
   "execution_count": 252,
   "id": "c63bde16-04f4-4294-b3d9-d7220b9ec34d",
   "metadata": {},
   "outputs": [],
   "source": [
    "for i in range(len(abr)):\n",
    "    abr[i] = abr[i].lower()\n",
    "for i in range(len(name)):\n",
    "    name[i] = name[i].lower()"
   ]
  },
  {
   "cell_type": "code",
   "execution_count": 254,
   "id": "f9715d0e-c0a0-4896-a019-1d93cf019e2b",
   "metadata": {},
   "outputs": [],
   "source": [
    "cap_bits = byte_mng()\n",
    "\n",
    "for i in abr:\n",
    "    cap_bits.load_word(i)\n",
    "cap_bits.load_letter(' ') # double space means end of list\n",
    "for i in name:\n",
    "    cap_bits.load_word(i)\n",
    "cap_bits.load_letter(' ') # double space means end of list \n",
    "cap_bits.load_ternary(len(exc)) # size of the exc array, so that I can just append the next part of the encryption\n",
    "# after all of the numbers, the rest of the byte is filled with zeros. the next segment begins at the next bit\n",
    "for i in exc:\n",
    "    cap_bits.load_ternary(i)\n",
    "\n",
    "#cap_bits.save_bits('test_capital')"
   ]
  },
  {
   "cell_type": "code",
   "execution_count": 256,
   "id": "407e1153-35d4-4367-a7d7-d67379eff6b5",
   "metadata": {},
   "outputs": [
    {
     "name": "stdout",
     "output_type": "stream",
     "text": [
      "184 7\n"
     ]
    }
   ],
   "source": [
    "print(cap_bits.byte_store[-1], cap_bits.bit_count) # I still officially need to remove the last one if it exists, but it is fine here"
   ]
  },
  {
   "cell_type": "markdown",
   "id": "154492e7-f06f-4bca-a30b-3523abe5b560",
   "metadata": {},
   "source": [
    "Something here is saved. But I need to decode it to check that it is correct. The size is correct, however."
   ]
  },
  {
   "cell_type": "markdown",
   "id": "3b04c91d-107f-405e-97b5-26867449a87d",
   "metadata": {
    "jp-MarkdownHeadingCollapsed": true
   },
   "source": [
    "# encryption of the uncapitalized text"
   ]
  },
  {
   "cell_type": "code",
   "execution_count": null,
   "id": "1749a33d-2f18-44cd-99b7-f022cc2680db",
   "metadata": {},
   "outputs": [],
   "source": [
    "# lets first reload everything needed, so we can work from here"
   ]
  },
  {
   "cell_type": "code",
   "execution_count": 258,
   "id": "a46311bc-4231-42bf-8e4f-f496cc7b17aa",
   "metadata": {},
   "outputs": [],
   "source": [
    "#libraries\n",
    "import string\n",
    "import re\n",
    "import numpy as np\n",
    "\n",
    "#load text\n",
    "f = open(\"MrZoat_WithThisRingS01_Gould.txt\")\n",
    "text = f.read()\n",
    "f.close()\n",
    "#print(text[0:200])\n",
    "\n",
    "text = text.lower()\n",
    "\n",
    "\n",
    "# these are most likely not the most effective variants, but it is irrelevant here\n",
    "sim = ['*', '+', '|', '/', ':', '-', ';', '\\'', '\\\"', ',', '.', '?', '!', '$', '%', '&', '}', '[', ']', '(', ')', '<', '>', ' ', '\\n']\n",
    "\n",
    "low = []\n",
    "for i in range(26):\n",
    "    low.append(string.ascii_lowercase[i])\n",
    "num = []\n",
    "for i in range(10):\n",
    "    num.append(string.digits[i])"
   ]
  },
  {
   "cell_type": "code",
   "execution_count": 260,
   "id": "24bfda56-344e-4410-b2ec-caffc52a8180",
   "metadata": {},
   "outputs": [
    {
     "data": {
      "text/plain": [
       "61"
      ]
     },
     "execution_count": 260,
     "metadata": {},
     "output_type": "execute_result"
    }
   ],
   "source": [
    "# now in the correct order\n",
    "sim1 = ['\\n', ' ', '!', '\\\"', '$', '%', '&', '\\'', '(', ')', '*', '+', ',', '-', '.', '/' ]\n",
    "sim2 = [':', ';', '<', '>', '?', '[', ']']\n",
    "sim3 = ['|', '}']\n",
    "ch = sim1 + num + sim2 + low + sim3 # this is our full list of symbols\n",
    "len(ch)"
   ]
  },
  {
   "cell_type": "code",
   "execution_count": 12,
   "id": "a8b73c16-bab6-49df-b6a0-9f87d5458bbc",
   "metadata": {},
   "outputs": [],
   "source": [
    "#for i in range(61):\n",
    "#    print(ord(ch[i]))"
   ]
  },
  {
   "cell_type": "code",
   "execution_count": 14,
   "id": "ddc3caa8-fcf7-4dbd-af71-4f8858548c86",
   "metadata": {},
   "outputs": [],
   "source": [
    "#print(len(ch), len(ch)**3)"
   ]
  },
  {
   "cell_type": "code",
   "execution_count": 16,
   "id": "352e709e-2725-4d30-ae1c-9aa31dd8757a",
   "metadata": {},
   "outputs": [],
   "source": [
    "#np.shape(counts)"
   ]
  },
  {
   "cell_type": "code",
   "execution_count": 50,
   "id": "dd1a8b38-df04-4424-a052-854fc330067d",
   "metadata": {},
   "outputs": [
    {
     "name": "stdout",
     "output_type": "stream",
     "text": [
      "12699\n"
     ]
    }
   ],
   "source": [
    "# numpy to make 3-D arrays easily; they are all counts\n",
    "count3 = np.zeros((61,61,61), int)\n",
    "\n",
    "str3 = '000'\n",
    "\n",
    "# again, this is very slow\n",
    "# I don't think predefining str3 helps\n",
    "for i in range(61):\n",
    "    for j in range(61):\n",
    "        for k in range(61):\n",
    "            str3 = ch[i]+ch[j]+ch[k]\n",
    "            count3[i,j,k] = text.count(str3)\n",
    "            \n",
    "num_non0 = np.count_nonzero(count3) # much smaller -- 94.4% of cases don't exist\n",
    "print(num_non0)\n",
    "c3_non0 = np.nonzero(count3)"
   ]
  },
  {
   "cell_type": "code",
   "execution_count": 51,
   "id": "02568574-e070-4f22-8e34-557bb622ec47",
   "metadata": {},
   "outputs": [
    {
     "name": "stdout",
     "output_type": "stream",
     "text": [
      "59088\n"
     ]
    }
   ],
   "source": [
    "# initialize variables\n",
    "ii = jj = kk = 0\n",
    "str4 = '0000'\n",
    "count4 = np.zeros((num_non0, len(ch)), int)\n",
    "\n",
    "for i in range(num_non0):\n",
    "    ii=c3_non0[0][i]\n",
    "    jj=c3_non0[1][i]\n",
    "    kk=c3_non0[2][i]\n",
    "    for j in range(len(ch)):\n",
    "        str4 = ch[ii]+ch[jj]+ch[kk]+ch[j]\n",
    "        count4[i,j] = text.count(str4)\n",
    "\n",
    "num4_non0 = np.count_nonzero(count4)\n",
    "print(num4_non0)\n",
    "c4_non0 = np.nonzero(count4)"
   ]
  },
  {
   "cell_type": "code",
   "execution_count": 52,
   "id": "a5917c7f-5e01-4036-af60-84b1679329e1",
   "metadata": {},
   "outputs": [
    {
     "name": "stdout",
     "output_type": "stream",
     "text": [
      "1427\n"
     ]
    }
   ],
   "source": [
    "str2 = '00'\n",
    "count2=np.zeros((61,61), int)\n",
    "\n",
    "for i in range(61):\n",
    "    for j in range(61):\n",
    "        str2 = ch[i]+ch[j]\n",
    "        count2[i,j] = text.count(str2)\n",
    "\n",
    "num2_non0 = np.count_nonzero(count2)\n",
    "print(num2_non0)\n",
    "c2_non0 = np.nonzero(count2)"
   ]
  },
  {
   "cell_type": "code",
   "execution_count": 53,
   "id": "57ebc58a-8859-4204-a859-db6640082b74",
   "metadata": {},
   "outputs": [
    {
     "name": "stdout",
     "output_type": "stream",
     "text": [
      "12699\n"
     ]
    }
   ],
   "source": [
    "# initialize variables\n",
    "ii = jj = 0\n",
    "str3 = '000'\n",
    "count3n = np.zeros((num2_non0, len(ch)), int)\n",
    "\n",
    "for i in range(num2_non0):\n",
    "    ii=c2_non0[0][i]\n",
    "    jj=c2_non0[1][i]\n",
    "    for j in range(len(ch)):\n",
    "        str3 = ch[ii]+ch[jj]+ch[j]\n",
    "        count3n[i,j] = text.count(str3)\n",
    "\n",
    "num3n_non0 = np.count_nonzero(count3n)\n",
    "print(num3n_non0)\n",
    "c3n_non0 = np.nonzero(count3n)"
   ]
  },
  {
   "cell_type": "code",
   "execution_count": 54,
   "id": "e0d7ea68-cfdd-4d62-83b8-89f5ce4aa03e",
   "metadata": {},
   "outputs": [
    {
     "name": "stdout",
     "output_type": "stream",
     "text": [
      "61\n"
     ]
    }
   ],
   "source": [
    "count1=np.zeros((61), int)\n",
    "\n",
    "for i in range(61):\n",
    "    count1[i] = text.count(ch[i])\n",
    "\n",
    "num1_non0 = np.count_nonzero(count1)\n",
    "print(num1_non0)\n",
    "c1_non0 = np.nonzero(count1)"
   ]
  },
  {
   "cell_type": "raw",
   "id": "9d75bbb7-a6d8-4bf2-8974-97d4c548e458",
   "metadata": {},
   "source": [
    "# if 1, it will still not show up; most likely even fewer will show up\n",
    "print(61**3, num_non0, np.count_nonzero(count3 > 1), 12699-10158, np.count_nonzero(count3 > 10)) \n",
    "\n",
    "#226981 12699 10158 2541 6374"
   ]
  },
  {
   "cell_type": "code",
   "execution_count": null,
   "id": "824b106e-0046-4fdc-be7d-44ee25cd88ad",
   "metadata": {},
   "outputs": [],
   "source": [
    "#np.count_nonzero(count4 > 1)"
   ]
  },
  {
   "cell_type": "markdown",
   "id": "8a839ece-0d02-4c2e-b08f-a0204181a581",
   "metadata": {},
   "source": [
    "print(61*61, np.count_nonzero(count2), np.count_nonzero(count2 > 1))\n",
    "\n",
    "#3721 1427 1258"
   ]
  },
  {
   "cell_type": "markdown",
   "id": "88bbdb15-5421-415c-8ae4-3ab596ac54dc",
   "metadata": {},
   "source": [
    "The greatest number of states we can have is 10158 + 1258 + 61 = 11477. I assume that the next step is to program the dynamic PPM model. This uses the dynamic arithmetic model. The recommended rate of new is half the number of symbols. \n",
    "\n",
    "We actually need to add a 4th character onto this for the calculation. \n",
    "\n",
    "If we try to store the contextual version for every step of the dynamic process, we will need to for every letter save the machine. For the first step, we can use 1 bit, but there are 4 million characters, so 4 million statistics which we need to save. For the second step, we need to save 2 numbers and 1 character, and the size keeps growing from there. Saving all of this data is not possible. \n",
    "\n",
    "We can instead ask what it costs to save all the contexts for our 42210 + 10158 + 1258 + 57 + 1 = 53684 potential counts. We can also calculate for 59088 + 12699 + 1427 + 61 + 1 = 73276 when we just want to calculate for non-empty counts. I am not quite sure when we should cut off a context.\n",
    "\n",
    "Each character can be encoded in 6 bits as we have 61 characters and counts can be given with a number encoding. Characters can be further reduced by examining spacing between characters rather than needing to provide the characters, as the structure is ordered.\n",
    "\n",
    " - Provide array of non-zero symbols. (25 bytes typically, although this could be reduced by counting spacing instead.) If we encode each character in 8 bits, we may not need to provide this. We end this with a border (like 'A' or a number which takes the spacing beyond ASCII).\n",
    " - Provide counts for context '': Each count is 1 character and one positive integer long. We have 61 counts.\n",
    " - Provide counts for context 'x': Each count is 2 characters and one positive integer long. We have 1427 counts.\n",
    " - Provide counts for context 'xx': Each count is 3 characters and one positive integer long. We have 12699 counts.\n",
    " - Provide counts for context 'xxx': Each count is 4 characters and one positive integer long. \n",
    " - End of each array can be indicated by:\n",
    "   a) With full character encoding, or 6 bit encoding, the next context will start again at the begining of the alphabet.\n",
    "   b) With only spacing counted, we can save a mark or just go beyond the end of our character array length.\n",
    "\n",
    "Each character is 1 byte. Our maximum count is 724362, which requires 20 bits to encode. We could do this with 3 bytes (but not 2 bytes), but 4 bytes is more typical. Total cost, with typical encoding:\n",
    "5* 61 + 6 * 1427 + 7 * 12699 + 8 * 59088 = 570464 bytes = 0.57 MB."
   ]
  },
  {
   "cell_type": "markdown",
   "id": "91d148f5-27db-4caf-88c2-84b3f0a46f4a",
   "metadata": {},
   "source": [
    "Spacings: (the last 3 is for the end of the list)\n",
    "This assumes all digits and letters are used.\n",
    " - p1: {10, 22, 1, 1, 2, 1, 1, 1, 1, 1, 1, 1, 1, 1, 1, 1, 1, 1, 1, 2, 1, 2, 2, 5, 1, 3} -- 3 at the end is used to indicate end of file\n",
    " - p2: {count1} -- without any charater spacing, because all are used\n",
    " - p3: {c2_non0\\[1\\]\\[0\\]+1, c2_non0\\[1\\]\\[1:\\]- c2_non0\\[1\\]\\[0:-1\\]} {count2} -- The first character spacing is removed, since all are going to exist. The second is as given, but the negative values in it need to be recalculated (+61 I think, I need to check this). This will indicate incrementing the first character by 1. Going to 61 is the most effecient version, and works. The additional +1 is already included.\n",
    " - x = 60 - the last index -- this will encode the first non-existing count, which indicates end of list\n",
    " - p4: {c3_non0\\[1\\]\\[0\\]+1, c3_non0\\[1\\]\\[1:\\]- c3_non0\\[1\\]\\[0:-1\\]} {c3_non0\\[2\\]\\[0\\]+1, c3_non0\\[2\\]\\[1:\\]- c3_non0\\[2\\]\\[0:-1\\]} {count3} -- Rules like the previous.\n",
    " - y = 60 - the last index -- as x\n",
    " - p5: {c4_non0\\[1\\]\\[0\\]+1, c4_non0\\[1\\]\\[1:\\]- c4_non0\\[1\\]\\[0:-1\\]} {c4_non0\\[2\\]\\[0\\]+1, c4_non0\\[2\\]\\[1:\\]- c4_non0\\[2\\]\\[0:-1\\]} {c4_non0\\[3\\]\\[0\\]+1, c4_non0\\[3\\]\\[1:\\]- c4_non0\\[3\\]\\[0:-1\\]} {count4} -- For this case, the formalism is not actually correct for how I have calculated the data, which uses c3 numbers for calculating c4 numbers. However, the structure for transmition is similar\n",
    " -  z = 60 - the last index, to indicate end of file, may now add the text\n",
    "\n",
    "All numbers will be encoded with ternary code, to maintain consistency, despite not being the best choise. I should calculate costs, separating spacings and counts as two separate encodings. Counts most likely want ternary code, while this is likely inefficent for spacings.\n",
    "\n",
    "9 bits is the greatest spacing. However, this encoding doesn't quite work. The alternative encoding, which I did for c4, does work. \n",
    " - p1: {10, 22, 1, 1, 2, 1, 1, 1, 1, 1, 1, 1, 1, 1, 1, 1, 1, 1, 1, 2, 1, 2, 2, 5, 1, 3}\n",
    " - p2: {count1}\n",
    " - p3: {c2_non0\\[1\\]\\[0\\]+1, c2_non0\\[1\\]\\[1:\\]- c2_non0\\[1\\]\\[0:-1\\]} {count2}\n",
    " - x = 60 - the last index\n",
    " - p4: {c3n_non0\\[1\\]\\[0\\]+1, c3n_non0\\[1\\]\\[1:\\]- c3n_non0\\[1\\]\\[0:-1\\]} {count3n} -- Like p2, we have a context (the set of all non-zero contexts from p3), which always increments by 1, and our added letter counts. Therefore, everytime there will be exactly 2 numbers, a spacing and a count. We know which previous contexts exist from the previous process. We deal with negatives in our array like indicated before.\n",
    " - y = 60 - the last index\n",
    " - p5: {c4_non0\\[1\\]\\[0\\]+1, c4_non0\\[1\\]\\[1:\\]- c4_non0\\[1\\]\\[0:-1\\]} {count4} -- Like previous. This is the correct formulation of my calculation of counts.\n",
    " - z = 60 - the last index, to indicate end of file"
   ]
  },
  {
   "cell_type": "code",
   "execution_count": 158,
   "id": "ea806ab1-b2f5-4201-b3a8-631a77976fcc",
   "metadata": {},
   "outputs": [
    {
     "name": "stdout",
     "output_type": "stream",
     "text": [
      "[54 57 58  0 26]\n"
     ]
    }
   ],
   "source": [
    "#print(c2_non0[1][-5:])"
   ]
  },
  {
   "cell_type": "code",
   "execution_count": 160,
   "id": "d8c67bf0-4c33-4beb-abd4-d0fb8e595d32",
   "metadata": {},
   "outputs": [
    {
     "data": {
      "text/plain": [
       "35"
      ]
     },
     "execution_count": 160,
     "metadata": {},
     "output_type": "execute_result"
    }
   ],
   "source": [
    "#max(c2_non0[1][1:]- c2_non0[1][0:-1])"
   ]
  },
  {
   "cell_type": "code",
   "execution_count": null,
   "id": "75c02ac9-1a78-418e-8df4-0b30cfdaed36",
   "metadata": {},
   "outputs": [],
   "source": [
    "#The second to last should be 3: 58+3 = 61 = loop back to 0"
   ]
  },
  {
   "cell_type": "markdown",
   "id": "e28af6b2-9102-40e8-ad32-443b58d67758",
   "metadata": {},
   "source": [
    "Except for the first few characters, every character has a 3 character preceding context. However, I wish to keep all the single count elements and the smaller machines due to how they count the context. I can recalculate the contexts as below:\n",
    "\n",
    " - p1: {10, 22, 1, 1, 2, 1, 1, 1, 1, 1, 1, 1, 1, 1, 1, 1, 1, 1, 1, 2, 1, 2, 2, 5, 1, 3}\n",
    " - p2: {'ABC'} -- The first three characters of the document, encoded from 1 - 61 (index 0 - 60). \n",
    " - p3: {c2_non0\\[1\\]\\[0\\]+1, c2_non0\\[1\\]\\[1:\\]- c2_non0\\[1\\]\\[0:-1\\]} -- Add 61 to all non-positive.\n",
    " - x = 60 - the last index (note, last index here, not last spacing)\n",
    " - p4: {c3n_non0\\[1\\]\\[0\\]+1, c3n_non0\\[1\\]\\[1:\\]- c3n_non0\\[1\\]\\[0:-1\\]} -- Add 61 to all non-positive.\n",
    " - y = 60 - the last index (note, last index here, not last spacing)\n",
    " - p5: {c4_non0\\[1\\]\\[0\\]+1, c4_non0\\[1\\]\\[1:\\]- c4_non0\\[1\\]\\[0:-1\\]} {count4} -- Add 61 to all non-positive character spacings. Counts are only important here, as the old counts can be calculated from these counts and the first 3 characters.\n",
    " - z = 60 - the last index, to indicate end of file (note, last index here, not last spacing)\n",
    "\n",
    "I should be able to here calculate the bit / byte length and figure out which number encodings are better. \n",
    "\n",
    "***\n",
    "\n",
    "I have a problem with the encoding -- if the index of the last element of the old context is less than the first element of the next, the encoder / decoder will not recognize the requirement to increment to the next element. I can fix this by inserting an unused number (62 or 63) between the two elements, to indicate the need to increment. I have not yet added this fix to the algorithm (due to time constraints). The increase in size should be relatively small. \n",
    "\n",
    "Also, I can just put the indicies in straight, and not use the spacings. This doesn't alter the space usage, but decreases processing time. \n",
    "\n",
    "The first array needs to have a separate encoding (and be based on spacing) as we don't know the size of our array until after reading the first array. (bit size -> 7, 6, 6, 6, {5}, 5, ..., 5, {4}, 4, 4, 4, 4, {2}, 2 or just all 7) Now we can calculate the size of the array = 26 + 10 + number of special elements. We have 1 more element as our stop, to indicate needing to increment the first index by one if it is not obvious. When this index reaches the size of our previous array, we know that the next number will be for the next array. The last byte is finished with zeros (they will be ignored).\n",
    "\n",
    "All future calculation of efficency is not effected by this change. The size will increase, but not significantly. \n",
    "\n",
    "Our count number also needs something to indicate the size of the array. After the p5 array, before the extra 0s and count array, I should add a ternary encoded number for the number of bits in the maximum count, defining the size of the next array. I don't want a fixed-length encoding here, in order to not assume the size of the maximum count. Then I should ignore the trailing 0s until the end and load the next numbers straight onto the byte string, as there is no reason to believe they will be a whole number of bits (although they are)."
   ]
  },
  {
   "cell_type": "code",
   "execution_count": 291,
   "id": "fb4740b6-7ed8-4261-b162-a905ec0d1ea9",
   "metadata": {},
   "outputs": [
    {
     "data": {
      "text/plain": [
       "16"
      ]
     },
     "execution_count": 291,
     "metadata": {},
     "output_type": "execute_result"
    }
   ],
   "source": [
    "#sum([2, 1, 2, 2, 5, 1, 3])"
   ]
  },
  {
   "cell_type": "code",
   "execution_count": 262,
   "id": "87b6ecdd-38da-4e7b-93ef-4ffe80ee408f",
   "metadata": {},
   "outputs": [
    {
     "data": {
      "text/plain": [
       "42912"
      ]
     },
     "execution_count": 262,
     "metadata": {},
     "output_type": "execute_result"
    }
   ],
   "source": [
    "np.max(count4) # This number is in my table. Lets bring the table here."
   ]
  },
  {
   "cell_type": "raw",
   "id": "d96a30f1-9030-47b4-b291-585454df959a",
   "metadata": {},
   "source": [
    "# Lets put in the tables\n",
    "range_max = [1,2,3,4,7,8,12,15,20,26,31,33,54,63,80,88,127,133,222,242,255,376,511,609,728,986,1023,1596,2047,2186,2583,4095,4180,6560,6764,8191,10945,16383,17710,19682,28656,32767,46367]\n",
    "gam = [1,3,3,5,5,7,7,7,9,9,9,11,11,11,13,13,13,15,15,15,15,17,17,19,19,19,19,21,21,23,23,23,25,25,25,25,27,27,29,29,29,29,31]\n",
    "delt = [1,4,3,5,5,8,8,8,9,9,9,10,10,10,11,11,11,14,14,14,14,15,15,16,16,16,16,17,17,18,18,18,19,19,19,19,20,20,21,21,21,21,24]\n",
    "fib = [2,3,4,4,5,6,6,7,7,8,8,8,9,10,10,10,11,11,12,13,13,13,14,14,15,15,16,16,17,17,17,18,18,19,19,20,20,21,21,22,22,23,23]\n",
    "thr = [3,3,5,5,5,5,7,7,7,7,9,9,9,9,9,11,11,11,11,11,13,13,13,13,13,15,15,15,15,15,17,17,17,17,19,19,19,19,19,19,21,21,21]"
   ]
  },
  {
   "cell_type": "raw",
   "id": "72a80034-42df-4a42-b218-e0d4ec23899a",
   "metadata": {},
   "source": [
    "print(len(range_max), len(gam), len(delt), len(fib), len(thr))"
   ]
  },
  {
   "cell_type": "code",
   "execution_count": null,
   "id": "d88df89b-dab5-4f83-b231-4e0473dba15d",
   "metadata": {},
   "outputs": [],
   "source": [
    "# calculate p3, p4, p5 character spacings, x,y,z"
   ]
  },
  {
   "cell_type": "raw",
   "id": "38b1cd6b-ea30-4d16-9b76-dd92efa7529d",
   "metadata": {},
   "source": [
    "p3_arr = np.zeros(len(c2_non0[0]), int)\n",
    "p4_arr = np.zeros(len(c3n_non0[0]), int)\n",
    "p5_arr = np.zeros(len(c4_non0[0]), int)\n",
    "print(p3_arr.shape, p4_arr.shape, p5_arr.shape)\n",
    "\n",
    "#(1427,) (12699,) (59088,)"
   ]
  },
  {
   "cell_type": "raw",
   "id": "72475e6e-ca6b-408a-80ea-daf83795fcfc",
   "metadata": {},
   "source": [
    "p3_arr[0] = c2_non0[1][0]+1\n",
    "p4_arr[0] = c3n_non0[1][0]+1\n",
    "p5_arr[0] = c4_non0[1][0]+1\n",
    "p3_arr[1:] = c2_non0[1][1:]- c2_non0[1][0:-1]\n",
    "p4_arr[1:] = c3n_non0[1][1:]- c3n_non0[1][0:-1]\n",
    "p5_arr[1:] = c4_non0[1][1:]- c4_non0[1][0:-1]"
   ]
  },
  {
   "cell_type": "raw",
   "id": "1336fa3b-20ce-44cd-a27a-a4142e63583d",
   "metadata": {},
   "source": [
    "for i in range(len(p3_arr)):\n",
    "    if p3_arr[i] < 1: \n",
    "        p3_arr[i] += 61\n",
    "for i in range(len(p4_arr)):\n",
    "    if p4_arr[i] < 1: \n",
    "        p4_arr[i] += 61\n",
    "for i in range(len(p5_arr)):\n",
    "    if p5_arr[i] < 1: \n",
    "        p5_arr[i] += 61"
   ]
  },
  {
   "cell_type": "raw",
   "id": "ac1391f6-4867-40dd-b654-37c8844f4284",
   "metadata": {},
   "source": [
    "print(c2_non0[1][-1], c3n_non0[1][-1], c4_non0[1][-1])\n",
    "endf = [60 - c2_non0[1][-1], 60 - c3n_non0[1][-1], 60 -c4_non0[1][-1]]\n",
    "endf\n",
    "\n",
    "#26 31 0\n",
    "#[34, 29, 60]"
   ]
  },
  {
   "cell_type": "code",
   "execution_count": 108,
   "id": "d94a7f3a-2d24-49e0-9f74-54ea176a7b7d",
   "metadata": {},
   "outputs": [],
   "source": [
    "p1_arr = [10, 22, 1, 1, 2, 1, 1, 1, 1, 1, 1, 1, 1, 1, 1, 1, 1, 1, 1, 2, 1, 2, 2, 5, 1, 3]"
   ]
  },
  {
   "cell_type": "raw",
   "id": "c5f3944a-1107-4cf2-836a-ae0fbdf9a782",
   "metadata": {},
   "source": [
    "#print(text[0:3], ch.index(text[0]), ch.index(text[1]), ch.index(text[2]))\n",
    "#print(ch[55], ch[41], ch[52])\n",
    "f3ch = [ch.index(text[0])+1, ch.index(text[1])+1, ch.index(text[2])+1]\n",
    "f3ch\n",
    "\n",
    "#[56, 42, 53]"
   ]
  },
  {
   "cell_type": "raw",
   "id": "f842d9ba-9e26-4c5b-be41-3cade22be5b9",
   "metadata": {},
   "source": [
    "# so far without the counts\n",
    "long_arr = p1_arr + f3ch + list(p3_arr) + [endf[0]] + list(p4_arr) + [endf[1]] + list(p5_arr) + [endf[2]]"
   ]
  },
  {
   "cell_type": "raw",
   "id": "4d06d934-37d8-4c9b-921e-c274cab019fe",
   "metadata": {},
   "source": [
    "long_arr2 = long_arr\n",
    "long_arr.sort"
   ]
  },
  {
   "cell_type": "raw",
   "id": "dc5d4448-9f19-44bd-b8a2-9cf451ef9133",
   "metadata": {},
   "source": [
    "j = 0\n",
    "sums = [0,0,0,0,0]\n",
    "for i in range(len(long_arr2)):\n",
    "    while long_arr2[i] > range_max[j]:\n",
    "        j = j + 1\n",
    "    sums[0] += gam[j]\n",
    "    sums[1] += delt[j]\n",
    "    sums[2] += fib[j]\n",
    "    sums[3] += thr[j]\n",
    "    sums[4] += 6  # 2^6 = 64\n",
    "print(sums)\n",
    "\n",
    "#[805652, 732433, 732406, 659162, 439476]"
   ]
  },
  {
   "cell_type": "markdown",
   "id": "87543b55-f66a-48ae-9105-65d4a77d9cd3",
   "metadata": {},
   "source": [
    "Unencoded 6 bit length for the spacings is optimal, it looks like. I can just add zeros to the end to reach a full byte if needed due to the fact that I already signalled the end of file. It is likely unneeded."
   ]
  },
  {
   "cell_type": "raw",
   "id": "8322643b-043e-47e2-be84-49a49e03b5f3",
   "metadata": {},
   "source": [
    "float(sums[4]) / 8.0\n",
    "\n",
    "#54934.5"
   ]
  },
  {
   "cell_type": "raw",
   "id": "d35df190-6f4a-4a3f-b995-0543d16accef",
   "metadata": {},
   "source": [
    "len(long_arr)\n",
    "\n",
    "#73246"
   ]
  },
  {
   "cell_type": "code",
   "execution_count": 268,
   "id": "2e86ebef-e657-48ff-82a7-b418698b6002",
   "metadata": {},
   "outputs": [
    {
     "data": {
      "text/plain": [
       "(array([    0,     0,     0, ..., 12696, 12697, 12698], dtype=int64),\n",
       " array([ 2, 13, 33, ..., 58, 43,  0], dtype=int64))"
      ]
     },
     "execution_count": 268,
     "metadata": {},
     "output_type": "execute_result"
    }
   ],
   "source": [
    "#count4\n",
    "c4_non0"
   ]
  },
  {
   "cell_type": "code",
   "execution_count": 266,
   "id": "67fd4d15-9632-45df-b8aa-407689e8200b",
   "metadata": {},
   "outputs": [],
   "source": [
    "c4_arr = [0]*num4_non0\n",
    "for i in range(num4_non0):\n",
    "    c4_arr[i] = count4[c4_non0[0][i], c4_non0[1][i]]"
   ]
  },
  {
   "cell_type": "raw",
   "id": "996aa305-1931-4e84-a474-8452991be802",
   "metadata": {},
   "source": [
    "c4_arr2 = c4_arr\n",
    "c4_arr2.sort"
   ]
  },
  {
   "cell_type": "raw",
   "id": "ddb0fa54-f650-437b-ab3b-916dd64e411e",
   "metadata": {},
   "source": [
    "j = 0\n",
    "sums = [0,0,0,0,0]\n",
    "for i in range(len(c4_arr2)):\n",
    "    while c4_arr2[i] > range_max[j]:\n",
    "        j = j + 1\n",
    "    sums[0] += gam[j]\n",
    "    sums[1] += delt[j]\n",
    "    sums[2] += fib[j]\n",
    "    sums[3] += thr[j]\n",
    "    sums[4] += 16  # 2^16 = 65536, max count = 42912\n",
    "print(sums)\n",
    "\n",
    "#[1801320, 1393076, 1338640, 1225238, 945408]"
   ]
  },
  {
   "cell_type": "raw",
   "id": "72195116-fa53-4d8b-957f-c61fdd37ed10",
   "metadata": {},
   "source": [
    "max(c4_arr2)"
   ]
  },
  {
   "cell_type": "raw",
   "id": "258576a4-7dc9-4f90-9512-9306e3b92b50",
   "metadata": {},
   "source": [
    "float(sums[4]) / 8.0\n",
    "\n",
    "#118176.0"
   ]
  },
  {
   "cell_type": "raw",
   "id": "1a69d7df-8130-4bb0-810e-3d4b76bfc18a",
   "metadata": {},
   "source": [
    "bc = np.ceil(54934.5+118176)\n",
    "bc\n",
    "\n",
    "#173111.0"
   ]
  },
  {
   "cell_type": "markdown",
   "id": "d498fea6-d7be-4c29-9369-092b76e01fd3",
   "metadata": {},
   "source": [
    "Our total cost after encoding is 173 kB, which is less than half the old calculation. Note that, despite the unencoded form, there are still two separate types of encoding due to the difference in bit length of the numbers. I wonder if I can just label them as uint * 6 and uint * 16 and just write the binary. There is no issue with putting the counts at the end, as we already know the order and number of counts, so we know what to expect. We need 4 extra zeros to reach a whole number of bits, but they still can be added to the end of the file."
   ]
  },
  {
   "cell_type": "raw",
   "id": "d77259c5-a5ed-447e-a2c2-c68936934a43",
   "metadata": {},
   "source": [
    "#byte_encode_1 = bytearray(b'') # this is my encoding for file storage\n",
    "byte_store = [0] # here I am filling the bytes, should be integers from 0 to 255\n",
    "bit_count = 0    # this is the number of bits in byte_store which are full; ensures that I don't overfill bytes and send them to the string when ready\n",
    "j = 0            # counts the length of byte_store\n",
    "\n",
    "# I should create an object to run this, with the approriate functions.\n",
    "for i in long_arr:\n",
    "    # the old bits are already shifted appropriately\n",
    "    jj = byte_store[j]\n",
    "    # bit shift new bits\n",
    "    if bit_count < 2: \n",
    "        ii = i << (2 - bit_count)\n",
    "    elif bit_count == 2:\n",
    "        ii = i\n",
    "    else:\n",
    "        ii = i >> (bit_count - 2) # The excess will go off the end. I will encode them later.\n",
    "\n",
    "    # bitwise or is the same as + in this case\n",
    "    byte_store[j] = jj | ii\n",
    "    bit_count += 6\n",
    "\n",
    "    # now, to work on the next byte\n",
    "    if bit_count > 7:\n",
    "        j += 1\n",
    "        bit_count -=8 \n",
    "        # we now need to take only the right most bit_count bits and put it in ii\n",
    "        ii = (i << (8 - bit_count))%256\n",
    "        byte_store.append(ii)\n",
    "        \n",
    "# This encoding adds 0s to the end if I don't fill the last byte, which is actually what I want, despite being non-ideal. \n",
    "# I could continue to fill the byte string instead, but the next encoding has a whole number of bits, and the extra 0s\n",
    "# don't bother the encoding at all.\n",
    "\n",
    "byte_encode_1 = bytearray(byte_store)"
   ]
  },
  {
   "cell_type": "raw",
   "id": "472fa124-f985-4306-884d-b9c51aae48f5",
   "metadata": {},
   "source": [
    "with open(\"model_counts.txt\", \"wb\") as f:\n",
    "    f.write(byte_encode_1+byte_encode_2)"
   ]
  },
  {
   "cell_type": "markdown",
   "id": "1c82bec5-6b24-4251-a80f-e3b5ab6d37d6",
   "metadata": {},
   "source": [
    "170 kB, success, although I need to read it properly to truely check. Also .txt is not correct."
   ]
  },
  {
   "cell_type": "raw",
   "id": "4c63790b-f201-485e-aeae-837407ae0fa5",
   "metadata": {},
   "source": [
    "byte_encode_2 = bytearray(b'')\n",
    "\n",
    "# Now we have two bytes added each time, but every number is a whole number of bytes. In theory, I can add this directly to the\n",
    "# previous stream, but I don't want to.\n",
    "for i in c4_arr:\n",
    "    i1 = i // 256 # the upper bit\n",
    "    i2 = i % 256  # the lower bit\n",
    "    # bitwise or is the same as + in this case\n",
    "    byte_encode_2.append(i1)\n",
    "    byte_encode_2.append(i2)"
   ]
  },
  {
   "cell_type": "code",
   "execution_count": 270,
   "id": "76816245-6d88-47e9-9803-fa18a2f94888",
   "metadata": {},
   "outputs": [
    {
     "data": {
      "text/plain": [
       "[4, 1, 4, 1, 3, 4, 3, 8, 5, 6, 18, 3, 24, 17, 1, 7, 6, 8, 8, 2]"
      ]
     },
     "execution_count": 270,
     "metadata": {},
     "output_type": "execute_result"
    }
   ],
   "source": [
    "c4_arr[0:20]"
   ]
  },
  {
   "cell_type": "code",
   "execution_count": 272,
   "id": "3e1372ad-0b7b-4192-b6eb-29356112d9fa",
   "metadata": {},
   "outputs": [
    {
     "data": {
      "text/plain": [
       "[1, 4, 1, 1, 2, 1, 4, 7, 1, 110, 8, 2, 2, 6, 1, 1, 1, 2, 1, 1]"
      ]
     },
     "execution_count": 272,
     "metadata": {},
     "output_type": "execute_result"
    }
   ],
   "source": [
    "c4_arr[-20:]"
   ]
  },
  {
   "cell_type": "markdown",
   "id": "3a4b8b8e-7276-42b4-bea8-bfe2638cf392",
   "metadata": {},
   "source": [
    "New variant:\n",
    "\n",
    " - p1: {10, 22, 1, 1, 2, 1, 1, 1, 1, 1, 1, 1, 1, 1, 1, 1, 1, 1, 1, 2, 1, 2, 2, 5, 1, 3}\n",
    " - size: (bit size -> 7, 6, 6, 6, {5}, 5, ..., 5, {4}, 4, 4, 4, 4, {2}, 2 or just all 7)\n",
    " - p2: {'ABC'} -- The first three characters of the document (index 0 - 60). \n",
    " - p3: {c2_non0\\[1\\]\\[0\\]+1, c2_non0\\[1\\]\\[1:\\]- c2_non0\\[1\\]\\[0:-1\\]} -- Add 61 to all non-positive.\n",
    " - x = 61\n",
    " - p4: {c3n_non0\\[1\\]\\[0\\]+1, c3n_non0\\[1\\]\\[1:\\]- c3n_non0\\[1\\]\\[0:-1\\]} -- Add 61 to all non-positive.\n",
    " - y = 61\n",
    " - p5: {c4_non0\\[1\\]\\[0\\]+1, c4_non0\\[1\\]\\[1:\\]- c4_non0\\[1\\]\\[0:-1\\]} -- Add 61 to all non-positive character spacings. Counts are only important here, as the old counts can be calculated from these counts and the first 3 characters.\n",
    " - z = 61, to indicate end of file \n",
    " - w = (bin(max(count4)) - 2) = number of bits in max count - ternary encoding\n",
    " - count4\n",
    "\n",
    "Indicies encoded 0-60 (straight) 61 indicates need to increment the first index only if not obvious."
   ]
  },
  {
   "cell_type": "code",
   "execution_count": 323,
   "id": "e1549254-9ebd-4143-b239-299c2edffe8e",
   "metadata": {},
   "outputs": [],
   "source": [
    "# - store bits and bytes, take bits and add it to the byte list (input array of bools, update encoding)\n",
    "class byte_mng:\n",
    "    def __init__(self):\n",
    "        self.byte_store = [0] # here I am filling the bytes, should be integers from 0 to 255\n",
    "        self.bit_count = 0    # this is the number of bits in byte_store which are full; ensures that I don't overfill bytes and send them to the string when ready\n",
    "        self.j = 0            # counts the length of byte_store\n",
    "        \n",
    "    def load_bits(self, bits, lngth):\n",
    "        # the old bits are already shifted appropriately\n",
    "        jj = self.byte_store[self.j]\n",
    "        \n",
    "        # bit shift new bits\n",
    "        if self.bit_count < (8 - lngth): \n",
    "            ii = bits << (8 - lngth - self.bit_count)\n",
    "        elif self.bit_count == (8 - lngth):\n",
    "            ii = bits\n",
    "        else:\n",
    "            ii = bits >> (self.bit_count - 8 + lngth) # The excess will go off the end. I will encode them later.\n",
    "\n",
    "        #print(lngth, self.bit_count, jj, ii)\n",
    "        # bitwise or is the same as + in this case\n",
    "        self.byte_store[self.j] = jj | ii\n",
    "        used_bits = 8 - self.bit_count     # for when bit_count + lngth > 7\n",
    "        self.bit_count += lngth\n",
    "\n",
    "        bits_n = bits\n",
    "        lngth_n = lngth\n",
    "\n",
    "        #print(lngth, self.bit_count, jj, ii)\n",
    "        # now, to work on the next byte\n",
    "        while self.bit_count > 7:\n",
    "            #print('here')\n",
    "            self.j += 1\n",
    "            self.bit_count -=8\n",
    "            \n",
    "            # we now need to take only the right most bit_count bits and put it in ii\n",
    "            lngth_n -= used_bits\n",
    "            bits_n = bits_n % (2**lngth_n) # removes the used bits\n",
    "            if self.bit_count < 8:\n",
    "                ii = (bits_n << 8 - lngth_n)%256\n",
    "            else:\n",
    "                ii = bits_n >> (lngth_n - 8)\n",
    "                used_bits = 8\n",
    "                \n",
    "            self.byte_store.append(ii)\n",
    "\n",
    "    # now for the code for ternary code\n",
    "    def load_ternary(self, num):\n",
    "        # 00, 01, 10, 11\n",
    "        # leading will be 1 or 0\n",
    "\n",
    "        # number of digits for base 3 representation\n",
    "        n = 0\n",
    "        x = num\n",
    "        while x >= 1:\n",
    "            x = x / 3\n",
    "            n += 1\n",
    "        n2 = n\n",
    "\n",
    "        # start with the leading bit\n",
    "        # there are two variants only: 1 or 2\n",
    "        n = n-1\n",
    "        x = num // 3**n\n",
    "        y = num % 3**n\n",
    "\n",
    "        #print(x,y, x-1)\n",
    "        self.load_bits(x-1,1) # 1 for 2 and 0 for 1\n",
    "        \n",
    "        # repeat for the rest of the digits\n",
    "        for i in range(n2-1):\n",
    "            n = n-1\n",
    "            x = y // 3**n\n",
    "            y = y % 3**n\n",
    "            #print(x,y,1+x)\n",
    "            self.load_bits(1+x,2) # 01 = 0, 10 = 1, 11 = 2\n",
    "\n",
    "        # and load the end of number code\n",
    "        self.load_bits(0,2)\n",
    "            \n",
    "    def save_bits(self, filename):\n",
    "        self.byte_encode = bytearray(self.byte_store)\n",
    "        with open(filename, \"wb\") as f:\n",
    "            f.write(self.byte_encode)"
   ]
  },
  {
   "cell_type": "code",
   "execution_count": 325,
   "id": "31407dca-1885-421f-a66b-35f50420edb7",
   "metadata": {},
   "outputs": [],
   "source": [
    "def np2D_to_list1D(arr, mng_arr, m_ind = 0):\n",
    "    out_arr = [arr[0]]\n",
    "    max_ind = max(max(arr) + 1, m_ind) # so that giving this value is also allowed\n",
    "\n",
    "    for i in range(1,len(arr)):\n",
    "        # this is my exception, when the increase is not obvious\n",
    "        # first condition -- that the old array increments, \n",
    "        # second condition, that the new index is greater than the previous, which won't increment the first normally\n",
    "        if (mng_arr[i] != mng_arr[i-1]) and (arr[i] > arr[i-1]):\n",
    "            out_arr.append(max_ind)\n",
    "        out_arr.append(arr[i])\n",
    "\n",
    "        # small bit of error-checking\n",
    "        if (mng_arr[i] != mng_arr[i-1]) and (mng_arr[i] != (mng_arr[i-1] + 1)):\n",
    "            print('error: ', i, ', ', mng_arr[i], ', ', mng_arr[i-1])\n",
    "\n",
    "    return out_arr"
   ]
  },
  {
   "cell_type": "code",
   "execution_count": 327,
   "id": "583e25e0-29a8-4434-9eb7-43fd344ea6c4",
   "metadata": {},
   "outputs": [
    {
     "name": "stdout",
     "output_type": "stream",
     "text": [
      "p2:  3 18\n",
      "p3:  1429 1091\n",
      "p4:  12848 10728\n",
      "p5:  61366 56753\n",
      "w =  16\n",
      "p6:  59088 174930\n"
     ]
    }
   ],
   "source": [
    "counts_enc = byte_mng()\n",
    "\n",
    "# p1\n",
    "# 0 means ending the array\n",
    "sim_arr = [10, 22, 1, 1, 2, 1, 1, 1, 1, 1, 1, 1, 1, 1, 1, 1, 1, 1, 1, 2, 1, 2, 2, 5, 1, 0]\n",
    "# - size: (bit size -> 7, 6, 6, 6, {5}, 5, ..., 5, {4}, 4, 4, 4, 4, {2}, 2 or just all 7)\n",
    "# should be calculated automatically:  calc_sim_size(sim)\n",
    "size_sim_arr = [7, 6, 6, 6, 5, 5, 5, 5, 5, 5, 5, 5, 5, 5, 5, 5, 5, 5, 5, 4, 4, 4, 4, 4, 2, 2]\n",
    "\n",
    "for i in range(len(sim_arr)):\n",
    "    counts_enc.load_bits(sim_arr[i], size_sim_arr[i])\n",
    "\n",
    "# p2: {'ABC'} -- The first three characters of the document (index 0 - 60). \n",
    "f3_num = [ch.index(text[0]), ch.index(text[1]), ch.index(text[2])]\n",
    "for i in f3_num:\n",
    "    counts_enc.load_bits(i, 6)\n",
    "\n",
    "print('p2: ', len(f3_num), len(counts_enc.byte_store))\n",
    "\n",
    "# p3_arr = c2_non0[1][:], add 61 for unclear boundaries\n",
    "p3_arr = np2D_to_list1D(c2_non0[1][:], c2_non0[0][:], 61)\n",
    "for i in p3_arr:\n",
    "    counts_enc.load_bits(i, 6)\n",
    "\n",
    "counts_enc.load_bits(61, 6)\n",
    "\n",
    "print('p3: ', len(p3_arr), len(counts_enc.byte_store))\n",
    "\n",
    "# p4_arr = c3n_non0[1][:], add 61 for unclear boundaries\n",
    "p4_arr = np2D_to_list1D(c3n_non0[1][:], c3n_non0[0][:], 61)\n",
    "for i in p4_arr:\n",
    "    counts_enc.load_bits(i, 6)\n",
    "\n",
    "counts_enc.load_bits(61, 6)\n",
    "\n",
    "print('p4: ', len(p4_arr), len(counts_enc.byte_store))\n",
    "\n",
    "# p5_arr = c4_non0[1][:], add 61 for unclear boundaries\n",
    "p5_arr = np2D_to_list1D(c4_non0[1][:], c4_non0[0][:], 61)\n",
    "for i in p5_arr:\n",
    "    counts_enc.load_bits(i, 6)\n",
    "\n",
    "counts_enc.load_bits(61, 6)\n",
    "\n",
    "print('p5: ', len(p5_arr), len(counts_enc.byte_store))\n",
    "\n",
    "# - w = (bin(max(count4)) - 2) = number of bits in max count - ternary encoding\n",
    "w = len(bin(np.max(count4))) - 2 # 2 characters are for the indication of being a binary number\n",
    "counts_enc.load_ternary(w)\n",
    "\n",
    "print('w = ', w) # I believe this is 16 here\n",
    "\n",
    "# - count4\n",
    "for i in c4_arr:\n",
    "    counts_enc.load_bits(i, w)\n",
    "\n",
    "print('p6: ', len(c4_arr), len(counts_enc.byte_store))\n",
    "\n",
    "# remove the trailing null byte if it exists\n",
    "\n",
    "#counts_enc.save_bits('count_enc_test')"
   ]
  },
  {
   "cell_type": "code",
   "execution_count": 329,
   "id": "c9131f43-04bc-4d13-a439-569fc5f5e441",
   "metadata": {},
   "outputs": [
    {
     "name": "stdout",
     "output_type": "stream",
     "text": [
      "128 1\n"
     ]
    }
   ],
   "source": [
    "print(counts_enc.byte_store[-1], counts_enc.bit_count) # also fine; but need to add functionality in future"
   ]
  },
  {
   "cell_type": "markdown",
   "id": "26e803d4-e642-4753-8ae0-49245ef5a4a3",
   "metadata": {
    "jp-MarkdownHeadingCollapsed": true
   },
   "source": [
    "# Pandas\n",
    "lets save variables to compare fully and to use for error-checking"
   ]
  },
  {
   "cell_type": "raw",
   "id": "60f17f97-34cd-46a7-8d63-3f9d8889c51b",
   "metadata": {},
   "source": [
    "import pandas as pd"
   ]
  },
  {
   "cell_type": "raw",
   "id": "54804a7e-9b8d-43f8-aeb8-808e06293592",
   "metadata": {},
   "source": [
    "c2_non0_dict = {0: c2_non0[0], 1: c2_non0[1]}\n",
    "c2_non0_pd = pd.DataFrame(c2_non0_dict)\n",
    "c2_non0_pd.to_csv(\"c2_non0.csv\")"
   ]
  },
  {
   "cell_type": "raw",
   "id": "f05f4c25-fd44-46c6-b102-f187aa68b07e",
   "metadata": {},
   "source": [
    "count4_store = pd.DataFrame(count4)\n",
    "count4_store.to_csv(\"count4.csv\")"
   ]
  },
  {
   "cell_type": "raw",
   "id": "fa6ad89b-f642-44f3-b11a-b9e2ccdccff6",
   "metadata": {},
   "source": [
    "c3_non0_dict = {0: c3_non0[0], 1: c3_non0[1], 2: c3_non0[2]}\n",
    "c3_non0_pd = pd.DataFrame(c3_non0_dict)\n",
    "c3_non0_pd.to_csv(\"c3_non0.csv\")"
   ]
  },
  {
   "cell_type": "raw",
   "id": "15bb9cb8-be32-4a8c-aa3d-e390559e537c",
   "metadata": {},
   "source": [
    "c3n_non0_dict = {0: c3n_non0[0], 1: c3n_non0[1]}\n",
    "c3n_non0_pd = pd.DataFrame(c3n_non0_dict)\n",
    "c3n_non0_pd.to_csv(\"c3n_non0.csv\")"
   ]
  },
  {
   "cell_type": "raw",
   "id": "9dad7cf2-33f2-4fc6-a580-e53680d05aff",
   "metadata": {},
   "source": [
    "c4_non0_dict = {0: c4_non0[0], 1: c4_non0[1]}\n",
    "c4_non0_pd = pd.DataFrame(c4_non0_dict)\n",
    "c4_non0_pd.to_csv(\"c4_non0.csv\")"
   ]
  },
  {
   "cell_type": "markdown",
   "id": "c5a4c7e7-0313-4420-a44b-c7abe5efb7b6",
   "metadata": {},
   "source": [
    "Dynamic version begins below. I need to update for the static version defined above. \n",
    "Now to encode the text. \n",
    "\n",
    "I need a bytearray which stores the data. I could just define an integer, however. In Python, integers have not limit to their length, so I can just push << numbers and shove on more bytes indefininitely, and use binary or to add new numbers to the end (a | b). This is really easy to add onto, while the bytearray requires being added in bytes. I can, however, store the numbers in a separate place (like an integer) and append them byte per byte when ready."
   ]
  },
  {
   "cell_type": "markdown",
   "id": "53639685-c65a-4148-9de5-f02801270d88",
   "metadata": {
    "jp-MarkdownHeadingCollapsed": true
   },
   "source": [
    "# Text Compression\n",
    "\n",
    "My assumption is that I already have the capitalization, which I will not deal with here, and the context-based probabilities, which are already loaded. Do to how I store the probabilities, I will ignore the first three characters (already recorded in the model) and work only with probabilities based on the previous three characters.\n",
    "\n",
    "I need routines to: \n",
    "{l_old, h_old, bits_old -> a, b -> h-l+1, h-l+1 / 2^n -> a+ term, b+ term -> l, h -> bin l, bin h -> enc update -> new bin l, new bin h, bits_new -> new l, new h}\n",
    " - find the counts based on the context (give context, find counts)\n",
    " - find the probabilities and borders based on the counts (give counts and char, find left and right border)\n",
    " - store bits and bytes, take bits and add it to the byte list (input array of bools, update encoding)\n",
    " - keep track of and update l, h, bits"
   ]
  },
  {
   "cell_type": "markdown",
   "id": "133040f0-53eb-417d-ae8b-9847cda51108",
   "metadata": {},
   "source": [
    "I can fix the end of file issue by adding 3 bits to the beginning, setting them to 0, then later setting them to encode how many zeros at the end of the text are not intended / don't indicate extra cycles. This prevents from needing to play around with the order of the files."
   ]
  },
  {
   "cell_type": "code",
   "execution_count": 282,
   "id": "6b416279-06a4-4d1d-9f17-f9aa28cec443",
   "metadata": {},
   "outputs": [],
   "source": [
    "# ch                             -- (character indicies)\n",
    "# count4 [num3_non0, len(ch)]    -- (our counts)\n",
    "# c3_non0[:3][:len(num3_non0)]   -- (to find the first index based on character indicies)\n",
    "\n",
    "# first 3 characters\n",
    "# f3ch (subtract 1 from each of the three)\n",
    "# context = [f3ch[0]-1, f3ch[1]-1, f3ch[2]-1]\n",
    "# push context each time (new = {0,1,2}) ... \n",
    "\n",
    "# counts = count4, context = 'XYZ', char = 'W'\n",
    "#def find_count(counts, context, char):\n",
    "#    i,j,k,m = find_indicies(context, char)\n",
    "#    return counts(ii, jj)\n",
    "\n",
    "# context = [x, y, z] char = w, where w,x,y,z are all indicies\n",
    "# I am storing the context in the form of indicies, not characters\n",
    "def find_count(counts, context, char):\n",
    "    #ii = c3_non0[0][i] #<- find X first 'X' -> k =  ch.index('X')\n",
    "    i1 = np.nonzero(c3_non0[0]==context[0])[0][0]\n",
    "    if context[0] < 60:\n",
    "        i2 = np.nonzero(c3_non0[0]==context[0]+1)[0][0] \n",
    "    else:\n",
    "        i2 = len(c3_non0[0])\n",
    "    j1 = np.nonzero(c3_non0[1][i1:i2]==context[1])[0][0] + i1\n",
    "    j2 = 0\n",
    "    j_store = np.nonzero(c3_non0[1][i1:i2]==context[1]+1)[0] #<- may be -1\n",
    "    if len(j_store) > 0:\n",
    "        j2 = np.nonzero(c3_non0[1][i1:i2]==context[1]+1)[0][0] + i1\n",
    "    else:\n",
    "        j2 = len(c3_non0[1])\n",
    "    k = np.nonzero(c3_non0[2][j1:j2]==context[2])[0][0] + j1 #<- exactly one\n",
    "\n",
    "    # check the borders here\n",
    "\n",
    "    # all the counts to the correct one, the correct count, all the counts after\n",
    "    return sum(count4[k, :char]), count4[k, char], sum(count4[k, char+1:])"
   ]
  },
  {
   "cell_type": "raw",
   "id": "d97e4efd-4401-479b-b0ae-17a9f00cd4d5",
   "metadata": {},
   "source": [
    "ind = 5000\n",
    "char1 = 10\n",
    "print(c3_non0[0][ind], c3_non0[1][ind], c3_non0[2][ind])\n",
    "print(count4[ind])\n",
    "print(find_count(count4, [c3_non0[0][ind],c3_non0[1][ind],c3_non0[2][ind]], char1))\n",
    "\n",
    "#37 33 50\n",
    "#[   0 1258    2    0    0    0    0    7    0    0    0    0   48   17\n",
    "#  224    0    0    0    0    0    0    0    0    0    0    0    2    1\n",
    "#    0    0   22    0    2   61   25  181  193  144    0    1    0  384\n",
    "#    0    0  455   42  257    1   12    0    5  836  356    0    0    0\n",
    "#    0    1    0    0    0]\n",
    "#(1267, 0, 3270)"
   ]
  },
  {
   "cell_type": "code",
   "execution_count": 315,
   "id": "412cc11a-41a2-4002-be5b-af174ed85f21",
   "metadata": {},
   "outputs": [],
   "source": [
    "# - find the probabilities and borders based on the counts (give counts, find left and right border)\n",
    "import math\n",
    "\n",
    "def find_probs(counts):\n",
    "    den = float(counts[0]+counts[1]+counts[2])\n",
    "    num1 = float(counts[0])\n",
    "    num2 = float(counts[0]+counts[1])\n",
    "    lb_fl = num1 / den\n",
    "    rb_fl = num2 / den\n",
    "    win = 2**40\n",
    "    #print(lb_fl, rb_fl, win)\n",
    "    lb = math.ceil(lb_fl * win)\n",
    "    rb = math.ceil(rb_fl * win) - 1\n",
    "    return lb, rb"
   ]
  },
  {
   "cell_type": "raw",
   "id": "02096e7f-c052-4c96-b2b2-ab62e573319b",
   "metadata": {},
   "source": [
    "ind = 5000\n",
    "char1 = 14\n",
    "counts_test = find_count(count4, [c3_non0[0][ind],c3_non0[1][ind],c3_non0[2][ind]], char1)\n",
    "print(counts_test)\n",
    "print(find_probs(counts_test))\n",
    "\n",
    "#(1332, 224, 2981)\n",
    "#(1260942570, 1472992971)"
   ]
  },
  {
   "cell_type": "code",
   "execution_count": 286,
   "id": "f28a097f-fe99-4535-bdf6-17101bfa7bf9",
   "metadata": {},
   "outputs": [],
   "source": [
    "# - store bits and bytes, take bits and add it to the byte list (input array of bools, update encoding)\n",
    "class byte_mng:\n",
    "    def __init__(self):\n",
    "        self.byte_store = [0] # here I am filling the bytes, should be integers from 0 to 255\n",
    "        self.bit_count = 0    # this is the number of bits in byte_store which are full; ensures that I don't overfill bytes and send them to the string when ready\n",
    "        self.j = 0            # counts the length of byte_store\n",
    "        \n",
    "    def load_bits(self, bits, lngth):\n",
    "        # the old bits are already shifted appropriately\n",
    "        jj = self.byte_store[self.j]\n",
    "        \n",
    "        # bit shift new bits\n",
    "        if self.bit_count < (8 - lngth): \n",
    "            ii = bits << (8 - lngth - self.bit_count)\n",
    "        elif self.bit_count == (8 - lngth):\n",
    "            ii = bits\n",
    "        else:\n",
    "            ii = bits >> (self.bit_count - 8 + lngth) # The excess will go off the end. I will encode them later.\n",
    "\n",
    "        #print(lngth, self.bit_count, jj, ii)\n",
    "        # bitwise or is the same as + in this case\n",
    "        self.byte_store[self.j] = jj | ii\n",
    "        used_bits = 8 - self.bit_count     # for when bit_count + lngth > 7\n",
    "        self.bit_count += lngth\n",
    "\n",
    "        bits_n = bits\n",
    "        lngth_n = lngth\n",
    "\n",
    "        #print(lngth, self.bit_count, jj, ii)\n",
    "        # now, to work on the next byte\n",
    "        while self.bit_count > 7:\n",
    "            #print('here')\n",
    "            self.j += 1\n",
    "            self.bit_count -=8\n",
    "            \n",
    "            # we now need to take only the right most bit_count bits and put it in ii\n",
    "            lngth_n -= used_bits\n",
    "            bits_n = bits_n % (2**lngth_n) # removes the used bits\n",
    "            if self.bit_count < 8:\n",
    "                ii = (bits_n << 8 - lngth_n)%256\n",
    "            else:\n",
    "                ii = bits_n >> (lngth_n - 8)\n",
    "                used_bits = 8\n",
    "                \n",
    "            self.byte_store.append(ii)\n",
    "            \n",
    "    def save_bits(self, filename):\n",
    "        self.byte_encode = bytearray(self.byte_store)\n",
    "        with open(filename, \"wb\") as f:\n",
    "            f.write(self.byte_encode)"
   ]
  },
  {
   "cell_type": "raw",
   "id": "c8e38a54-196e-4e70-bc8b-8dd0866235c3",
   "metadata": {},
   "source": [
    "bit_test = byte_mng()\n",
    "num = 0\n",
    "bit_test.load_bits(num, 1)\n",
    "bit_test.load_bits(1, 1)\n",
    "bit_test.load_bits(1, 1)\n",
    "print(bit_test.byte_store, bin(bit_test.byte_store[0]), len(bin(num)))\n",
    "#appears to be filling the array correctly now\n",
    "\n",
    "#[96] 0b1100000 3"
   ]
  },
  {
   "cell_type": "code",
   "execution_count": 317,
   "id": "62259f12-2a4f-409f-b084-7aded978733f",
   "metadata": {},
   "outputs": [],
   "source": [
    "# - keep track of and update l, h, bits\n",
    "# {l_old, h_old, bits_old -> a, b -> h-l+1, h-l+1 / 2^n -> a+ term, b+ term -> l, \n",
    "#  h -> bin l, bin h -> enc update -> new bin l, new bin h, bits_new -> new l, new h}\n",
    "class arith_code_mng:\n",
    "    def __init__(self, context):\n",
    "        # window size\n",
    "        self.N = 40\n",
    "        self.win_size = 2**self.N\n",
    "\n",
    "        # left and right borders\n",
    "        # I know I don't need so many, but it should be fine right now\n",
    "        self.l = 0\n",
    "        self.h = self.win_size - 1\n",
    "        self.bits = 0\n",
    "        self.lo = 0\n",
    "        self.ho = self.win_size - 1\n",
    "        self.ln = 0\n",
    "        self.hn = self.win_size - 1\n",
    "\n",
    "        # context\n",
    "        self.context = context\n",
    "        self.char = 0\n",
    "\n",
    "        # counts\n",
    "        # this is currently global\n",
    "\n",
    "        # encoding\n",
    "        self.byte_encode = byte_mng()\n",
    "\n",
    "        self.duration_static = 0\n",
    "\n",
    "    def add_character(self, char):\n",
    "        self.char = ch.index(char)\n",
    "        counts = find_count(count4, self.context, self.char)\n",
    "        a,b = find_probs(counts)\n",
    "\n",
    "        #print(\"ch: \", char, \"a,b: \", format(a, '040b'), format(b, '040b'))\n",
    "        \n",
    "\n",
    "        hl1_N = float(self.ho-self.lo+1) / float(self.win_size)\n",
    "        a_pl = math.ceil(hl1_N * a)\n",
    "        b_pl = math.ceil(hl1_N * (b + 1)) - 1\n",
    "\n",
    "        #print(\"num: \", float(self.ho-self.lo))\n",
    "        #print(format(self.window, '040b'))\n",
    "\n",
    "\n",
    "        self.l = self.lo + a_pl\n",
    "        self.h = self.lo + b_pl\n",
    "\n",
    "        #print(\"ch: \", char, \"l,h:\", format(self.l, '032b'), format(self.h, '032b'))\n",
    "\n",
    "\n",
    "        #print(\"new l, h: \", float(self.h-self.l))\n",
    "        enc_n, bit_n = self.encode() # loads bits into the bit array and records how many bits need to be removed from l and h\n",
    "        self.new_lh(enc_n, bit_n) # removes bits from l and h\n",
    "        #print(\"remove: \", float(self.hn-self.ln), enc_n, bit_n)\n",
    "\n",
    "        # updates for the next run\n",
    "        self.lo = self.ln\n",
    "        self.ho = self.hn\n",
    "        self.update_context() # so that the next context uses the current character and removes the oldest\n",
    "\n",
    "    # This appears to work properly.\n",
    "    # This loads the bits into the array and updates bits, but so far doesn't update l and h\n",
    "    def encode(self):\n",
    "        l = self.l\n",
    "        h = self.h\n",
    "\n",
    "        nbitload = 0\n",
    "        nbits = 0\n",
    "\n",
    "        #print(self.h-self.l)\n",
    "        # both l and h are N bits long\n",
    "        x = self.win_size\n",
    "        #print(l / x, h / x)\n",
    "\n",
    "        lb = 0\n",
    "        hb = 0\n",
    "        \n",
    "        for i in range(self.N):\n",
    "            #print(\"bits:\", i, lb,hb, l/x, h/x)\n",
    "            x = x // 2\n",
    "            lb = l // x\n",
    "            l = l % x\n",
    "            hb = h // x\n",
    "            h = h % x\n",
    "            #print(\"bits:\", i, lb,hb, l/x, h/x, self.bits)\n",
    "            if lb == hb:\n",
    "                self.byte_encode.load_bits(lb, 1)\n",
    "                while self.bits > 0:\n",
    "                    self.byte_encode.load_bits(not(lb),1)\n",
    "                    self.bits -= 1\n",
    "                nbitload += 1\n",
    "            else:\n",
    "                #print(i)\n",
    "                break\n",
    "\n",
    "        # the final 0s in the file\n",
    "        if nbitload == 0:\n",
    "            self.duration_static += 1\n",
    "        else:\n",
    "            self.duration_static = 0\n",
    "\n",
    "        # widening the window\n",
    "        # print(l / x, h / x)\n",
    "        for i in range(self.N - nbitload - 1):\n",
    "            x = x // 2\n",
    "            lb = l // x\n",
    "            l = l % x\n",
    "            hb = h // x\n",
    "            h = h % x\n",
    "            if lb == 1 and hb == 0:\n",
    "                nbits += 1\n",
    "                self.bits += 1\n",
    "            else:\n",
    "                break\n",
    "\n",
    "        #print(self.h-self.l, nbitload, nbits)\n",
    "        return nbitload,nbits\n",
    "\n",
    "    # again, I need to check this and check the logic\n",
    "    def new_lh(self, nbitload, nbits):\n",
    "        # removing bits\n",
    "        self.ln = (self.l << nbitload) % self.win_size\n",
    "        self.hn = (self.h << nbitload) % self.win_size\n",
    "        self.hn = self.hn | (2**nbitload - 1) # fill the end with 1s, not 0s\n",
    "\n",
    "        # widening of the window\n",
    "        if nbits > 0:\n",
    "            l_fb = (self.ln // 2**(self.N-1)) << (self.N-1)\n",
    "            h_fb = (self.hn // 2**(self.N-1)) << (self.N-1)\n",
    "            self.ln = (self.ln % 2**(self.N-1-nbits)) << nbits\n",
    "            self.hn = (self.hn % 2**(self.N-1-nbits)) << nbits\n",
    "            self.hn = self.hn | (2**nbits - 1) # fill the end with 1s, not 0s\n",
    "            # and return the first bit to the array\n",
    "            self.ln = self.ln | l_fb\n",
    "            self.hn = self.hn | h_fb\n",
    "\n",
    "    def update_context(self):\n",
    "        # This is not the most effective version of fofo list structure, but\n",
    "        # I have only 3 elements, and it is the easiest to work with. \n",
    "        # I could get only 2 updates having a number which record the start, but\n",
    "        # then I need to tell everything to access the array based on this.\n",
    "        self.context[0] = self.context[1]\n",
    "        self.context[1] = self.context[2]\n",
    "        self.context[2] = self.char\n",
    "\n",
    "    # I need error-checking here to prevent using any routines if this has already been applied\n",
    "    def finalize(self):\n",
    "        self.byte_encode.load_bits(1,1) # this is always 1, because 00, 01, 11 are the only possibilities, and 00 and 11 will already be removed.\n",
    "        if self.duration_static > 0:\n",
    "            self.byte_encode.load_bits(0, self.duration_static) # how many final characters the fraction was unchanged\n",
    "            \n",
    "        # now to finalize the bytestream\n",
    "        a = 8 - self.byte_encode.bit_count\n",
    "        # the encoding is already correct unless a = 8\n",
    "        if a == 8:\n",
    "            a = 0\n",
    "            # remove the last zero byte\n",
    "            b = self.byte_encode.byte_store.pop()\n",
    "        return a"
   ]
  },
  {
   "cell_type": "raw",
   "id": "c2d6fdfd-d848-4e0a-b4ef-e53d0fa4d285",
   "metadata": {},
   "source": [
    "context_start = [ch.index(text[0]), ch.index(text[1]), ch.index(text[2])]\n",
    "\n",
    "encoder_new = arith_code_mng(context_start)\n",
    "\n",
    "for i in text[3:2000]:\n",
    "    encoder_new.add_character(i)\n",
    "\n",
    "whitespace2 = encoder_new.finalize()\n",
    "\n",
    "encoder_new.byte_encode.save_bits('text_encode2')\n",
    "\n",
    "print(len(bytearray(encoder_new.byte_encode.byte_store)))\n",
    "print(encoder_new.duration_static)"
   ]
  },
  {
   "cell_type": "code",
   "execution_count": null,
   "id": "3e967681-7288-485f-bf59-173a0e49b190",
   "metadata": {},
   "outputs": [],
   "source": [
    "#print(bytearray(encoder_new.byte_encode.byte_store))"
   ]
  },
  {
   "cell_type": "code",
   "execution_count": 321,
   "id": "af46c9ba-924b-4ae0-acc5-ee0dbcc1413a",
   "metadata": {},
   "outputs": [
    {
     "name": "stdout",
     "output_type": "stream",
     "text": [
      "0 2\n"
     ]
    }
   ],
   "source": [
    "context_start = [ch.index(text[0]), ch.index(text[1]), ch.index(text[2])]\n",
    "\n",
    "encoder_new = arith_code_mng(context_start)\n",
    "\n",
    "for i in text[3:]:\n",
    "    encoder_new.add_character(i)\n",
    "\n",
    "whitespace2 = encoder_new.finalize()\n",
    "encoder_new.byte_encode.save_bits('text_encode') # This will be used to test the size of the compressed text once I run the algorithm. \n",
    "                                                 # I need to switch 'wb' to 'ab' for this to actually work as intended.\n",
    "print(encoder_new.duration_static, whitespace2)\n",
    "\n",
    "# I also need to add a number somewhere to indicate how many 0s are added to the end due to not being a full byte, and the size of the capitalization encoding,\n",
    "# since neither this nor the captialization encoding have a definite end (I can add an end to the capitalization only when I know the text size)"
   ]
  },
  {
   "cell_type": "code",
   "execution_count": 319,
   "id": "eaf98830-79c6-4e8f-aa5f-5be879764fb8",
   "metadata": {},
   "outputs": [
    {
     "data": {
      "text/plain": [
       "0"
      ]
     },
     "execution_count": 319,
     "metadata": {},
     "output_type": "execute_result"
    }
   ],
   "source": [
    "whitespace2"
   ]
  },
  {
   "cell_type": "code",
   "execution_count": null,
   "id": "d188e091-f191-4183-835a-f384cb82ad2c",
   "metadata": {},
   "outputs": [],
   "source": [
    "# link bits and write file\n",
    "# I need to unify all my bit writters into one, although I also need know how many zeros to add, so perhaps I should have three whitespaces and 2 3-bit numbers indicating\n",
    "# indicating the last two whitespace sizes. \n",
    "\n",
    "# First loader -- {whitespace1_size, whitespace2_size, length_of_capitalization, character_array_and_frequency_counts}\n",
    "# Second loader -- {capitalization_locations, whitespace1}\n",
    "# Third Loader -- {text_encripted, whitespace2}\n",
    "\n",
    "# It is not the most effective, but I add at most 17 bits < 3 bytes, independent of the file size"
   ]
  },
  {
   "cell_type": "markdown",
   "id": "dd18ab34-7a37-41ca-9f11-363ce76f1049",
   "metadata": {
    "jp-MarkdownHeadingCollapsed": true
   },
   "source": [
    "# Linking Files"
   ]
  },
  {
   "cell_type": "code",
   "execution_count": 333,
   "id": "f123620c-40eb-4eb2-82fb-62b5fae9abeb",
   "metadata": {},
   "outputs": [
    {
     "name": "stdout",
     "output_type": "stream",
     "text": [
      "4\n"
     ]
    }
   ],
   "source": [
    "print(counts_enc.bit_count)"
   ]
  },
  {
   "cell_type": "code",
   "execution_count": 331,
   "id": "fdf77295-4b58-4cdd-9749-a131416596f0",
   "metadata": {},
   "outputs": [],
   "source": [
    "# add the whitespace to the end of counts\n",
    "counts_enc.load_bits(whitespace2, 3)\n",
    "counts_enc.save_bits('test_counts_2')"
   ]
  },
  {
   "cell_type": "code",
   "execution_count": 304,
   "id": "0f2b9796-9741-4ee2-a3c0-e9abab6b4977",
   "metadata": {},
   "outputs": [],
   "source": [
    "# remove the trailing null byte if it exists\n",
    "# already done only for the arithmetic encoder\n",
    "if cap_bits.bit_count == 0:\n",
    "    cap_bits.byte_store.pop()\n",
    "if counts_enc.bit_count == 0:\n",
    "    counts_enc.byte_store.pop()"
   ]
  },
  {
   "cell_type": "code",
   "execution_count": 335,
   "id": "06633107-77c2-4c89-9922-9ac1ee51d5b6",
   "metadata": {},
   "outputs": [],
   "source": [
    "text_byte_array = bytearray(encoder_new.byte_encode.byte_store)\n",
    "cap_byte_array = bytearray(cap_bits.byte_store)\n",
    "count_byte_array = bytearray(counts_enc.byte_store)"
   ]
  },
  {
   "cell_type": "code",
   "execution_count": 337,
   "id": "4816f2b8-e62b-40d8-ab2a-32fc547dd4dc",
   "metadata": {},
   "outputs": [],
   "source": [
    "filename = \"full_text_encode_Gould\"\n",
    "with open(filename, \"wb\") as f:\n",
    "    f.write(count_byte_array)\n",
    "    f.write(cap_byte_array)\n",
    "    f.write(text_byte_array)"
   ]
  },
  {
   "cell_type": "markdown",
   "id": "0dd4d534-c089-4404-bf3b-2dec50ea153f",
   "metadata": {},
   "source": [
    "# Old"
   ]
  },
  {
   "cell_type": "raw",
   "id": "86943b29-7178-4fd2-a66c-0b8f21a9f0b0",
   "metadata": {},
   "source": [
    "# c_new = m / 2 ; p_a = (c_a - 1/2) / c; p_new = m / (2c)\n",
    "# Met context s already c times\n",
    "# This initializes everything at the start. \n",
    "# We actually need a tree to get this right, so that we can find our \n",
    "\n",
    "#c_numpy = np.zeros((62,62,62,61), (int)) # [i] from character array; [61] = null\n",
    "\n",
    "# c_numpy[61,61,61] = 1\n",
    "# now, do we put the nulls on the left or the right??? \n",
    "# I think the left. We check a match left to right. Most likely, we only need consistency.\n",
    "# for 'ijkm,' check -> [i,j,k]->[61,j,k]->[61,61,k]->[61,61,61]\n",
    "\n",
    "#c_arr = [0.5]\n",
    "#context = ['']\n",
    "\n",
    "#c_record = np.zeros((len(text),62,62,62,61), (int))\n",
    "\n",
    "#c_arr.append(0.5) # for adding new contexts"
   ]
  },
  {
   "cell_type": "raw",
   "id": "40babdd9-2caf-46a1-b0c2-79accace1b5b",
   "metadata": {},
   "source": [
    "#input -- counts (array)\n",
    "# i is the index of the context in the array (from 0)\n",
    "def find_probs(c_arr, i):\n",
    "    m = length(c_arr)\n",
    "    c_a = np.array(c_arr, float) - 0.5\n",
    "    c_new = float(m) / 2.0\n",
    "    if i == m:\n",
    "        p_min = 1 - c_new\n",
    "        p_max = 1\n",
    "    else:\n",
    "        p_min = sum(c_a[:i])\n",
    "        p_max = c_a[i] + p_min\n",
    "        c = sum(c_a)+c_new\n",
    "        p_min = p_min / c\n",
    "        p_max = p_max / c\n",
    "    return (p_min, p_max)"
   ]
  },
  {
   "cell_type": "raw",
   "id": "57c3bef3-cbe6-4b44-9cfb-2a2fe224f9be",
   "metadata": {},
   "source": [
    "def find_indicies(s, inp):\n",
    "    m = ch.find(inp)\n",
    "    l = len(s)\n",
    "    if l == 0:\n",
    "        i = j = k = 61\n",
    "    elif l == 1:\n",
    "        i = j = 61\n",
    "        k = ch.find(s[0])\n",
    "    elif l == 2:\n",
    "        i = 61\n",
    "        j = ch.find(s[0])\n",
    "        k = ch.find(s[1])\n",
    "    else:\n",
    "        i = ch.find(s[0])\n",
    "        j = ch.find(s[1])\n",
    "        k = ch.find(s[2])\n",
    "    return i,j,k,m\n",
    "\n",
    "def increment_count(c_numpy, s, inp):\n",
    "    i,j,k,m = find_indicies(s, inp)\n",
    "    c_numpy[i,j,k,m] += 1\n",
    "    return c_numpy\n",
    "\n",
    "def find_count(c_numpy, s, inp):\n",
    "    i,j,k,m = find_indicies(s, inp)\n",
    "    return c_numpy(i,j,k,m)\n",
    "\n",
    "#def find_nonzero(c_numpy)"
   ]
  },
  {
   "cell_type": "code",
   "execution_count": null,
   "id": "8315da4b-e987-4aba-b649-0454e4cf8b19",
   "metadata": {},
   "outputs": [],
   "source": []
  }
 ],
 "metadata": {
  "kernelspec": {
   "display_name": "Python [conda env:base] *",
   "language": "python",
   "name": "conda-base-py"
  },
  "language_info": {
   "codemirror_mode": {
    "name": "ipython",
    "version": 3
   },
   "file_extension": ".py",
   "mimetype": "text/x-python",
   "name": "python",
   "nbconvert_exporter": "python",
   "pygments_lexer": "ipython3",
   "version": "3.12.9"
  }
 },
 "nbformat": 4,
 "nbformat_minor": 5
}
