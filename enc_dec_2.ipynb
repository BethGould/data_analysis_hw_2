{
 "cells": [
  {
   "cell_type": "code",
   "execution_count": 8,
   "id": "f5e33cfd",
   "metadata": {},
   "outputs": [],
   "source": [
    "import encode\n",
    "import os\n",
    "\n",
    "filename1 = \"enwik8\"\n",
    "filename2 = 'dyn5_enwiki8'"
   ]
  },
  {
   "cell_type": "code",
   "execution_count": 9,
   "id": "c34ee548",
   "metadata": {},
   "outputs": [],
   "source": [
    "N = 64"
   ]
  },
  {
   "cell_type": "code",
   "execution_count": 10,
   "id": "f34f191d",
   "metadata": {},
   "outputs": [],
   "source": [
    "with open(filename1, 'rb') as f:\n",
    "    text = f.read()"
   ]
  },
  {
   "cell_type": "code",
   "execution_count": 11,
   "id": "07b467ce",
   "metadata": {},
   "outputs": [
    {
     "name": "stdout",
     "output_type": "stream",
     "text": [
      "4\n"
     ]
    }
   ],
   "source": [
    "print(encode.find_k(text))"
   ]
  },
  {
   "cell_type": "code",
   "execution_count": 12,
   "id": "3cf483fd",
   "metadata": {},
   "outputs": [
    {
     "data": {
      "text/plain": [
       "24329385"
      ]
     },
     "execution_count": 12,
     "metadata": {},
     "output_type": "execute_result"
    }
   ],
   "source": [
    "k = 5\n",
    "\n",
    "counts = encode.count_dynamic_k(k, new_mode=2)\n",
    "encoder_new = encode.arith_code_enc_k(counts, N)\n",
    "\n",
    "for i in text:\n",
    "    encoder_new.add_character(i)\n",
    "\n",
    "whitespace2 = encoder_new.finalize()\n",
    "\n",
    "byte_arr = [whitespace2]\n",
    "byte_arr.append(len(encoder_new.count_m.alphabet))\n",
    "if byte_arr[1] > 255: byte_arr[1] = 0\n",
    "for i in encoder_new.count_m.alphabet: byte_arr.append(i)\n",
    "\n",
    "with open(filename2, \"wb\") as f:\n",
    "    f.write(bytearray(byte_arr))\n",
    "    f.write(bytearray(encoder_new.byte_encode.byte_store))\n",
    "\n",
    "os.path.getsize(filename2)"
   ]
  },
  {
   "cell_type": "code",
   "execution_count": 13,
   "id": "d8894832",
   "metadata": {},
   "outputs": [
    {
     "name": "stdout",
     "output_type": "stream",
     "text": [
      "True\n",
      "24329385\n"
     ]
    }
   ],
   "source": [
    "counts_d = encode.count_dynamic_k(k, new_mode=2)\n",
    "byte_m = encode.byte_mng_dec()\n",
    "byte_m.load_file(filename2)\n",
    "whitespace = byte_m.read_bits(8)\n",
    "counts_d.load_alphabet_dynamic(byte_m)\n",
    "\n",
    "decoder_new = encode.arith_code_dec_k(counts_d, byte_m, whitespace, N)\n",
    "cond = decoder_new.cont()\n",
    "\n",
    "array = []\n",
    "\n",
    "while cond:\n",
    "#for i in range(lim):\n",
    "    array.append(decoder_new.remove_character())\n",
    "    cond = decoder_new.cont()\n",
    "\n",
    "byte_arr = bytearray(array)\n",
    "\n",
    "len_end = min(len(text), len(array))\n",
    "print(bytearray(array)[:len_end]== text[:len_end])\n",
    "print(len(byte_m.byte_store))"
   ]
  },
  {
   "cell_type": "code",
   "execution_count": 14,
   "id": "74931d3d",
   "metadata": {},
   "outputs": [],
   "source": [
    "filename2 = 'dyn6_enwiki8'"
   ]
  },
  {
   "cell_type": "code",
   "execution_count": 15,
   "id": "97b5f710",
   "metadata": {},
   "outputs": [
    {
     "data": {
      "text/plain": [
       "23483486"
      ]
     },
     "execution_count": 15,
     "metadata": {},
     "output_type": "execute_result"
    }
   ],
   "source": [
    "k = 6\n",
    "\n",
    "counts = encode.count_dynamic_k(k, new_mode=2)\n",
    "encoder_new = encode.arith_code_enc_k(counts, N)\n",
    "\n",
    "for i in text:\n",
    "    encoder_new.add_character(i)\n",
    "\n",
    "whitespace2 = encoder_new.finalize()\n",
    "\n",
    "byte_arr = [whitespace2]\n",
    "byte_arr.append(len(encoder_new.count_m.alphabet))\n",
    "if byte_arr[1] > 255: byte_arr[1] = 0\n",
    "for i in encoder_new.count_m.alphabet: byte_arr.append(i)\n",
    "\n",
    "with open(filename2, \"wb\") as f:\n",
    "    f.write(bytearray(byte_arr))\n",
    "    f.write(bytearray(encoder_new.byte_encode.byte_store))\n",
    "\n",
    "os.path.getsize(filename2)"
   ]
  },
  {
   "cell_type": "code",
   "execution_count": 16,
   "id": "73b228c3",
   "metadata": {},
   "outputs": [
    {
     "name": "stdout",
     "output_type": "stream",
     "text": [
      "True\n"
     ]
    }
   ],
   "source": [
    "counts_d = encode.count_dynamic_k(k, new_mode=2)\n",
    "byte_m = encode.byte_mng_dec()\n",
    "byte_m.load_file(filename2)\n",
    "whitespace = byte_m.read_bits(8)\n",
    "counts_d.load_alphabet_dynamic(byte_m)\n",
    "\n",
    "decoder_new = encode.arith_code_dec_k(counts_d, byte_m, whitespace, N)\n",
    "cond = decoder_new.cont()\n",
    "\n",
    "array = []\n",
    "\n",
    "while cond:\n",
    "#for i in range(lim):\n",
    "    array.append(decoder_new.remove_character())\n",
    "    cond = decoder_new.cont()\n",
    "\n",
    "byte_arr = bytearray(array)\n",
    "\n",
    "len_end = min(len(text), len(array))\n",
    "print(bytearray(array)[:len_end]== text[:len_end])"
   ]
  },
  {
   "cell_type": "code",
   "execution_count": 17,
   "id": "854f58e3",
   "metadata": {},
   "outputs": [],
   "source": [
    "filename1 = \"enwik9\"\n",
    "filename2 = 'dyn5_enwiki9'\n",
    "\n",
    "with open(filename1, 'rb') as f:\n",
    "    text = f.read()"
   ]
  },
  {
   "cell_type": "code",
   "execution_count": 18,
   "id": "5ac2c260",
   "metadata": {},
   "outputs": [
    {
     "name": "stdout",
     "output_type": "stream",
     "text": [
      "4\n"
     ]
    }
   ],
   "source": [
    "print(encode.find_k(text))"
   ]
  },
  {
   "cell_type": "code",
   "execution_count": null,
   "id": "d12ae03d",
   "metadata": {},
   "outputs": [],
   "source": [
    "k = 5\n",
    "\n",
    "counts = encode.count_dynamic_k(k, new_mode=2)\n",
    "encoder_new = encode.arith_code_enc_k(counts, N)\n",
    "\n",
    "for i in text:\n",
    "    encoder_new.add_character(i)\n",
    "\n",
    "whitespace2 = encoder_new.finalize()\n",
    "\n",
    "byte_arr = [whitespace2]\n",
    "byte_arr.append(len(encoder_new.count_m.alphabet))\n",
    "if byte_arr[1] > 255: byte_arr[1] = 0\n",
    "for i in encoder_new.count_m.alphabet: byte_arr.append(i)\n",
    "\n",
    "with open(filename2, \"wb\") as f:\n",
    "    f.write(bytearray(byte_arr))\n",
    "    f.write(bytearray(encoder_new.byte_encode.byte_store))\n",
    "\n",
    "os.path.getsize(filename2)"
   ]
  },
  {
   "cell_type": "code",
   "execution_count": null,
   "id": "779250dd",
   "metadata": {},
   "outputs": [],
   "source": [
    "counts_d = encode.count_dynamic_k(k, new_mode=2)\n",
    "byte_m = encode.byte_mng_dec()\n",
    "byte_m.load_file(filename2)\n",
    "whitespace = byte_m.read_bits(8)\n",
    "counts_d.load_alphabet_dynamic(byte_m)\n",
    "\n",
    "decoder_new = encode.arith_code_dec_k(counts_d, byte_m, whitespace, N)\n",
    "cond = decoder_new.cont()\n",
    "\n",
    "array = []\n",
    "\n",
    "while cond:\n",
    "#for i in range(lim):\n",
    "    array.append(decoder_new.remove_character())\n",
    "    cond = decoder_new.cont()\n",
    "\n",
    "byte_arr = bytearray(array)\n",
    "\n",
    "len_end = min(len(text), len(array))\n",
    "print(bytearray(array)[:len_end]== text[:len_end])"
   ]
  },
  {
   "cell_type": "code",
   "execution_count": null,
   "id": "eab1a25e",
   "metadata": {},
   "outputs": [],
   "source": [
    "filename2 = 'dyn6_enwiki9'"
   ]
  },
  {
   "cell_type": "code",
   "execution_count": null,
   "id": "e6fbca35",
   "metadata": {},
   "outputs": [],
   "source": [
    "k = 6\n",
    "\n",
    "counts = encode.count_dynamic_k(k, new_mode=2)\n",
    "encoder_new = encode.arith_code_enc_k(counts, N)\n",
    "\n",
    "for i in text:\n",
    "    encoder_new.add_character(i)\n",
    "\n",
    "whitespace2 = encoder_new.finalize()\n",
    "\n",
    "byte_arr = [whitespace2]\n",
    "byte_arr.append(len(encoder_new.count_m.alphabet))\n",
    "if byte_arr[1] > 255: byte_arr[1] = 0\n",
    "for i in encoder_new.count_m.alphabet: byte_arr.append(i)\n",
    "\n",
    "with open(filename2, \"wb\") as f:\n",
    "    f.write(bytearray(byte_arr))\n",
    "    f.write(bytearray(encoder_new.byte_encode.byte_store))\n",
    "\n",
    "os.path.getsize(filename2)"
   ]
  },
  {
   "cell_type": "code",
   "execution_count": null,
   "id": "0a6b17ce",
   "metadata": {},
   "outputs": [],
   "source": [
    "counts_d = encode.count_dynamic_k(k, new_mode=2)\n",
    "byte_m = encode.byte_mng_dec()\n",
    "byte_m.load_file(filename2)\n",
    "whitespace = byte_m.read_bits(8)\n",
    "counts_d.load_alphabet_dynamic(byte_m)\n",
    "\n",
    "decoder_new = encode.arith_code_dec_k(counts_d, byte_m, whitespace, N)\n",
    "cond = decoder_new.cont()\n",
    "\n",
    "array = []\n",
    "\n",
    "while cond:\n",
    "#for i in range(lim):\n",
    "    array.append(decoder_new.remove_character())\n",
    "    cond = decoder_new.cont()\n",
    "\n",
    "byte_arr = bytearray(array)\n",
    "\n",
    "len_end = min(len(text), len(array))\n",
    "print(bytearray(array)[:len_end]== text[:len_end])"
   ]
  }
 ],
 "metadata": {
  "kernelspec": {
   "display_name": "base",
   "language": "python",
   "name": "python3"
  },
  "language_info": {
   "codemirror_mode": {
    "name": "ipython",
    "version": 3
   },
   "file_extension": ".py",
   "mimetype": "text/x-python",
   "name": "python",
   "nbconvert_exporter": "python",
   "pygments_lexer": "ipython3",
   "version": "3.12.9"
  }
 },
 "nbformat": 4,
 "nbformat_minor": 5
}
