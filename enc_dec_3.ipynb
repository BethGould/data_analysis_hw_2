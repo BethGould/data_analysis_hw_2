{
 "cells": [
  {
   "cell_type": "markdown",
   "id": "c8619ca9",
   "metadata": {},
   "source": [
    "# Run Code Function"
   ]
  },
  {
   "cell_type": "code",
   "execution_count": 2,
   "id": "63766ac3",
   "metadata": {},
   "outputs": [],
   "source": [
    "import encode\n",
    "import os\n",
    "import time\n",
    "\n",
    "N = 64"
   ]
  },
  {
   "cell_type": "code",
   "execution_count": 3,
   "id": "7ddda322",
   "metadata": {},
   "outputs": [],
   "source": [
    "def run_code_full():\n",
    "    update_exclusion = False\n",
    "    first_choise = False\n",
    "    print('Parameters: ', update_exclusion, first_choise)\n",
    "\n",
    "    k = 6\n",
    "    print(f'k = {k}')\n",
    "    #start_time = time.perf_counter()\n",
    "    #encode.run_encoder(filename1, filename2, k, N, update_exclusion, first_choise)\n",
    "    #stop_time = time.perf_counter()\n",
    "    #print(f'Encoder time: {(stop_time-start_time) // 60} m, {(stop_time-start_time)%60} s')\n",
    "    start_time = time.perf_counter()\n",
    "    encode.run_decoder(filename2, filename3)\n",
    "    stop_time = time.perf_counter()\n",
    "    print(f'Decoder time: {(stop_time-start_time) // 60} m, {(stop_time-start_time)%60} s')\n",
    "    print(f'File size: {os.path.getsize(filename2)} bytes')\n",
    "\n",
    "    with open(filename3, 'rb') as f:\n",
    "        text2 = f.read()\n",
    "    print(text==text2)\n",
    "\n",
    "    update_exclusion = True\n",
    "    first_choise = False\n",
    "    print('Parameters: ', update_exclusion, first_choise)\n",
    "\n",
    "    k = 6\n",
    "    print(f'k = {k}')\n",
    "    start_time = time.perf_counter()\n",
    "    encode.run_encoder(filename1, filename2, k, N, update_exclusion, first_choise)\n",
    "    stop_time = time.perf_counter()\n",
    "    print(f'Encoder time: {(stop_time-start_time) // 60} m, {(stop_time-start_time)%60} s')\n",
    "    start_time = time.perf_counter()\n",
    "    encode.run_decoder(filename2, filename3)\n",
    "    stop_time = time.perf_counter()\n",
    "    print(f'Decoder time: {(stop_time-start_time) // 60} m, {(stop_time-start_time)%60} s')\n",
    "    print(f'File size: {os.path.getsize(filename2)} bytes')\n",
    "\n",
    "    with open(filename3, 'rb') as f:\n",
    "        text2 = f.read()\n",
    "    print(text==text2)\n",
    "\n",
    "    update_exclusion = False\n",
    "    first_choise = True\n",
    "    print('Parameters: ', update_exclusion, first_choise)\n",
    "\n",
    "    k = 8\n",
    "    print(f'k = {k}')\n",
    "    start_time = time.perf_counter()\n",
    "    encode.run_encoder(filename1, filename2, k, N, update_exclusion, first_choise)\n",
    "    stop_time = time.perf_counter()\n",
    "    print(f'Encoder time: {(stop_time-start_time) // 60} m, {(stop_time-start_time)%60} s')\n",
    "    start_time = time.perf_counter()\n",
    "    encode.run_decoder(filename2, filename3)\n",
    "    stop_time = time.perf_counter()\n",
    "    print(f'Decoder time: {(stop_time-start_time) // 60} m, {(stop_time-start_time)%60} s')\n",
    "    print(f'File size: {os.path.getsize(filename2)} bytes')\n",
    "\n",
    "    with open(filename3, 'rb') as f:\n",
    "        text2 = f.read()\n",
    "    print(text==text2)\n",
    "\n",
    "    update_exclusion = True\n",
    "    first_choise = True\n",
    "    print('Parameters: ', update_exclusion, first_choise)"
   ]
  },
  {
   "cell_type": "markdown",
   "id": "ec2a01d1",
   "metadata": {},
   "source": []
  },
  {
   "cell_type": "markdown",
   "id": "36dbdcbb",
   "metadata": {},
   "source": [
    "# Wiki 8"
   ]
  },
  {
   "cell_type": "code",
   "execution_count": 4,
   "id": "d142c41d",
   "metadata": {},
   "outputs": [],
   "source": [
    "filename1 = \"enwik8\"\n",
    "filename2 = 'dyn5_enwiki8'\n",
    "filename3 = 'text_output.txt'"
   ]
  },
  {
   "cell_type": "code",
   "execution_count": 5,
   "id": "f34f191d",
   "metadata": {},
   "outputs": [],
   "source": [
    "with open(filename1, 'rb') as f:\n",
    "    text = f.read()"
   ]
  },
  {
   "cell_type": "markdown",
   "id": "fd1b2cb5",
   "metadata": {},
   "source": [
    "Parameters:  False False\n",
    "k = 5\n",
    "Encoder time: 41.0 m, 43.18823840003461 s\n",
    "Decoder time: 67.0 m, 3.6838760999962687 s\n",
    "File size: 24329387 bytes\n",
    "True\n",
    "k = 6\n",
    "Encoder time: 50.0 m, 25.0168460002169 s\n",
    "Decoder time: 73.0 m, 43.79601000016555 s\n",
    "File size: 23483488 bytes\n",
    "True\n",
    "Parameters:  True False\n",
    "k = 5\n",
    "Encoder time: 26.0 m, 58.15003570029512 s\n",
    "Decoder time: 52.0 m, 27.457269799895585 s\n",
    "File size: 24104730 bytes\n",
    "True\n",
    "k = 6\n",
    "Encoder time: 31.0 m, 23.23850279999897 s\n",
    "Decoder time: 55.0 m, 10.91346519999206 s\n",
    "File size: 23262912 bytes\n",
    "True\n",
    "Parameters:  False True\n",
    "k = 6"
   ]
  },
  {
   "cell_type": "code",
   "execution_count": 6,
   "id": "00387727",
   "metadata": {},
   "outputs": [
    {
     "name": "stdout",
     "output_type": "stream",
     "text": [
      "Parameters:  False True\n",
      "k = 6\n",
      "Encoder time: 169.0 m, 25.1202886000101 s\n",
      "Decoder time: 186.0 m, 44.98623260000022 s\n",
      "File size: 25641628 bytes\n",
      "True\n",
      "k = 7\n",
      "Encoder time: 187.0 m, 0.45467269999790005 s\n"
     ]
    },
    {
     "ename": "KeyboardInterrupt",
     "evalue": "",
     "output_type": "error",
     "traceback": [
      "\u001b[1;31m---------------------------------------------------------------------------\u001b[0m",
      "\u001b[1;31mKeyboardInterrupt\u001b[0m                         Traceback (most recent call last)",
      "Cell \u001b[1;32mIn[6], line 28\u001b[0m\n\u001b[0;32m     26\u001b[0m \u001b[38;5;28mprint\u001b[39m(\u001b[38;5;124mf\u001b[39m\u001b[38;5;124m'\u001b[39m\u001b[38;5;124mEncoder time: \u001b[39m\u001b[38;5;132;01m{\u001b[39;00m(stop_time\u001b[38;5;241m-\u001b[39mstart_time)\u001b[38;5;250m \u001b[39m\u001b[38;5;241m/\u001b[39m\u001b[38;5;241m/\u001b[39m\u001b[38;5;250m \u001b[39m\u001b[38;5;241m60\u001b[39m\u001b[38;5;132;01m}\u001b[39;00m\u001b[38;5;124m m, \u001b[39m\u001b[38;5;132;01m{\u001b[39;00m(stop_time\u001b[38;5;241m-\u001b[39mstart_time)\u001b[38;5;241m%\u001b[39m\u001b[38;5;241m60\u001b[39m\u001b[38;5;132;01m}\u001b[39;00m\u001b[38;5;124m s\u001b[39m\u001b[38;5;124m'\u001b[39m)\n\u001b[0;32m     27\u001b[0m start_time \u001b[38;5;241m=\u001b[39m time\u001b[38;5;241m.\u001b[39mperf_counter()\n\u001b[1;32m---> 28\u001b[0m encode\u001b[38;5;241m.\u001b[39mrun_decoder(filename2, filename3)\n\u001b[0;32m     29\u001b[0m stop_time \u001b[38;5;241m=\u001b[39m time\u001b[38;5;241m.\u001b[39mperf_counter()\n\u001b[0;32m     30\u001b[0m \u001b[38;5;28mprint\u001b[39m(\u001b[38;5;124mf\u001b[39m\u001b[38;5;124m'\u001b[39m\u001b[38;5;124mDecoder time: \u001b[39m\u001b[38;5;132;01m{\u001b[39;00m(stop_time\u001b[38;5;241m-\u001b[39mstart_time)\u001b[38;5;250m \u001b[39m\u001b[38;5;241m/\u001b[39m\u001b[38;5;241m/\u001b[39m\u001b[38;5;250m \u001b[39m\u001b[38;5;241m60\u001b[39m\u001b[38;5;132;01m}\u001b[39;00m\u001b[38;5;124m m, \u001b[39m\u001b[38;5;132;01m{\u001b[39;00m(stop_time\u001b[38;5;241m-\u001b[39mstart_time)\u001b[38;5;241m%\u001b[39m\u001b[38;5;241m60\u001b[39m\u001b[38;5;132;01m}\u001b[39;00m\u001b[38;5;124m s\u001b[39m\u001b[38;5;124m'\u001b[39m)\n",
      "File \u001b[1;32mc:\\Users\\QuanumWarrior\\Documents\\GitHub\\data_analysis_hw_2\\encode\\wrapper.py:57\u001b[0m, in \u001b[0;36mrun_decoder\u001b[1;34m(import_file, export_file)\u001b[0m\n\u001b[0;32m     53\u001b[0m array \u001b[38;5;241m=\u001b[39m []\n\u001b[0;32m     55\u001b[0m \u001b[38;5;28;01mwhile\u001b[39;00m cond:\n\u001b[0;32m     56\u001b[0m \u001b[38;5;66;03m#for i in range(lim):\u001b[39;00m\n\u001b[1;32m---> 57\u001b[0m     array\u001b[38;5;241m.\u001b[39mappend(decoder_new\u001b[38;5;241m.\u001b[39mremove_character())\n\u001b[0;32m     58\u001b[0m     cond \u001b[38;5;241m=\u001b[39m decoder_new\u001b[38;5;241m.\u001b[39mcont()\n\u001b[0;32m     60\u001b[0m \u001b[38;5;28;01mwith\u001b[39;00m \u001b[38;5;28mopen\u001b[39m(export_file, \u001b[38;5;124m\"\u001b[39m\u001b[38;5;124mwb\u001b[39m\u001b[38;5;124m\"\u001b[39m) \u001b[38;5;28;01mas\u001b[39;00m f:\n",
      "File \u001b[1;32mc:\\Users\\QuanumWarrior\\Documents\\GitHub\\data_analysis_hw_2\\encode\\ArithmeticDecoder.py:181\u001b[0m, in \u001b[0;36marith_code_dec_k.remove_character\u001b[1;34m(self)\u001b[0m\n\u001b[0;32m    178\u001b[0m     context \u001b[38;5;241m=\u001b[39m \u001b[38;5;28mself\u001b[39m\u001b[38;5;241m.\u001b[39mcontext\n\u001b[0;32m    180\u001b[0m \u001b[38;5;28;01mif\u001b[39;00m \u001b[38;5;28mself\u001b[39m\u001b[38;5;241m.\u001b[39mcount_m\u001b[38;5;241m.\u001b[39mupdate_exclusion: \u001b[38;5;28mself\u001b[39m\u001b[38;5;241m.\u001b[39mchar \u001b[38;5;241m=\u001b[39m \u001b[38;5;28mself\u001b[39m\u001b[38;5;241m.\u001b[39mcount_m\u001b[38;5;241m.\u001b[39mincrement_count_full(context, char, no_counts\u001b[38;5;241m=\u001b[39mx)\n\u001b[1;32m--> 181\u001b[0m \u001b[38;5;28;01melse\u001b[39;00m: \u001b[38;5;28mself\u001b[39m\u001b[38;5;241m.\u001b[39mchar \u001b[38;5;241m=\u001b[39m \u001b[38;5;28mself\u001b[39m\u001b[38;5;241m.\u001b[39mcount_m\u001b[38;5;241m.\u001b[39mincrement_count_full(\u001b[38;5;28mself\u001b[39m\u001b[38;5;241m.\u001b[39mcontext, char)\n\u001b[0;32m    183\u001b[0m \u001b[38;5;28mself\u001b[39m\u001b[38;5;241m.\u001b[39mupdate_context() \u001b[38;5;66;03m# so that the next context uses the current character and removes the oldest\u001b[39;00m\n\u001b[0;32m    184\u001b[0m \u001b[38;5;28;01mreturn\u001b[39;00m \u001b[38;5;28mself\u001b[39m\u001b[38;5;241m.\u001b[39mchar\n",
      "File \u001b[1;32mc:\\Users\\QuanumWarrior\\Documents\\GitHub\\data_analysis_hw_2\\encode\\CountManagement.py:394\u001b[0m, in \u001b[0;36mcount_dynamic_k.increment_count_full\u001b[1;34m(self, context, char, no_counts)\u001b[0m\n\u001b[0;32m    392\u001b[0m \u001b[38;5;28;01mif\u001b[39;00m \u001b[38;5;129;01mnot\u001b[39;00m \u001b[38;5;28mself\u001b[39m\u001b[38;5;241m.\u001b[39mupdate_exclusion:\n\u001b[0;32m    393\u001b[0m     \u001b[38;5;28;01mfor\u001b[39;00m i \u001b[38;5;129;01min\u001b[39;00m \u001b[38;5;28mrange\u001b[39m(\u001b[38;5;28mlen\u001b[39m(context)):\n\u001b[1;32m--> 394\u001b[0m         \u001b[38;5;28mself\u001b[39m\u001b[38;5;241m.\u001b[39mincrement_count(context[i:], char)\n\u001b[0;32m    395\u001b[0m     \u001b[38;5;28mself\u001b[39m\u001b[38;5;241m.\u001b[39mcounts[\u001b[38;5;28mself\u001b[39m\u001b[38;5;241m.\u001b[39malphabet\u001b[38;5;241m.\u001b[39mindex(char)] \u001b[38;5;241m+\u001b[39m\u001b[38;5;241m=\u001b[39m\u001b[38;5;241m1\u001b[39m\n\u001b[0;32m    396\u001b[0m \u001b[38;5;66;03m# this is not yet correct\u001b[39;00m\n\u001b[0;32m    397\u001b[0m \u001b[38;5;28;01melse\u001b[39;00m:\n",
      "File \u001b[1;32mc:\\Users\\QuanumWarrior\\Documents\\GitHub\\data_analysis_hw_2\\encode\\CountManagement.py:274\u001b[0m, in \u001b[0;36mcount_dynamic_k_child.increment_count\u001b[1;34m(self, context, char)\u001b[0m\n\u001b[0;32m    272\u001b[0m     \u001b[38;5;28mself\u001b[39m\u001b[38;5;241m.\u001b[39mchildren[\u001b[38;5;28mself\u001b[39m\u001b[38;5;241m.\u001b[39malphabet\u001b[38;5;241m.\u001b[39mindex(context[\u001b[38;5;241m0\u001b[39m])]\u001b[38;5;241m.\u001b[39mincrement_count([], char)\n\u001b[0;32m    273\u001b[0m \u001b[38;5;28;01melse\u001b[39;00m:\n\u001b[1;32m--> 274\u001b[0m     \u001b[38;5;28mself\u001b[39m\u001b[38;5;241m.\u001b[39mchildren[\u001b[38;5;28mself\u001b[39m\u001b[38;5;241m.\u001b[39malphabet\u001b[38;5;241m.\u001b[39mindex(context[\u001b[38;5;241m0\u001b[39m])]\u001b[38;5;241m.\u001b[39mincrement_count(context[\u001b[38;5;241m1\u001b[39m:], char)\n",
      "File \u001b[1;32mc:\\Users\\QuanumWarrior\\Documents\\GitHub\\data_analysis_hw_2\\encode\\CountManagement.py:274\u001b[0m, in \u001b[0;36mcount_dynamic_k_child.increment_count\u001b[1;34m(self, context, char)\u001b[0m\n\u001b[0;32m    272\u001b[0m     \u001b[38;5;28mself\u001b[39m\u001b[38;5;241m.\u001b[39mchildren[\u001b[38;5;28mself\u001b[39m\u001b[38;5;241m.\u001b[39malphabet\u001b[38;5;241m.\u001b[39mindex(context[\u001b[38;5;241m0\u001b[39m])]\u001b[38;5;241m.\u001b[39mincrement_count([], char)\n\u001b[0;32m    273\u001b[0m \u001b[38;5;28;01melse\u001b[39;00m:\n\u001b[1;32m--> 274\u001b[0m     \u001b[38;5;28mself\u001b[39m\u001b[38;5;241m.\u001b[39mchildren[\u001b[38;5;28mself\u001b[39m\u001b[38;5;241m.\u001b[39malphabet\u001b[38;5;241m.\u001b[39mindex(context[\u001b[38;5;241m0\u001b[39m])]\u001b[38;5;241m.\u001b[39mincrement_count(context[\u001b[38;5;241m1\u001b[39m:], char)\n",
      "File \u001b[1;32mc:\\Users\\QuanumWarrior\\Documents\\GitHub\\data_analysis_hw_2\\encode\\CountManagement.py:265\u001b[0m, in \u001b[0;36mcount_dynamic_k_child.increment_count\u001b[1;34m(self, context, char)\u001b[0m\n\u001b[0;32m    261\u001b[0m     \u001b[38;5;66;03m# while char is not guarenteed to be in the array, context[0] is\u001b[39;00m\n\u001b[0;32m    262\u001b[0m     \u001b[38;5;66;03m# and I don't increase counts here\u001b[39;00m\n\u001b[0;32m    263\u001b[0m     \u001b[38;5;28;01mreturn\u001b[39;00m \u001b[38;5;28mself\u001b[39m\u001b[38;5;241m.\u001b[39mchildren[\u001b[38;5;28mself\u001b[39m\u001b[38;5;241m.\u001b[39malphabet\u001b[38;5;241m.\u001b[39mindex(context[\u001b[38;5;241m0\u001b[39m])]\u001b[38;5;241m.\u001b[39mget_counts(context[\u001b[38;5;241m1\u001b[39m:], excl, char)\n\u001b[1;32m--> 265\u001b[0m \u001b[38;5;28;01mdef\u001b[39;00m \u001b[38;5;21mincrement_count\u001b[39m(\u001b[38;5;28mself\u001b[39m, context, char):\n\u001b[0;32m    266\u001b[0m     \u001b[38;5;28;01mif\u001b[39;00m \u001b[38;5;28mlen\u001b[39m(context) \u001b[38;5;241m==\u001b[39m \u001b[38;5;241m0\u001b[39m:\n\u001b[0;32m    267\u001b[0m         count_mng_dynamic\u001b[38;5;241m.\u001b[39mincrement_count(\u001b[38;5;28mself\u001b[39m, [], char)\n",
      "\u001b[1;31mKeyboardInterrupt\u001b[0m: "
     ]
    }
   ],
   "source": [
    "update_exclusion = False\n",
    "first_choise = True\n",
    "print('Parameters: ', update_exclusion, first_choise)\n",
    "\n",
    "k = 6\n",
    "print(f'k = {k}')\n",
    "start_time = time.perf_counter()\n",
    "encode.run_encoder(filename1, filename2, k, N, update_exclusion, first_choise)\n",
    "stop_time = time.perf_counter()\n",
    "print(f'Encoder time: {(stop_time-start_time) // 60} m, {(stop_time-start_time)%60} s')\n",
    "start_time = time.perf_counter()\n",
    "encode.run_decoder(filename2, filename3)\n",
    "stop_time = time.perf_counter()\n",
    "print(f'Decoder time: {(stop_time-start_time) // 60} m, {(stop_time-start_time)%60} s')\n",
    "print(f'File size: {os.path.getsize(filename2)} bytes')\n",
    "\n",
    "with open(filename3, 'rb') as f:\n",
    "    text2 = f.read()\n",
    "print(text==text2)\n",
    "\n",
    "k = 7\n",
    "print(f'k = {k}')\n",
    "start_time = time.perf_counter()\n",
    "encode.run_encoder(filename1, filename2, k, N, update_exclusion, first_choise)\n",
    "stop_time = time.perf_counter()\n",
    "print(f'Encoder time: {(stop_time-start_time) // 60} m, {(stop_time-start_time)%60} s')\n",
    "start_time = time.perf_counter()\n",
    "encode.run_decoder(filename2, filename3)\n",
    "stop_time = time.perf_counter()\n",
    "print(f'Decoder time: {(stop_time-start_time) // 60} m, {(stop_time-start_time)%60} s')\n",
    "print(f'File size: {os.path.getsize(filename2)} bytes')\n",
    "\n",
    "with open(filename3, 'rb') as f:\n",
    "    text2 = f.read()\n",
    "print(text==text2)"
   ]
  },
  {
   "cell_type": "code",
   "execution_count": 7,
   "id": "09e60ccc",
   "metadata": {},
   "outputs": [
    {
     "name": "stdout",
     "output_type": "stream",
     "text": [
      "File size: 24922715 bytes\n",
      "Decoder time: 200.0 m, 57.09368900000118 s\n",
      "File size: 24922715 bytes\n",
      "True\n",
      "k = 8\n",
      "Encoder time: 208.0 m, 1.518524399958551 s\n",
      "Decoder time: 217.0 m, 6.932143799960613 s\n",
      "File size: 24449917 bytes\n",
      "True\n"
     ]
    }
   ],
   "source": [
    "print(f'File size: {os.path.getsize(filename2)} bytes')\n",
    "\n",
    "start_time = time.perf_counter()\n",
    "encode.run_decoder(filename2, filename3)\n",
    "stop_time = time.perf_counter()\n",
    "print(f'Decoder time: {(stop_time-start_time) // 60} m, {(stop_time-start_time)%60} s')\n",
    "print(f'File size: {os.path.getsize(filename2)} bytes')\n",
    "\n",
    "with open(filename3, 'rb') as f:\n",
    "    text2 = f.read()\n",
    "print(text==text2)\n",
    "\n",
    "k = 8\n",
    "print(f'k = {k}')\n",
    "start_time = time.perf_counter()\n",
    "encode.run_encoder(filename1, filename2, k, N, update_exclusion, first_choise)\n",
    "stop_time = time.perf_counter()\n",
    "print(f'Encoder time: {(stop_time-start_time) // 60} m, {(stop_time-start_time)%60} s')\n",
    "start_time = time.perf_counter()\n",
    "encode.run_decoder(filename2, filename3)\n",
    "stop_time = time.perf_counter()\n",
    "print(f'Decoder time: {(stop_time-start_time) // 60} m, {(stop_time-start_time)%60} s')\n",
    "print(f'File size: {os.path.getsize(filename2)} bytes')\n",
    "\n",
    "with open(filename3, 'rb') as f:\n",
    "    text2 = f.read()\n",
    "print(text==text2)"
   ]
  },
  {
   "cell_type": "markdown",
   "id": "16d56ca0",
   "metadata": {},
   "source": [
    "# Wiki 9"
   ]
  },
  {
   "cell_type": "code",
   "execution_count": 8,
   "id": "854f58e3",
   "metadata": {},
   "outputs": [],
   "source": [
    "filename1 = \"enwik9\"\n",
    "filename2 = 'dyn5_enwiki9'\n",
    "\n",
    "with open(filename1, 'rb') as f:\n",
    "    text = f.read()"
   ]
  },
  {
   "cell_type": "code",
   "execution_count": null,
   "id": "765b8eac",
   "metadata": {},
   "outputs": [
    {
     "name": "stdout",
     "output_type": "stream",
     "text": [
      "Parameters:  False False\n",
      "k = 6\n"
     ]
    }
   ],
   "source": [
    "run_code_full()"
   ]
  },
  {
   "cell_type": "code",
   "execution_count": null,
   "id": "e2024378",
   "metadata": {},
   "outputs": [],
   "source": []
  }
 ],
 "metadata": {
  "kernelspec": {
   "display_name": "base",
   "language": "python",
   "name": "python3"
  },
  "language_info": {
   "codemirror_mode": {
    "name": "ipython",
    "version": 3
   },
   "file_extension": ".py",
   "mimetype": "text/x-python",
   "name": "python",
   "nbconvert_exporter": "python",
   "pygments_lexer": "ipython3",
   "version": "3.12.9"
  }
 },
 "nbformat": 4,
 "nbformat_minor": 5
}
