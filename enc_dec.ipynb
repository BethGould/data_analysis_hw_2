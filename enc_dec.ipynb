{
 "cells": [
  {
   "cell_type": "markdown",
   "id": "0d69b11f",
   "metadata": {},
   "source": [
    "# Text 1"
   ]
  },
  {
   "cell_type": "code",
   "execution_count": 1,
   "id": "f5e33cfd",
   "metadata": {},
   "outputs": [],
   "source": [
    "import encode\n",
    "import os\n",
    "\n",
    "filename1 = \"MrZoat_WithThisRingS01_Gould.txt\"\n",
    "filename2 = 'test_dynamic'\n",
    "N = 64\n",
    "\n",
    "with open(filename1, 'rb') as f:\n",
    "    text = f.read()"
   ]
  },
  {
   "cell_type": "code",
   "execution_count": 2,
   "id": "07b467ce",
   "metadata": {},
   "outputs": [
    {
     "name": "stdout",
     "output_type": "stream",
     "text": [
      "4\n"
     ]
    }
   ],
   "source": [
    "print(encode.find_k(text))"
   ]
  },
  {
   "cell_type": "code",
   "execution_count": 3,
   "id": "a390df65",
   "metadata": {},
   "outputs": [
    {
     "data": {
      "text/plain": [
       "1476416"
      ]
     },
     "execution_count": 3,
     "metadata": {},
     "output_type": "execute_result"
    }
   ],
   "source": [
    "k = 2\n",
    "\n",
    "counts = encode.count_dynamic_k(k, new_mode=2)\n",
    "encoder_new = encode.arith_code_enc_k(counts, N)\n",
    "\n",
    "for i in text:\n",
    "    encoder_new.add_character(i)\n",
    "\n",
    "whitespace2 = encoder_new.finalize()\n",
    "\n",
    "byte_arr = [whitespace2]\n",
    "byte_arr.append(len(encoder_new.count_m.alphabet))\n",
    "if byte_arr[1] > 255: byte_arr[1] = 0\n",
    "for i in encoder_new.count_m.alphabet: byte_arr.append(i)\n",
    "\n",
    "with open(filename2, \"wb\") as f:\n",
    "    f.write(bytearray(byte_arr))\n",
    "    f.write(bytearray(encoder_new.byte_encode.byte_store))\n",
    "\n",
    "os.path.getsize(filename2)"
   ]
  },
  {
   "cell_type": "code",
   "execution_count": 4,
   "id": "0c656cb8",
   "metadata": {},
   "outputs": [
    {
     "name": "stdout",
     "output_type": "stream",
     "text": [
      "True\n",
      "1476416\n"
     ]
    }
   ],
   "source": [
    "counts_d = encode.count_dynamic_k(k, new_mode=2)\n",
    "byte_m = encode.byte_mng_dec()\n",
    "byte_m.load_file(filename2)\n",
    "whitespace = byte_m.read_bits(8)\n",
    "counts_d.load_alphabet_dynamic(byte_m)\n",
    "\n",
    "decoder_new = encode.arith_code_dec_k(counts_d, byte_m, whitespace, N)\n",
    "cond = decoder_new.cont()\n",
    "\n",
    "array = []\n",
    "\n",
    "while cond:\n",
    "#for i in range(lim):\n",
    "    array.append(decoder_new.remove_character())\n",
    "    cond = decoder_new.cont()\n",
    "\n",
    "byte_arr = bytearray(array)\n",
    "\n",
    "len_end = min(len(text), len(array))\n",
    "print(bytearray(array)[:len_end]== text[:len_end])\n",
    "print(len(byte_m.byte_store))"
   ]
  },
  {
   "cell_type": "code",
   "execution_count": 5,
   "id": "15905563",
   "metadata": {},
   "outputs": [
    {
     "data": {
      "text/plain": [
       "1192730"
      ]
     },
     "execution_count": 5,
     "metadata": {},
     "output_type": "execute_result"
    }
   ],
   "source": [
    "k = 3\n",
    "\n",
    "counts = encode.count_dynamic_k(k, new_mode=2)\n",
    "encoder_new = encode.arith_code_enc_k(counts, N)\n",
    "\n",
    "for i in text:\n",
    "    encoder_new.add_character(i)\n",
    "\n",
    "whitespace2 = encoder_new.finalize()\n",
    "\n",
    "byte_arr = [whitespace2]\n",
    "byte_arr.append(len(encoder_new.count_m.alphabet))\n",
    "if byte_arr[1] > 255: byte_arr[1] = 0\n",
    "for i in encoder_new.count_m.alphabet: byte_arr.append(i)\n",
    "\n",
    "with open(filename2, \"wb\") as f:\n",
    "    f.write(bytearray(byte_arr))\n",
    "    f.write(bytearray(encoder_new.byte_encode.byte_store))\n",
    "\n",
    "os.path.getsize(filename2)"
   ]
  },
  {
   "cell_type": "code",
   "execution_count": 6,
   "id": "40f0f675",
   "metadata": {},
   "outputs": [
    {
     "name": "stdout",
     "output_type": "stream",
     "text": [
      "True\n",
      "1192730\n"
     ]
    }
   ],
   "source": [
    "counts_d = encode.count_dynamic_k(k, new_mode=2)\n",
    "byte_m = encode.byte_mng_dec()\n",
    "byte_m.load_file(filename2)\n",
    "whitespace = byte_m.read_bits(8)\n",
    "counts_d.load_alphabet_dynamic(byte_m)\n",
    "\n",
    "decoder_new = encode.arith_code_dec_k(counts_d, byte_m, whitespace, N)\n",
    "cond = decoder_new.cont()\n",
    "\n",
    "array = []\n",
    "\n",
    "while cond:\n",
    "#for i in range(lim):\n",
    "    array.append(decoder_new.remove_character())\n",
    "    cond = decoder_new.cont()\n",
    "\n",
    "byte_arr = bytearray(array)\n",
    "\n",
    "len_end = min(len(text), len(array))\n",
    "print(bytearray(array)[:len_end]== text[:len_end])\n",
    "print(len(byte_m.byte_store))"
   ]
  },
  {
   "cell_type": "code",
   "execution_count": 7,
   "id": "2a66c2c9",
   "metadata": {},
   "outputs": [
    {
     "data": {
      "text/plain": [
       "1058909"
      ]
     },
     "execution_count": 7,
     "metadata": {},
     "output_type": "execute_result"
    }
   ],
   "source": [
    "k = 4\n",
    "\n",
    "counts = encode.count_dynamic_k(k, new_mode=2)\n",
    "encoder_new = encode.arith_code_enc_k(counts, N)\n",
    "\n",
    "for i in text:\n",
    "    encoder_new.add_character(i)\n",
    "\n",
    "whitespace2 = encoder_new.finalize()\n",
    "\n",
    "byte_arr = [whitespace2]\n",
    "byte_arr.append(len(encoder_new.count_m.alphabet))\n",
    "if byte_arr[1] > 255: byte_arr[1] = 0\n",
    "for i in encoder_new.count_m.alphabet: byte_arr.append(i)\n",
    "\n",
    "with open(filename2, \"wb\") as f:\n",
    "    f.write(bytearray(byte_arr))\n",
    "    f.write(bytearray(encoder_new.byte_encode.byte_store))\n",
    "\n",
    "os.path.getsize(filename2)"
   ]
  },
  {
   "cell_type": "code",
   "execution_count": 8,
   "id": "6fa62cb2",
   "metadata": {},
   "outputs": [
    {
     "name": "stdout",
     "output_type": "stream",
     "text": [
      "True\n",
      "1058909\n"
     ]
    }
   ],
   "source": [
    "counts_d = encode.count_dynamic_k(k, new_mode=2)\n",
    "byte_m = encode.byte_mng_dec()\n",
    "byte_m.load_file(filename2)\n",
    "whitespace = byte_m.read_bits(8)\n",
    "counts_d.load_alphabet_dynamic(byte_m)\n",
    "\n",
    "decoder_new = encode.arith_code_dec_k(counts_d, byte_m, whitespace, N)\n",
    "cond = decoder_new.cont()\n",
    "\n",
    "array = []\n",
    "\n",
    "while cond:\n",
    "#for i in range(lim):\n",
    "    array.append(decoder_new.remove_character())\n",
    "    cond = decoder_new.cont()\n",
    "\n",
    "byte_arr = bytearray(array)\n",
    "\n",
    "len_end = min(len(text), len(array))\n",
    "print(bytearray(array)[:len_end]== text[:len_end])\n",
    "print(len(byte_m.byte_store))"
   ]
  },
  {
   "cell_type": "code",
   "execution_count": 9,
   "id": "3cf483fd",
   "metadata": {},
   "outputs": [
    {
     "data": {
      "text/plain": [
       "1017021"
      ]
     },
     "execution_count": 9,
     "metadata": {},
     "output_type": "execute_result"
    }
   ],
   "source": [
    "k = 5\n",
    "\n",
    "counts = encode.count_dynamic_k(k, new_mode=2)\n",
    "encoder_new = encode.arith_code_enc_k(counts, N)\n",
    "\n",
    "for i in text:\n",
    "    encoder_new.add_character(i)\n",
    "\n",
    "whitespace2 = encoder_new.finalize()\n",
    "\n",
    "byte_arr = [whitespace2]\n",
    "byte_arr.append(len(encoder_new.count_m.alphabet))\n",
    "if byte_arr[1] > 255: byte_arr[1] = 0\n",
    "for i in encoder_new.count_m.alphabet: byte_arr.append(i)\n",
    "\n",
    "with open(filename2, \"wb\") as f:\n",
    "    f.write(bytearray(byte_arr))\n",
    "    f.write(bytearray(encoder_new.byte_encode.byte_store))\n",
    "\n",
    "os.path.getsize(filename2)"
   ]
  },
  {
   "cell_type": "code",
   "execution_count": 10,
   "id": "d8894832",
   "metadata": {},
   "outputs": [
    {
     "name": "stdout",
     "output_type": "stream",
     "text": [
      "True\n",
      "1017021\n"
     ]
    }
   ],
   "source": [
    "counts_d = encode.count_dynamic_k(k, new_mode=2)\n",
    "byte_m = encode.byte_mng_dec()\n",
    "byte_m.load_file(filename2)\n",
    "whitespace = byte_m.read_bits(8)\n",
    "counts_d.load_alphabet_dynamic(byte_m)\n",
    "\n",
    "decoder_new = encode.arith_code_dec_k(counts_d, byte_m, whitespace, N)\n",
    "cond = decoder_new.cont()\n",
    "\n",
    "array = []\n",
    "\n",
    "while cond:\n",
    "#for i in range(lim):\n",
    "    array.append(decoder_new.remove_character())\n",
    "    cond = decoder_new.cont()\n",
    "\n",
    "byte_arr = bytearray(array)\n",
    "\n",
    "len_end = min(len(text), len(array))\n",
    "print(bytearray(array)[:len_end]== text[:len_end])\n",
    "print(len(byte_m.byte_store))"
   ]
  },
  {
   "cell_type": "code",
   "execution_count": 11,
   "id": "97b5f710",
   "metadata": {},
   "outputs": [
    {
     "data": {
      "text/plain": [
       "1012453"
      ]
     },
     "execution_count": 11,
     "metadata": {},
     "output_type": "execute_result"
    }
   ],
   "source": [
    "k = 6\n",
    "\n",
    "counts = encode.count_dynamic_k(k, new_mode=2)\n",
    "encoder_new = encode.arith_code_enc_k(counts, N)\n",
    "\n",
    "for i in text:\n",
    "    encoder_new.add_character(i)\n",
    "\n",
    "whitespace2 = encoder_new.finalize()\n",
    "\n",
    "byte_arr = [whitespace2]\n",
    "byte_arr.append(len(encoder_new.count_m.alphabet))\n",
    "if byte_arr[1] > 255: byte_arr[1] = 0\n",
    "for i in encoder_new.count_m.alphabet: byte_arr.append(i)\n",
    "\n",
    "with open(filename2, \"wb\") as f:\n",
    "    f.write(bytearray(byte_arr))\n",
    "    f.write(bytearray(encoder_new.byte_encode.byte_store))\n",
    "\n",
    "os.path.getsize(filename2)"
   ]
  },
  {
   "cell_type": "code",
   "execution_count": 12,
   "id": "73b228c3",
   "metadata": {},
   "outputs": [
    {
     "name": "stdout",
     "output_type": "stream",
     "text": [
      "True\n"
     ]
    }
   ],
   "source": [
    "counts_d = encode.count_dynamic_k(k, new_mode=2)\n",
    "byte_m = encode.byte_mng_dec()\n",
    "byte_m.load_file(filename2)\n",
    "whitespace = byte_m.read_bits(8)\n",
    "counts_d.load_alphabet_dynamic(byte_m)\n",
    "\n",
    "decoder_new = encode.arith_code_dec_k(counts_d, byte_m, whitespace, N)\n",
    "cond = decoder_new.cont()\n",
    "\n",
    "array = []\n",
    "\n",
    "while cond:\n",
    "#for i in range(lim):\n",
    "    array.append(decoder_new.remove_character())\n",
    "    cond = decoder_new.cont()\n",
    "\n",
    "byte_arr = bytearray(array)\n",
    "\n",
    "len_end = min(len(text), len(array))\n",
    "print(bytearray(array)[:len_end]== text[:len_end])"
   ]
  },
  {
   "cell_type": "code",
   "execution_count": 13,
   "id": "5e5f3c71",
   "metadata": {},
   "outputs": [
    {
     "data": {
      "text/plain": [
       "1023743"
      ]
     },
     "execution_count": 13,
     "metadata": {},
     "output_type": "execute_result"
    }
   ],
   "source": [
    "k = 7\n",
    "\n",
    "counts = encode.count_dynamic_k(k, new_mode=2)\n",
    "encoder_new = encode.arith_code_enc_k(counts, N)\n",
    "\n",
    "for i in text:\n",
    "    encoder_new.add_character(i)\n",
    "\n",
    "whitespace2 = encoder_new.finalize()\n",
    "\n",
    "byte_arr = [whitespace2]\n",
    "byte_arr.append(len(encoder_new.count_m.alphabet))\n",
    "if byte_arr[1] > 255: byte_arr[1] = 0\n",
    "for i in encoder_new.count_m.alphabet: byte_arr.append(i)\n",
    "\n",
    "with open(filename2, \"wb\") as f:\n",
    "    f.write(bytearray(byte_arr))\n",
    "    f.write(bytearray(encoder_new.byte_encode.byte_store))\n",
    "\n",
    "os.path.getsize(filename2)"
   ]
  },
  {
   "cell_type": "code",
   "execution_count": 14,
   "id": "80d6bcdf",
   "metadata": {},
   "outputs": [
    {
     "name": "stdout",
     "output_type": "stream",
     "text": [
      "True\n"
     ]
    }
   ],
   "source": [
    "counts_d = encode.count_dynamic_k(k, new_mode=2)\n",
    "byte_m = encode.byte_mng_dec()\n",
    "byte_m.load_file(filename2)\n",
    "whitespace = byte_m.read_bits(8)\n",
    "counts_d.load_alphabet_dynamic(byte_m)\n",
    "\n",
    "decoder_new = encode.arith_code_dec_k(counts_d, byte_m, whitespace, N)\n",
    "cond = decoder_new.cont()\n",
    "\n",
    "array = []\n",
    "\n",
    "while cond:\n",
    "#for i in range(lim):\n",
    "    array.append(decoder_new.remove_character())\n",
    "    cond = decoder_new.cont()\n",
    "\n",
    "byte_arr = bytearray(array)\n",
    "\n",
    "len_end = min(len(text), len(array))\n",
    "print(bytearray(array)[:len_end]== text[:len_end])"
   ]
  },
  {
   "cell_type": "code",
   "execution_count": 15,
   "id": "432fed5d",
   "metadata": {},
   "outputs": [
    {
     "data": {
      "text/plain": [
       "1040281"
      ]
     },
     "execution_count": 15,
     "metadata": {},
     "output_type": "execute_result"
    }
   ],
   "source": [
    "k = 8\n",
    "\n",
    "counts = encode.count_dynamic_k(k, new_mode=2)\n",
    "encoder_new = encode.arith_code_enc_k(counts, N)\n",
    "\n",
    "for i in text:\n",
    "    encoder_new.add_character(i)\n",
    "\n",
    "whitespace2 = encoder_new.finalize()\n",
    "\n",
    "byte_arr = [whitespace2]\n",
    "byte_arr.append(len(encoder_new.count_m.alphabet))\n",
    "if byte_arr[1] > 255: byte_arr[1] = 0\n",
    "for i in encoder_new.count_m.alphabet: byte_arr.append(i)\n",
    "\n",
    "with open(filename2, \"wb\") as f:\n",
    "    f.write(bytearray(byte_arr))\n",
    "    f.write(bytearray(encoder_new.byte_encode.byte_store))\n",
    "\n",
    "os.path.getsize(filename2)"
   ]
  },
  {
   "cell_type": "code",
   "execution_count": 16,
   "id": "98d83359",
   "metadata": {},
   "outputs": [
    {
     "name": "stdout",
     "output_type": "stream",
     "text": [
      "True\n"
     ]
    }
   ],
   "source": [
    "counts_d = encode.count_dynamic_k(k, new_mode=2)\n",
    "byte_m = encode.byte_mng_dec()\n",
    "byte_m.load_file(filename2)\n",
    "whitespace = byte_m.read_bits(8)\n",
    "counts_d.load_alphabet_dynamic(byte_m)\n",
    "\n",
    "decoder_new = encode.arith_code_dec_k(counts_d, byte_m, whitespace, N)\n",
    "cond = decoder_new.cont()\n",
    "\n",
    "array = []\n",
    "\n",
    "while cond:\n",
    "#for i in range(lim):\n",
    "    array.append(decoder_new.remove_character())\n",
    "    cond = decoder_new.cont()\n",
    "\n",
    "byte_arr = bytearray(array)\n",
    "\n",
    "len_end = min(len(text), len(array))\n",
    "print(bytearray(array)[:len_end]== text[:len_end])"
   ]
  },
  {
   "cell_type": "markdown",
   "id": "1a58d80e",
   "metadata": {},
   "source": [
    "# Text 2"
   ]
  },
  {
   "cell_type": "code",
   "execution_count": 17,
   "id": "f5e33cfd",
   "metadata": {},
   "outputs": [],
   "source": [
    "filename1 = \"Mr.-Zoat-With-This-Ring-S02.txt\"\n",
    "filename2 = 'test_dynamic'\n",
    "N = 64\n",
    "\n",
    "with open(filename1, 'rb') as f:\n",
    "    text = f.read()"
   ]
  },
  {
   "cell_type": "code",
   "execution_count": 18,
   "id": "07b467ce",
   "metadata": {},
   "outputs": [
    {
     "name": "stdout",
     "output_type": "stream",
     "text": [
      "4\n"
     ]
    }
   ],
   "source": [
    "print(encode.find_k(text))"
   ]
  },
  {
   "cell_type": "code",
   "execution_count": 19,
   "id": "a390df65",
   "metadata": {},
   "outputs": [
    {
     "data": {
      "text/plain": [
       "1990550"
      ]
     },
     "execution_count": 19,
     "metadata": {},
     "output_type": "execute_result"
    }
   ],
   "source": [
    "k = 2\n",
    "\n",
    "counts = encode.count_dynamic_k(k, new_mode=2)\n",
    "encoder_new = encode.arith_code_enc_k(counts, N)\n",
    "\n",
    "for i in text:\n",
    "    encoder_new.add_character(i)\n",
    "\n",
    "whitespace2 = encoder_new.finalize()\n",
    "\n",
    "byte_arr = [whitespace2]\n",
    "byte_arr.append(len(encoder_new.count_m.alphabet))\n",
    "if byte_arr[1] > 255: byte_arr[1] = 0\n",
    "for i in encoder_new.count_m.alphabet: byte_arr.append(i)\n",
    "\n",
    "with open(filename2, \"wb\") as f:\n",
    "    f.write(bytearray(byte_arr))\n",
    "    f.write(bytearray(encoder_new.byte_encode.byte_store))\n",
    "\n",
    "os.path.getsize(filename2)"
   ]
  },
  {
   "cell_type": "code",
   "execution_count": 20,
   "id": "0c656cb8",
   "metadata": {},
   "outputs": [
    {
     "name": "stdout",
     "output_type": "stream",
     "text": [
      "True\n",
      "1990550\n"
     ]
    }
   ],
   "source": [
    "counts_d = encode.count_dynamic_k(k, new_mode=2)\n",
    "byte_m = encode.byte_mng_dec()\n",
    "byte_m.load_file(filename2)\n",
    "whitespace = byte_m.read_bits(8)\n",
    "counts_d.load_alphabet_dynamic(byte_m)\n",
    "\n",
    "decoder_new = encode.arith_code_dec_k(counts_d, byte_m, whitespace, N)\n",
    "cond = decoder_new.cont()\n",
    "\n",
    "array = []\n",
    "\n",
    "while cond:\n",
    "#for i in range(lim):\n",
    "    array.append(decoder_new.remove_character())\n",
    "    cond = decoder_new.cont()\n",
    "\n",
    "byte_arr = bytearray(array)\n",
    "\n",
    "len_end = min(len(text), len(array))\n",
    "print(bytearray(array)[:len_end]== text[:len_end])\n",
    "print(len(byte_m.byte_store))"
   ]
  },
  {
   "cell_type": "code",
   "execution_count": 21,
   "id": "15905563",
   "metadata": {},
   "outputs": [
    {
     "data": {
      "text/plain": [
       "1593626"
      ]
     },
     "execution_count": 21,
     "metadata": {},
     "output_type": "execute_result"
    }
   ],
   "source": [
    "k = 3\n",
    "\n",
    "counts = encode.count_dynamic_k(k, new_mode=2)\n",
    "encoder_new = encode.arith_code_enc_k(counts, N)\n",
    "\n",
    "for i in text:\n",
    "    encoder_new.add_character(i)\n",
    "\n",
    "whitespace2 = encoder_new.finalize()\n",
    "\n",
    "byte_arr = [whitespace2]\n",
    "byte_arr.append(len(encoder_new.count_m.alphabet))\n",
    "if byte_arr[1] > 255: byte_arr[1] = 0\n",
    "for i in encoder_new.count_m.alphabet: byte_arr.append(i)\n",
    "\n",
    "with open(filename2, \"wb\") as f:\n",
    "    f.write(bytearray(byte_arr))\n",
    "    f.write(bytearray(encoder_new.byte_encode.byte_store))\n",
    "\n",
    "os.path.getsize(filename2)"
   ]
  },
  {
   "cell_type": "code",
   "execution_count": 22,
   "id": "40f0f675",
   "metadata": {},
   "outputs": [
    {
     "name": "stdout",
     "output_type": "stream",
     "text": [
      "True\n",
      "1593626\n"
     ]
    }
   ],
   "source": [
    "counts_d = encode.count_dynamic_k(k, new_mode=2)\n",
    "byte_m = encode.byte_mng_dec()\n",
    "byte_m.load_file(filename2)\n",
    "whitespace = byte_m.read_bits(8)\n",
    "counts_d.load_alphabet_dynamic(byte_m)\n",
    "\n",
    "decoder_new = encode.arith_code_dec_k(counts_d, byte_m, whitespace, N)\n",
    "cond = decoder_new.cont()\n",
    "\n",
    "array = []\n",
    "\n",
    "while cond:\n",
    "#for i in range(lim):\n",
    "    array.append(decoder_new.remove_character())\n",
    "    cond = decoder_new.cont()\n",
    "\n",
    "byte_arr = bytearray(array)\n",
    "\n",
    "len_end = min(len(text), len(array))\n",
    "print(bytearray(array)[:len_end]== text[:len_end])\n",
    "print(len(byte_m.byte_store))"
   ]
  },
  {
   "cell_type": "code",
   "execution_count": 23,
   "id": "2a66c2c9",
   "metadata": {},
   "outputs": [
    {
     "data": {
      "text/plain": [
       "1399465"
      ]
     },
     "execution_count": 23,
     "metadata": {},
     "output_type": "execute_result"
    }
   ],
   "source": [
    "k = 4\n",
    "\n",
    "counts = encode.count_dynamic_k(k, new_mode=2)\n",
    "encoder_new = encode.arith_code_enc_k(counts, N)\n",
    "\n",
    "for i in text:\n",
    "    encoder_new.add_character(i)\n",
    "\n",
    "whitespace2 = encoder_new.finalize()\n",
    "\n",
    "byte_arr = [whitespace2]\n",
    "byte_arr.append(len(encoder_new.count_m.alphabet))\n",
    "if byte_arr[1] > 255: byte_arr[1] = 0\n",
    "for i in encoder_new.count_m.alphabet: byte_arr.append(i)\n",
    "\n",
    "with open(filename2, \"wb\") as f:\n",
    "    f.write(bytearray(byte_arr))\n",
    "    f.write(bytearray(encoder_new.byte_encode.byte_store))\n",
    "\n",
    "os.path.getsize(filename2)"
   ]
  },
  {
   "cell_type": "code",
   "execution_count": 24,
   "id": "6fa62cb2",
   "metadata": {},
   "outputs": [
    {
     "name": "stdout",
     "output_type": "stream",
     "text": [
      "True\n",
      "1399465\n"
     ]
    }
   ],
   "source": [
    "counts_d = encode.count_dynamic_k(k, new_mode=2)\n",
    "byte_m = encode.byte_mng_dec()\n",
    "byte_m.load_file(filename2)\n",
    "whitespace = byte_m.read_bits(8)\n",
    "counts_d.load_alphabet_dynamic(byte_m)\n",
    "\n",
    "decoder_new = encode.arith_code_dec_k(counts_d, byte_m, whitespace, N)\n",
    "cond = decoder_new.cont()\n",
    "\n",
    "array = []\n",
    "\n",
    "while cond:\n",
    "#for i in range(lim):\n",
    "    array.append(decoder_new.remove_character())\n",
    "    cond = decoder_new.cont()\n",
    "\n",
    "byte_arr = bytearray(array)\n",
    "\n",
    "len_end = min(len(text), len(array))\n",
    "print(bytearray(array)[:len_end]== text[:len_end])\n",
    "print(len(byte_m.byte_store))"
   ]
  },
  {
   "cell_type": "code",
   "execution_count": 25,
   "id": "3cf483fd",
   "metadata": {},
   "outputs": [
    {
     "data": {
      "text/plain": [
       "1335544"
      ]
     },
     "execution_count": 25,
     "metadata": {},
     "output_type": "execute_result"
    }
   ],
   "source": [
    "k = 5\n",
    "\n",
    "counts = encode.count_dynamic_k(k, new_mode=2)\n",
    "encoder_new = encode.arith_code_enc_k(counts, N)\n",
    "\n",
    "for i in text:\n",
    "    encoder_new.add_character(i)\n",
    "\n",
    "whitespace2 = encoder_new.finalize()\n",
    "\n",
    "byte_arr = [whitespace2]\n",
    "byte_arr.append(len(encoder_new.count_m.alphabet))\n",
    "if byte_arr[1] > 255: byte_arr[1] = 0\n",
    "for i in encoder_new.count_m.alphabet: byte_arr.append(i)\n",
    "\n",
    "with open(filename2, \"wb\") as f:\n",
    "    f.write(bytearray(byte_arr))\n",
    "    f.write(bytearray(encoder_new.byte_encode.byte_store))\n",
    "\n",
    "os.path.getsize(filename2)"
   ]
  },
  {
   "cell_type": "code",
   "execution_count": 26,
   "id": "d8894832",
   "metadata": {},
   "outputs": [
    {
     "name": "stdout",
     "output_type": "stream",
     "text": [
      "True\n",
      "1335544\n"
     ]
    }
   ],
   "source": [
    "counts_d = encode.count_dynamic_k(k, new_mode=2)\n",
    "byte_m = encode.byte_mng_dec()\n",
    "byte_m.load_file(filename2)\n",
    "whitespace = byte_m.read_bits(8)\n",
    "counts_d.load_alphabet_dynamic(byte_m)\n",
    "\n",
    "decoder_new = encode.arith_code_dec_k(counts_d, byte_m, whitespace, N)\n",
    "cond = decoder_new.cont()\n",
    "\n",
    "array = []\n",
    "\n",
    "while cond:\n",
    "#for i in range(lim):\n",
    "    array.append(decoder_new.remove_character())\n",
    "    cond = decoder_new.cont()\n",
    "\n",
    "byte_arr = bytearray(array)\n",
    "\n",
    "len_end = min(len(text), len(array))\n",
    "print(bytearray(array)[:len_end]== text[:len_end])\n",
    "print(len(byte_m.byte_store))"
   ]
  },
  {
   "cell_type": "code",
   "execution_count": 27,
   "id": "97b5f710",
   "metadata": {},
   "outputs": [
    {
     "data": {
      "text/plain": [
       "1325093"
      ]
     },
     "execution_count": 27,
     "metadata": {},
     "output_type": "execute_result"
    }
   ],
   "source": [
    "k = 6\n",
    "\n",
    "counts = encode.count_dynamic_k(k, new_mode=2)\n",
    "encoder_new = encode.arith_code_enc_k(counts, N)\n",
    "\n",
    "for i in text:\n",
    "    encoder_new.add_character(i)\n",
    "\n",
    "whitespace2 = encoder_new.finalize()\n",
    "\n",
    "byte_arr = [whitespace2]\n",
    "byte_arr.append(len(encoder_new.count_m.alphabet))\n",
    "if byte_arr[1] > 255: byte_arr[1] = 0\n",
    "for i in encoder_new.count_m.alphabet: byte_arr.append(i)\n",
    "\n",
    "with open(filename2, \"wb\") as f:\n",
    "    f.write(bytearray(byte_arr))\n",
    "    f.write(bytearray(encoder_new.byte_encode.byte_store))\n",
    "\n",
    "os.path.getsize(filename2)"
   ]
  },
  {
   "cell_type": "code",
   "execution_count": 28,
   "id": "73b228c3",
   "metadata": {},
   "outputs": [
    {
     "name": "stdout",
     "output_type": "stream",
     "text": [
      "True\n"
     ]
    }
   ],
   "source": [
    "counts_d = encode.count_dynamic_k(k, new_mode=2)\n",
    "byte_m = encode.byte_mng_dec()\n",
    "byte_m.load_file(filename2)\n",
    "whitespace = byte_m.read_bits(8)\n",
    "counts_d.load_alphabet_dynamic(byte_m)\n",
    "\n",
    "decoder_new = encode.arith_code_dec_k(counts_d, byte_m, whitespace, N)\n",
    "cond = decoder_new.cont()\n",
    "\n",
    "array = []\n",
    "\n",
    "while cond:\n",
    "#for i in range(lim):\n",
    "    array.append(decoder_new.remove_character())\n",
    "    cond = decoder_new.cont()\n",
    "\n",
    "byte_arr = bytearray(array)\n",
    "\n",
    "len_end = min(len(text), len(array))\n",
    "print(bytearray(array)[:len_end]== text[:len_end])"
   ]
  },
  {
   "cell_type": "code",
   "execution_count": 29,
   "id": "5e5f3c71",
   "metadata": {},
   "outputs": [
    {
     "data": {
      "text/plain": [
       "1338156"
      ]
     },
     "execution_count": 29,
     "metadata": {},
     "output_type": "execute_result"
    }
   ],
   "source": [
    "k = 7\n",
    "\n",
    "counts = encode.count_dynamic_k(k, new_mode=2)\n",
    "encoder_new = encode.arith_code_enc_k(counts, N)\n",
    "\n",
    "for i in text:\n",
    "    encoder_new.add_character(i)\n",
    "\n",
    "whitespace2 = encoder_new.finalize()\n",
    "\n",
    "byte_arr = [whitespace2]\n",
    "byte_arr.append(len(encoder_new.count_m.alphabet))\n",
    "if byte_arr[1] > 255: byte_arr[1] = 0\n",
    "for i in encoder_new.count_m.alphabet: byte_arr.append(i)\n",
    "\n",
    "with open(filename2, \"wb\") as f:\n",
    "    f.write(bytearray(byte_arr))\n",
    "    f.write(bytearray(encoder_new.byte_encode.byte_store))\n",
    "\n",
    "os.path.getsize(filename2)"
   ]
  },
  {
   "cell_type": "code",
   "execution_count": 30,
   "id": "80d6bcdf",
   "metadata": {},
   "outputs": [
    {
     "name": "stdout",
     "output_type": "stream",
     "text": [
      "True\n"
     ]
    }
   ],
   "source": [
    "counts_d = encode.count_dynamic_k(k, new_mode=2)\n",
    "byte_m = encode.byte_mng_dec()\n",
    "byte_m.load_file(filename2)\n",
    "whitespace = byte_m.read_bits(8)\n",
    "counts_d.load_alphabet_dynamic(byte_m)\n",
    "\n",
    "decoder_new = encode.arith_code_dec_k(counts_d, byte_m, whitespace, N)\n",
    "cond = decoder_new.cont()\n",
    "\n",
    "array = []\n",
    "\n",
    "while cond:\n",
    "#for i in range(lim):\n",
    "    array.append(decoder_new.remove_character())\n",
    "    cond = decoder_new.cont()\n",
    "\n",
    "byte_arr = bytearray(array)\n",
    "\n",
    "len_end = min(len(text), len(array))\n",
    "print(bytearray(array)[:len_end]== text[:len_end])"
   ]
  },
  {
   "cell_type": "code",
   "execution_count": 31,
   "id": "432fed5d",
   "metadata": {},
   "outputs": [
    {
     "data": {
      "text/plain": [
       "1359464"
      ]
     },
     "execution_count": 31,
     "metadata": {},
     "output_type": "execute_result"
    }
   ],
   "source": [
    "k = 8\n",
    "\n",
    "counts = encode.count_dynamic_k(k, new_mode=2)\n",
    "encoder_new = encode.arith_code_enc_k(counts, N)\n",
    "\n",
    "for i in text:\n",
    "    encoder_new.add_character(i)\n",
    "\n",
    "whitespace2 = encoder_new.finalize()\n",
    "\n",
    "byte_arr = [whitespace2]\n",
    "byte_arr.append(len(encoder_new.count_m.alphabet))\n",
    "if byte_arr[1] > 255: byte_arr[1] = 0\n",
    "for i in encoder_new.count_m.alphabet: byte_arr.append(i)\n",
    "\n",
    "with open(filename2, \"wb\") as f:\n",
    "    f.write(bytearray(byte_arr))\n",
    "    f.write(bytearray(encoder_new.byte_encode.byte_store))\n",
    "\n",
    "os.path.getsize(filename2)"
   ]
  },
  {
   "cell_type": "code",
   "execution_count": 32,
   "id": "98d83359",
   "metadata": {},
   "outputs": [
    {
     "name": "stdout",
     "output_type": "stream",
     "text": [
      "True\n"
     ]
    }
   ],
   "source": [
    "counts_d = encode.count_dynamic_k(k, new_mode=2)\n",
    "byte_m = encode.byte_mng_dec()\n",
    "byte_m.load_file(filename2)\n",
    "whitespace = byte_m.read_bits(8)\n",
    "counts_d.load_alphabet_dynamic(byte_m)\n",
    "\n",
    "decoder_new = encode.arith_code_dec_k(counts_d, byte_m, whitespace, N)\n",
    "cond = decoder_new.cont()\n",
    "\n",
    "array = []\n",
    "\n",
    "while cond:\n",
    "#for i in range(lim):\n",
    "    array.append(decoder_new.remove_character())\n",
    "    cond = decoder_new.cont()\n",
    "\n",
    "byte_arr = bytearray(array)\n",
    "\n",
    "len_end = min(len(text), len(array))\n",
    "print(bytearray(array)[:len_end]== text[:len_end])"
   ]
  },
  {
   "cell_type": "markdown",
   "id": "bb75db5c",
   "metadata": {},
   "source": [
    "# Text 3"
   ]
  },
  {
   "cell_type": "code",
   "execution_count": 33,
   "id": "f5e33cfd",
   "metadata": {},
   "outputs": [],
   "source": [
    "filename1 = \"Mr.-Zoat-With-This-Ring-S02v2.txt\"\n",
    "filename2 = 'test_dynamic'\n",
    "N = 64\n",
    "\n",
    "with open(filename1, 'rb') as f:\n",
    "    text = f.read()"
   ]
  },
  {
   "cell_type": "code",
   "execution_count": 34,
   "id": "07b467ce",
   "metadata": {},
   "outputs": [
    {
     "name": "stdout",
     "output_type": "stream",
     "text": [
      "4\n"
     ]
    }
   ],
   "source": [
    "print(encode.find_k(text))"
   ]
  },
  {
   "cell_type": "code",
   "execution_count": 35,
   "id": "a390df65",
   "metadata": {},
   "outputs": [
    {
     "data": {
      "text/plain": [
       "1990215"
      ]
     },
     "execution_count": 35,
     "metadata": {},
     "output_type": "execute_result"
    }
   ],
   "source": [
    "k = 2\n",
    "\n",
    "counts = encode.count_dynamic_k(k, new_mode=2)\n",
    "encoder_new = encode.arith_code_enc_k(counts, N)\n",
    "\n",
    "for i in text:\n",
    "    encoder_new.add_character(i)\n",
    "\n",
    "whitespace2 = encoder_new.finalize()\n",
    "\n",
    "byte_arr = [whitespace2]\n",
    "byte_arr.append(len(encoder_new.count_m.alphabet))\n",
    "if byte_arr[1] > 255: byte_arr[1] = 0\n",
    "for i in encoder_new.count_m.alphabet: byte_arr.append(i)\n",
    "\n",
    "with open(filename2, \"wb\") as f:\n",
    "    f.write(bytearray(byte_arr))\n",
    "    f.write(bytearray(encoder_new.byte_encode.byte_store))\n",
    "\n",
    "os.path.getsize(filename2)"
   ]
  },
  {
   "cell_type": "code",
   "execution_count": 36,
   "id": "0c656cb8",
   "metadata": {},
   "outputs": [
    {
     "name": "stdout",
     "output_type": "stream",
     "text": [
      "True\n",
      "1990215\n"
     ]
    }
   ],
   "source": [
    "counts_d = encode.count_dynamic_k(k, new_mode=2)\n",
    "byte_m = encode.byte_mng_dec()\n",
    "byte_m.load_file(filename2)\n",
    "whitespace = byte_m.read_bits(8)\n",
    "counts_d.load_alphabet_dynamic(byte_m)\n",
    "\n",
    "decoder_new = encode.arith_code_dec_k(counts_d, byte_m, whitespace, N)\n",
    "cond = decoder_new.cont()\n",
    "\n",
    "array = []\n",
    "\n",
    "while cond:\n",
    "#for i in range(lim):\n",
    "    array.append(decoder_new.remove_character())\n",
    "    cond = decoder_new.cont()\n",
    "\n",
    "byte_arr = bytearray(array)\n",
    "\n",
    "len_end = min(len(text), len(array))\n",
    "print(bytearray(array)[:len_end]== text[:len_end])\n",
    "print(len(byte_m.byte_store))"
   ]
  },
  {
   "cell_type": "code",
   "execution_count": 37,
   "id": "15905563",
   "metadata": {},
   "outputs": [
    {
     "data": {
      "text/plain": [
       "1593289"
      ]
     },
     "execution_count": 37,
     "metadata": {},
     "output_type": "execute_result"
    }
   ],
   "source": [
    "k = 3\n",
    "\n",
    "counts = encode.count_dynamic_k(k, new_mode=2)\n",
    "encoder_new = encode.arith_code_enc_k(counts, N)\n",
    "\n",
    "for i in text:\n",
    "    encoder_new.add_character(i)\n",
    "\n",
    "whitespace2 = encoder_new.finalize()\n",
    "\n",
    "byte_arr = [whitespace2]\n",
    "byte_arr.append(len(encoder_new.count_m.alphabet))\n",
    "if byte_arr[1] > 255: byte_arr[1] = 0\n",
    "for i in encoder_new.count_m.alphabet: byte_arr.append(i)\n",
    "\n",
    "with open(filename2, \"wb\") as f:\n",
    "    f.write(bytearray(byte_arr))\n",
    "    f.write(bytearray(encoder_new.byte_encode.byte_store))\n",
    "\n",
    "os.path.getsize(filename2)"
   ]
  },
  {
   "cell_type": "code",
   "execution_count": 38,
   "id": "40f0f675",
   "metadata": {},
   "outputs": [
    {
     "name": "stdout",
     "output_type": "stream",
     "text": [
      "True\n",
      "1593289\n"
     ]
    }
   ],
   "source": [
    "counts_d = encode.count_dynamic_k(k, new_mode=2)\n",
    "byte_m = encode.byte_mng_dec()\n",
    "byte_m.load_file(filename2)\n",
    "whitespace = byte_m.read_bits(8)\n",
    "counts_d.load_alphabet_dynamic(byte_m)\n",
    "\n",
    "decoder_new = encode.arith_code_dec_k(counts_d, byte_m, whitespace, N)\n",
    "cond = decoder_new.cont()\n",
    "\n",
    "array = []\n",
    "\n",
    "while cond:\n",
    "#for i in range(lim):\n",
    "    array.append(decoder_new.remove_character())\n",
    "    cond = decoder_new.cont()\n",
    "\n",
    "byte_arr = bytearray(array)\n",
    "\n",
    "len_end = min(len(text), len(array))\n",
    "print(bytearray(array)[:len_end]== text[:len_end])\n",
    "print(len(byte_m.byte_store))"
   ]
  },
  {
   "cell_type": "code",
   "execution_count": 39,
   "id": "2a66c2c9",
   "metadata": {},
   "outputs": [
    {
     "data": {
      "text/plain": [
       "1399128"
      ]
     },
     "execution_count": 39,
     "metadata": {},
     "output_type": "execute_result"
    }
   ],
   "source": [
    "k = 4\n",
    "\n",
    "counts = encode.count_dynamic_k(k, new_mode=2)\n",
    "encoder_new = encode.arith_code_enc_k(counts, N)\n",
    "\n",
    "for i in text:\n",
    "    encoder_new.add_character(i)\n",
    "\n",
    "whitespace2 = encoder_new.finalize()\n",
    "\n",
    "byte_arr = [whitespace2]\n",
    "byte_arr.append(len(encoder_new.count_m.alphabet))\n",
    "if byte_arr[1] > 255: byte_arr[1] = 0\n",
    "for i in encoder_new.count_m.alphabet: byte_arr.append(i)\n",
    "\n",
    "with open(filename2, \"wb\") as f:\n",
    "    f.write(bytearray(byte_arr))\n",
    "    f.write(bytearray(encoder_new.byte_encode.byte_store))\n",
    "\n",
    "os.path.getsize(filename2)"
   ]
  },
  {
   "cell_type": "code",
   "execution_count": 40,
   "id": "6fa62cb2",
   "metadata": {},
   "outputs": [
    {
     "name": "stdout",
     "output_type": "stream",
     "text": [
      "True\n",
      "1399128\n"
     ]
    }
   ],
   "source": [
    "counts_d = encode.count_dynamic_k(k, new_mode=2)\n",
    "byte_m = encode.byte_mng_dec()\n",
    "byte_m.load_file(filename2)\n",
    "whitespace = byte_m.read_bits(8)\n",
    "counts_d.load_alphabet_dynamic(byte_m)\n",
    "\n",
    "decoder_new = encode.arith_code_dec_k(counts_d, byte_m, whitespace, N)\n",
    "cond = decoder_new.cont()\n",
    "\n",
    "array = []\n",
    "\n",
    "while cond:\n",
    "#for i in range(lim):\n",
    "    array.append(decoder_new.remove_character())\n",
    "    cond = decoder_new.cont()\n",
    "\n",
    "byte_arr = bytearray(array)\n",
    "\n",
    "len_end = min(len(text), len(array))\n",
    "print(bytearray(array)[:len_end]== text[:len_end])\n",
    "print(len(byte_m.byte_store))"
   ]
  },
  {
   "cell_type": "code",
   "execution_count": 41,
   "id": "3cf483fd",
   "metadata": {},
   "outputs": [
    {
     "data": {
      "text/plain": [
       "1335207"
      ]
     },
     "execution_count": 41,
     "metadata": {},
     "output_type": "execute_result"
    }
   ],
   "source": [
    "k = 5\n",
    "\n",
    "counts = encode.count_dynamic_k(k, new_mode=2)\n",
    "encoder_new = encode.arith_code_enc_k(counts, N)\n",
    "\n",
    "for i in text:\n",
    "    encoder_new.add_character(i)\n",
    "\n",
    "whitespace2 = encoder_new.finalize()\n",
    "\n",
    "byte_arr = [whitespace2]\n",
    "byte_arr.append(len(encoder_new.count_m.alphabet))\n",
    "if byte_arr[1] > 255: byte_arr[1] = 0\n",
    "for i in encoder_new.count_m.alphabet: byte_arr.append(i)\n",
    "\n",
    "with open(filename2, \"wb\") as f:\n",
    "    f.write(bytearray(byte_arr))\n",
    "    f.write(bytearray(encoder_new.byte_encode.byte_store))\n",
    "\n",
    "os.path.getsize(filename2)"
   ]
  },
  {
   "cell_type": "code",
   "execution_count": 42,
   "id": "d8894832",
   "metadata": {},
   "outputs": [
    {
     "name": "stdout",
     "output_type": "stream",
     "text": [
      "True\n",
      "1335207\n"
     ]
    }
   ],
   "source": [
    "counts_d = encode.count_dynamic_k(k, new_mode=2)\n",
    "byte_m = encode.byte_mng_dec()\n",
    "byte_m.load_file(filename2)\n",
    "whitespace = byte_m.read_bits(8)\n",
    "counts_d.load_alphabet_dynamic(byte_m)\n",
    "\n",
    "decoder_new = encode.arith_code_dec_k(counts_d, byte_m, whitespace, N)\n",
    "cond = decoder_new.cont()\n",
    "\n",
    "array = []\n",
    "\n",
    "while cond:\n",
    "#for i in range(lim):\n",
    "    array.append(decoder_new.remove_character())\n",
    "    cond = decoder_new.cont()\n",
    "\n",
    "byte_arr = bytearray(array)\n",
    "\n",
    "len_end = min(len(text), len(array))\n",
    "print(bytearray(array)[:len_end]== text[:len_end])\n",
    "print(len(byte_m.byte_store))"
   ]
  },
  {
   "cell_type": "code",
   "execution_count": 43,
   "id": "97b5f710",
   "metadata": {},
   "outputs": [
    {
     "data": {
      "text/plain": [
       "1324756"
      ]
     },
     "execution_count": 43,
     "metadata": {},
     "output_type": "execute_result"
    }
   ],
   "source": [
    "k = 6\n",
    "\n",
    "counts = encode.count_dynamic_k(k, new_mode=2)\n",
    "encoder_new = encode.arith_code_enc_k(counts, N)\n",
    "\n",
    "for i in text:\n",
    "    encoder_new.add_character(i)\n",
    "\n",
    "whitespace2 = encoder_new.finalize()\n",
    "\n",
    "byte_arr = [whitespace2]\n",
    "byte_arr.append(len(encoder_new.count_m.alphabet))\n",
    "if byte_arr[1] > 255: byte_arr[1] = 0\n",
    "for i in encoder_new.count_m.alphabet: byte_arr.append(i)\n",
    "\n",
    "with open(filename2, \"wb\") as f:\n",
    "    f.write(bytearray(byte_arr))\n",
    "    f.write(bytearray(encoder_new.byte_encode.byte_store))\n",
    "\n",
    "os.path.getsize(filename2)"
   ]
  },
  {
   "cell_type": "code",
   "execution_count": 44,
   "id": "73b228c3",
   "metadata": {},
   "outputs": [
    {
     "name": "stdout",
     "output_type": "stream",
     "text": [
      "True\n"
     ]
    }
   ],
   "source": [
    "counts_d = encode.count_dynamic_k(k, new_mode=2)\n",
    "byte_m = encode.byte_mng_dec()\n",
    "byte_m.load_file(filename2)\n",
    "whitespace = byte_m.read_bits(8)\n",
    "counts_d.load_alphabet_dynamic(byte_m)\n",
    "\n",
    "decoder_new = encode.arith_code_dec_k(counts_d, byte_m, whitespace, N)\n",
    "cond = decoder_new.cont()\n",
    "\n",
    "array = []\n",
    "\n",
    "while cond:\n",
    "#for i in range(lim):\n",
    "    array.append(decoder_new.remove_character())\n",
    "    cond = decoder_new.cont()\n",
    "\n",
    "byte_arr = bytearray(array)\n",
    "\n",
    "len_end = min(len(text), len(array))\n",
    "print(bytearray(array)[:len_end]== text[:len_end])"
   ]
  },
  {
   "cell_type": "code",
   "execution_count": 45,
   "id": "5e5f3c71",
   "metadata": {},
   "outputs": [
    {
     "data": {
      "text/plain": [
       "1337819"
      ]
     },
     "execution_count": 45,
     "metadata": {},
     "output_type": "execute_result"
    }
   ],
   "source": [
    "k = 7\n",
    "\n",
    "counts = encode.count_dynamic_k(k, new_mode=2)\n",
    "encoder_new = encode.arith_code_enc_k(counts, N)\n",
    "\n",
    "for i in text:\n",
    "    encoder_new.add_character(i)\n",
    "\n",
    "whitespace2 = encoder_new.finalize()\n",
    "\n",
    "byte_arr = [whitespace2]\n",
    "byte_arr.append(len(encoder_new.count_m.alphabet))\n",
    "if byte_arr[1] > 255: byte_arr[1] = 0\n",
    "for i in encoder_new.count_m.alphabet: byte_arr.append(i)\n",
    "\n",
    "with open(filename2, \"wb\") as f:\n",
    "    f.write(bytearray(byte_arr))\n",
    "    f.write(bytearray(encoder_new.byte_encode.byte_store))\n",
    "\n",
    "os.path.getsize(filename2)"
   ]
  },
  {
   "cell_type": "code",
   "execution_count": 46,
   "id": "80d6bcdf",
   "metadata": {},
   "outputs": [
    {
     "name": "stdout",
     "output_type": "stream",
     "text": [
      "True\n"
     ]
    }
   ],
   "source": [
    "counts_d = encode.count_dynamic_k(k, new_mode=2)\n",
    "byte_m = encode.byte_mng_dec()\n",
    "byte_m.load_file(filename2)\n",
    "whitespace = byte_m.read_bits(8)\n",
    "counts_d.load_alphabet_dynamic(byte_m)\n",
    "\n",
    "decoder_new = encode.arith_code_dec_k(counts_d, byte_m, whitespace, N)\n",
    "cond = decoder_new.cont()\n",
    "\n",
    "array = []\n",
    "\n",
    "while cond:\n",
    "#for i in range(lim):\n",
    "    array.append(decoder_new.remove_character())\n",
    "    cond = decoder_new.cont()\n",
    "\n",
    "byte_arr = bytearray(array)\n",
    "\n",
    "len_end = min(len(text), len(array))\n",
    "print(bytearray(array)[:len_end]== text[:len_end])"
   ]
  },
  {
   "cell_type": "code",
   "execution_count": 47,
   "id": "432fed5d",
   "metadata": {},
   "outputs": [
    {
     "data": {
      "text/plain": [
       "1359126"
      ]
     },
     "execution_count": 47,
     "metadata": {},
     "output_type": "execute_result"
    }
   ],
   "source": [
    "k = 8\n",
    "\n",
    "counts = encode.count_dynamic_k(k, new_mode=2)\n",
    "encoder_new = encode.arith_code_enc_k(counts, N)\n",
    "\n",
    "for i in text:\n",
    "    encoder_new.add_character(i)\n",
    "\n",
    "whitespace2 = encoder_new.finalize()\n",
    "\n",
    "byte_arr = [whitespace2]\n",
    "byte_arr.append(len(encoder_new.count_m.alphabet))\n",
    "if byte_arr[1] > 255: byte_arr[1] = 0\n",
    "for i in encoder_new.count_m.alphabet: byte_arr.append(i)\n",
    "\n",
    "with open(filename2, \"wb\") as f:\n",
    "    f.write(bytearray(byte_arr))\n",
    "    f.write(bytearray(encoder_new.byte_encode.byte_store))\n",
    "\n",
    "os.path.getsize(filename2)"
   ]
  },
  {
   "cell_type": "code",
   "execution_count": 48,
   "id": "98d83359",
   "metadata": {},
   "outputs": [
    {
     "name": "stdout",
     "output_type": "stream",
     "text": [
      "True\n"
     ]
    }
   ],
   "source": [
    "counts_d = encode.count_dynamic_k(k, new_mode=2)\n",
    "byte_m = encode.byte_mng_dec()\n",
    "byte_m.load_file(filename2)\n",
    "whitespace = byte_m.read_bits(8)\n",
    "counts_d.load_alphabet_dynamic(byte_m)\n",
    "\n",
    "decoder_new = encode.arith_code_dec_k(counts_d, byte_m, whitespace, N)\n",
    "cond = decoder_new.cont()\n",
    "\n",
    "array = []\n",
    "\n",
    "while cond:\n",
    "#for i in range(lim):\n",
    "    array.append(decoder_new.remove_character())\n",
    "    cond = decoder_new.cont()\n",
    "\n",
    "byte_arr = bytearray(array)\n",
    "\n",
    "len_end = min(len(text), len(array))\n",
    "print(bytearray(array)[:len_end]== text[:len_end])"
   ]
  },
  {
   "cell_type": "markdown",
   "id": "7e17c318",
   "metadata": {},
   "source": [
    "# Reverse"
   ]
  },
  {
   "cell_type": "code",
   "execution_count": 49,
   "id": "f5e33cfd",
   "metadata": {},
   "outputs": [],
   "source": [
    "filename1 = \"MrZoat_WithThisRingS01_Gould.txt\"\n",
    "filename2 = 'test_dynamic'\n",
    "N = 64\n",
    "\n",
    "with open(filename1, 'rb') as f:\n",
    "    text = f.read()"
   ]
  },
  {
   "cell_type": "code",
   "execution_count": 50,
   "id": "f34f191d",
   "metadata": {},
   "outputs": [],
   "source": [
    "#text = text.lower()\n",
    "text = bytearray(text)\n",
    "bytearray.reverse(text)"
   ]
  },
  {
   "cell_type": "code",
   "execution_count": 51,
   "id": "07b467ce",
   "metadata": {},
   "outputs": [
    {
     "name": "stdout",
     "output_type": "stream",
     "text": [
      "8\n"
     ]
    }
   ],
   "source": [
    "print(encode.find_k(text))"
   ]
  },
  {
   "cell_type": "code",
   "execution_count": 52,
   "id": "a390df65",
   "metadata": {},
   "outputs": [
    {
     "data": {
      "text/plain": [
       "1476623"
      ]
     },
     "execution_count": 52,
     "metadata": {},
     "output_type": "execute_result"
    }
   ],
   "source": [
    "k = 2\n",
    "\n",
    "counts = encode.count_dynamic_k(k, new_mode=2)\n",
    "encoder_new = encode.arith_code_enc_k(counts, N)\n",
    "\n",
    "for i in text:\n",
    "    encoder_new.add_character(i)\n",
    "\n",
    "whitespace2 = encoder_new.finalize()\n",
    "\n",
    "byte_arr = [whitespace2]\n",
    "byte_arr.append(len(encoder_new.count_m.alphabet))\n",
    "if byte_arr[1] > 255: byte_arr[1] = 0\n",
    "for i in encoder_new.count_m.alphabet: byte_arr.append(i)\n",
    "\n",
    "with open(filename2, \"wb\") as f:\n",
    "    f.write(bytearray(byte_arr))\n",
    "    f.write(bytearray(encoder_new.byte_encode.byte_store))\n",
    "\n",
    "os.path.getsize(filename2)"
   ]
  },
  {
   "cell_type": "code",
   "execution_count": 53,
   "id": "0c656cb8",
   "metadata": {},
   "outputs": [
    {
     "name": "stdout",
     "output_type": "stream",
     "text": [
      "True\n",
      "1476623\n"
     ]
    }
   ],
   "source": [
    "counts_d = encode.count_dynamic_k(k, new_mode=2)\n",
    "byte_m = encode.byte_mng_dec()\n",
    "byte_m.load_file(filename2)\n",
    "whitespace = byte_m.read_bits(8)\n",
    "counts_d.load_alphabet_dynamic(byte_m)\n",
    "\n",
    "decoder_new = encode.arith_code_dec_k(counts_d, byte_m, whitespace, N)\n",
    "cond = decoder_new.cont()\n",
    "\n",
    "array = []\n",
    "\n",
    "while cond:\n",
    "#for i in range(lim):\n",
    "    array.append(decoder_new.remove_character())\n",
    "    cond = decoder_new.cont()\n",
    "\n",
    "byte_arr = bytearray(array)\n",
    "\n",
    "len_end = min(len(text), len(array))\n",
    "print(bytearray(array)[:len_end]== text[:len_end])\n",
    "print(len(byte_m.byte_store))"
   ]
  },
  {
   "cell_type": "code",
   "execution_count": 54,
   "id": "15905563",
   "metadata": {},
   "outputs": [
    {
     "data": {
      "text/plain": [
       "1193200"
      ]
     },
     "execution_count": 54,
     "metadata": {},
     "output_type": "execute_result"
    }
   ],
   "source": [
    "k = 3\n",
    "\n",
    "counts = encode.count_dynamic_k(k, new_mode=2)\n",
    "encoder_new = encode.arith_code_enc_k(counts, N)\n",
    "\n",
    "for i in text:\n",
    "    encoder_new.add_character(i)\n",
    "\n",
    "whitespace2 = encoder_new.finalize()\n",
    "\n",
    "byte_arr = [whitespace2]\n",
    "byte_arr.append(len(encoder_new.count_m.alphabet))\n",
    "if byte_arr[1] > 255: byte_arr[1] = 0\n",
    "for i in encoder_new.count_m.alphabet: byte_arr.append(i)\n",
    "\n",
    "with open(filename2, \"wb\") as f:\n",
    "    f.write(bytearray(byte_arr))\n",
    "    f.write(bytearray(encoder_new.byte_encode.byte_store))\n",
    "\n",
    "os.path.getsize(filename2)"
   ]
  },
  {
   "cell_type": "code",
   "execution_count": 55,
   "id": "40f0f675",
   "metadata": {},
   "outputs": [
    {
     "name": "stdout",
     "output_type": "stream",
     "text": [
      "True\n",
      "1193200\n"
     ]
    }
   ],
   "source": [
    "counts_d = encode.count_dynamic_k(k, new_mode=2)\n",
    "byte_m = encode.byte_mng_dec()\n",
    "byte_m.load_file(filename2)\n",
    "whitespace = byte_m.read_bits(8)\n",
    "counts_d.load_alphabet_dynamic(byte_m)\n",
    "\n",
    "decoder_new = encode.arith_code_dec_k(counts_d, byte_m, whitespace, N)\n",
    "cond = decoder_new.cont()\n",
    "\n",
    "array = []\n",
    "\n",
    "while cond:\n",
    "#for i in range(lim):\n",
    "    array.append(decoder_new.remove_character())\n",
    "    cond = decoder_new.cont()\n",
    "\n",
    "byte_arr = bytearray(array)\n",
    "\n",
    "len_end = min(len(text), len(array))\n",
    "print(bytearray(array)[:len_end]== text[:len_end])\n",
    "print(len(byte_m.byte_store))"
   ]
  },
  {
   "cell_type": "code",
   "execution_count": 56,
   "id": "2a66c2c9",
   "metadata": {},
   "outputs": [
    {
     "data": {
      "text/plain": [
       "1059650"
      ]
     },
     "execution_count": 56,
     "metadata": {},
     "output_type": "execute_result"
    }
   ],
   "source": [
    "k = 4\n",
    "\n",
    "counts = encode.count_dynamic_k(k, new_mode=2)\n",
    "encoder_new = encode.arith_code_enc_k(counts, N)\n",
    "\n",
    "for i in text:\n",
    "    encoder_new.add_character(i)\n",
    "\n",
    "whitespace2 = encoder_new.finalize()\n",
    "\n",
    "byte_arr = [whitespace2]\n",
    "byte_arr.append(len(encoder_new.count_m.alphabet))\n",
    "if byte_arr[1] > 255: byte_arr[1] = 0\n",
    "for i in encoder_new.count_m.alphabet: byte_arr.append(i)\n",
    "\n",
    "with open(filename2, \"wb\") as f:\n",
    "    f.write(bytearray(byte_arr))\n",
    "    f.write(bytearray(encoder_new.byte_encode.byte_store))\n",
    "\n",
    "os.path.getsize(filename2)"
   ]
  },
  {
   "cell_type": "code",
   "execution_count": 57,
   "id": "6fa62cb2",
   "metadata": {},
   "outputs": [
    {
     "name": "stdout",
     "output_type": "stream",
     "text": [
      "True\n",
      "1059650\n"
     ]
    }
   ],
   "source": [
    "counts_d = encode.count_dynamic_k(k, new_mode=2)\n",
    "byte_m = encode.byte_mng_dec()\n",
    "byte_m.load_file(filename2)\n",
    "whitespace = byte_m.read_bits(8)\n",
    "counts_d.load_alphabet_dynamic(byte_m)\n",
    "\n",
    "decoder_new = encode.arith_code_dec_k(counts_d, byte_m, whitespace, N)\n",
    "cond = decoder_new.cont()\n",
    "\n",
    "array = []\n",
    "\n",
    "while cond:\n",
    "#for i in range(lim):\n",
    "    array.append(decoder_new.remove_character())\n",
    "    cond = decoder_new.cont()\n",
    "\n",
    "byte_arr = bytearray(array)\n",
    "\n",
    "len_end = min(len(text), len(array))\n",
    "print(bytearray(array)[:len_end]== text[:len_end])\n",
    "print(len(byte_m.byte_store))"
   ]
  },
  {
   "cell_type": "code",
   "execution_count": 58,
   "id": "3cf483fd",
   "metadata": {},
   "outputs": [
    {
     "data": {
      "text/plain": [
       "1018142"
      ]
     },
     "execution_count": 58,
     "metadata": {},
     "output_type": "execute_result"
    }
   ],
   "source": [
    "k = 5\n",
    "\n",
    "counts = encode.count_dynamic_k(k, new_mode=2)\n",
    "encoder_new = encode.arith_code_enc_k(counts, N)\n",
    "\n",
    "for i in text:\n",
    "    encoder_new.add_character(i)\n",
    "\n",
    "whitespace2 = encoder_new.finalize()\n",
    "\n",
    "byte_arr = [whitespace2]\n",
    "byte_arr.append(len(encoder_new.count_m.alphabet))\n",
    "if byte_arr[1] > 255: byte_arr[1] = 0\n",
    "for i in encoder_new.count_m.alphabet: byte_arr.append(i)\n",
    "\n",
    "with open(filename2, \"wb\") as f:\n",
    "    f.write(bytearray(byte_arr))\n",
    "    f.write(bytearray(encoder_new.byte_encode.byte_store))\n",
    "\n",
    "os.path.getsize(filename2)"
   ]
  },
  {
   "cell_type": "code",
   "execution_count": 59,
   "id": "d8894832",
   "metadata": {},
   "outputs": [
    {
     "name": "stdout",
     "output_type": "stream",
     "text": [
      "True\n",
      "1018142\n"
     ]
    }
   ],
   "source": [
    "counts_d = encode.count_dynamic_k(k, new_mode=2)\n",
    "byte_m = encode.byte_mng_dec()\n",
    "byte_m.load_file(filename2)\n",
    "whitespace = byte_m.read_bits(8)\n",
    "counts_d.load_alphabet_dynamic(byte_m)\n",
    "\n",
    "decoder_new = encode.arith_code_dec_k(counts_d, byte_m, whitespace, N)\n",
    "cond = decoder_new.cont()\n",
    "\n",
    "array = []\n",
    "\n",
    "while cond:\n",
    "#for i in range(lim):\n",
    "    array.append(decoder_new.remove_character())\n",
    "    cond = decoder_new.cont()\n",
    "\n",
    "byte_arr = bytearray(array)\n",
    "\n",
    "len_end = min(len(text), len(array))\n",
    "print(bytearray(array)[:len_end]== text[:len_end])\n",
    "print(len(byte_m.byte_store))"
   ]
  },
  {
   "cell_type": "code",
   "execution_count": 60,
   "id": "97b5f710",
   "metadata": {},
   "outputs": [
    {
     "data": {
      "text/plain": [
       "1013572"
      ]
     },
     "execution_count": 60,
     "metadata": {},
     "output_type": "execute_result"
    }
   ],
   "source": [
    "k = 6\n",
    "\n",
    "counts = encode.count_dynamic_k(k, new_mode=2)\n",
    "encoder_new = encode.arith_code_enc_k(counts, N)\n",
    "\n",
    "for i in text:\n",
    "    encoder_new.add_character(i)\n",
    "\n",
    "whitespace2 = encoder_new.finalize()\n",
    "\n",
    "byte_arr = [whitespace2]\n",
    "byte_arr.append(len(encoder_new.count_m.alphabet))\n",
    "if byte_arr[1] > 255: byte_arr[1] = 0\n",
    "for i in encoder_new.count_m.alphabet: byte_arr.append(i)\n",
    "\n",
    "with open(filename2, \"wb\") as f:\n",
    "    f.write(bytearray(byte_arr))\n",
    "    f.write(bytearray(encoder_new.byte_encode.byte_store))\n",
    "\n",
    "os.path.getsize(filename2)"
   ]
  },
  {
   "cell_type": "code",
   "execution_count": 61,
   "id": "73b228c3",
   "metadata": {},
   "outputs": [
    {
     "name": "stdout",
     "output_type": "stream",
     "text": [
      "True\n"
     ]
    }
   ],
   "source": [
    "counts_d = encode.count_dynamic_k(k, new_mode=2)\n",
    "byte_m = encode.byte_mng_dec()\n",
    "byte_m.load_file(filename2)\n",
    "whitespace = byte_m.read_bits(8)\n",
    "counts_d.load_alphabet_dynamic(byte_m)\n",
    "\n",
    "decoder_new = encode.arith_code_dec_k(counts_d, byte_m, whitespace, N)\n",
    "cond = decoder_new.cont()\n",
    "\n",
    "array = []\n",
    "\n",
    "while cond:\n",
    "#for i in range(lim):\n",
    "    array.append(decoder_new.remove_character())\n",
    "    cond = decoder_new.cont()\n",
    "\n",
    "byte_arr = bytearray(array)\n",
    "\n",
    "len_end = min(len(text), len(array))\n",
    "print(bytearray(array)[:len_end]== text[:len_end])"
   ]
  },
  {
   "cell_type": "code",
   "execution_count": 62,
   "id": "5e5f3c71",
   "metadata": {},
   "outputs": [
    {
     "data": {
      "text/plain": [
       "1024888"
      ]
     },
     "execution_count": 62,
     "metadata": {},
     "output_type": "execute_result"
    }
   ],
   "source": [
    "k = 7\n",
    "\n",
    "counts = encode.count_dynamic_k(k, new_mode=2)\n",
    "encoder_new = encode.arith_code_enc_k(counts, N)\n",
    "\n",
    "for i in text:\n",
    "    encoder_new.add_character(i)\n",
    "\n",
    "whitespace2 = encoder_new.finalize()\n",
    "\n",
    "byte_arr = [whitespace2]\n",
    "byte_arr.append(len(encoder_new.count_m.alphabet))\n",
    "if byte_arr[1] > 255: byte_arr[1] = 0\n",
    "for i in encoder_new.count_m.alphabet: byte_arr.append(i)\n",
    "\n",
    "with open(filename2, \"wb\") as f:\n",
    "    f.write(bytearray(byte_arr))\n",
    "    f.write(bytearray(encoder_new.byte_encode.byte_store))\n",
    "\n",
    "os.path.getsize(filename2)"
   ]
  },
  {
   "cell_type": "code",
   "execution_count": 63,
   "id": "80d6bcdf",
   "metadata": {},
   "outputs": [
    {
     "name": "stdout",
     "output_type": "stream",
     "text": [
      "True\n"
     ]
    }
   ],
   "source": [
    "counts_d = encode.count_dynamic_k(k, new_mode=2)\n",
    "byte_m = encode.byte_mng_dec()\n",
    "byte_m.load_file(filename2)\n",
    "whitespace = byte_m.read_bits(8)\n",
    "counts_d.load_alphabet_dynamic(byte_m)\n",
    "\n",
    "decoder_new = encode.arith_code_dec_k(counts_d, byte_m, whitespace, N)\n",
    "cond = decoder_new.cont()\n",
    "\n",
    "array = []\n",
    "\n",
    "while cond:\n",
    "#for i in range(lim):\n",
    "    array.append(decoder_new.remove_character())\n",
    "    cond = decoder_new.cont()\n",
    "\n",
    "byte_arr = bytearray(array)\n",
    "\n",
    "len_end = min(len(text), len(array))\n",
    "print(bytearray(array)[:len_end]== text[:len_end])"
   ]
  },
  {
   "cell_type": "code",
   "execution_count": 64,
   "id": "432fed5d",
   "metadata": {},
   "outputs": [
    {
     "data": {
      "text/plain": [
       "1041179"
      ]
     },
     "execution_count": 64,
     "metadata": {},
     "output_type": "execute_result"
    }
   ],
   "source": [
    "k = 8\n",
    "\n",
    "counts = encode.count_dynamic_k(k, new_mode=2)\n",
    "encoder_new = encode.arith_code_enc_k(counts, N)\n",
    "\n",
    "for i in text:\n",
    "    encoder_new.add_character(i)\n",
    "\n",
    "whitespace2 = encoder_new.finalize()\n",
    "\n",
    "byte_arr = [whitespace2]\n",
    "byte_arr.append(len(encoder_new.count_m.alphabet))\n",
    "if byte_arr[1] > 255: byte_arr[1] = 0\n",
    "for i in encoder_new.count_m.alphabet: byte_arr.append(i)\n",
    "\n",
    "with open(filename2, \"wb\") as f:\n",
    "    f.write(bytearray(byte_arr))\n",
    "    f.write(bytearray(encoder_new.byte_encode.byte_store))\n",
    "\n",
    "os.path.getsize(filename2)"
   ]
  },
  {
   "cell_type": "code",
   "execution_count": 65,
   "id": "98d83359",
   "metadata": {},
   "outputs": [
    {
     "name": "stdout",
     "output_type": "stream",
     "text": [
      "True\n"
     ]
    }
   ],
   "source": [
    "counts_d = encode.count_dynamic_k(k, new_mode=2)\n",
    "byte_m = encode.byte_mng_dec()\n",
    "byte_m.load_file(filename2)\n",
    "whitespace = byte_m.read_bits(8)\n",
    "counts_d.load_alphabet_dynamic(byte_m)\n",
    "\n",
    "decoder_new = encode.arith_code_dec_k(counts_d, byte_m, whitespace, N)\n",
    "cond = decoder_new.cont()\n",
    "\n",
    "array = []\n",
    "\n",
    "while cond:\n",
    "#for i in range(lim):\n",
    "    array.append(decoder_new.remove_character())\n",
    "    cond = decoder_new.cont()\n",
    "\n",
    "byte_arr = bytearray(array)\n",
    "\n",
    "len_end = min(len(text), len(array))\n",
    "print(bytearray(array)[:len_end]== text[:len_end])"
   ]
  },
  {
   "cell_type": "markdown",
   "id": "9350267c",
   "metadata": {},
   "source": [
    "# Decap"
   ]
  },
  {
   "cell_type": "code",
   "execution_count": 66,
   "id": "f5e33cfd",
   "metadata": {},
   "outputs": [],
   "source": [
    "filename1 = \"MrZoat_WithThisRingS01_Gould.txt\"\n",
    "filename2 = 'test_dynamic'\n",
    "N = 64\n",
    "\n",
    "with open(filename1, 'rb') as f:\n",
    "    text = f.read()"
   ]
  },
  {
   "cell_type": "code",
   "execution_count": 67,
   "id": "f34f191d",
   "metadata": {},
   "outputs": [],
   "source": [
    "text = text.lower()"
   ]
  },
  {
   "cell_type": "code",
   "execution_count": 68,
   "id": "07b467ce",
   "metadata": {},
   "outputs": [
    {
     "name": "stdout",
     "output_type": "stream",
     "text": [
      "4\n"
     ]
    }
   ],
   "source": [
    "print(encode.find_k(text))"
   ]
  },
  {
   "cell_type": "code",
   "execution_count": 69,
   "id": "a390df65",
   "metadata": {},
   "outputs": [
    {
     "data": {
      "text/plain": [
       "1470545"
      ]
     },
     "execution_count": 69,
     "metadata": {},
     "output_type": "execute_result"
    }
   ],
   "source": [
    "k = 2\n",
    "\n",
    "counts = encode.count_dynamic_k(k, new_mode=2)\n",
    "encoder_new = encode.arith_code_enc_k(counts, N)\n",
    "\n",
    "for i in text:\n",
    "    encoder_new.add_character(i)\n",
    "\n",
    "whitespace2 = encoder_new.finalize()\n",
    "\n",
    "byte_arr = [whitespace2]\n",
    "byte_arr.append(len(encoder_new.count_m.alphabet))\n",
    "if byte_arr[1] > 255: byte_arr[1] = 0\n",
    "for i in encoder_new.count_m.alphabet: byte_arr.append(i)\n",
    "\n",
    "with open(filename2, \"wb\") as f:\n",
    "    f.write(bytearray(byte_arr))\n",
    "    f.write(bytearray(encoder_new.byte_encode.byte_store))\n",
    "\n",
    "os.path.getsize(filename2)"
   ]
  },
  {
   "cell_type": "code",
   "execution_count": 70,
   "id": "0c656cb8",
   "metadata": {},
   "outputs": [
    {
     "name": "stdout",
     "output_type": "stream",
     "text": [
      "True\n",
      "1470545\n"
     ]
    }
   ],
   "source": [
    "counts_d = encode.count_dynamic_k(k, new_mode=2)\n",
    "byte_m = encode.byte_mng_dec()\n",
    "byte_m.load_file(filename2)\n",
    "whitespace = byte_m.read_bits(8)\n",
    "counts_d.load_alphabet_dynamic(byte_m)\n",
    "\n",
    "decoder_new = encode.arith_code_dec_k(counts_d, byte_m, whitespace, N)\n",
    "cond = decoder_new.cont()\n",
    "\n",
    "array = []\n",
    "\n",
    "while cond:\n",
    "#for i in range(lim):\n",
    "    array.append(decoder_new.remove_character())\n",
    "    cond = decoder_new.cont()\n",
    "\n",
    "byte_arr = bytearray(array)\n",
    "\n",
    "len_end = min(len(text), len(array))\n",
    "print(bytearray(array)[:len_end]== text[:len_end])\n",
    "print(len(byte_m.byte_store))"
   ]
  },
  {
   "cell_type": "code",
   "execution_count": 71,
   "id": "15905563",
   "metadata": {},
   "outputs": [
    {
     "data": {
      "text/plain": [
       "1190498"
      ]
     },
     "execution_count": 71,
     "metadata": {},
     "output_type": "execute_result"
    }
   ],
   "source": [
    "k = 3\n",
    "\n",
    "counts = encode.count_dynamic_k(k, new_mode=2)\n",
    "encoder_new = encode.arith_code_enc_k(counts, N)\n",
    "\n",
    "for i in text:\n",
    "    encoder_new.add_character(i)\n",
    "\n",
    "whitespace2 = encoder_new.finalize()\n",
    "\n",
    "byte_arr = [whitespace2]\n",
    "byte_arr.append(len(encoder_new.count_m.alphabet))\n",
    "if byte_arr[1] > 255: byte_arr[1] = 0\n",
    "for i in encoder_new.count_m.alphabet: byte_arr.append(i)\n",
    "\n",
    "with open(filename2, \"wb\") as f:\n",
    "    f.write(bytearray(byte_arr))\n",
    "    f.write(bytearray(encoder_new.byte_encode.byte_store))\n",
    "\n",
    "os.path.getsize(filename2)"
   ]
  },
  {
   "cell_type": "code",
   "execution_count": 72,
   "id": "40f0f675",
   "metadata": {},
   "outputs": [
    {
     "name": "stdout",
     "output_type": "stream",
     "text": [
      "True\n",
      "1190498\n"
     ]
    }
   ],
   "source": [
    "counts_d = encode.count_dynamic_k(k, new_mode=2)\n",
    "byte_m = encode.byte_mng_dec()\n",
    "byte_m.load_file(filename2)\n",
    "whitespace = byte_m.read_bits(8)\n",
    "counts_d.load_alphabet_dynamic(byte_m)\n",
    "\n",
    "decoder_new = encode.arith_code_dec_k(counts_d, byte_m, whitespace, N)\n",
    "cond = decoder_new.cont()\n",
    "\n",
    "array = []\n",
    "\n",
    "while cond:\n",
    "#for i in range(lim):\n",
    "    array.append(decoder_new.remove_character())\n",
    "    cond = decoder_new.cont()\n",
    "\n",
    "byte_arr = bytearray(array)\n",
    "\n",
    "len_end = min(len(text), len(array))\n",
    "print(bytearray(array)[:len_end]== text[:len_end])\n",
    "print(len(byte_m.byte_store))"
   ]
  },
  {
   "cell_type": "code",
   "execution_count": 73,
   "id": "2a66c2c9",
   "metadata": {},
   "outputs": [
    {
     "data": {
      "text/plain": [
       "1057195"
      ]
     },
     "execution_count": 73,
     "metadata": {},
     "output_type": "execute_result"
    }
   ],
   "source": [
    "k = 4\n",
    "\n",
    "counts = encode.count_dynamic_k(k, new_mode=2)\n",
    "encoder_new = encode.arith_code_enc_k(counts, N)\n",
    "\n",
    "for i in text:\n",
    "    encoder_new.add_character(i)\n",
    "\n",
    "whitespace2 = encoder_new.finalize()\n",
    "\n",
    "byte_arr = [whitespace2]\n",
    "byte_arr.append(len(encoder_new.count_m.alphabet))\n",
    "if byte_arr[1] > 255: byte_arr[1] = 0\n",
    "for i in encoder_new.count_m.alphabet: byte_arr.append(i)\n",
    "\n",
    "with open(filename2, \"wb\") as f:\n",
    "    f.write(bytearray(byte_arr))\n",
    "    f.write(bytearray(encoder_new.byte_encode.byte_store))\n",
    "\n",
    "os.path.getsize(filename2)"
   ]
  },
  {
   "cell_type": "code",
   "execution_count": 74,
   "id": "6fa62cb2",
   "metadata": {},
   "outputs": [
    {
     "name": "stdout",
     "output_type": "stream",
     "text": [
      "True\n",
      "1057195\n"
     ]
    }
   ],
   "source": [
    "counts_d = encode.count_dynamic_k(k, new_mode=2)\n",
    "byte_m = encode.byte_mng_dec()\n",
    "byte_m.load_file(filename2)\n",
    "whitespace = byte_m.read_bits(8)\n",
    "counts_d.load_alphabet_dynamic(byte_m)\n",
    "\n",
    "decoder_new = encode.arith_code_dec_k(counts_d, byte_m, whitespace, N)\n",
    "cond = decoder_new.cont()\n",
    "\n",
    "array = []\n",
    "\n",
    "while cond:\n",
    "#for i in range(lim):\n",
    "    array.append(decoder_new.remove_character())\n",
    "    cond = decoder_new.cont()\n",
    "\n",
    "byte_arr = bytearray(array)\n",
    "\n",
    "len_end = min(len(text), len(array))\n",
    "print(bytearray(array)[:len_end]== text[:len_end])\n",
    "print(len(byte_m.byte_store))"
   ]
  },
  {
   "cell_type": "code",
   "execution_count": 75,
   "id": "3cf483fd",
   "metadata": {},
   "outputs": [
    {
     "data": {
      "text/plain": [
       "1012264"
      ]
     },
     "execution_count": 75,
     "metadata": {},
     "output_type": "execute_result"
    }
   ],
   "source": [
    "k = 5\n",
    "\n",
    "counts = encode.count_dynamic_k(k, new_mode=2)\n",
    "encoder_new = encode.arith_code_enc_k(counts, N)\n",
    "\n",
    "for i in text:\n",
    "    encoder_new.add_character(i)\n",
    "\n",
    "whitespace2 = encoder_new.finalize()\n",
    "\n",
    "byte_arr = [whitespace2]\n",
    "byte_arr.append(len(encoder_new.count_m.alphabet))\n",
    "if byte_arr[1] > 255: byte_arr[1] = 0\n",
    "for i in encoder_new.count_m.alphabet: byte_arr.append(i)\n",
    "\n",
    "with open(filename2, \"wb\") as f:\n",
    "    f.write(bytearray(byte_arr))\n",
    "    f.write(bytearray(encoder_new.byte_encode.byte_store))\n",
    "\n",
    "os.path.getsize(filename2)"
   ]
  },
  {
   "cell_type": "code",
   "execution_count": 76,
   "id": "d8894832",
   "metadata": {},
   "outputs": [
    {
     "name": "stdout",
     "output_type": "stream",
     "text": [
      "True\n",
      "1012264\n"
     ]
    }
   ],
   "source": [
    "counts_d = encode.count_dynamic_k(k, new_mode=2)\n",
    "byte_m = encode.byte_mng_dec()\n",
    "byte_m.load_file(filename2)\n",
    "whitespace = byte_m.read_bits(8)\n",
    "counts_d.load_alphabet_dynamic(byte_m)\n",
    "\n",
    "decoder_new = encode.arith_code_dec_k(counts_d, byte_m, whitespace, N)\n",
    "cond = decoder_new.cont()\n",
    "\n",
    "array = []\n",
    "\n",
    "while cond:\n",
    "#for i in range(lim):\n",
    "    array.append(decoder_new.remove_character())\n",
    "    cond = decoder_new.cont()\n",
    "\n",
    "byte_arr = bytearray(array)\n",
    "\n",
    "len_end = min(len(text), len(array))\n",
    "print(bytearray(array)[:len_end]== text[:len_end])\n",
    "print(len(byte_m.byte_store))"
   ]
  },
  {
   "cell_type": "code",
   "execution_count": 77,
   "id": "97b5f710",
   "metadata": {},
   "outputs": [
    {
     "data": {
      "text/plain": [
       "1004875"
      ]
     },
     "execution_count": 77,
     "metadata": {},
     "output_type": "execute_result"
    }
   ],
   "source": [
    "k = 6\n",
    "\n",
    "counts = encode.count_dynamic_k(k, new_mode=2)\n",
    "encoder_new = encode.arith_code_enc_k(counts, N)\n",
    "\n",
    "for i in text:\n",
    "    encoder_new.add_character(i)\n",
    "\n",
    "whitespace2 = encoder_new.finalize()\n",
    "\n",
    "byte_arr = [whitespace2]\n",
    "byte_arr.append(len(encoder_new.count_m.alphabet))\n",
    "if byte_arr[1] > 255: byte_arr[1] = 0\n",
    "for i in encoder_new.count_m.alphabet: byte_arr.append(i)\n",
    "\n",
    "with open(filename2, \"wb\") as f:\n",
    "    f.write(bytearray(byte_arr))\n",
    "    f.write(bytearray(encoder_new.byte_encode.byte_store))\n",
    "\n",
    "os.path.getsize(filename2)"
   ]
  },
  {
   "cell_type": "code",
   "execution_count": 78,
   "id": "73b228c3",
   "metadata": {},
   "outputs": [
    {
     "name": "stdout",
     "output_type": "stream",
     "text": [
      "True\n"
     ]
    }
   ],
   "source": [
    "counts_d = encode.count_dynamic_k(k, new_mode=2)\n",
    "byte_m = encode.byte_mng_dec()\n",
    "byte_m.load_file(filename2)\n",
    "whitespace = byte_m.read_bits(8)\n",
    "counts_d.load_alphabet_dynamic(byte_m)\n",
    "\n",
    "decoder_new = encode.arith_code_dec_k(counts_d, byte_m, whitespace, N)\n",
    "cond = decoder_new.cont()\n",
    "\n",
    "array = []\n",
    "\n",
    "while cond:\n",
    "#for i in range(lim):\n",
    "    array.append(decoder_new.remove_character())\n",
    "    cond = decoder_new.cont()\n",
    "\n",
    "byte_arr = bytearray(array)\n",
    "\n",
    "len_end = min(len(text), len(array))\n",
    "print(bytearray(array)[:len_end]== text[:len_end])"
   ]
  },
  {
   "cell_type": "code",
   "execution_count": 79,
   "id": "5e5f3c71",
   "metadata": {},
   "outputs": [
    {
     "data": {
      "text/plain": [
       "1014294"
      ]
     },
     "execution_count": 79,
     "metadata": {},
     "output_type": "execute_result"
    }
   ],
   "source": [
    "k = 7\n",
    "\n",
    "counts = encode.count_dynamic_k(k, new_mode=2)\n",
    "encoder_new = encode.arith_code_enc_k(counts, N)\n",
    "\n",
    "for i in text:\n",
    "    encoder_new.add_character(i)\n",
    "\n",
    "whitespace2 = encoder_new.finalize()\n",
    "\n",
    "byte_arr = [whitespace2]\n",
    "byte_arr.append(len(encoder_new.count_m.alphabet))\n",
    "if byte_arr[1] > 255: byte_arr[1] = 0\n",
    "for i in encoder_new.count_m.alphabet: byte_arr.append(i)\n",
    "\n",
    "with open(filename2, \"wb\") as f:\n",
    "    f.write(bytearray(byte_arr))\n",
    "    f.write(bytearray(encoder_new.byte_encode.byte_store))\n",
    "\n",
    "os.path.getsize(filename2)"
   ]
  },
  {
   "cell_type": "code",
   "execution_count": 80,
   "id": "80d6bcdf",
   "metadata": {},
   "outputs": [
    {
     "name": "stdout",
     "output_type": "stream",
     "text": [
      "True\n"
     ]
    }
   ],
   "source": [
    "counts_d = encode.count_dynamic_k(k, new_mode=2)\n",
    "byte_m = encode.byte_mng_dec()\n",
    "byte_m.load_file(filename2)\n",
    "whitespace = byte_m.read_bits(8)\n",
    "counts_d.load_alphabet_dynamic(byte_m)\n",
    "\n",
    "decoder_new = encode.arith_code_dec_k(counts_d, byte_m, whitespace, N)\n",
    "cond = decoder_new.cont()\n",
    "\n",
    "array = []\n",
    "\n",
    "while cond:\n",
    "#for i in range(lim):\n",
    "    array.append(decoder_new.remove_character())\n",
    "    cond = decoder_new.cont()\n",
    "\n",
    "byte_arr = bytearray(array)\n",
    "\n",
    "len_end = min(len(text), len(array))\n",
    "print(bytearray(array)[:len_end]== text[:len_end])"
   ]
  },
  {
   "cell_type": "code",
   "execution_count": 81,
   "id": "432fed5d",
   "metadata": {},
   "outputs": [
    {
     "data": {
      "text/plain": [
       "1029459"
      ]
     },
     "execution_count": 81,
     "metadata": {},
     "output_type": "execute_result"
    }
   ],
   "source": [
    "k = 8\n",
    "\n",
    "counts = encode.count_dynamic_k(k, new_mode=2)\n",
    "encoder_new = encode.arith_code_enc_k(counts, N)\n",
    "\n",
    "for i in text:\n",
    "    encoder_new.add_character(i)\n",
    "\n",
    "whitespace2 = encoder_new.finalize()\n",
    "\n",
    "byte_arr = [whitespace2]\n",
    "byte_arr.append(len(encoder_new.count_m.alphabet))\n",
    "if byte_arr[1] > 255: byte_arr[1] = 0\n",
    "for i in encoder_new.count_m.alphabet: byte_arr.append(i)\n",
    "\n",
    "with open(filename2, \"wb\") as f:\n",
    "    f.write(bytearray(byte_arr))\n",
    "    f.write(bytearray(encoder_new.byte_encode.byte_store))\n",
    "\n",
    "os.path.getsize(filename2)"
   ]
  },
  {
   "cell_type": "code",
   "execution_count": 82,
   "id": "98d83359",
   "metadata": {},
   "outputs": [
    {
     "name": "stdout",
     "output_type": "stream",
     "text": [
      "True\n"
     ]
    }
   ],
   "source": [
    "counts_d = encode.count_dynamic_k(k, new_mode=2)\n",
    "byte_m = encode.byte_mng_dec()\n",
    "byte_m.load_file(filename2)\n",
    "whitespace = byte_m.read_bits(8)\n",
    "counts_d.load_alphabet_dynamic(byte_m)\n",
    "\n",
    "decoder_new = encode.arith_code_dec_k(counts_d, byte_m, whitespace, N)\n",
    "cond = decoder_new.cont()\n",
    "\n",
    "array = []\n",
    "\n",
    "while cond:\n",
    "#for i in range(lim):\n",
    "    array.append(decoder_new.remove_character())\n",
    "    cond = decoder_new.cont()\n",
    "\n",
    "byte_arr = bytearray(array)\n",
    "\n",
    "len_end = min(len(text), len(array))\n",
    "print(bytearray(array)[:len_end]== text[:len_end])"
   ]
  },
  {
   "cell_type": "markdown",
   "id": "acf22c36",
   "metadata": {},
   "source": [
    "# Decap Reverse"
   ]
  },
  {
   "cell_type": "code",
   "execution_count": 83,
   "id": "f5e33cfd",
   "metadata": {},
   "outputs": [],
   "source": [
    "import encode\n",
    "import os\n",
    "\n",
    "filename1 = \"Mr.-Zoat-With-This-Ring-S02.txt\"\n",
    "filename2 = 'test_dynamic'\n",
    "N = 64\n",
    "\n",
    "with open(filename1, 'rb') as f:\n",
    "    text = f.read()"
   ]
  },
  {
   "cell_type": "code",
   "execution_count": 84,
   "id": "f34f191d",
   "metadata": {},
   "outputs": [],
   "source": [
    "text = text.lower()\n",
    "text = bytearray(text)\n",
    "bytearray.reverse(text)"
   ]
  },
  {
   "cell_type": "code",
   "execution_count": 85,
   "id": "07b467ce",
   "metadata": {},
   "outputs": [
    {
     "name": "stdout",
     "output_type": "stream",
     "text": [
      "12\n"
     ]
    }
   ],
   "source": [
    "print(encode.find_k(text))"
   ]
  },
  {
   "cell_type": "code",
   "execution_count": 86,
   "id": "a390df65",
   "metadata": {},
   "outputs": [
    {
     "data": {
      "text/plain": [
       "1982561"
      ]
     },
     "execution_count": 86,
     "metadata": {},
     "output_type": "execute_result"
    }
   ],
   "source": [
    "k = 2\n",
    "\n",
    "counts = encode.count_dynamic_k(k, new_mode=2)\n",
    "encoder_new = encode.arith_code_enc_k(counts, N)\n",
    "\n",
    "for i in text:\n",
    "    encoder_new.add_character(i)\n",
    "\n",
    "whitespace2 = encoder_new.finalize()\n",
    "\n",
    "byte_arr = [whitespace2]\n",
    "byte_arr.append(len(encoder_new.count_m.alphabet))\n",
    "if byte_arr[1] > 255: byte_arr[1] = 0\n",
    "for i in encoder_new.count_m.alphabet: byte_arr.append(i)\n",
    "\n",
    "with open(filename2, \"wb\") as f:\n",
    "    f.write(bytearray(byte_arr))\n",
    "    f.write(bytearray(encoder_new.byte_encode.byte_store))\n",
    "\n",
    "os.path.getsize(filename2)"
   ]
  },
  {
   "cell_type": "code",
   "execution_count": 87,
   "id": "0c656cb8",
   "metadata": {},
   "outputs": [
    {
     "name": "stdout",
     "output_type": "stream",
     "text": [
      "True\n",
      "1982561\n"
     ]
    }
   ],
   "source": [
    "counts_d = encode.count_dynamic_k(k, new_mode=2)\n",
    "byte_m = encode.byte_mng_dec()\n",
    "byte_m.load_file(filename2)\n",
    "whitespace = byte_m.read_bits(8)\n",
    "counts_d.load_alphabet_dynamic(byte_m)\n",
    "\n",
    "decoder_new = encode.arith_code_dec_k(counts_d, byte_m, whitespace, N)\n",
    "cond = decoder_new.cont()\n",
    "\n",
    "array = []\n",
    "\n",
    "while cond:\n",
    "#for i in range(lim):\n",
    "    array.append(decoder_new.remove_character())\n",
    "    cond = decoder_new.cont()\n",
    "\n",
    "byte_arr = bytearray(array)\n",
    "\n",
    "len_end = min(len(text), len(array))\n",
    "print(bytearray(array)[:len_end]== text[:len_end])\n",
    "print(len(byte_m.byte_store))"
   ]
  },
  {
   "cell_type": "code",
   "execution_count": 88,
   "id": "15905563",
   "metadata": {},
   "outputs": [
    {
     "data": {
      "text/plain": [
       "1591320"
      ]
     },
     "execution_count": 88,
     "metadata": {},
     "output_type": "execute_result"
    }
   ],
   "source": [
    "k = 3\n",
    "\n",
    "counts = encode.count_dynamic_k(k, new_mode=2)\n",
    "encoder_new = encode.arith_code_enc_k(counts, N)\n",
    "\n",
    "for i in text:\n",
    "    encoder_new.add_character(i)\n",
    "\n",
    "whitespace2 = encoder_new.finalize()\n",
    "\n",
    "byte_arr = [whitespace2]\n",
    "byte_arr.append(len(encoder_new.count_m.alphabet))\n",
    "if byte_arr[1] > 255: byte_arr[1] = 0\n",
    "for i in encoder_new.count_m.alphabet: byte_arr.append(i)\n",
    "\n",
    "with open(filename2, \"wb\") as f:\n",
    "    f.write(bytearray(byte_arr))\n",
    "    f.write(bytearray(encoder_new.byte_encode.byte_store))\n",
    "\n",
    "os.path.getsize(filename2)"
   ]
  },
  {
   "cell_type": "code",
   "execution_count": 89,
   "id": "40f0f675",
   "metadata": {},
   "outputs": [
    {
     "name": "stdout",
     "output_type": "stream",
     "text": [
      "True\n",
      "1591320\n"
     ]
    }
   ],
   "source": [
    "counts_d = encode.count_dynamic_k(k, new_mode=2)\n",
    "byte_m = encode.byte_mng_dec()\n",
    "byte_m.load_file(filename2)\n",
    "whitespace = byte_m.read_bits(8)\n",
    "counts_d.load_alphabet_dynamic(byte_m)\n",
    "\n",
    "decoder_new = encode.arith_code_dec_k(counts_d, byte_m, whitespace, N)\n",
    "cond = decoder_new.cont()\n",
    "\n",
    "array = []\n",
    "\n",
    "while cond:\n",
    "#for i in range(lim):\n",
    "    array.append(decoder_new.remove_character())\n",
    "    cond = decoder_new.cont()\n",
    "\n",
    "byte_arr = bytearray(array)\n",
    "\n",
    "len_end = min(len(text), len(array))\n",
    "print(bytearray(array)[:len_end]== text[:len_end])\n",
    "print(len(byte_m.byte_store))"
   ]
  },
  {
   "cell_type": "code",
   "execution_count": 90,
   "id": "2a66c2c9",
   "metadata": {},
   "outputs": [
    {
     "data": {
      "text/plain": [
       "1398505"
      ]
     },
     "execution_count": 90,
     "metadata": {},
     "output_type": "execute_result"
    }
   ],
   "source": [
    "k = 4\n",
    "\n",
    "counts = encode.count_dynamic_k(k, new_mode=2)\n",
    "encoder_new = encode.arith_code_enc_k(counts, N)\n",
    "\n",
    "for i in text:\n",
    "    encoder_new.add_character(i)\n",
    "\n",
    "whitespace2 = encoder_new.finalize()\n",
    "\n",
    "byte_arr = [whitespace2]\n",
    "byte_arr.append(len(encoder_new.count_m.alphabet))\n",
    "if byte_arr[1] > 255: byte_arr[1] = 0\n",
    "for i in encoder_new.count_m.alphabet: byte_arr.append(i)\n",
    "\n",
    "with open(filename2, \"wb\") as f:\n",
    "    f.write(bytearray(byte_arr))\n",
    "    f.write(bytearray(encoder_new.byte_encode.byte_store))\n",
    "\n",
    "os.path.getsize(filename2)"
   ]
  },
  {
   "cell_type": "code",
   "execution_count": 91,
   "id": "6fa62cb2",
   "metadata": {},
   "outputs": [
    {
     "name": "stdout",
     "output_type": "stream",
     "text": [
      "True\n",
      "1398505\n"
     ]
    }
   ],
   "source": [
    "counts_d = encode.count_dynamic_k(k, new_mode=2)\n",
    "byte_m = encode.byte_mng_dec()\n",
    "byte_m.load_file(filename2)\n",
    "whitespace = byte_m.read_bits(8)\n",
    "counts_d.load_alphabet_dynamic(byte_m)\n",
    "\n",
    "decoder_new = encode.arith_code_dec_k(counts_d, byte_m, whitespace, N)\n",
    "cond = decoder_new.cont()\n",
    "\n",
    "array = []\n",
    "\n",
    "while cond:\n",
    "#for i in range(lim):\n",
    "    array.append(decoder_new.remove_character())\n",
    "    cond = decoder_new.cont()\n",
    "\n",
    "byte_arr = bytearray(array)\n",
    "\n",
    "len_end = min(len(text), len(array))\n",
    "print(bytearray(array)[:len_end]== text[:len_end])\n",
    "print(len(byte_m.byte_store))"
   ]
  },
  {
   "cell_type": "code",
   "execution_count": 92,
   "id": "3cf483fd",
   "metadata": {},
   "outputs": [
    {
     "data": {
      "text/plain": [
       "1331316"
      ]
     },
     "execution_count": 92,
     "metadata": {},
     "output_type": "execute_result"
    }
   ],
   "source": [
    "k = 5\n",
    "\n",
    "counts = encode.count_dynamic_k(k, new_mode=2)\n",
    "encoder_new = encode.arith_code_enc_k(counts, N)\n",
    "\n",
    "for i in text:\n",
    "    encoder_new.add_character(i)\n",
    "\n",
    "whitespace2 = encoder_new.finalize()\n",
    "\n",
    "byte_arr = [whitespace2]\n",
    "byte_arr.append(len(encoder_new.count_m.alphabet))\n",
    "if byte_arr[1] > 255: byte_arr[1] = 0\n",
    "for i in encoder_new.count_m.alphabet: byte_arr.append(i)\n",
    "\n",
    "with open(filename2, \"wb\") as f:\n",
    "    f.write(bytearray(byte_arr))\n",
    "    f.write(bytearray(encoder_new.byte_encode.byte_store))\n",
    "\n",
    "os.path.getsize(filename2)"
   ]
  },
  {
   "cell_type": "code",
   "execution_count": 93,
   "id": "d8894832",
   "metadata": {},
   "outputs": [
    {
     "name": "stdout",
     "output_type": "stream",
     "text": [
      "True\n",
      "1331316\n"
     ]
    }
   ],
   "source": [
    "counts_d = encode.count_dynamic_k(k, new_mode=2)\n",
    "byte_m = encode.byte_mng_dec()\n",
    "byte_m.load_file(filename2)\n",
    "whitespace = byte_m.read_bits(8)\n",
    "counts_d.load_alphabet_dynamic(byte_m)\n",
    "\n",
    "decoder_new = encode.arith_code_dec_k(counts_d, byte_m, whitespace, N)\n",
    "cond = decoder_new.cont()\n",
    "\n",
    "array = []\n",
    "\n",
    "while cond:\n",
    "#for i in range(lim):\n",
    "    array.append(decoder_new.remove_character())\n",
    "    cond = decoder_new.cont()\n",
    "\n",
    "byte_arr = bytearray(array)\n",
    "\n",
    "len_end = min(len(text), len(array))\n",
    "print(bytearray(array)[:len_end]== text[:len_end])\n",
    "print(len(byte_m.byte_store))"
   ]
  },
  {
   "cell_type": "code",
   "execution_count": 94,
   "id": "97b5f710",
   "metadata": {},
   "outputs": [
    {
     "ename": "KeyboardInterrupt",
     "evalue": "",
     "output_type": "error",
     "traceback": [
      "\u001b[1;31m---------------------------------------------------------------------------\u001b[0m",
      "\u001b[1;31mKeyboardInterrupt\u001b[0m                         Traceback (most recent call last)",
      "Cell \u001b[1;32mIn[94], line 7\u001b[0m\n\u001b[0;32m      4\u001b[0m encoder_new \u001b[38;5;241m=\u001b[39m encode\u001b[38;5;241m.\u001b[39marith_code_enc_k(counts, N)\n\u001b[0;32m      6\u001b[0m \u001b[38;5;28;01mfor\u001b[39;00m i \u001b[38;5;129;01min\u001b[39;00m text:\n\u001b[1;32m----> 7\u001b[0m     encoder_new\u001b[38;5;241m.\u001b[39madd_character(i)\n\u001b[0;32m      9\u001b[0m whitespace2 \u001b[38;5;241m=\u001b[39m encoder_new\u001b[38;5;241m.\u001b[39mfinalize()\n\u001b[0;32m     11\u001b[0m byte_arr \u001b[38;5;241m=\u001b[39m [whitespace2]\n",
      "File \u001b[1;32mc:\\Users\\QuanumWarrior\\Documents\\GitHub\\data_analysis_hw_2\\encode\\ArithmeticEncoder.py:53\u001b[0m, in \u001b[0;36marith_code_enc_k.add_character\u001b[1;34m(self, char)\u001b[0m\n\u001b[0;32m     51\u001b[0m \u001b[38;5;28;01mdef\u001b[39;00m \u001b[38;5;21madd_character\u001b[39m(\u001b[38;5;28mself\u001b[39m, char):\n\u001b[0;32m     52\u001b[0m     \u001b[38;5;28mself\u001b[39m\u001b[38;5;241m.\u001b[39mchar \u001b[38;5;241m=\u001b[39m char\n\u001b[1;32m---> 53\u001b[0m     counts \u001b[38;5;241m=\u001b[39m \u001b[38;5;28mself\u001b[39m\u001b[38;5;241m.\u001b[39mcount_m\u001b[38;5;241m.\u001b[39mget_counts_full(\u001b[38;5;28mself\u001b[39m\u001b[38;5;241m.\u001b[39mcontext, \u001b[38;5;28mself\u001b[39m\u001b[38;5;241m.\u001b[39mchar)\n\u001b[0;32m     54\u001b[0m     \u001b[38;5;28;01mfor\u001b[39;00m i \u001b[38;5;129;01min\u001b[39;00m counts:\n\u001b[0;32m     55\u001b[0m         \u001b[38;5;28mself\u001b[39m\u001b[38;5;241m.\u001b[39mencode_character(i)\n",
      "File \u001b[1;32mc:\\Users\\QuanumWarrior\\Documents\\GitHub\\data_analysis_hw_2\\encode\\CountManagement.py:325\u001b[0m, in \u001b[0;36mcount_dynamic_k.get_counts_full\u001b[1;34m(self, context, char, excl)\u001b[0m\n\u001b[0;32m    320\u001b[0m     \u001b[38;5;28mself\u001b[39m\u001b[38;5;241m.\u001b[39malphabet_final \u001b[38;5;241m=\u001b[39m \u001b[38;5;241m0\u001b[39m\n\u001b[0;32m    322\u001b[0m \u001b[38;5;66;03m# our new get_counts needs to go through the recursive list structure, \u001b[39;00m\n\u001b[0;32m    323\u001b[0m \u001b[38;5;66;03m# but potentially not ....\u001b[39;00m\n\u001b[1;32m--> 325\u001b[0m \u001b[38;5;28;01mdef\u001b[39;00m \u001b[38;5;21mget_counts_full\u001b[39m(\u001b[38;5;28mself\u001b[39m, context, char\u001b[38;5;241m=\u001b[39m\u001b[38;5;28;01mNone\u001b[39;00m, excl \u001b[38;5;241m=\u001b[39m {}):\n\u001b[0;32m    326\u001b[0m     ret_arr \u001b[38;5;241m=\u001b[39m []\n\u001b[0;32m    327\u001b[0m     ret_arr\u001b[38;5;241m.\u001b[39mappend(\u001b[38;5;28mself\u001b[39m\u001b[38;5;241m.\u001b[39mget_counts(context, excl, char))\n",
      "\u001b[1;31mKeyboardInterrupt\u001b[0m: "
     ]
    }
   ],
   "source": [
    "k = 6\n",
    "\n",
    "counts = encode.count_dynamic_k(k, new_mode=2)\n",
    "encoder_new = encode.arith_code_enc_k(counts, N)\n",
    "\n",
    "for i in text:\n",
    "    encoder_new.add_character(i)\n",
    "\n",
    "whitespace2 = encoder_new.finalize()\n",
    "\n",
    "byte_arr = [whitespace2]\n",
    "byte_arr.append(len(encoder_new.count_m.alphabet))\n",
    "if byte_arr[1] > 255: byte_arr[1] = 0\n",
    "for i in encoder_new.count_m.alphabet: byte_arr.append(i)\n",
    "\n",
    "with open(filename2, \"wb\") as f:\n",
    "    f.write(bytearray(byte_arr))\n",
    "    f.write(bytearray(encoder_new.byte_encode.byte_store))\n",
    "\n",
    "os.path.getsize(filename2)"
   ]
  },
  {
   "cell_type": "code",
   "execution_count": null,
   "id": "73b228c3",
   "metadata": {},
   "outputs": [
    {
     "name": "stdout",
     "output_type": "stream",
     "text": [
      "True\n"
     ]
    }
   ],
   "source": [
    "counts_d = encode.count_dynamic_k(k, new_mode=2)\n",
    "byte_m = encode.byte_mng_dec()\n",
    "byte_m.load_file(filename2)\n",
    "whitespace = byte_m.read_bits(8)\n",
    "counts_d.load_alphabet_dynamic(byte_m)\n",
    "\n",
    "decoder_new = encode.arith_code_dec_k(counts_d, byte_m, whitespace, N)\n",
    "cond = decoder_new.cont()\n",
    "\n",
    "array = []\n",
    "\n",
    "while cond:\n",
    "#for i in range(lim):\n",
    "    array.append(decoder_new.remove_character())\n",
    "    cond = decoder_new.cont()\n",
    "\n",
    "byte_arr = bytearray(array)\n",
    "\n",
    "len_end = min(len(text), len(array))\n",
    "print(bytearray(array)[:len_end]== text[:len_end])"
   ]
  },
  {
   "cell_type": "code",
   "execution_count": null,
   "id": "5e5f3c71",
   "metadata": {},
   "outputs": [
    {
     "data": {
      "text/plain": [
       "1337819"
      ]
     },
     "execution_count": 144,
     "metadata": {},
     "output_type": "execute_result"
    }
   ],
   "source": [
    "k = 7\n",
    "\n",
    "counts = encode.count_dynamic_k(k, new_mode=2)\n",
    "encoder_new = encode.arith_code_enc_k(counts, N)\n",
    "\n",
    "for i in text:\n",
    "    encoder_new.add_character(i)\n",
    "\n",
    "whitespace2 = encoder_new.finalize()\n",
    "\n",
    "byte_arr = [whitespace2]\n",
    "byte_arr.append(len(encoder_new.count_m.alphabet))\n",
    "if byte_arr[1] > 255: byte_arr[1] = 0\n",
    "for i in encoder_new.count_m.alphabet: byte_arr.append(i)\n",
    "\n",
    "with open(filename2, \"wb\") as f:\n",
    "    f.write(bytearray(byte_arr))\n",
    "    f.write(bytearray(encoder_new.byte_encode.byte_store))\n",
    "\n",
    "os.path.getsize(filename2)"
   ]
  },
  {
   "cell_type": "code",
   "execution_count": null,
   "id": "80d6bcdf",
   "metadata": {},
   "outputs": [
    {
     "name": "stdout",
     "output_type": "stream",
     "text": [
      "True\n"
     ]
    }
   ],
   "source": [
    "counts_d = encode.count_dynamic_k(k, new_mode=2)\n",
    "byte_m = encode.byte_mng_dec()\n",
    "byte_m.load_file(filename2)\n",
    "whitespace = byte_m.read_bits(8)\n",
    "counts_d.load_alphabet_dynamic(byte_m)\n",
    "\n",
    "decoder_new = encode.arith_code_dec_k(counts_d, byte_m, whitespace, N)\n",
    "cond = decoder_new.cont()\n",
    "\n",
    "array = []\n",
    "\n",
    "while cond:\n",
    "#for i in range(lim):\n",
    "    array.append(decoder_new.remove_character())\n",
    "    cond = decoder_new.cont()\n",
    "\n",
    "byte_arr = bytearray(array)\n",
    "\n",
    "len_end = min(len(text), len(array))\n",
    "print(bytearray(array)[:len_end]== text[:len_end])"
   ]
  },
  {
   "cell_type": "code",
   "execution_count": null,
   "id": "432fed5d",
   "metadata": {},
   "outputs": [
    {
     "data": {
      "text/plain": [
       "1359126"
      ]
     },
     "execution_count": 146,
     "metadata": {},
     "output_type": "execute_result"
    }
   ],
   "source": [
    "k = 8\n",
    "\n",
    "counts = encode.count_dynamic_k(k, new_mode=2)\n",
    "encoder_new = encode.arith_code_enc_k(counts, N)\n",
    "\n",
    "for i in text:\n",
    "    encoder_new.add_character(i)\n",
    "\n",
    "whitespace2 = encoder_new.finalize()\n",
    "\n",
    "byte_arr = [whitespace2]\n",
    "byte_arr.append(len(encoder_new.count_m.alphabet))\n",
    "if byte_arr[1] > 255: byte_arr[1] = 0\n",
    "for i in encoder_new.count_m.alphabet: byte_arr.append(i)\n",
    "\n",
    "with open(filename2, \"wb\") as f:\n",
    "    f.write(bytearray(byte_arr))\n",
    "    f.write(bytearray(encoder_new.byte_encode.byte_store))\n",
    "\n",
    "os.path.getsize(filename2)"
   ]
  },
  {
   "cell_type": "code",
   "execution_count": null,
   "id": "98d83359",
   "metadata": {},
   "outputs": [
    {
     "name": "stdout",
     "output_type": "stream",
     "text": [
      "True\n"
     ]
    }
   ],
   "source": [
    "counts_d = encode.count_dynamic_k(k, new_mode=2)\n",
    "byte_m = encode.byte_mng_dec()\n",
    "byte_m.load_file(filename2)\n",
    "whitespace = byte_m.read_bits(8)\n",
    "counts_d.load_alphabet_dynamic(byte_m)\n",
    "\n",
    "decoder_new = encode.arith_code_dec_k(counts_d, byte_m, whitespace, N)\n",
    "cond = decoder_new.cont()\n",
    "\n",
    "array = []\n",
    "\n",
    "while cond:\n",
    "#for i in range(lim):\n",
    "    array.append(decoder_new.remove_character())\n",
    "    cond = decoder_new.cont()\n",
    "\n",
    "byte_arr = bytearray(array)\n",
    "\n",
    "len_end = min(len(text), len(array))\n",
    "print(bytearray(array)[:len_end]== text[:len_end])"
   ]
  },
  {
   "cell_type": "markdown",
   "id": "3b60db8d",
   "metadata": {},
   "source": [
    "# Text 4"
   ]
  },
  {
   "cell_type": "code",
   "execution_count": null,
   "id": "f5e33cfd",
   "metadata": {},
   "outputs": [],
   "source": [
    "import encode\n",
    "import os\n",
    "\n",
    "filename1 = \"Mr.-Zoat-With-This-Ring-S01S02.txt\"\n",
    "filename2 = 'test_dynamic'\n",
    "N = 64\n",
    "\n",
    "with open(filename1, 'rb') as f:\n",
    "    text = f.read()"
   ]
  },
  {
   "cell_type": "code",
   "execution_count": null,
   "id": "07b467ce",
   "metadata": {},
   "outputs": [
    {
     "name": "stdout",
     "output_type": "stream",
     "text": [
      "4\n"
     ]
    }
   ],
   "source": [
    "print(encode.find_k(text))"
   ]
  },
  {
   "cell_type": "code",
   "execution_count": null,
   "id": "a390df65",
   "metadata": {},
   "outputs": [],
   "source": [
    "k = 2\n",
    "\n",
    "counts = encode.count_dynamic_k(k, new_mode=2)\n",
    "encoder_new = encode.arith_code_enc_k(counts, N)\n",
    "\n",
    "for i in text:\n",
    "    encoder_new.add_character(i)\n",
    "\n",
    "whitespace2 = encoder_new.finalize()\n",
    "\n",
    "byte_arr = [whitespace2]\n",
    "byte_arr.append(len(encoder_new.count_m.alphabet))\n",
    "if byte_arr[1] > 255: byte_arr[1] = 0\n",
    "for i in encoder_new.count_m.alphabet: byte_arr.append(i)\n",
    "\n",
    "with open(filename2, \"wb\") as f:\n",
    "    f.write(bytearray(byte_arr))\n",
    "    f.write(bytearray(encoder_new.byte_encode.byte_store))\n",
    "\n",
    "os.path.getsize(filename2)"
   ]
  },
  {
   "cell_type": "code",
   "execution_count": null,
   "id": "0c656cb8",
   "metadata": {},
   "outputs": [],
   "source": [
    "counts_d = encode.count_dynamic_k(k, new_mode=2)\n",
    "byte_m = encode.byte_mng_dec()\n",
    "byte_m.load_file(filename2)\n",
    "whitespace = byte_m.read_bits(8)\n",
    "counts_d.load_alphabet_dynamic(byte_m)\n",
    "\n",
    "decoder_new = encode.arith_code_dec_k(counts_d, byte_m, whitespace, N)\n",
    "cond = decoder_new.cont()\n",
    "\n",
    "array = []\n",
    "\n",
    "while cond:\n",
    "#for i in range(lim):\n",
    "    array.append(decoder_new.remove_character())\n",
    "    cond = decoder_new.cont()\n",
    "\n",
    "byte_arr = bytearray(array)\n",
    "\n",
    "len_end = min(len(text), len(array))\n",
    "print(bytearray(array)[:len_end]== text[:len_end])\n",
    "print(len(byte_m.byte_store))"
   ]
  },
  {
   "cell_type": "code",
   "execution_count": null,
   "id": "15905563",
   "metadata": {},
   "outputs": [],
   "source": [
    "k = 3\n",
    "\n",
    "counts = encode.count_dynamic_k(k, new_mode=2)\n",
    "encoder_new = encode.arith_code_enc_k(counts, N)\n",
    "\n",
    "for i in text:\n",
    "    encoder_new.add_character(i)\n",
    "\n",
    "whitespace2 = encoder_new.finalize()\n",
    "\n",
    "byte_arr = [whitespace2]\n",
    "byte_arr.append(len(encoder_new.count_m.alphabet))\n",
    "if byte_arr[1] > 255: byte_arr[1] = 0\n",
    "for i in encoder_new.count_m.alphabet: byte_arr.append(i)\n",
    "\n",
    "with open(filename2, \"wb\") as f:\n",
    "    f.write(bytearray(byte_arr))\n",
    "    f.write(bytearray(encoder_new.byte_encode.byte_store))\n",
    "\n",
    "os.path.getsize(filename2)"
   ]
  },
  {
   "cell_type": "code",
   "execution_count": null,
   "id": "40f0f675",
   "metadata": {},
   "outputs": [
    {
     "name": "stdout",
     "output_type": "stream",
     "text": [
      "True\n",
      "1593289\n"
     ]
    }
   ],
   "source": [
    "counts_d = encode.count_dynamic_k(k, new_mode=2)\n",
    "byte_m = encode.byte_mng_dec()\n",
    "byte_m.load_file(filename2)\n",
    "whitespace = byte_m.read_bits(8)\n",
    "counts_d.load_alphabet_dynamic(byte_m)\n",
    "\n",
    "decoder_new = encode.arith_code_dec_k(counts_d, byte_m, whitespace, N)\n",
    "cond = decoder_new.cont()\n",
    "\n",
    "array = []\n",
    "\n",
    "while cond:\n",
    "#for i in range(lim):\n",
    "    array.append(decoder_new.remove_character())\n",
    "    cond = decoder_new.cont()\n",
    "\n",
    "byte_arr = bytearray(array)\n",
    "\n",
    "len_end = min(len(text), len(array))\n",
    "print(bytearray(array)[:len_end]== text[:len_end])\n",
    "print(len(byte_m.byte_store))"
   ]
  },
  {
   "cell_type": "code",
   "execution_count": null,
   "id": "2a66c2c9",
   "metadata": {},
   "outputs": [
    {
     "data": {
      "text/plain": [
       "1399128"
      ]
     },
     "execution_count": 138,
     "metadata": {},
     "output_type": "execute_result"
    }
   ],
   "source": [
    "k = 4\n",
    "\n",
    "counts = encode.count_dynamic_k(k, new_mode=2)\n",
    "encoder_new = encode.arith_code_enc_k(counts, N)\n",
    "\n",
    "for i in text:\n",
    "    encoder_new.add_character(i)\n",
    "\n",
    "whitespace2 = encoder_new.finalize()\n",
    "\n",
    "byte_arr = [whitespace2]\n",
    "byte_arr.append(len(encoder_new.count_m.alphabet))\n",
    "if byte_arr[1] > 255: byte_arr[1] = 0\n",
    "for i in encoder_new.count_m.alphabet: byte_arr.append(i)\n",
    "\n",
    "with open(filename2, \"wb\") as f:\n",
    "    f.write(bytearray(byte_arr))\n",
    "    f.write(bytearray(encoder_new.byte_encode.byte_store))\n",
    "\n",
    "os.path.getsize(filename2)"
   ]
  },
  {
   "cell_type": "code",
   "execution_count": null,
   "id": "6fa62cb2",
   "metadata": {},
   "outputs": [
    {
     "name": "stdout",
     "output_type": "stream",
     "text": [
      "True\n",
      "1399128\n"
     ]
    }
   ],
   "source": [
    "counts_d = encode.count_dynamic_k(k, new_mode=2)\n",
    "byte_m = encode.byte_mng_dec()\n",
    "byte_m.load_file(filename2)\n",
    "whitespace = byte_m.read_bits(8)\n",
    "counts_d.load_alphabet_dynamic(byte_m)\n",
    "\n",
    "decoder_new = encode.arith_code_dec_k(counts_d, byte_m, whitespace, N)\n",
    "cond = decoder_new.cont()\n",
    "\n",
    "array = []\n",
    "\n",
    "while cond:\n",
    "#for i in range(lim):\n",
    "    array.append(decoder_new.remove_character())\n",
    "    cond = decoder_new.cont()\n",
    "\n",
    "byte_arr = bytearray(array)\n",
    "\n",
    "len_end = min(len(text), len(array))\n",
    "print(bytearray(array)[:len_end]== text[:len_end])\n",
    "print(len(byte_m.byte_store))"
   ]
  },
  {
   "cell_type": "code",
   "execution_count": null,
   "id": "3cf483fd",
   "metadata": {},
   "outputs": [
    {
     "data": {
      "text/plain": [
       "1335207"
      ]
     },
     "execution_count": 140,
     "metadata": {},
     "output_type": "execute_result"
    }
   ],
   "source": [
    "k = 5\n",
    "\n",
    "counts = encode.count_dynamic_k(k, new_mode=2)\n",
    "encoder_new = encode.arith_code_enc_k(counts, N)\n",
    "\n",
    "for i in text:\n",
    "    encoder_new.add_character(i)\n",
    "\n",
    "whitespace2 = encoder_new.finalize()\n",
    "\n",
    "byte_arr = [whitespace2]\n",
    "byte_arr.append(len(encoder_new.count_m.alphabet))\n",
    "if byte_arr[1] > 255: byte_arr[1] = 0\n",
    "for i in encoder_new.count_m.alphabet: byte_arr.append(i)\n",
    "\n",
    "with open(filename2, \"wb\") as f:\n",
    "    f.write(bytearray(byte_arr))\n",
    "    f.write(bytearray(encoder_new.byte_encode.byte_store))\n",
    "\n",
    "os.path.getsize(filename2)"
   ]
  },
  {
   "cell_type": "code",
   "execution_count": null,
   "id": "d8894832",
   "metadata": {},
   "outputs": [
    {
     "name": "stdout",
     "output_type": "stream",
     "text": [
      "True\n",
      "1335207\n"
     ]
    }
   ],
   "source": [
    "counts_d = encode.count_dynamic_k(k, new_mode=2)\n",
    "byte_m = encode.byte_mng_dec()\n",
    "byte_m.load_file(filename2)\n",
    "whitespace = byte_m.read_bits(8)\n",
    "counts_d.load_alphabet_dynamic(byte_m)\n",
    "\n",
    "decoder_new = encode.arith_code_dec_k(counts_d, byte_m, whitespace, N)\n",
    "cond = decoder_new.cont()\n",
    "\n",
    "array = []\n",
    "\n",
    "while cond:\n",
    "#for i in range(lim):\n",
    "    array.append(decoder_new.remove_character())\n",
    "    cond = decoder_new.cont()\n",
    "\n",
    "byte_arr = bytearray(array)\n",
    "\n",
    "len_end = min(len(text), len(array))\n",
    "print(bytearray(array)[:len_end]== text[:len_end])\n",
    "print(len(byte_m.byte_store))"
   ]
  },
  {
   "cell_type": "code",
   "execution_count": null,
   "id": "97b5f710",
   "metadata": {},
   "outputs": [
    {
     "data": {
      "text/plain": [
       "1324756"
      ]
     },
     "execution_count": 148,
     "metadata": {},
     "output_type": "execute_result"
    }
   ],
   "source": [
    "k = 6\n",
    "\n",
    "counts = encode.count_dynamic_k(k, new_mode=2)\n",
    "encoder_new = encode.arith_code_enc_k(counts, N)\n",
    "\n",
    "for i in text:\n",
    "    encoder_new.add_character(i)\n",
    "\n",
    "whitespace2 = encoder_new.finalize()\n",
    "\n",
    "byte_arr = [whitespace2]\n",
    "byte_arr.append(len(encoder_new.count_m.alphabet))\n",
    "if byte_arr[1] > 255: byte_arr[1] = 0\n",
    "for i in encoder_new.count_m.alphabet: byte_arr.append(i)\n",
    "\n",
    "with open(filename2, \"wb\") as f:\n",
    "    f.write(bytearray(byte_arr))\n",
    "    f.write(bytearray(encoder_new.byte_encode.byte_store))\n",
    "\n",
    "os.path.getsize(filename2)"
   ]
  },
  {
   "cell_type": "code",
   "execution_count": null,
   "id": "73b228c3",
   "metadata": {},
   "outputs": [
    {
     "name": "stdout",
     "output_type": "stream",
     "text": [
      "True\n"
     ]
    }
   ],
   "source": [
    "counts_d = encode.count_dynamic_k(k, new_mode=2)\n",
    "byte_m = encode.byte_mng_dec()\n",
    "byte_m.load_file(filename2)\n",
    "whitespace = byte_m.read_bits(8)\n",
    "counts_d.load_alphabet_dynamic(byte_m)\n",
    "\n",
    "decoder_new = encode.arith_code_dec_k(counts_d, byte_m, whitespace, N)\n",
    "cond = decoder_new.cont()\n",
    "\n",
    "array = []\n",
    "\n",
    "while cond:\n",
    "#for i in range(lim):\n",
    "    array.append(decoder_new.remove_character())\n",
    "    cond = decoder_new.cont()\n",
    "\n",
    "byte_arr = bytearray(array)\n",
    "\n",
    "len_end = min(len(text), len(array))\n",
    "print(bytearray(array)[:len_end]== text[:len_end])"
   ]
  },
  {
   "cell_type": "code",
   "execution_count": null,
   "id": "5e5f3c71",
   "metadata": {},
   "outputs": [
    {
     "data": {
      "text/plain": [
       "1337819"
      ]
     },
     "execution_count": 144,
     "metadata": {},
     "output_type": "execute_result"
    }
   ],
   "source": [
    "k = 7\n",
    "\n",
    "counts = encode.count_dynamic_k(k, new_mode=2)\n",
    "encoder_new = encode.arith_code_enc_k(counts, N)\n",
    "\n",
    "for i in text:\n",
    "    encoder_new.add_character(i)\n",
    "\n",
    "whitespace2 = encoder_new.finalize()\n",
    "\n",
    "byte_arr = [whitespace2]\n",
    "byte_arr.append(len(encoder_new.count_m.alphabet))\n",
    "if byte_arr[1] > 255: byte_arr[1] = 0\n",
    "for i in encoder_new.count_m.alphabet: byte_arr.append(i)\n",
    "\n",
    "with open(filename2, \"wb\") as f:\n",
    "    f.write(bytearray(byte_arr))\n",
    "    f.write(bytearray(encoder_new.byte_encode.byte_store))\n",
    "\n",
    "os.path.getsize(filename2)"
   ]
  },
  {
   "cell_type": "code",
   "execution_count": null,
   "id": "80d6bcdf",
   "metadata": {},
   "outputs": [
    {
     "name": "stdout",
     "output_type": "stream",
     "text": [
      "True\n"
     ]
    }
   ],
   "source": [
    "counts_d = encode.count_dynamic_k(k, new_mode=2)\n",
    "byte_m = encode.byte_mng_dec()\n",
    "byte_m.load_file(filename2)\n",
    "whitespace = byte_m.read_bits(8)\n",
    "counts_d.load_alphabet_dynamic(byte_m)\n",
    "\n",
    "decoder_new = encode.arith_code_dec_k(counts_d, byte_m, whitespace, N)\n",
    "cond = decoder_new.cont()\n",
    "\n",
    "array = []\n",
    "\n",
    "while cond:\n",
    "#for i in range(lim):\n",
    "    array.append(decoder_new.remove_character())\n",
    "    cond = decoder_new.cont()\n",
    "\n",
    "byte_arr = bytearray(array)\n",
    "\n",
    "len_end = min(len(text), len(array))\n",
    "print(bytearray(array)[:len_end]== text[:len_end])"
   ]
  },
  {
   "cell_type": "code",
   "execution_count": null,
   "id": "432fed5d",
   "metadata": {},
   "outputs": [
    {
     "data": {
      "text/plain": [
       "1359126"
      ]
     },
     "execution_count": 146,
     "metadata": {},
     "output_type": "execute_result"
    }
   ],
   "source": [
    "k = 8\n",
    "\n",
    "counts = encode.count_dynamic_k(k, new_mode=2)\n",
    "encoder_new = encode.arith_code_enc_k(counts, N)\n",
    "\n",
    "for i in text:\n",
    "    encoder_new.add_character(i)\n",
    "\n",
    "whitespace2 = encoder_new.finalize()\n",
    "\n",
    "byte_arr = [whitespace2]\n",
    "byte_arr.append(len(encoder_new.count_m.alphabet))\n",
    "if byte_arr[1] > 255: byte_arr[1] = 0\n",
    "for i in encoder_new.count_m.alphabet: byte_arr.append(i)\n",
    "\n",
    "with open(filename2, \"wb\") as f:\n",
    "    f.write(bytearray(byte_arr))\n",
    "    f.write(bytearray(encoder_new.byte_encode.byte_store))\n",
    "\n",
    "os.path.getsize(filename2)"
   ]
  },
  {
   "cell_type": "code",
   "execution_count": null,
   "id": "98d83359",
   "metadata": {},
   "outputs": [
    {
     "name": "stdout",
     "output_type": "stream",
     "text": [
      "True\n"
     ]
    }
   ],
   "source": [
    "counts_d = encode.count_dynamic_k(k, new_mode=2)\n",
    "byte_m = encode.byte_mng_dec()\n",
    "byte_m.load_file(filename2)\n",
    "whitespace = byte_m.read_bits(8)\n",
    "counts_d.load_alphabet_dynamic(byte_m)\n",
    "\n",
    "decoder_new = encode.arith_code_dec_k(counts_d, byte_m, whitespace, N)\n",
    "cond = decoder_new.cont()\n",
    "\n",
    "array = []\n",
    "\n",
    "while cond:\n",
    "#for i in range(lim):\n",
    "    array.append(decoder_new.remove_character())\n",
    "    cond = decoder_new.cont()\n",
    "\n",
    "byte_arr = bytearray(array)\n",
    "\n",
    "len_end = min(len(text), len(array))\n",
    "print(bytearray(array)[:len_end]== text[:len_end])"
   ]
  }
 ],
 "metadata": {
  "kernelspec": {
   "display_name": "base",
   "language": "python",
   "name": "python3"
  },
  "language_info": {
   "codemirror_mode": {
    "name": "ipython",
    "version": 3
   },
   "file_extension": ".py",
   "mimetype": "text/x-python",
   "name": "python",
   "nbconvert_exporter": "python",
   "pygments_lexer": "ipython3",
   "version": "3.12.9"
  }
 },
 "nbformat": 4,
 "nbformat_minor": 5
}
