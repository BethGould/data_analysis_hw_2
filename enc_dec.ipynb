{
 "cells": [
  {
   "cell_type": "code",
   "execution_count": 31,
   "id": "f5e33cfd",
   "metadata": {},
   "outputs": [],
   "source": [
    "import encode\n",
    "import os\n",
    "\n",
    "filename1 = \"MrZoat_WithThisRingS01_Gould.txt\"\n",
    "filename2 = 'test_dynamic'"
   ]
  },
  {
   "cell_type": "code",
   "execution_count": 32,
   "id": "c34ee548",
   "metadata": {},
   "outputs": [],
   "source": [
    "#lim = 3691600\n",
    "#lim = 4000\n",
    "N = 64\n",
    "#k = 2"
   ]
  },
  {
   "cell_type": "code",
   "execution_count": null,
   "id": "f34f191d",
   "metadata": {},
   "outputs": [],
   "source": [
    "with open(filename1, 'rb') as f:\n",
    "    text = f.read()\n",
    "text = text.lower()\n",
    "text = bytearray(text)\n",
    "bytearray.reverse(text)\n",
    "#bytearray.byteswap(text)\n",
    "#\n",
    "#text.reverse"
   ]
  },
  {
   "cell_type": "code",
   "execution_count": 34,
   "id": "3adb735c",
   "metadata": {},
   "outputs": [],
   "source": [
    "# byteswap()\n",
    "# reverse()"
   ]
  },
  {
   "cell_type": "code",
   "execution_count": 35,
   "id": "07b467ce",
   "metadata": {},
   "outputs": [
    {
     "name": "stdout",
     "output_type": "stream",
     "text": [
      "8\n"
     ]
    }
   ],
   "source": [
    "print(encode.find_k(text))"
   ]
  },
  {
   "cell_type": "code",
   "execution_count": 36,
   "id": "a390df65",
   "metadata": {},
   "outputs": [
    {
     "data": {
      "text/plain": [
       "1476623"
      ]
     },
     "execution_count": 36,
     "metadata": {},
     "output_type": "execute_result"
    }
   ],
   "source": [
    "k = 2\n",
    "\n",
    "counts = encode.count_dynamic_k(k, new_mode=2)\n",
    "encoder_new = encode.arith_code_enc_k(counts, N)\n",
    "\n",
    "for i in text:\n",
    "    encoder_new.add_character(i)\n",
    "\n",
    "whitespace2 = encoder_new.finalize()\n",
    "\n",
    "byte_arr = [whitespace2]\n",
    "byte_arr.append(len(encoder_new.count_m.alphabet))\n",
    "if byte_arr[1] > 255: byte_arr[1] = 0\n",
    "for i in encoder_new.count_m.alphabet: byte_arr.append(i)\n",
    "\n",
    "with open(filename2, \"wb\") as f:\n",
    "    f.write(bytearray(byte_arr))\n",
    "    f.write(bytearray(encoder_new.byte_encode.byte_store))\n",
    "\n",
    "os.path.getsize(filename2)"
   ]
  },
  {
   "cell_type": "code",
   "execution_count": 37,
   "id": "0c656cb8",
   "metadata": {},
   "outputs": [
    {
     "name": "stdout",
     "output_type": "stream",
     "text": [
      "True\n",
      "1476623\n"
     ]
    }
   ],
   "source": [
    "counts_d = encode.count_dynamic_k(k, new_mode=2)\n",
    "byte_m = encode.byte_mng_dec()\n",
    "byte_m.load_file(filename2)\n",
    "whitespace = byte_m.read_bits(8)\n",
    "counts_d.load_alphabet_dynamic(byte_m)\n",
    "\n",
    "decoder_new = encode.arith_code_dec_k(counts_d, byte_m, whitespace, N)\n",
    "cond = decoder_new.cont()\n",
    "\n",
    "array = []\n",
    "\n",
    "while cond:\n",
    "#for i in range(lim):\n",
    "    array.append(decoder_new.remove_character())\n",
    "    cond = decoder_new.cont()\n",
    "\n",
    "byte_arr = bytearray(array)\n",
    "\n",
    "len_end = min(len(text), len(array))\n",
    "print(bytearray(array)[:len_end]== text[:len_end])\n",
    "print(len(byte_m.byte_store))"
   ]
  },
  {
   "cell_type": "code",
   "execution_count": 38,
   "id": "15905563",
   "metadata": {},
   "outputs": [
    {
     "data": {
      "text/plain": [
       "1193200"
      ]
     },
     "execution_count": 38,
     "metadata": {},
     "output_type": "execute_result"
    }
   ],
   "source": [
    "k = 3\n",
    "\n",
    "counts = encode.count_dynamic_k(k, new_mode=2)\n",
    "encoder_new = encode.arith_code_enc_k(counts, N)\n",
    "\n",
    "for i in text:\n",
    "    encoder_new.add_character(i)\n",
    "\n",
    "whitespace2 = encoder_new.finalize()\n",
    "\n",
    "byte_arr = [whitespace2]\n",
    "byte_arr.append(len(encoder_new.count_m.alphabet))\n",
    "if byte_arr[1] > 255: byte_arr[1] = 0\n",
    "for i in encoder_new.count_m.alphabet: byte_arr.append(i)\n",
    "\n",
    "with open(filename2, \"wb\") as f:\n",
    "    f.write(bytearray(byte_arr))\n",
    "    f.write(bytearray(encoder_new.byte_encode.byte_store))\n",
    "\n",
    "os.path.getsize(filename2)"
   ]
  },
  {
   "cell_type": "code",
   "execution_count": 39,
   "id": "40f0f675",
   "metadata": {},
   "outputs": [
    {
     "name": "stdout",
     "output_type": "stream",
     "text": [
      "True\n",
      "1193200\n"
     ]
    }
   ],
   "source": [
    "counts_d = encode.count_dynamic_k(k, new_mode=2)\n",
    "byte_m = encode.byte_mng_dec()\n",
    "byte_m.load_file(filename2)\n",
    "whitespace = byte_m.read_bits(8)\n",
    "counts_d.load_alphabet_dynamic(byte_m)\n",
    "\n",
    "decoder_new = encode.arith_code_dec_k(counts_d, byte_m, whitespace, N)\n",
    "cond = decoder_new.cont()\n",
    "\n",
    "array = []\n",
    "\n",
    "while cond:\n",
    "#for i in range(lim):\n",
    "    array.append(decoder_new.remove_character())\n",
    "    cond = decoder_new.cont()\n",
    "\n",
    "byte_arr = bytearray(array)\n",
    "\n",
    "len_end = min(len(text), len(array))\n",
    "print(bytearray(array)[:len_end]== text[:len_end])\n",
    "print(len(byte_m.byte_store))"
   ]
  },
  {
   "cell_type": "code",
   "execution_count": 40,
   "id": "2a66c2c9",
   "metadata": {},
   "outputs": [
    {
     "data": {
      "text/plain": [
       "1059650"
      ]
     },
     "execution_count": 40,
     "metadata": {},
     "output_type": "execute_result"
    }
   ],
   "source": [
    "k = 4\n",
    "\n",
    "counts = encode.count_dynamic_k(k, new_mode=2)\n",
    "encoder_new = encode.arith_code_enc_k(counts, N)\n",
    "\n",
    "for i in text:\n",
    "    encoder_new.add_character(i)\n",
    "\n",
    "whitespace2 = encoder_new.finalize()\n",
    "\n",
    "byte_arr = [whitespace2]\n",
    "byte_arr.append(len(encoder_new.count_m.alphabet))\n",
    "if byte_arr[1] > 255: byte_arr[1] = 0\n",
    "for i in encoder_new.count_m.alphabet: byte_arr.append(i)\n",
    "\n",
    "with open(filename2, \"wb\") as f:\n",
    "    f.write(bytearray(byte_arr))\n",
    "    f.write(bytearray(encoder_new.byte_encode.byte_store))\n",
    "\n",
    "os.path.getsize(filename2)"
   ]
  },
  {
   "cell_type": "code",
   "execution_count": 41,
   "id": "6fa62cb2",
   "metadata": {},
   "outputs": [
    {
     "name": "stdout",
     "output_type": "stream",
     "text": [
      "True\n",
      "1059650\n"
     ]
    }
   ],
   "source": [
    "counts_d = encode.count_dynamic_k(k, new_mode=2)\n",
    "byte_m = encode.byte_mng_dec()\n",
    "byte_m.load_file(filename2)\n",
    "whitespace = byte_m.read_bits(8)\n",
    "counts_d.load_alphabet_dynamic(byte_m)\n",
    "\n",
    "decoder_new = encode.arith_code_dec_k(counts_d, byte_m, whitespace, N)\n",
    "cond = decoder_new.cont()\n",
    "\n",
    "array = []\n",
    "\n",
    "while cond:\n",
    "#for i in range(lim):\n",
    "    array.append(decoder_new.remove_character())\n",
    "    cond = decoder_new.cont()\n",
    "\n",
    "byte_arr = bytearray(array)\n",
    "\n",
    "len_end = min(len(text), len(array))\n",
    "print(bytearray(array)[:len_end]== text[:len_end])\n",
    "print(len(byte_m.byte_store))"
   ]
  },
  {
   "cell_type": "code",
   "execution_count": 42,
   "id": "3cf483fd",
   "metadata": {},
   "outputs": [
    {
     "data": {
      "text/plain": [
       "1018142"
      ]
     },
     "execution_count": 42,
     "metadata": {},
     "output_type": "execute_result"
    }
   ],
   "source": [
    "k = 5\n",
    "\n",
    "counts = encode.count_dynamic_k(k, new_mode=2)\n",
    "encoder_new = encode.arith_code_enc_k(counts, N)\n",
    "\n",
    "for i in text:\n",
    "    encoder_new.add_character(i)\n",
    "\n",
    "whitespace2 = encoder_new.finalize()\n",
    "\n",
    "byte_arr = [whitespace2]\n",
    "byte_arr.append(len(encoder_new.count_m.alphabet))\n",
    "if byte_arr[1] > 255: byte_arr[1] = 0\n",
    "for i in encoder_new.count_m.alphabet: byte_arr.append(i)\n",
    "\n",
    "with open(filename2, \"wb\") as f:\n",
    "    f.write(bytearray(byte_arr))\n",
    "    f.write(bytearray(encoder_new.byte_encode.byte_store))\n",
    "\n",
    "os.path.getsize(filename2)"
   ]
  },
  {
   "cell_type": "code",
   "execution_count": 43,
   "id": "d8894832",
   "metadata": {},
   "outputs": [
    {
     "name": "stdout",
     "output_type": "stream",
     "text": [
      "True\n",
      "1018142\n"
     ]
    }
   ],
   "source": [
    "counts_d = encode.count_dynamic_k(k, new_mode=2)\n",
    "byte_m = encode.byte_mng_dec()\n",
    "byte_m.load_file(filename2)\n",
    "whitespace = byte_m.read_bits(8)\n",
    "counts_d.load_alphabet_dynamic(byte_m)\n",
    "\n",
    "decoder_new = encode.arith_code_dec_k(counts_d, byte_m, whitespace, N)\n",
    "cond = decoder_new.cont()\n",
    "\n",
    "array = []\n",
    "\n",
    "while cond:\n",
    "#for i in range(lim):\n",
    "    array.append(decoder_new.remove_character())\n",
    "    cond = decoder_new.cont()\n",
    "\n",
    "byte_arr = bytearray(array)\n",
    "\n",
    "len_end = min(len(text), len(array))\n",
    "print(bytearray(array)[:len_end]== text[:len_end])\n",
    "print(len(byte_m.byte_store))"
   ]
  },
  {
   "cell_type": "code",
   "execution_count": 44,
   "id": "97b5f710",
   "metadata": {},
   "outputs": [
    {
     "data": {
      "text/plain": [
       "1013572"
      ]
     },
     "execution_count": 44,
     "metadata": {},
     "output_type": "execute_result"
    }
   ],
   "source": [
    "k = 6\n",
    "\n",
    "counts = encode.count_dynamic_k(k, new_mode=2)\n",
    "encoder_new = encode.arith_code_enc_k(counts, N)\n",
    "\n",
    "for i in text:\n",
    "    encoder_new.add_character(i)\n",
    "\n",
    "whitespace2 = encoder_new.finalize()\n",
    "\n",
    "byte_arr = [whitespace2]\n",
    "byte_arr.append(len(encoder_new.count_m.alphabet))\n",
    "if byte_arr[1] > 255: byte_arr[1] = 0\n",
    "for i in encoder_new.count_m.alphabet: byte_arr.append(i)\n",
    "\n",
    "with open(filename2, \"wb\") as f:\n",
    "    f.write(bytearray(byte_arr))\n",
    "    f.write(bytearray(encoder_new.byte_encode.byte_store))\n",
    "\n",
    "os.path.getsize(filename2)"
   ]
  },
  {
   "cell_type": "code",
   "execution_count": 45,
   "id": "73b228c3",
   "metadata": {},
   "outputs": [
    {
     "name": "stdout",
     "output_type": "stream",
     "text": [
      "True\n"
     ]
    }
   ],
   "source": [
    "counts_d = encode.count_dynamic_k(k, new_mode=2)\n",
    "byte_m = encode.byte_mng_dec()\n",
    "byte_m.load_file(filename2)\n",
    "whitespace = byte_m.read_bits(8)\n",
    "counts_d.load_alphabet_dynamic(byte_m)\n",
    "\n",
    "decoder_new = encode.arith_code_dec_k(counts_d, byte_m, whitespace, N)\n",
    "cond = decoder_new.cont()\n",
    "\n",
    "array = []\n",
    "\n",
    "while cond:\n",
    "#for i in range(lim):\n",
    "    array.append(decoder_new.remove_character())\n",
    "    cond = decoder_new.cont()\n",
    "\n",
    "byte_arr = bytearray(array)\n",
    "\n",
    "len_end = min(len(text), len(array))\n",
    "print(bytearray(array)[:len_end]== text[:len_end])"
   ]
  },
  {
   "cell_type": "code",
   "execution_count": 46,
   "id": "5e5f3c71",
   "metadata": {},
   "outputs": [
    {
     "data": {
      "text/plain": [
       "1024888"
      ]
     },
     "execution_count": 46,
     "metadata": {},
     "output_type": "execute_result"
    }
   ],
   "source": [
    "k = 7\n",
    "\n",
    "counts = encode.count_dynamic_k(k, new_mode=2)\n",
    "encoder_new = encode.arith_code_enc_k(counts, N)\n",
    "\n",
    "for i in text:\n",
    "    encoder_new.add_character(i)\n",
    "\n",
    "whitespace2 = encoder_new.finalize()\n",
    "\n",
    "byte_arr = [whitespace2]\n",
    "byte_arr.append(len(encoder_new.count_m.alphabet))\n",
    "if byte_arr[1] > 255: byte_arr[1] = 0\n",
    "for i in encoder_new.count_m.alphabet: byte_arr.append(i)\n",
    "\n",
    "with open(filename2, \"wb\") as f:\n",
    "    f.write(bytearray(byte_arr))\n",
    "    f.write(bytearray(encoder_new.byte_encode.byte_store))\n",
    "\n",
    "os.path.getsize(filename2)"
   ]
  },
  {
   "cell_type": "code",
   "execution_count": 47,
   "id": "80d6bcdf",
   "metadata": {},
   "outputs": [
    {
     "name": "stdout",
     "output_type": "stream",
     "text": [
      "True\n"
     ]
    }
   ],
   "source": [
    "counts_d = encode.count_dynamic_k(k, new_mode=2)\n",
    "byte_m = encode.byte_mng_dec()\n",
    "byte_m.load_file(filename2)\n",
    "whitespace = byte_m.read_bits(8)\n",
    "counts_d.load_alphabet_dynamic(byte_m)\n",
    "\n",
    "decoder_new = encode.arith_code_dec_k(counts_d, byte_m, whitespace, N)\n",
    "cond = decoder_new.cont()\n",
    "\n",
    "array = []\n",
    "\n",
    "while cond:\n",
    "#for i in range(lim):\n",
    "    array.append(decoder_new.remove_character())\n",
    "    cond = decoder_new.cont()\n",
    "\n",
    "byte_arr = bytearray(array)\n",
    "\n",
    "len_end = min(len(text), len(array))\n",
    "print(bytearray(array)[:len_end]== text[:len_end])"
   ]
  },
  {
   "cell_type": "code",
   "execution_count": 48,
   "id": "432fed5d",
   "metadata": {},
   "outputs": [
    {
     "data": {
      "text/plain": [
       "1041179"
      ]
     },
     "execution_count": 48,
     "metadata": {},
     "output_type": "execute_result"
    }
   ],
   "source": [
    "k = 8\n",
    "\n",
    "counts = encode.count_dynamic_k(k, new_mode=2)\n",
    "encoder_new = encode.arith_code_enc_k(counts, N)\n",
    "\n",
    "for i in text:\n",
    "    encoder_new.add_character(i)\n",
    "\n",
    "whitespace2 = encoder_new.finalize()\n",
    "\n",
    "byte_arr = [whitespace2]\n",
    "byte_arr.append(len(encoder_new.count_m.alphabet))\n",
    "if byte_arr[1] > 255: byte_arr[1] = 0\n",
    "for i in encoder_new.count_m.alphabet: byte_arr.append(i)\n",
    "\n",
    "with open(filename2, \"wb\") as f:\n",
    "    f.write(bytearray(byte_arr))\n",
    "    f.write(bytearray(encoder_new.byte_encode.byte_store))\n",
    "\n",
    "os.path.getsize(filename2)"
   ]
  },
  {
   "cell_type": "code",
   "execution_count": 49,
   "id": "98d83359",
   "metadata": {},
   "outputs": [
    {
     "ename": "ValueError",
     "evalue": "-1 is not in list",
     "output_type": "error",
     "traceback": [
      "\u001b[1;31m---------------------------------------------------------------------------\u001b[0m",
      "\u001b[1;31mValueError\u001b[0m                                Traceback (most recent call last)",
      "Cell \u001b[1;32mIn[49], line 14\u001b[0m\n\u001b[0;32m     10\u001b[0m array \u001b[38;5;241m=\u001b[39m []\n\u001b[0;32m     12\u001b[0m \u001b[38;5;28;01mwhile\u001b[39;00m cond:\n\u001b[0;32m     13\u001b[0m \u001b[38;5;66;03m#for i in range(lim):\u001b[39;00m\n\u001b[1;32m---> 14\u001b[0m     array\u001b[38;5;241m.\u001b[39mappend(decoder_new\u001b[38;5;241m.\u001b[39mremove_character())\n\u001b[0;32m     15\u001b[0m     cond \u001b[38;5;241m=\u001b[39m decoder_new\u001b[38;5;241m.\u001b[39mcont()\n\u001b[0;32m     17\u001b[0m byte_arr \u001b[38;5;241m=\u001b[39m \u001b[38;5;28mbytearray\u001b[39m(array)\n",
      "File \u001b[1;32md:\\Data Analysis\\encode\\ArithmeticDecoder.py:154\u001b[0m, in \u001b[0;36marith_code_dec_k.remove_character\u001b[1;34m(self)\u001b[0m\n\u001b[0;32m    152\u001b[0m \u001b[38;5;28;01mwhile\u001b[39;00m char \u001b[38;5;241m==\u001b[39m \u001b[38;5;241m-\u001b[39m\u001b[38;5;241m1\u001b[39m \u001b[38;5;129;01mand\u001b[39;00m x \u001b[38;5;241m<\u001b[39m \u001b[38;5;28mlen\u001b[39m(\u001b[38;5;28mself\u001b[39m\u001b[38;5;241m.\u001b[39mcontext)\u001b[38;5;241m+\u001b[39m\u001b[38;5;241m1\u001b[39m:\n\u001b[0;32m    153\u001b[0m     ret_arr \u001b[38;5;241m=\u001b[39m \u001b[38;5;28mself\u001b[39m\u001b[38;5;241m.\u001b[39mcount_m\u001b[38;5;241m.\u001b[39mget_counts_full(context, excl \u001b[38;5;241m=\u001b[39m excl)\n\u001b[1;32m--> 154\u001b[0m     char \u001b[38;5;241m=\u001b[39m \u001b[38;5;28mself\u001b[39m\u001b[38;5;241m.\u001b[39mdecode_character(ret_arr[\u001b[38;5;241m-\u001b[39m\u001b[38;5;241m1\u001b[39m])\n\u001b[0;32m    155\u001b[0m     context \u001b[38;5;241m=\u001b[39m context[\u001b[38;5;28mlen\u001b[39m(ret_arr):]\n\u001b[0;32m    156\u001b[0m     x \u001b[38;5;241m=\u001b[39m x \u001b[38;5;241m+\u001b[39m \u001b[38;5;28mlen\u001b[39m(ret_arr)\n",
      "File \u001b[1;32md:\\Data Analysis\\encode\\ArithmeticDecoder.py:188\u001b[0m, in \u001b[0;36marith_code_dec_k.decode_character\u001b[1;34m(self, lib)\u001b[0m\n\u001b[0;32m    186\u001b[0m \u001b[38;5;28;01mif\u001b[39;00m \u001b[38;5;28mself\u001b[39m\u001b[38;5;241m.\u001b[39mnext_byte_outside_window():\n\u001b[0;32m    187\u001b[0m     \u001b[38;5;28mself\u001b[39m\u001b[38;5;241m.\u001b[39mload_window()\n\u001b[1;32m--> 188\u001b[0m     a,char,b \u001b[38;5;241m=\u001b[39m \u001b[38;5;28mself\u001b[39m\u001b[38;5;241m.\u001b[39mnext_window_chars(a,char,b,lib)\n\u001b[0;32m    189\u001b[0m     \u001b[38;5;66;03m# then as before\u001b[39;00m\n\u001b[0;32m    190\u001b[0m     a_pl \u001b[38;5;241m=\u001b[39m math\u001b[38;5;241m.\u001b[39mceil(hl1_N \u001b[38;5;241m*\u001b[39m a)\n",
      "File \u001b[1;32md:\\Data Analysis\\encode\\ArithmeticDecoder.py:269\u001b[0m, in \u001b[0;36marith_code_dec_k.next_window_chars\u001b[1;34m(self, a, char, b, lib)\u001b[0m\n\u001b[0;32m    266\u001b[0m counts \u001b[38;5;241m=\u001b[39m lib[\u001b[38;5;241m1\u001b[39m]\n\u001b[0;32m    268\u001b[0m a \u001b[38;5;241m=\u001b[39m b \u001b[38;5;241m+\u001b[39m \u001b[38;5;241m1\u001b[39m\n\u001b[1;32m--> 269\u001b[0m i \u001b[38;5;241m=\u001b[39m chars\u001b[38;5;241m.\u001b[39mindex(char) \u001b[38;5;241m+\u001b[39m \u001b[38;5;241m1\u001b[39m\n\u001b[0;32m    271\u001b[0m den \u001b[38;5;241m=\u001b[39m \u001b[38;5;28mfloat\u001b[39m(\u001b[38;5;28msum\u001b[39m(counts))\n\u001b[0;32m    272\u001b[0m num \u001b[38;5;241m=\u001b[39m \u001b[38;5;28mfloat\u001b[39m(\u001b[38;5;28msum\u001b[39m(counts[:i\u001b[38;5;241m+\u001b[39m\u001b[38;5;241m1\u001b[39m]))\n",
      "\u001b[1;31mValueError\u001b[0m: -1 is not in list"
     ]
    }
   ],
   "source": [
    "counts_d = encode.count_dynamic_k(k, new_mode=2)\n",
    "byte_m = encode.byte_mng_dec()\n",
    "byte_m.load_file(filename2)\n",
    "whitespace = byte_m.read_bits(8)\n",
    "counts_d.load_alphabet_dynamic(byte_m)\n",
    "\n",
    "decoder_new = encode.arith_code_dec_k(counts_d, byte_m, whitespace, N)\n",
    "cond = decoder_new.cont()\n",
    "\n",
    "array = []\n",
    "\n",
    "while cond:\n",
    "#for i in range(lim):\n",
    "    array.append(decoder_new.remove_character())\n",
    "    cond = decoder_new.cont()\n",
    "\n",
    "byte_arr = bytearray(array)\n",
    "\n",
    "len_end = min(len(text), len(array))\n",
    "print(bytearray(array)[:len_end]== text[:len_end])"
   ]
  }
 ],
 "metadata": {
  "kernelspec": {
   "display_name": "base",
   "language": "python",
   "name": "python3"
  },
  "language_info": {
   "codemirror_mode": {
    "name": "ipython",
    "version": 3
   },
   "file_extension": ".py",
   "mimetype": "text/x-python",
   "name": "python",
   "nbconvert_exporter": "python",
   "pygments_lexer": "ipython3",
   "version": "3.12.9"
  }
 },
 "nbformat": 4,
 "nbformat_minor": 5
}
