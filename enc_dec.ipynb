{
 "cells": [
  {
   "cell_type": "markdown",
   "id": "4b53fb1f",
   "metadata": {},
   "source": [
    "# Run Full"
   ]
  },
  {
   "cell_type": "code",
   "execution_count": 1,
   "id": "aaf9a339",
   "metadata": {},
   "outputs": [],
   "source": [
    "import encode\n",
    "import os\n",
    "import time\n",
    "\n",
    "filename1 = \"MrZoat_WithThisRingS01_Gould.txt\"\n",
    "filename2 = 'test_dynamic'\n",
    "filename3 = 'text_output.txt'\n",
    "N = 64"
   ]
  },
  {
   "cell_type": "code",
   "execution_count": 5,
   "id": "267a4ef8",
   "metadata": {},
   "outputs": [],
   "source": [
    "def run_code_full():\n",
    "    update_exclusion = False\n",
    "    first_choise = True\n",
    "    print('Parameters: ', update_exclusion, first_choise)\n",
    "\n",
    "    k = 6\n",
    "    print(f'k = {k}')\n",
    "    start_time = time.perf_counter()\n",
    "    encode.run_encoder(filename1, filename2, k, N, update_exclusion, first_choise)\n",
    "    stop_time = time.perf_counter()\n",
    "    print(f'Encoder time: {(stop_time-start_time) // 60} m, {(stop_time-start_time)%60} s')\n",
    "    start_time = time.perf_counter()\n",
    "    encode.run_decoder(filename2, filename3)\n",
    "    stop_time = time.perf_counter()\n",
    "    print(f'Decoder time: {(stop_time-start_time) // 60} m, {(stop_time-start_time)%60} s')\n",
    "    print(f'File size: {os.path.getsize(filename2)} bytes')\n",
    "\n",
    "    with open(filename3, 'rb') as f:\n",
    "        text2 = f.read()\n",
    "    print(text==text2)\n",
    "\n",
    "    k = 7\n",
    "    print(f'k = {k}')\n",
    "    start_time = time.perf_counter()\n",
    "    encode.run_encoder(filename1, filename2, k, N, update_exclusion, first_choise)\n",
    "    stop_time = time.perf_counter()\n",
    "    print(f'Encoder time: {(stop_time-start_time) // 60} m, {(stop_time-start_time)%60} s')\n",
    "    start_time = time.perf_counter()\n",
    "    encode.run_decoder(filename2, filename3)\n",
    "    stop_time = time.perf_counter()\n",
    "    print(f'Decoder time: {(stop_time-start_time) // 60} m, {(stop_time-start_time)%60} s')\n",
    "    print(f'File size: {os.path.getsize(filename2)} bytes')\n",
    "\n",
    "    with open(filename3, 'rb') as f:\n",
    "        text2 = f.read()\n",
    "    print(text==text2)\n",
    "\n",
    "    k = 8\n",
    "    print(f'k = {k}')\n",
    "    start_time = time.perf_counter()\n",
    "    encode.run_encoder(filename1, filename2, k, N, update_exclusion, first_choise)\n",
    "    stop_time = time.perf_counter()\n",
    "    print(f'Encoder time: {(stop_time-start_time) // 60} m, {(stop_time-start_time)%60} s')\n",
    "    start_time = time.perf_counter()\n",
    "    encode.run_decoder(filename2, filename3)\n",
    "    stop_time = time.perf_counter()\n",
    "    print(f'Decoder time: {(stop_time-start_time) // 60} m, {(stop_time-start_time)%60} s')\n",
    "    print(f'File size: {os.path.getsize(filename2)} bytes')\n",
    "\n",
    "    with open(filename3, 'rb') as f:\n",
    "        text2 = f.read()\n",
    "    print(text==text2)\n",
    "\n",
    "    k = 9\n",
    "    print(f'k = {k}')\n",
    "    start_time = time.perf_counter()\n",
    "    encode.run_encoder(filename1, filename2, k, N, update_exclusion, first_choise)\n",
    "    stop_time = time.perf_counter()\n",
    "    print(f'Encoder time: {(stop_time-start_time) // 60} m, {(stop_time-start_time)%60} s')\n",
    "    start_time = time.perf_counter()\n",
    "    encode.run_decoder(filename2, filename3)\n",
    "    stop_time = time.perf_counter()\n",
    "    print(f'Decoder time: {(stop_time-start_time) // 60} m, {(stop_time-start_time)%60} s')\n",
    "    print(f'File size: {os.path.getsize(filename2)} bytes')\n",
    "\n",
    "    with open(filename3, 'rb') as f:\n",
    "        text2 = f.read()\n",
    "    print(text==text2)\n"
   ]
  },
  {
   "cell_type": "markdown",
   "id": "0d69b11f",
   "metadata": {},
   "source": [
    "# Text 1"
   ]
  },
  {
   "cell_type": "code",
   "execution_count": 3,
   "id": "f5e33cfd",
   "metadata": {},
   "outputs": [],
   "source": [
    "filename1 = \"MrZoat_WithThisRingS01_Gould.txt\"\n",
    "\n",
    "with open(filename1, 'rb') as f:\n",
    "    text = f.read()"
   ]
  },
  {
   "cell_type": "code",
   "execution_count": 4,
   "id": "2091eaca",
   "metadata": {},
   "outputs": [
    {
     "name": "stdout",
     "output_type": "stream",
     "text": [
      "Parameters:  False True\n",
      "k = 2\n",
      "Encoder time: 2.0 m, 39.05952320000506 s\n",
      "Decoder time: 4.0 m, 18.63150650000898 s\n",
      "File size: 1583600 bytes\n",
      "True\n",
      "k = 3\n",
      "Encoder time: 3.0 m, 14.209877800021786 s\n",
      "Decoder time: 4.0 m, 26.724051600001985 s\n",
      "File size: 1300661 bytes\n",
      "True\n",
      "k = 4\n",
      "Encoder time: 3.0 m, 50.61732170000323 s\n",
      "Decoder time: 4.0 m, 47.35882250001305 s\n",
      "File size: 1150958 bytes\n",
      "True\n",
      "k = 5\n",
      "Encoder time: 4.0 m, 30.782306199980667 s\n",
      "Decoder time: 5.0 m, 19.204801899992162 s\n",
      "File size: 1085207 bytes\n",
      "True\n",
      "k = 6\n",
      "Encoder time: 7.0 m, 3.1988144000060856 s\n",
      "Decoder time: 9.0 m, 9.949406200001249 s\n",
      "File size: 1055325 bytes\n",
      "True\n",
      "k = 7\n",
      "Encoder time: 9.0 m, 36.38818579999497 s\n",
      "Decoder time: 10.0 m, 13.238960499991663 s\n",
      "File size: 1041703 bytes\n",
      "True\n",
      "k = 8\n",
      "Encoder time: 11.0 m, 10.98039070001687 s\n",
      "Decoder time: 11.0 m, 21.78387820001808 s\n",
      "File size: 1039151 bytes\n",
      "k = 9\n",
      "Encoder time: 13.0 m, 2.1242655999958515 s\n",
      "Decoder time: 12.0 m, 38.54946609999752 s\n",
      "File size: 1043447 bytes\n",
      "True\n",
      "k = 10\n",
      "Encoder time: 14.0 m, 55.663463100005174 s\n",
      "Decoder time: 13.0 m, 48.5474247999955 s\n",
      "File size: 1052493 bytes\n"
     ]
    }
   ],
   "source": [
    "run_code_full()"
   ]
  },
  {
   "cell_type": "markdown",
   "id": "1a58d80e",
   "metadata": {},
   "source": [
    "# Text 2"
   ]
  },
  {
   "cell_type": "code",
   "execution_count": 5,
   "id": "f5e33cfd",
   "metadata": {},
   "outputs": [],
   "source": [
    "filename1 = \"Mr.-Zoat-With-This-Ring-S02.txt\"\n",
    "\n",
    "with open(filename1, 'rb') as f:\n",
    "    text = f.read()"
   ]
  },
  {
   "cell_type": "code",
   "execution_count": 6,
   "id": "25e9f350",
   "metadata": {},
   "outputs": [
    {
     "name": "stdout",
     "output_type": "stream",
     "text": [
      "Parameters:  False True\n",
      "k = 2\n",
      "Encoder time: 6.0 m, 38.64246979999007 s\n",
      "Decoder time: 10.0 m, 15.204874199989717 s\n",
      "File size: 2129596 bytes\n",
      "True\n",
      "k = 3\n",
      "Encoder time: 7.0 m, 50.92908800000441 s\n",
      "Decoder time: 10.0 m, 27.76851500000339 s\n",
      "File size: 1739516 bytes\n",
      "True\n",
      "k = 4\n",
      "Encoder time: 9.0 m, 11.361592300003394 s\n",
      "Decoder time: 11.0 m, 16.576787900005 s\n",
      "File size: 1520269 bytes\n",
      "True\n",
      "k = 5\n",
      "Encoder time: 10.0 m, 48.02424470000551 s\n",
      "Decoder time: 12.0 m, 22.938393499993253 s\n",
      "File size: 1430886 bytes\n",
      "True\n",
      "k = 6\n",
      "Encoder time: 12.0 m, 27.85953210000298 s\n",
      "Decoder time: 13.0 m, 38.04580469999928 s\n",
      "File size: 1388465 bytes\n",
      "True\n",
      "k = 7\n",
      "Encoder time: 14.0 m, 15.213308300008066 s\n",
      "Decoder time: 15.0 m, 8.479475800006185 s\n",
      "File size: 1368991 bytes\n",
      "True\n",
      "k = 8\n",
      "Encoder time: 16.0 m, 21.999745200009784 s\n",
      "Decoder time: 16.0 m, 48.024741700006416 s\n",
      "File size: 1363879 bytes\n",
      "k = 9\n",
      "Encoder time: 18.0 m, 46.25746219998109 s\n",
      "Decoder time: 18.0 m, 26.502932899980806 s\n",
      "File size: 1367958 bytes\n",
      "True\n",
      "k = 10\n",
      "Encoder time: 21.0 m, 20.631879499997012 s\n",
      "Decoder time: 19.0 m, 44.360514500003774 s\n",
      "File size: 1378744 bytes\n"
     ]
    }
   ],
   "source": [
    "run_code_full()"
   ]
  },
  {
   "cell_type": "markdown",
   "id": "bb75db5c",
   "metadata": {},
   "source": [
    "# Text 3"
   ]
  },
  {
   "cell_type": "code",
   "execution_count": 7,
   "id": "f5e33cfd",
   "metadata": {},
   "outputs": [],
   "source": [
    "filename1 = \"Mr.-Zoat-With-This-Ring-S02v2.txt\"\n",
    "0\n",
    "with open(filename1, 'rb') as f:\n",
    "    text = f.read()"
   ]
  },
  {
   "cell_type": "code",
   "execution_count": 8,
   "id": "87d81113",
   "metadata": {},
   "outputs": [
    {
     "name": "stdout",
     "output_type": "stream",
     "text": [
      "Parameters:  False True\n",
      "k = 2\n",
      "Encoder time: 4.0 m, 12.767048399982741 s\n",
      "Decoder time: 6.0 m, 34.03267190000042 s\n",
      "File size: 2129376 bytes\n",
      "True\n",
      "k = 3\n",
      "Encoder time: 4.0 m, 58.56237169998349 s\n",
      "Decoder time: 6.0 m, 41.541616599977715 s\n",
      "File size: 1739267 bytes\n",
      "True\n",
      "k = 4\n",
      "Encoder time: 5.0 m, 50.326671899994835 s\n",
      "Decoder time: 7.0 m, 10.879406099993503 s\n",
      "File size: 1519992 bytes\n",
      "True\n",
      "k = 5\n",
      "Encoder time: 6.0 m, 45.358849899988854 s\n",
      "Decoder time: 7.0 m, 52.81553849999909 s\n",
      "File size: 1430598 bytes\n",
      "True\n",
      "k = 6\n",
      "Encoder time: 7.0 m, 46.94305929998518 s\n",
      "Decoder time: 8.0 m, 42.731573600001866 s\n",
      "File size: 1388150 bytes\n",
      "True\n",
      "k = 7\n",
      "Encoder time: 8.0 m, 59.307742699980736 s\n",
      "Decoder time: 9.0 m, 38.29468560000532 s\n",
      "File size: 1368667 bytes\n",
      "True\n",
      "k = 8\n",
      "Encoder time: 10.0 m, 19.74900290000369 s\n",
      "Decoder time: 10.0 m, 42.08130639998126 s\n",
      "File size: 1363552 bytes\n",
      "k = 9\n",
      "Encoder time: 11.0 m, 49.484676299995044 s\n",
      "Decoder time: 11.0 m, 48.34405409998726 s\n",
      "File size: 1367627 bytes\n",
      "True\n",
      "k = 10\n",
      "Encoder time: 13.0 m, 28.126121800014516 s\n",
      "Decoder time: 13.0 m, 2.619111400010297 s\n",
      "File size: 1378410 bytes\n"
     ]
    }
   ],
   "source": [
    "run_code_full()"
   ]
  },
  {
   "cell_type": "markdown",
   "id": "7e17c318",
   "metadata": {},
   "source": [
    "# Reverse"
   ]
  },
  {
   "cell_type": "code",
   "execution_count": 3,
   "id": "f5e33cfd",
   "metadata": {},
   "outputs": [],
   "source": [
    "filename1 = \"MrZoat_WithThisRingS01_Gould.txt\"\n",
    "filename4 = \"MrZoat_WithThisRing_reverse.txt\"\n",
    "\n",
    "with open(filename1, 'rb') as f:\n",
    "    text = f.read()\n",
    "\n",
    "text = bytearray(text)\n",
    "bytearray.reverse(text)\n",
    "\n",
    "with open(filename4, 'wb') as f:\n",
    "    f.write(text)\n",
    "\n",
    "filename1 = filename4"
   ]
  },
  {
   "cell_type": "code",
   "execution_count": 4,
   "id": "c96e8a8f",
   "metadata": {},
   "outputs": [
    {
     "name": "stdout",
     "output_type": "stream",
     "text": [
      "bytearray(b'\".kaerb ot ereht gnihtyna neeb reven s\\'ereht nehw pu sgniht hctap uoy gnipleh ton m\\'I tuB\" .llah niam eht ta pu tniop I \".ereht pu tsuj s\\'eh ,mih ot klat ot tnaw uoy fI .tuoba mih ssem ..si od lliw wo')\n"
     ]
    }
   ],
   "source": [
    "print(text[:200])"
   ]
  },
  {
   "cell_type": "code",
   "execution_count": 6,
   "id": "575475d8",
   "metadata": {},
   "outputs": [
    {
     "name": "stdout",
     "output_type": "stream",
     "text": [
      "Parameters:  False True\n",
      "k = 6\n",
      "Encoder time: 5.0 m, 5.280304000014439 s\n",
      "Decoder time: 5.0 m, 33.235195800021756 s\n",
      "File size: 1058296 bytes\n",
      "True\n",
      "k = 7\n",
      "Encoder time: 5.0 m, 48.84488730004523 s\n",
      "Decoder time: 6.0 m, 12.641104899987113 s\n",
      "File size: 1043577 bytes\n",
      "True\n",
      "k = 8\n",
      "Encoder time: 6.0 m, 43.69477599998936 s\n",
      "Decoder time: 6.0 m, 57.40064380003605 s\n",
      "File size: 1040216 bytes\n",
      "True\n",
      "k = 9\n",
      "Encoder time: 7.0 m, 48.08223790000193 s\n",
      "Decoder time: 7.0 m, 41.98206259997096 s\n",
      "File size: 1044944 bytes\n",
      "True\n"
     ]
    }
   ],
   "source": [
    "run_code_full()"
   ]
  },
  {
   "cell_type": "markdown",
   "id": "9350267c",
   "metadata": {},
   "source": [
    "# Decap"
   ]
  },
  {
   "cell_type": "code",
   "execution_count": 11,
   "id": "f5e33cfd",
   "metadata": {},
   "outputs": [],
   "source": [
    "filename1 = \"MrZoat_WithThisRing_decap.txt\"\n",
    "\n",
    "with open(filename1, 'rb') as f:\n",
    "    text = f.read()"
   ]
  },
  {
   "cell_type": "code",
   "execution_count": 12,
   "id": "0e4813f7",
   "metadata": {},
   "outputs": [
    {
     "name": "stdout",
     "output_type": "stream",
     "text": [
      "Parameters:  False True\n",
      "k = 2\n",
      "Encoder time: 2.0 m, 17.16228710001451 s\n",
      "Decoder time: 3.0 m, 42.51053540001158 s\n",
      "File size: 1574333 bytes\n",
      "True\n",
      "k = 3\n",
      "Encoder time: 2.0 m, 47.42145160000655 s\n",
      "Decoder time: 3.0 m, 48.93993560000672 s\n",
      "File size: 1293448 bytes\n",
      "True\n",
      "k = 4\n",
      "Encoder time: 3.0 m, 20.98254659998929 s\n",
      "Decoder time: 4.0 m, 10.229167500016047 s\n",
      "File size: 1145795 bytes\n",
      "True\n",
      "k = 5\n",
      "Encoder time: 3.0 m, 58.30688960000407 s\n",
      "Decoder time: 4.0 m, 39.993593199993484 s\n",
      "File size: 1079505 bytes\n",
      "True\n",
      "k = 6\n",
      "Encoder time: 4.0 m, 41.16358960000798 s\n",
      "Decoder time: 5.0 m, 15.381060799991246 s\n",
      "File size: 1048529 bytes\n",
      "True\n",
      "k = 7\n",
      "Encoder time: 5.0 m, 31.066247599985218 s\n",
      "Decoder time: 5.0 m, 54.79512920000707 s\n",
      "File size: 1034037 bytes\n",
      "True\n",
      "k = 8\n",
      "Encoder time: 6.0 m, 27.946340900001815 s\n",
      "Decoder time: 6.0 m, 38.189393300010124 s\n",
      "File size: 1030570 bytes\n",
      "k = 9\n",
      "Encoder time: 7.0 m, 30.668354599998565 s\n",
      "Decoder time: 7.0 m, 24.175079099979484 s\n",
      "File size: 1033898 bytes\n",
      "True\n",
      "k = 10\n",
      "Encoder time: 8.0 m, 38.422293499985244 s\n",
      "Decoder time: 8.0 m, 13.727240999985952 s\n",
      "File size: 1041777 bytes\n"
     ]
    }
   ],
   "source": [
    "run_code_full()"
   ]
  },
  {
   "cell_type": "markdown",
   "id": "acf22c36",
   "metadata": {},
   "source": [
    "# Decap Reverse"
   ]
  },
  {
   "cell_type": "code",
   "execution_count": 13,
   "id": "f5e33cfd",
   "metadata": {},
   "outputs": [],
   "source": [
    "filename1 = \"MrZoat_WithThisRing_decap_reverse.txt\"\n",
    "\n",
    "with open(filename1, 'rb') as f:\n",
    "    text = f.read()"
   ]
  },
  {
   "cell_type": "code",
   "execution_count": 14,
   "id": "3255ec26",
   "metadata": {},
   "outputs": [
    {
     "name": "stdout",
     "output_type": "stream",
     "text": [
      "Parameters:  False True\n",
      "k = 2\n",
      "Encoder time: 2.0 m, 11.783080900000641 s\n",
      "Decoder time: 3.0 m, 32.23658319999231 s\n",
      "File size: 1593193 bytes\n",
      "True\n",
      "k = 3\n",
      "Encoder time: 2.0 m, 40.36216119999881 s\n",
      "Decoder time: 3.0 m, 44.00578669999959 s\n",
      "File size: 1315432 bytes\n",
      "True\n",
      "k = 4\n",
      "Encoder time: 3.0 m, 13.3855003999779 s\n",
      "Decoder time: 4.0 m, 4.913331799994921 s\n",
      "File size: 1159131 bytes\n",
      "True\n",
      "k = 5\n",
      "Encoder time: 3.0 m, 53.43205850000959 s\n",
      "Decoder time: 4.0 m, 34.07061480000266 s\n",
      "File size: 1090427 bytes\n",
      "True\n",
      "k = 6\n",
      "Encoder time: 4.0 m, 32.84771850000834 s\n",
      "Decoder time: 5.0 m, 8.250732600019546 s\n",
      "File size: 1055152 bytes\n",
      "True\n",
      "k = 7\n",
      "Encoder time: 5.0 m, 20.967370300000766 s\n",
      "Decoder time: 5.0 m, 47.03723419999005 s\n",
      "File size: 1038521 bytes\n",
      "True\n",
      "k = 8\n",
      "Encoder time: 6.0 m, 16.372735100012505 s\n",
      "Decoder time: 6.0 m, 30.18135169998277 s\n",
      "File size: 1034643 bytes\n",
      "k = 9\n",
      "Encoder time: 7.0 m, 18.108336900011636 s\n",
      "Decoder time: 7.0 m, 15.628775999997742 s\n",
      "File size: 1039542 bytes\n",
      "True\n",
      "k = 10\n",
      "Encoder time: 8.0 m, 27.06911670003319 s\n",
      "Decoder time: 8.0 m, 2.4539933999767527 s\n",
      "File size: 1048461 bytes\n"
     ]
    }
   ],
   "source": [
    "run_code_full()"
   ]
  },
  {
   "cell_type": "markdown",
   "id": "3b60db8d",
   "metadata": {},
   "source": [
    "# Text 4"
   ]
  },
  {
   "cell_type": "code",
   "execution_count": 15,
   "id": "f5e33cfd",
   "metadata": {},
   "outputs": [],
   "source": [
    "filename1 = \"Mr.-Zoat-With-This-Ring-S01S02.txt\"\n",
    "\n",
    "with open(filename1, 'rb') as f:\n",
    "    text = f.read()"
   ]
  },
  {
   "cell_type": "code",
   "execution_count": 16,
   "id": "3d142898",
   "metadata": {},
   "outputs": [
    {
     "name": "stdout",
     "output_type": "stream",
     "text": [
      "Parameters:  False True\n",
      "k = 2\n",
      "Encoder time: 6.0 m, 54.63450939999893 s\n",
      "Decoder time: 11.0 m, 23.78767540003173 s\n",
      "File size: 3747450 bytes\n",
      "True\n",
      "k = 3\n",
      "Encoder time: 8.0 m, 18.649231099989265 s\n",
      "Decoder time: 11.0 m, 38.72899490001146 s\n",
      "File size: 3055941 bytes\n",
      "True\n",
      "k = 4\n",
      "Encoder time: 9.0 m, 49.98057479999261 s\n",
      "Decoder time: 12.0 m, 31.912642299954314 s\n",
      "File size: 2670866 bytes\n",
      "True\n",
      "k = 5\n",
      "Encoder time: 11.0 m, 21.743420400016475 s\n",
      "Decoder time: 13.0 m, 42.854837300023064 s\n",
      "File size: 2503225 bytes\n",
      "True\n",
      "k = 6\n",
      "Encoder time: 13.0 m, 6.9222361000138335 s\n",
      "Decoder time: 15.0 m, 5.237852199992631 s\n",
      "File size: 2419931 bytes\n",
      "True\n",
      "k = 7\n",
      "Encoder time: 15.0 m, 4.064786800008733 s\n",
      "Decoder time: 16.0 m, 41.413559500011615 s\n",
      "File size: 2376351 bytes\n",
      "True\n",
      "k = 8\n",
      "Encoder time: 17.0 m, 24.12209849996725 s\n",
      "Decoder time: 18.0 m, 26.42526970000472 s\n",
      "File size: 2357563 bytes\n",
      "k = 9\n",
      "Encoder time: 19.0 m, 51.629402599995956 s\n",
      "Decoder time: 20.0 m, 19.844848799984902 s\n",
      "File size: 2357561 bytes\n",
      "True\n",
      "k = 10\n",
      "Encoder time: 22.0 m, 42.44343280000612 s\n",
      "Decoder time: 22.0 m, 27.829972099978477 s\n",
      "File size: 2370590 bytes\n"
     ]
    }
   ],
   "source": [
    "run_code_full()"
   ]
  },
  {
   "cell_type": "code",
   "execution_count": null,
   "id": "c20ec630",
   "metadata": {},
   "outputs": [],
   "source": []
  }
 ],
 "metadata": {
  "kernelspec": {
   "display_name": "base",
   "language": "python",
   "name": "python3"
  },
  "language_info": {
   "codemirror_mode": {
    "name": "ipython",
    "version": 3
   },
   "file_extension": ".py",
   "mimetype": "text/x-python",
   "name": "python",
   "nbconvert_exporter": "python",
   "pygments_lexer": "ipython3",
   "version": "3.12.9"
  }
 },
 "nbformat": 4,
 "nbformat_minor": 5
}
