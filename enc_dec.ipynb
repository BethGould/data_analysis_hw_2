{
 "cells": [
  {
   "cell_type": "markdown",
   "id": "0d69b11f",
   "metadata": {},
   "source": [
    "# Text 1"
   ]
  },
  {
   "cell_type": "code",
   "execution_count": null,
   "id": "f5e33cfd",
   "metadata": {},
   "outputs": [],
   "source": [
    "import encode\n",
    "import os\n",
    "\n",
    "filename1 = \"MrZoat_WithThisRingS01_Gould.txt\"\n",
    "filename2 = 'test_dynamic'\n",
    "N = 64\n",
    "\n",
    "with open(filename1, 'rb') as f:\n",
    "    text = f.read()"
   ]
  },
  {
   "cell_type": "code",
   "execution_count": 5,
   "id": "07b467ce",
   "metadata": {},
   "outputs": [
    {
     "name": "stdout",
     "output_type": "stream",
     "text": [
      "4\n"
     ]
    }
   ],
   "source": [
    "print(encode.find_k(text))"
   ]
  },
  {
   "cell_type": "code",
   "execution_count": null,
   "id": "a390df65",
   "metadata": {},
   "outputs": [],
   "source": [
    "k = 2\n",
    "\n",
    "counts = encode.count_dynamic_k(k, new_mode=2)\n",
    "encoder_new = encode.arith_code_enc_k(counts, N)\n",
    "\n",
    "for i in text:\n",
    "    encoder_new.add_character(i)\n",
    "\n",
    "whitespace2 = encoder_new.finalize()\n",
    "\n",
    "byte_arr = [whitespace2]\n",
    "byte_arr.append(len(encoder_new.count_m.alphabet))\n",
    "if byte_arr[1] > 255: byte_arr[1] = 0\n",
    "for i in encoder_new.count_m.alphabet: byte_arr.append(i)\n",
    "\n",
    "with open(filename2, \"wb\") as f:\n",
    "    f.write(bytearray(byte_arr))\n",
    "    f.write(bytearray(encoder_new.byte_encode.byte_store))\n",
    "\n",
    "os.path.getsize(filename2)"
   ]
  },
  {
   "cell_type": "code",
   "execution_count": null,
   "id": "0c656cb8",
   "metadata": {},
   "outputs": [],
   "source": [
    "counts_d = encode.count_dynamic_k(k, new_mode=2)\n",
    "byte_m = encode.byte_mng_dec()\n",
    "byte_m.load_file(filename2)\n",
    "whitespace = byte_m.read_bits(8)\n",
    "counts_d.load_alphabet_dynamic(byte_m)\n",
    "\n",
    "decoder_new = encode.arith_code_dec_k(counts_d, byte_m, whitespace, N)\n",
    "cond = decoder_new.cont()\n",
    "\n",
    "array = []\n",
    "\n",
    "while cond:\n",
    "#for i in range(lim):\n",
    "    array.append(decoder_new.remove_character())\n",
    "    cond = decoder_new.cont()\n",
    "\n",
    "byte_arr = bytearray(array)\n",
    "\n",
    "len_end = min(len(text), len(array))\n",
    "print(bytearray(array)[:len_end]== text[:len_end])\n",
    "print(len(byte_m.byte_store))"
   ]
  },
  {
   "cell_type": "code",
   "execution_count": null,
   "id": "15905563",
   "metadata": {},
   "outputs": [],
   "source": [
    "k = 3\n",
    "\n",
    "counts = encode.count_dynamic_k(k, new_mode=2)\n",
    "encoder_new = encode.arith_code_enc_k(counts, N)\n",
    "\n",
    "for i in text:\n",
    "    encoder_new.add_character(i)\n",
    "\n",
    "whitespace2 = encoder_new.finalize()\n",
    "\n",
    "byte_arr = [whitespace2]\n",
    "byte_arr.append(len(encoder_new.count_m.alphabet))\n",
    "if byte_arr[1] > 255: byte_arr[1] = 0\n",
    "for i in encoder_new.count_m.alphabet: byte_arr.append(i)\n",
    "\n",
    "with open(filename2, \"wb\") as f:\n",
    "    f.write(bytearray(byte_arr))\n",
    "    f.write(bytearray(encoder_new.byte_encode.byte_store))\n",
    "\n",
    "os.path.getsize(filename2)"
   ]
  },
  {
   "cell_type": "code",
   "execution_count": null,
   "id": "40f0f675",
   "metadata": {},
   "outputs": [
    {
     "name": "stdout",
     "output_type": "stream",
     "text": [
      "True\n",
      "1593289\n"
     ]
    }
   ],
   "source": [
    "counts_d = encode.count_dynamic_k(k, new_mode=2)\n",
    "byte_m = encode.byte_mng_dec()\n",
    "byte_m.load_file(filename2)\n",
    "whitespace = byte_m.read_bits(8)\n",
    "counts_d.load_alphabet_dynamic(byte_m)\n",
    "\n",
    "decoder_new = encode.arith_code_dec_k(counts_d, byte_m, whitespace, N)\n",
    "cond = decoder_new.cont()\n",
    "\n",
    "array = []\n",
    "\n",
    "while cond:\n",
    "#for i in range(lim):\n",
    "    array.append(decoder_new.remove_character())\n",
    "    cond = decoder_new.cont()\n",
    "\n",
    "byte_arr = bytearray(array)\n",
    "\n",
    "len_end = min(len(text), len(array))\n",
    "print(bytearray(array)[:len_end]== text[:len_end])\n",
    "print(len(byte_m.byte_store))"
   ]
  },
  {
   "cell_type": "code",
   "execution_count": null,
   "id": "2a66c2c9",
   "metadata": {},
   "outputs": [
    {
     "data": {
      "text/plain": [
       "1399128"
      ]
     },
     "execution_count": 138,
     "metadata": {},
     "output_type": "execute_result"
    }
   ],
   "source": [
    "k = 4\n",
    "\n",
    "counts = encode.count_dynamic_k(k, new_mode=2)\n",
    "encoder_new = encode.arith_code_enc_k(counts, N)\n",
    "\n",
    "for i in text:\n",
    "    encoder_new.add_character(i)\n",
    "\n",
    "whitespace2 = encoder_new.finalize()\n",
    "\n",
    "byte_arr = [whitespace2]\n",
    "byte_arr.append(len(encoder_new.count_m.alphabet))\n",
    "if byte_arr[1] > 255: byte_arr[1] = 0\n",
    "for i in encoder_new.count_m.alphabet: byte_arr.append(i)\n",
    "\n",
    "with open(filename2, \"wb\") as f:\n",
    "    f.write(bytearray(byte_arr))\n",
    "    f.write(bytearray(encoder_new.byte_encode.byte_store))\n",
    "\n",
    "os.path.getsize(filename2)"
   ]
  },
  {
   "cell_type": "code",
   "execution_count": null,
   "id": "6fa62cb2",
   "metadata": {},
   "outputs": [
    {
     "name": "stdout",
     "output_type": "stream",
     "text": [
      "True\n",
      "1399128\n"
     ]
    }
   ],
   "source": [
    "counts_d = encode.count_dynamic_k(k, new_mode=2)\n",
    "byte_m = encode.byte_mng_dec()\n",
    "byte_m.load_file(filename2)\n",
    "whitespace = byte_m.read_bits(8)\n",
    "counts_d.load_alphabet_dynamic(byte_m)\n",
    "\n",
    "decoder_new = encode.arith_code_dec_k(counts_d, byte_m, whitespace, N)\n",
    "cond = decoder_new.cont()\n",
    "\n",
    "array = []\n",
    "\n",
    "while cond:\n",
    "#for i in range(lim):\n",
    "    array.append(decoder_new.remove_character())\n",
    "    cond = decoder_new.cont()\n",
    "\n",
    "byte_arr = bytearray(array)\n",
    "\n",
    "len_end = min(len(text), len(array))\n",
    "print(bytearray(array)[:len_end]== text[:len_end])\n",
    "print(len(byte_m.byte_store))"
   ]
  },
  {
   "cell_type": "code",
   "execution_count": null,
   "id": "3cf483fd",
   "metadata": {},
   "outputs": [
    {
     "data": {
      "text/plain": [
       "1335207"
      ]
     },
     "execution_count": 140,
     "metadata": {},
     "output_type": "execute_result"
    }
   ],
   "source": [
    "k = 5\n",
    "\n",
    "counts = encode.count_dynamic_k(k, new_mode=2)\n",
    "encoder_new = encode.arith_code_enc_k(counts, N)\n",
    "\n",
    "for i in text:\n",
    "    encoder_new.add_character(i)\n",
    "\n",
    "whitespace2 = encoder_new.finalize()\n",
    "\n",
    "byte_arr = [whitespace2]\n",
    "byte_arr.append(len(encoder_new.count_m.alphabet))\n",
    "if byte_arr[1] > 255: byte_arr[1] = 0\n",
    "for i in encoder_new.count_m.alphabet: byte_arr.append(i)\n",
    "\n",
    "with open(filename2, \"wb\") as f:\n",
    "    f.write(bytearray(byte_arr))\n",
    "    f.write(bytearray(encoder_new.byte_encode.byte_store))\n",
    "\n",
    "os.path.getsize(filename2)"
   ]
  },
  {
   "cell_type": "code",
   "execution_count": null,
   "id": "d8894832",
   "metadata": {},
   "outputs": [
    {
     "name": "stdout",
     "output_type": "stream",
     "text": [
      "True\n",
      "1335207\n"
     ]
    }
   ],
   "source": [
    "counts_d = encode.count_dynamic_k(k, new_mode=2)\n",
    "byte_m = encode.byte_mng_dec()\n",
    "byte_m.load_file(filename2)\n",
    "whitespace = byte_m.read_bits(8)\n",
    "counts_d.load_alphabet_dynamic(byte_m)\n",
    "\n",
    "decoder_new = encode.arith_code_dec_k(counts_d, byte_m, whitespace, N)\n",
    "cond = decoder_new.cont()\n",
    "\n",
    "array = []\n",
    "\n",
    "while cond:\n",
    "#for i in range(lim):\n",
    "    array.append(decoder_new.remove_character())\n",
    "    cond = decoder_new.cont()\n",
    "\n",
    "byte_arr = bytearray(array)\n",
    "\n",
    "len_end = min(len(text), len(array))\n",
    "print(bytearray(array)[:len_end]== text[:len_end])\n",
    "print(len(byte_m.byte_store))"
   ]
  },
  {
   "cell_type": "code",
   "execution_count": null,
   "id": "97b5f710",
   "metadata": {},
   "outputs": [
    {
     "data": {
      "text/plain": [
       "1324756"
      ]
     },
     "execution_count": 148,
     "metadata": {},
     "output_type": "execute_result"
    }
   ],
   "source": [
    "k = 6\n",
    "\n",
    "counts = encode.count_dynamic_k(k, new_mode=2)\n",
    "encoder_new = encode.arith_code_enc_k(counts, N)\n",
    "\n",
    "for i in text:\n",
    "    encoder_new.add_character(i)\n",
    "\n",
    "whitespace2 = encoder_new.finalize()\n",
    "\n",
    "byte_arr = [whitespace2]\n",
    "byte_arr.append(len(encoder_new.count_m.alphabet))\n",
    "if byte_arr[1] > 255: byte_arr[1] = 0\n",
    "for i in encoder_new.count_m.alphabet: byte_arr.append(i)\n",
    "\n",
    "with open(filename2, \"wb\") as f:\n",
    "    f.write(bytearray(byte_arr))\n",
    "    f.write(bytearray(encoder_new.byte_encode.byte_store))\n",
    "\n",
    "os.path.getsize(filename2)"
   ]
  },
  {
   "cell_type": "code",
   "execution_count": null,
   "id": "73b228c3",
   "metadata": {},
   "outputs": [
    {
     "name": "stdout",
     "output_type": "stream",
     "text": [
      "True\n"
     ]
    }
   ],
   "source": [
    "counts_d = encode.count_dynamic_k(k, new_mode=2)\n",
    "byte_m = encode.byte_mng_dec()\n",
    "byte_m.load_file(filename2)\n",
    "whitespace = byte_m.read_bits(8)\n",
    "counts_d.load_alphabet_dynamic(byte_m)\n",
    "\n",
    "decoder_new = encode.arith_code_dec_k(counts_d, byte_m, whitespace, N)\n",
    "cond = decoder_new.cont()\n",
    "\n",
    "array = []\n",
    "\n",
    "while cond:\n",
    "#for i in range(lim):\n",
    "    array.append(decoder_new.remove_character())\n",
    "    cond = decoder_new.cont()\n",
    "\n",
    "byte_arr = bytearray(array)\n",
    "\n",
    "len_end = min(len(text), len(array))\n",
    "print(bytearray(array)[:len_end]== text[:len_end])"
   ]
  },
  {
   "cell_type": "code",
   "execution_count": null,
   "id": "5e5f3c71",
   "metadata": {},
   "outputs": [
    {
     "data": {
      "text/plain": [
       "1337819"
      ]
     },
     "execution_count": 144,
     "metadata": {},
     "output_type": "execute_result"
    }
   ],
   "source": [
    "k = 7\n",
    "\n",
    "counts = encode.count_dynamic_k(k, new_mode=2)\n",
    "encoder_new = encode.arith_code_enc_k(counts, N)\n",
    "\n",
    "for i in text:\n",
    "    encoder_new.add_character(i)\n",
    "\n",
    "whitespace2 = encoder_new.finalize()\n",
    "\n",
    "byte_arr = [whitespace2]\n",
    "byte_arr.append(len(encoder_new.count_m.alphabet))\n",
    "if byte_arr[1] > 255: byte_arr[1] = 0\n",
    "for i in encoder_new.count_m.alphabet: byte_arr.append(i)\n",
    "\n",
    "with open(filename2, \"wb\") as f:\n",
    "    f.write(bytearray(byte_arr))\n",
    "    f.write(bytearray(encoder_new.byte_encode.byte_store))\n",
    "\n",
    "os.path.getsize(filename2)"
   ]
  },
  {
   "cell_type": "code",
   "execution_count": null,
   "id": "80d6bcdf",
   "metadata": {},
   "outputs": [
    {
     "name": "stdout",
     "output_type": "stream",
     "text": [
      "True\n"
     ]
    }
   ],
   "source": [
    "counts_d = encode.count_dynamic_k(k, new_mode=2)\n",
    "byte_m = encode.byte_mng_dec()\n",
    "byte_m.load_file(filename2)\n",
    "whitespace = byte_m.read_bits(8)\n",
    "counts_d.load_alphabet_dynamic(byte_m)\n",
    "\n",
    "decoder_new = encode.arith_code_dec_k(counts_d, byte_m, whitespace, N)\n",
    "cond = decoder_new.cont()\n",
    "\n",
    "array = []\n",
    "\n",
    "while cond:\n",
    "#for i in range(lim):\n",
    "    array.append(decoder_new.remove_character())\n",
    "    cond = decoder_new.cont()\n",
    "\n",
    "byte_arr = bytearray(array)\n",
    "\n",
    "len_end = min(len(text), len(array))\n",
    "print(bytearray(array)[:len_end]== text[:len_end])"
   ]
  },
  {
   "cell_type": "code",
   "execution_count": null,
   "id": "432fed5d",
   "metadata": {},
   "outputs": [
    {
     "data": {
      "text/plain": [
       "1359126"
      ]
     },
     "execution_count": 146,
     "metadata": {},
     "output_type": "execute_result"
    }
   ],
   "source": [
    "k = 8\n",
    "\n",
    "counts = encode.count_dynamic_k(k, new_mode=2)\n",
    "encoder_new = encode.arith_code_enc_k(counts, N)\n",
    "\n",
    "for i in text:\n",
    "    encoder_new.add_character(i)\n",
    "\n",
    "whitespace2 = encoder_new.finalize()\n",
    "\n",
    "byte_arr = [whitespace2]\n",
    "byte_arr.append(len(encoder_new.count_m.alphabet))\n",
    "if byte_arr[1] > 255: byte_arr[1] = 0\n",
    "for i in encoder_new.count_m.alphabet: byte_arr.append(i)\n",
    "\n",
    "with open(filename2, \"wb\") as f:\n",
    "    f.write(bytearray(byte_arr))\n",
    "    f.write(bytearray(encoder_new.byte_encode.byte_store))\n",
    "\n",
    "os.path.getsize(filename2)"
   ]
  },
  {
   "cell_type": "code",
   "execution_count": null,
   "id": "98d83359",
   "metadata": {},
   "outputs": [
    {
     "name": "stdout",
     "output_type": "stream",
     "text": [
      "True\n"
     ]
    }
   ],
   "source": [
    "counts_d = encode.count_dynamic_k(k, new_mode=2)\n",
    "byte_m = encode.byte_mng_dec()\n",
    "byte_m.load_file(filename2)\n",
    "whitespace = byte_m.read_bits(8)\n",
    "counts_d.load_alphabet_dynamic(byte_m)\n",
    "\n",
    "decoder_new = encode.arith_code_dec_k(counts_d, byte_m, whitespace, N)\n",
    "cond = decoder_new.cont()\n",
    "\n",
    "array = []\n",
    "\n",
    "while cond:\n",
    "#for i in range(lim):\n",
    "    array.append(decoder_new.remove_character())\n",
    "    cond = decoder_new.cont()\n",
    "\n",
    "byte_arr = bytearray(array)\n",
    "\n",
    "len_end = min(len(text), len(array))\n",
    "print(bytearray(array)[:len_end]== text[:len_end])"
   ]
  },
  {
   "cell_type": "markdown",
   "id": "1a58d80e",
   "metadata": {},
   "source": [
    "# Text 2"
   ]
  },
  {
   "cell_type": "code",
   "execution_count": null,
   "id": "f5e33cfd",
   "metadata": {},
   "outputs": [],
   "source": [
    "filename1 = \"Mr.-Zoat-With-This-Ring-S02.txt\"\n",
    "filename2 = 'test_dynamic'\n",
    "N = 64\n",
    "\n",
    "with open(filename1, 'rb') as f:\n",
    "    text = f.read()"
   ]
  },
  {
   "cell_type": "code",
   "execution_count": 5,
   "id": "07b467ce",
   "metadata": {},
   "outputs": [
    {
     "name": "stdout",
     "output_type": "stream",
     "text": [
      "4\n"
     ]
    }
   ],
   "source": [
    "print(encode.find_k(text))"
   ]
  },
  {
   "cell_type": "code",
   "execution_count": null,
   "id": "a390df65",
   "metadata": {},
   "outputs": [],
   "source": [
    "k = 2\n",
    "\n",
    "counts = encode.count_dynamic_k(k, new_mode=2)\n",
    "encoder_new = encode.arith_code_enc_k(counts, N)\n",
    "\n",
    "for i in text:\n",
    "    encoder_new.add_character(i)\n",
    "\n",
    "whitespace2 = encoder_new.finalize()\n",
    "\n",
    "byte_arr = [whitespace2]\n",
    "byte_arr.append(len(encoder_new.count_m.alphabet))\n",
    "if byte_arr[1] > 255: byte_arr[1] = 0\n",
    "for i in encoder_new.count_m.alphabet: byte_arr.append(i)\n",
    "\n",
    "with open(filename2, \"wb\") as f:\n",
    "    f.write(bytearray(byte_arr))\n",
    "    f.write(bytearray(encoder_new.byte_encode.byte_store))\n",
    "\n",
    "os.path.getsize(filename2)"
   ]
  },
  {
   "cell_type": "code",
   "execution_count": null,
   "id": "0c656cb8",
   "metadata": {},
   "outputs": [],
   "source": [
    "counts_d = encode.count_dynamic_k(k, new_mode=2)\n",
    "byte_m = encode.byte_mng_dec()\n",
    "byte_m.load_file(filename2)\n",
    "whitespace = byte_m.read_bits(8)\n",
    "counts_d.load_alphabet_dynamic(byte_m)\n",
    "\n",
    "decoder_new = encode.arith_code_dec_k(counts_d, byte_m, whitespace, N)\n",
    "cond = decoder_new.cont()\n",
    "\n",
    "array = []\n",
    "\n",
    "while cond:\n",
    "#for i in range(lim):\n",
    "    array.append(decoder_new.remove_character())\n",
    "    cond = decoder_new.cont()\n",
    "\n",
    "byte_arr = bytearray(array)\n",
    "\n",
    "len_end = min(len(text), len(array))\n",
    "print(bytearray(array)[:len_end]== text[:len_end])\n",
    "print(len(byte_m.byte_store))"
   ]
  },
  {
   "cell_type": "code",
   "execution_count": null,
   "id": "15905563",
   "metadata": {},
   "outputs": [],
   "source": [
    "k = 3\n",
    "\n",
    "counts = encode.count_dynamic_k(k, new_mode=2)\n",
    "encoder_new = encode.arith_code_enc_k(counts, N)\n",
    "\n",
    "for i in text:\n",
    "    encoder_new.add_character(i)\n",
    "\n",
    "whitespace2 = encoder_new.finalize()\n",
    "\n",
    "byte_arr = [whitespace2]\n",
    "byte_arr.append(len(encoder_new.count_m.alphabet))\n",
    "if byte_arr[1] > 255: byte_arr[1] = 0\n",
    "for i in encoder_new.count_m.alphabet: byte_arr.append(i)\n",
    "\n",
    "with open(filename2, \"wb\") as f:\n",
    "    f.write(bytearray(byte_arr))\n",
    "    f.write(bytearray(encoder_new.byte_encode.byte_store))\n",
    "\n",
    "os.path.getsize(filename2)"
   ]
  },
  {
   "cell_type": "code",
   "execution_count": null,
   "id": "40f0f675",
   "metadata": {},
   "outputs": [
    {
     "name": "stdout",
     "output_type": "stream",
     "text": [
      "True\n",
      "1593289\n"
     ]
    }
   ],
   "source": [
    "counts_d = encode.count_dynamic_k(k, new_mode=2)\n",
    "byte_m = encode.byte_mng_dec()\n",
    "byte_m.load_file(filename2)\n",
    "whitespace = byte_m.read_bits(8)\n",
    "counts_d.load_alphabet_dynamic(byte_m)\n",
    "\n",
    "decoder_new = encode.arith_code_dec_k(counts_d, byte_m, whitespace, N)\n",
    "cond = decoder_new.cont()\n",
    "\n",
    "array = []\n",
    "\n",
    "while cond:\n",
    "#for i in range(lim):\n",
    "    array.append(decoder_new.remove_character())\n",
    "    cond = decoder_new.cont()\n",
    "\n",
    "byte_arr = bytearray(array)\n",
    "\n",
    "len_end = min(len(text), len(array))\n",
    "print(bytearray(array)[:len_end]== text[:len_end])\n",
    "print(len(byte_m.byte_store))"
   ]
  },
  {
   "cell_type": "code",
   "execution_count": null,
   "id": "2a66c2c9",
   "metadata": {},
   "outputs": [
    {
     "data": {
      "text/plain": [
       "1399128"
      ]
     },
     "execution_count": 138,
     "metadata": {},
     "output_type": "execute_result"
    }
   ],
   "source": [
    "k = 4\n",
    "\n",
    "counts = encode.count_dynamic_k(k, new_mode=2)\n",
    "encoder_new = encode.arith_code_enc_k(counts, N)\n",
    "\n",
    "for i in text:\n",
    "    encoder_new.add_character(i)\n",
    "\n",
    "whitespace2 = encoder_new.finalize()\n",
    "\n",
    "byte_arr = [whitespace2]\n",
    "byte_arr.append(len(encoder_new.count_m.alphabet))\n",
    "if byte_arr[1] > 255: byte_arr[1] = 0\n",
    "for i in encoder_new.count_m.alphabet: byte_arr.append(i)\n",
    "\n",
    "with open(filename2, \"wb\") as f:\n",
    "    f.write(bytearray(byte_arr))\n",
    "    f.write(bytearray(encoder_new.byte_encode.byte_store))\n",
    "\n",
    "os.path.getsize(filename2)"
   ]
  },
  {
   "cell_type": "code",
   "execution_count": null,
   "id": "6fa62cb2",
   "metadata": {},
   "outputs": [
    {
     "name": "stdout",
     "output_type": "stream",
     "text": [
      "True\n",
      "1399128\n"
     ]
    }
   ],
   "source": [
    "counts_d = encode.count_dynamic_k(k, new_mode=2)\n",
    "byte_m = encode.byte_mng_dec()\n",
    "byte_m.load_file(filename2)\n",
    "whitespace = byte_m.read_bits(8)\n",
    "counts_d.load_alphabet_dynamic(byte_m)\n",
    "\n",
    "decoder_new = encode.arith_code_dec_k(counts_d, byte_m, whitespace, N)\n",
    "cond = decoder_new.cont()\n",
    "\n",
    "array = []\n",
    "\n",
    "while cond:\n",
    "#for i in range(lim):\n",
    "    array.append(decoder_new.remove_character())\n",
    "    cond = decoder_new.cont()\n",
    "\n",
    "byte_arr = bytearray(array)\n",
    "\n",
    "len_end = min(len(text), len(array))\n",
    "print(bytearray(array)[:len_end]== text[:len_end])\n",
    "print(len(byte_m.byte_store))"
   ]
  },
  {
   "cell_type": "code",
   "execution_count": null,
   "id": "3cf483fd",
   "metadata": {},
   "outputs": [
    {
     "data": {
      "text/plain": [
       "1335207"
      ]
     },
     "execution_count": 140,
     "metadata": {},
     "output_type": "execute_result"
    }
   ],
   "source": [
    "k = 5\n",
    "\n",
    "counts = encode.count_dynamic_k(k, new_mode=2)\n",
    "encoder_new = encode.arith_code_enc_k(counts, N)\n",
    "\n",
    "for i in text:\n",
    "    encoder_new.add_character(i)\n",
    "\n",
    "whitespace2 = encoder_new.finalize()\n",
    "\n",
    "byte_arr = [whitespace2]\n",
    "byte_arr.append(len(encoder_new.count_m.alphabet))\n",
    "if byte_arr[1] > 255: byte_arr[1] = 0\n",
    "for i in encoder_new.count_m.alphabet: byte_arr.append(i)\n",
    "\n",
    "with open(filename2, \"wb\") as f:\n",
    "    f.write(bytearray(byte_arr))\n",
    "    f.write(bytearray(encoder_new.byte_encode.byte_store))\n",
    "\n",
    "os.path.getsize(filename2)"
   ]
  },
  {
   "cell_type": "code",
   "execution_count": null,
   "id": "d8894832",
   "metadata": {},
   "outputs": [
    {
     "name": "stdout",
     "output_type": "stream",
     "text": [
      "True\n",
      "1335207\n"
     ]
    }
   ],
   "source": [
    "counts_d = encode.count_dynamic_k(k, new_mode=2)\n",
    "byte_m = encode.byte_mng_dec()\n",
    "byte_m.load_file(filename2)\n",
    "whitespace = byte_m.read_bits(8)\n",
    "counts_d.load_alphabet_dynamic(byte_m)\n",
    "\n",
    "decoder_new = encode.arith_code_dec_k(counts_d, byte_m, whitespace, N)\n",
    "cond = decoder_new.cont()\n",
    "\n",
    "array = []\n",
    "\n",
    "while cond:\n",
    "#for i in range(lim):\n",
    "    array.append(decoder_new.remove_character())\n",
    "    cond = decoder_new.cont()\n",
    "\n",
    "byte_arr = bytearray(array)\n",
    "\n",
    "len_end = min(len(text), len(array))\n",
    "print(bytearray(array)[:len_end]== text[:len_end])\n",
    "print(len(byte_m.byte_store))"
   ]
  },
  {
   "cell_type": "code",
   "execution_count": null,
   "id": "97b5f710",
   "metadata": {},
   "outputs": [
    {
     "data": {
      "text/plain": [
       "1324756"
      ]
     },
     "execution_count": 148,
     "metadata": {},
     "output_type": "execute_result"
    }
   ],
   "source": [
    "k = 6\n",
    "\n",
    "counts = encode.count_dynamic_k(k, new_mode=2)\n",
    "encoder_new = encode.arith_code_enc_k(counts, N)\n",
    "\n",
    "for i in text:\n",
    "    encoder_new.add_character(i)\n",
    "\n",
    "whitespace2 = encoder_new.finalize()\n",
    "\n",
    "byte_arr = [whitespace2]\n",
    "byte_arr.append(len(encoder_new.count_m.alphabet))\n",
    "if byte_arr[1] > 255: byte_arr[1] = 0\n",
    "for i in encoder_new.count_m.alphabet: byte_arr.append(i)\n",
    "\n",
    "with open(filename2, \"wb\") as f:\n",
    "    f.write(bytearray(byte_arr))\n",
    "    f.write(bytearray(encoder_new.byte_encode.byte_store))\n",
    "\n",
    "os.path.getsize(filename2)"
   ]
  },
  {
   "cell_type": "code",
   "execution_count": null,
   "id": "73b228c3",
   "metadata": {},
   "outputs": [
    {
     "name": "stdout",
     "output_type": "stream",
     "text": [
      "True\n"
     ]
    }
   ],
   "source": [
    "counts_d = encode.count_dynamic_k(k, new_mode=2)\n",
    "byte_m = encode.byte_mng_dec()\n",
    "byte_m.load_file(filename2)\n",
    "whitespace = byte_m.read_bits(8)\n",
    "counts_d.load_alphabet_dynamic(byte_m)\n",
    "\n",
    "decoder_new = encode.arith_code_dec_k(counts_d, byte_m, whitespace, N)\n",
    "cond = decoder_new.cont()\n",
    "\n",
    "array = []\n",
    "\n",
    "while cond:\n",
    "#for i in range(lim):\n",
    "    array.append(decoder_new.remove_character())\n",
    "    cond = decoder_new.cont()\n",
    "\n",
    "byte_arr = bytearray(array)\n",
    "\n",
    "len_end = min(len(text), len(array))\n",
    "print(bytearray(array)[:len_end]== text[:len_end])"
   ]
  },
  {
   "cell_type": "code",
   "execution_count": null,
   "id": "5e5f3c71",
   "metadata": {},
   "outputs": [
    {
     "data": {
      "text/plain": [
       "1337819"
      ]
     },
     "execution_count": 144,
     "metadata": {},
     "output_type": "execute_result"
    }
   ],
   "source": [
    "k = 7\n",
    "\n",
    "counts = encode.count_dynamic_k(k, new_mode=2)\n",
    "encoder_new = encode.arith_code_enc_k(counts, N)\n",
    "\n",
    "for i in text:\n",
    "    encoder_new.add_character(i)\n",
    "\n",
    "whitespace2 = encoder_new.finalize()\n",
    "\n",
    "byte_arr = [whitespace2]\n",
    "byte_arr.append(len(encoder_new.count_m.alphabet))\n",
    "if byte_arr[1] > 255: byte_arr[1] = 0\n",
    "for i in encoder_new.count_m.alphabet: byte_arr.append(i)\n",
    "\n",
    "with open(filename2, \"wb\") as f:\n",
    "    f.write(bytearray(byte_arr))\n",
    "    f.write(bytearray(encoder_new.byte_encode.byte_store))\n",
    "\n",
    "os.path.getsize(filename2)"
   ]
  },
  {
   "cell_type": "code",
   "execution_count": null,
   "id": "80d6bcdf",
   "metadata": {},
   "outputs": [
    {
     "name": "stdout",
     "output_type": "stream",
     "text": [
      "True\n"
     ]
    }
   ],
   "source": [
    "counts_d = encode.count_dynamic_k(k, new_mode=2)\n",
    "byte_m = encode.byte_mng_dec()\n",
    "byte_m.load_file(filename2)\n",
    "whitespace = byte_m.read_bits(8)\n",
    "counts_d.load_alphabet_dynamic(byte_m)\n",
    "\n",
    "decoder_new = encode.arith_code_dec_k(counts_d, byte_m, whitespace, N)\n",
    "cond = decoder_new.cont()\n",
    "\n",
    "array = []\n",
    "\n",
    "while cond:\n",
    "#for i in range(lim):\n",
    "    array.append(decoder_new.remove_character())\n",
    "    cond = decoder_new.cont()\n",
    "\n",
    "byte_arr = bytearray(array)\n",
    "\n",
    "len_end = min(len(text), len(array))\n",
    "print(bytearray(array)[:len_end]== text[:len_end])"
   ]
  },
  {
   "cell_type": "code",
   "execution_count": null,
   "id": "432fed5d",
   "metadata": {},
   "outputs": [
    {
     "data": {
      "text/plain": [
       "1359126"
      ]
     },
     "execution_count": 146,
     "metadata": {},
     "output_type": "execute_result"
    }
   ],
   "source": [
    "k = 8\n",
    "\n",
    "counts = encode.count_dynamic_k(k, new_mode=2)\n",
    "encoder_new = encode.arith_code_enc_k(counts, N)\n",
    "\n",
    "for i in text:\n",
    "    encoder_new.add_character(i)\n",
    "\n",
    "whitespace2 = encoder_new.finalize()\n",
    "\n",
    "byte_arr = [whitespace2]\n",
    "byte_arr.append(len(encoder_new.count_m.alphabet))\n",
    "if byte_arr[1] > 255: byte_arr[1] = 0\n",
    "for i in encoder_new.count_m.alphabet: byte_arr.append(i)\n",
    "\n",
    "with open(filename2, \"wb\") as f:\n",
    "    f.write(bytearray(byte_arr))\n",
    "    f.write(bytearray(encoder_new.byte_encode.byte_store))\n",
    "\n",
    "os.path.getsize(filename2)"
   ]
  },
  {
   "cell_type": "code",
   "execution_count": null,
   "id": "98d83359",
   "metadata": {},
   "outputs": [
    {
     "name": "stdout",
     "output_type": "stream",
     "text": [
      "True\n"
     ]
    }
   ],
   "source": [
    "counts_d = encode.count_dynamic_k(k, new_mode=2)\n",
    "byte_m = encode.byte_mng_dec()\n",
    "byte_m.load_file(filename2)\n",
    "whitespace = byte_m.read_bits(8)\n",
    "counts_d.load_alphabet_dynamic(byte_m)\n",
    "\n",
    "decoder_new = encode.arith_code_dec_k(counts_d, byte_m, whitespace, N)\n",
    "cond = decoder_new.cont()\n",
    "\n",
    "array = []\n",
    "\n",
    "while cond:\n",
    "#for i in range(lim):\n",
    "    array.append(decoder_new.remove_character())\n",
    "    cond = decoder_new.cont()\n",
    "\n",
    "byte_arr = bytearray(array)\n",
    "\n",
    "len_end = min(len(text), len(array))\n",
    "print(bytearray(array)[:len_end]== text[:len_end])"
   ]
  },
  {
   "cell_type": "markdown",
   "id": "bb75db5c",
   "metadata": {},
   "source": [
    "# Text 3"
   ]
  },
  {
   "cell_type": "code",
   "execution_count": null,
   "id": "f5e33cfd",
   "metadata": {},
   "outputs": [],
   "source": [
    "filename1 = \"Mr.-Zoat-With-This-Ring-S02v2.txt\"\n",
    "filename2 = 'test_dynamic'\n",
    "N = 64\n",
    "\n",
    "with open(filename1, 'rb') as f:\n",
    "    text = f.read()"
   ]
  },
  {
   "cell_type": "code",
   "execution_count": 5,
   "id": "07b467ce",
   "metadata": {},
   "outputs": [
    {
     "name": "stdout",
     "output_type": "stream",
     "text": [
      "4\n"
     ]
    }
   ],
   "source": [
    "print(encode.find_k(text))"
   ]
  },
  {
   "cell_type": "code",
   "execution_count": null,
   "id": "a390df65",
   "metadata": {},
   "outputs": [],
   "source": [
    "k = 2\n",
    "\n",
    "counts = encode.count_dynamic_k(k, new_mode=2)\n",
    "encoder_new = encode.arith_code_enc_k(counts, N)\n",
    "\n",
    "for i in text:\n",
    "    encoder_new.add_character(i)\n",
    "\n",
    "whitespace2 = encoder_new.finalize()\n",
    "\n",
    "byte_arr = [whitespace2]\n",
    "byte_arr.append(len(encoder_new.count_m.alphabet))\n",
    "if byte_arr[1] > 255: byte_arr[1] = 0\n",
    "for i in encoder_new.count_m.alphabet: byte_arr.append(i)\n",
    "\n",
    "with open(filename2, \"wb\") as f:\n",
    "    f.write(bytearray(byte_arr))\n",
    "    f.write(bytearray(encoder_new.byte_encode.byte_store))\n",
    "\n",
    "os.path.getsize(filename2)"
   ]
  },
  {
   "cell_type": "code",
   "execution_count": null,
   "id": "0c656cb8",
   "metadata": {},
   "outputs": [],
   "source": [
    "counts_d = encode.count_dynamic_k(k, new_mode=2)\n",
    "byte_m = encode.byte_mng_dec()\n",
    "byte_m.load_file(filename2)\n",
    "whitespace = byte_m.read_bits(8)\n",
    "counts_d.load_alphabet_dynamic(byte_m)\n",
    "\n",
    "decoder_new = encode.arith_code_dec_k(counts_d, byte_m, whitespace, N)\n",
    "cond = decoder_new.cont()\n",
    "\n",
    "array = []\n",
    "\n",
    "while cond:\n",
    "#for i in range(lim):\n",
    "    array.append(decoder_new.remove_character())\n",
    "    cond = decoder_new.cont()\n",
    "\n",
    "byte_arr = bytearray(array)\n",
    "\n",
    "len_end = min(len(text), len(array))\n",
    "print(bytearray(array)[:len_end]== text[:len_end])\n",
    "print(len(byte_m.byte_store))"
   ]
  },
  {
   "cell_type": "code",
   "execution_count": null,
   "id": "15905563",
   "metadata": {},
   "outputs": [],
   "source": [
    "k = 3\n",
    "\n",
    "counts = encode.count_dynamic_k(k, new_mode=2)\n",
    "encoder_new = encode.arith_code_enc_k(counts, N)\n",
    "\n",
    "for i in text:\n",
    "    encoder_new.add_character(i)\n",
    "\n",
    "whitespace2 = encoder_new.finalize()\n",
    "\n",
    "byte_arr = [whitespace2]\n",
    "byte_arr.append(len(encoder_new.count_m.alphabet))\n",
    "if byte_arr[1] > 255: byte_arr[1] = 0\n",
    "for i in encoder_new.count_m.alphabet: byte_arr.append(i)\n",
    "\n",
    "with open(filename2, \"wb\") as f:\n",
    "    f.write(bytearray(byte_arr))\n",
    "    f.write(bytearray(encoder_new.byte_encode.byte_store))\n",
    "\n",
    "os.path.getsize(filename2)"
   ]
  },
  {
   "cell_type": "code",
   "execution_count": null,
   "id": "40f0f675",
   "metadata": {},
   "outputs": [
    {
     "name": "stdout",
     "output_type": "stream",
     "text": [
      "True\n",
      "1593289\n"
     ]
    }
   ],
   "source": [
    "counts_d = encode.count_dynamic_k(k, new_mode=2)\n",
    "byte_m = encode.byte_mng_dec()\n",
    "byte_m.load_file(filename2)\n",
    "whitespace = byte_m.read_bits(8)\n",
    "counts_d.load_alphabet_dynamic(byte_m)\n",
    "\n",
    "decoder_new = encode.arith_code_dec_k(counts_d, byte_m, whitespace, N)\n",
    "cond = decoder_new.cont()\n",
    "\n",
    "array = []\n",
    "\n",
    "while cond:\n",
    "#for i in range(lim):\n",
    "    array.append(decoder_new.remove_character())\n",
    "    cond = decoder_new.cont()\n",
    "\n",
    "byte_arr = bytearray(array)\n",
    "\n",
    "len_end = min(len(text), len(array))\n",
    "print(bytearray(array)[:len_end]== text[:len_end])\n",
    "print(len(byte_m.byte_store))"
   ]
  },
  {
   "cell_type": "code",
   "execution_count": null,
   "id": "2a66c2c9",
   "metadata": {},
   "outputs": [
    {
     "data": {
      "text/plain": [
       "1399128"
      ]
     },
     "execution_count": 138,
     "metadata": {},
     "output_type": "execute_result"
    }
   ],
   "source": [
    "k = 4\n",
    "\n",
    "counts = encode.count_dynamic_k(k, new_mode=2)\n",
    "encoder_new = encode.arith_code_enc_k(counts, N)\n",
    "\n",
    "for i in text:\n",
    "    encoder_new.add_character(i)\n",
    "\n",
    "whitespace2 = encoder_new.finalize()\n",
    "\n",
    "byte_arr = [whitespace2]\n",
    "byte_arr.append(len(encoder_new.count_m.alphabet))\n",
    "if byte_arr[1] > 255: byte_arr[1] = 0\n",
    "for i in encoder_new.count_m.alphabet: byte_arr.append(i)\n",
    "\n",
    "with open(filename2, \"wb\") as f:\n",
    "    f.write(bytearray(byte_arr))\n",
    "    f.write(bytearray(encoder_new.byte_encode.byte_store))\n",
    "\n",
    "os.path.getsize(filename2)"
   ]
  },
  {
   "cell_type": "code",
   "execution_count": null,
   "id": "6fa62cb2",
   "metadata": {},
   "outputs": [
    {
     "name": "stdout",
     "output_type": "stream",
     "text": [
      "True\n",
      "1399128\n"
     ]
    }
   ],
   "source": [
    "counts_d = encode.count_dynamic_k(k, new_mode=2)\n",
    "byte_m = encode.byte_mng_dec()\n",
    "byte_m.load_file(filename2)\n",
    "whitespace = byte_m.read_bits(8)\n",
    "counts_d.load_alphabet_dynamic(byte_m)\n",
    "\n",
    "decoder_new = encode.arith_code_dec_k(counts_d, byte_m, whitespace, N)\n",
    "cond = decoder_new.cont()\n",
    "\n",
    "array = []\n",
    "\n",
    "while cond:\n",
    "#for i in range(lim):\n",
    "    array.append(decoder_new.remove_character())\n",
    "    cond = decoder_new.cont()\n",
    "\n",
    "byte_arr = bytearray(array)\n",
    "\n",
    "len_end = min(len(text), len(array))\n",
    "print(bytearray(array)[:len_end]== text[:len_end])\n",
    "print(len(byte_m.byte_store))"
   ]
  },
  {
   "cell_type": "code",
   "execution_count": null,
   "id": "3cf483fd",
   "metadata": {},
   "outputs": [
    {
     "data": {
      "text/plain": [
       "1335207"
      ]
     },
     "execution_count": 140,
     "metadata": {},
     "output_type": "execute_result"
    }
   ],
   "source": [
    "k = 5\n",
    "\n",
    "counts = encode.count_dynamic_k(k, new_mode=2)\n",
    "encoder_new = encode.arith_code_enc_k(counts, N)\n",
    "\n",
    "for i in text:\n",
    "    encoder_new.add_character(i)\n",
    "\n",
    "whitespace2 = encoder_new.finalize()\n",
    "\n",
    "byte_arr = [whitespace2]\n",
    "byte_arr.append(len(encoder_new.count_m.alphabet))\n",
    "if byte_arr[1] > 255: byte_arr[1] = 0\n",
    "for i in encoder_new.count_m.alphabet: byte_arr.append(i)\n",
    "\n",
    "with open(filename2, \"wb\") as f:\n",
    "    f.write(bytearray(byte_arr))\n",
    "    f.write(bytearray(encoder_new.byte_encode.byte_store))\n",
    "\n",
    "os.path.getsize(filename2)"
   ]
  },
  {
   "cell_type": "code",
   "execution_count": null,
   "id": "d8894832",
   "metadata": {},
   "outputs": [
    {
     "name": "stdout",
     "output_type": "stream",
     "text": [
      "True\n",
      "1335207\n"
     ]
    }
   ],
   "source": [
    "counts_d = encode.count_dynamic_k(k, new_mode=2)\n",
    "byte_m = encode.byte_mng_dec()\n",
    "byte_m.load_file(filename2)\n",
    "whitespace = byte_m.read_bits(8)\n",
    "counts_d.load_alphabet_dynamic(byte_m)\n",
    "\n",
    "decoder_new = encode.arith_code_dec_k(counts_d, byte_m, whitespace, N)\n",
    "cond = decoder_new.cont()\n",
    "\n",
    "array = []\n",
    "\n",
    "while cond:\n",
    "#for i in range(lim):\n",
    "    array.append(decoder_new.remove_character())\n",
    "    cond = decoder_new.cont()\n",
    "\n",
    "byte_arr = bytearray(array)\n",
    "\n",
    "len_end = min(len(text), len(array))\n",
    "print(bytearray(array)[:len_end]== text[:len_end])\n",
    "print(len(byte_m.byte_store))"
   ]
  },
  {
   "cell_type": "code",
   "execution_count": null,
   "id": "97b5f710",
   "metadata": {},
   "outputs": [
    {
     "data": {
      "text/plain": [
       "1324756"
      ]
     },
     "execution_count": 148,
     "metadata": {},
     "output_type": "execute_result"
    }
   ],
   "source": [
    "k = 6\n",
    "\n",
    "counts = encode.count_dynamic_k(k, new_mode=2)\n",
    "encoder_new = encode.arith_code_enc_k(counts, N)\n",
    "\n",
    "for i in text:\n",
    "    encoder_new.add_character(i)\n",
    "\n",
    "whitespace2 = encoder_new.finalize()\n",
    "\n",
    "byte_arr = [whitespace2]\n",
    "byte_arr.append(len(encoder_new.count_m.alphabet))\n",
    "if byte_arr[1] > 255: byte_arr[1] = 0\n",
    "for i in encoder_new.count_m.alphabet: byte_arr.append(i)\n",
    "\n",
    "with open(filename2, \"wb\") as f:\n",
    "    f.write(bytearray(byte_arr))\n",
    "    f.write(bytearray(encoder_new.byte_encode.byte_store))\n",
    "\n",
    "os.path.getsize(filename2)"
   ]
  },
  {
   "cell_type": "code",
   "execution_count": null,
   "id": "73b228c3",
   "metadata": {},
   "outputs": [
    {
     "name": "stdout",
     "output_type": "stream",
     "text": [
      "True\n"
     ]
    }
   ],
   "source": [
    "counts_d = encode.count_dynamic_k(k, new_mode=2)\n",
    "byte_m = encode.byte_mng_dec()\n",
    "byte_m.load_file(filename2)\n",
    "whitespace = byte_m.read_bits(8)\n",
    "counts_d.load_alphabet_dynamic(byte_m)\n",
    "\n",
    "decoder_new = encode.arith_code_dec_k(counts_d, byte_m, whitespace, N)\n",
    "cond = decoder_new.cont()\n",
    "\n",
    "array = []\n",
    "\n",
    "while cond:\n",
    "#for i in range(lim):\n",
    "    array.append(decoder_new.remove_character())\n",
    "    cond = decoder_new.cont()\n",
    "\n",
    "byte_arr = bytearray(array)\n",
    "\n",
    "len_end = min(len(text), len(array))\n",
    "print(bytearray(array)[:len_end]== text[:len_end])"
   ]
  },
  {
   "cell_type": "code",
   "execution_count": null,
   "id": "5e5f3c71",
   "metadata": {},
   "outputs": [
    {
     "data": {
      "text/plain": [
       "1337819"
      ]
     },
     "execution_count": 144,
     "metadata": {},
     "output_type": "execute_result"
    }
   ],
   "source": [
    "k = 7\n",
    "\n",
    "counts = encode.count_dynamic_k(k, new_mode=2)\n",
    "encoder_new = encode.arith_code_enc_k(counts, N)\n",
    "\n",
    "for i in text:\n",
    "    encoder_new.add_character(i)\n",
    "\n",
    "whitespace2 = encoder_new.finalize()\n",
    "\n",
    "byte_arr = [whitespace2]\n",
    "byte_arr.append(len(encoder_new.count_m.alphabet))\n",
    "if byte_arr[1] > 255: byte_arr[1] = 0\n",
    "for i in encoder_new.count_m.alphabet: byte_arr.append(i)\n",
    "\n",
    "with open(filename2, \"wb\") as f:\n",
    "    f.write(bytearray(byte_arr))\n",
    "    f.write(bytearray(encoder_new.byte_encode.byte_store))\n",
    "\n",
    "os.path.getsize(filename2)"
   ]
  },
  {
   "cell_type": "code",
   "execution_count": null,
   "id": "80d6bcdf",
   "metadata": {},
   "outputs": [
    {
     "name": "stdout",
     "output_type": "stream",
     "text": [
      "True\n"
     ]
    }
   ],
   "source": [
    "counts_d = encode.count_dynamic_k(k, new_mode=2)\n",
    "byte_m = encode.byte_mng_dec()\n",
    "byte_m.load_file(filename2)\n",
    "whitespace = byte_m.read_bits(8)\n",
    "counts_d.load_alphabet_dynamic(byte_m)\n",
    "\n",
    "decoder_new = encode.arith_code_dec_k(counts_d, byte_m, whitespace, N)\n",
    "cond = decoder_new.cont()\n",
    "\n",
    "array = []\n",
    "\n",
    "while cond:\n",
    "#for i in range(lim):\n",
    "    array.append(decoder_new.remove_character())\n",
    "    cond = decoder_new.cont()\n",
    "\n",
    "byte_arr = bytearray(array)\n",
    "\n",
    "len_end = min(len(text), len(array))\n",
    "print(bytearray(array)[:len_end]== text[:len_end])"
   ]
  },
  {
   "cell_type": "code",
   "execution_count": null,
   "id": "432fed5d",
   "metadata": {},
   "outputs": [
    {
     "data": {
      "text/plain": [
       "1359126"
      ]
     },
     "execution_count": 146,
     "metadata": {},
     "output_type": "execute_result"
    }
   ],
   "source": [
    "k = 8\n",
    "\n",
    "counts = encode.count_dynamic_k(k, new_mode=2)\n",
    "encoder_new = encode.arith_code_enc_k(counts, N)\n",
    "\n",
    "for i in text:\n",
    "    encoder_new.add_character(i)\n",
    "\n",
    "whitespace2 = encoder_new.finalize()\n",
    "\n",
    "byte_arr = [whitespace2]\n",
    "byte_arr.append(len(encoder_new.count_m.alphabet))\n",
    "if byte_arr[1] > 255: byte_arr[1] = 0\n",
    "for i in encoder_new.count_m.alphabet: byte_arr.append(i)\n",
    "\n",
    "with open(filename2, \"wb\") as f:\n",
    "    f.write(bytearray(byte_arr))\n",
    "    f.write(bytearray(encoder_new.byte_encode.byte_store))\n",
    "\n",
    "os.path.getsize(filename2)"
   ]
  },
  {
   "cell_type": "code",
   "execution_count": null,
   "id": "98d83359",
   "metadata": {},
   "outputs": [
    {
     "name": "stdout",
     "output_type": "stream",
     "text": [
      "True\n"
     ]
    }
   ],
   "source": [
    "counts_d = encode.count_dynamic_k(k, new_mode=2)\n",
    "byte_m = encode.byte_mng_dec()\n",
    "byte_m.load_file(filename2)\n",
    "whitespace = byte_m.read_bits(8)\n",
    "counts_d.load_alphabet_dynamic(byte_m)\n",
    "\n",
    "decoder_new = encode.arith_code_dec_k(counts_d, byte_m, whitespace, N)\n",
    "cond = decoder_new.cont()\n",
    "\n",
    "array = []\n",
    "\n",
    "while cond:\n",
    "#for i in range(lim):\n",
    "    array.append(decoder_new.remove_character())\n",
    "    cond = decoder_new.cont()\n",
    "\n",
    "byte_arr = bytearray(array)\n",
    "\n",
    "len_end = min(len(text), len(array))\n",
    "print(bytearray(array)[:len_end]== text[:len_end])"
   ]
  },
  {
   "cell_type": "markdown",
   "id": "7e17c318",
   "metadata": {},
   "source": [
    "# Reverse"
   ]
  },
  {
   "cell_type": "code",
   "execution_count": null,
   "id": "f5e33cfd",
   "metadata": {},
   "outputs": [],
   "source": [
    "filename1 = \"MrZoat_WithThisRingS01_Gould.txt\"\n",
    "filename2 = 'test_dynamic'\n",
    "N = 64\n",
    "\n",
    "with open(filename1, 'rb') as f:\n",
    "    text = f.read()"
   ]
  },
  {
   "cell_type": "code",
   "execution_count": null,
   "id": "f34f191d",
   "metadata": {},
   "outputs": [],
   "source": [
    "#text = text.lower()\n",
    "text = bytearray(text)\n",
    "bytearray.reverse(text)"
   ]
  },
  {
   "cell_type": "code",
   "execution_count": 5,
   "id": "07b467ce",
   "metadata": {},
   "outputs": [
    {
     "name": "stdout",
     "output_type": "stream",
     "text": [
      "4\n"
     ]
    }
   ],
   "source": [
    "print(encode.find_k(text))"
   ]
  },
  {
   "cell_type": "code",
   "execution_count": null,
   "id": "a390df65",
   "metadata": {},
   "outputs": [],
   "source": [
    "k = 2\n",
    "\n",
    "counts = encode.count_dynamic_k(k, new_mode=2)\n",
    "encoder_new = encode.arith_code_enc_k(counts, N)\n",
    "\n",
    "for i in text:\n",
    "    encoder_new.add_character(i)\n",
    "\n",
    "whitespace2 = encoder_new.finalize()\n",
    "\n",
    "byte_arr = [whitespace2]\n",
    "byte_arr.append(len(encoder_new.count_m.alphabet))\n",
    "if byte_arr[1] > 255: byte_arr[1] = 0\n",
    "for i in encoder_new.count_m.alphabet: byte_arr.append(i)\n",
    "\n",
    "with open(filename2, \"wb\") as f:\n",
    "    f.write(bytearray(byte_arr))\n",
    "    f.write(bytearray(encoder_new.byte_encode.byte_store))\n",
    "\n",
    "os.path.getsize(filename2)"
   ]
  },
  {
   "cell_type": "code",
   "execution_count": null,
   "id": "0c656cb8",
   "metadata": {},
   "outputs": [],
   "source": [
    "counts_d = encode.count_dynamic_k(k, new_mode=2)\n",
    "byte_m = encode.byte_mng_dec()\n",
    "byte_m.load_file(filename2)\n",
    "whitespace = byte_m.read_bits(8)\n",
    "counts_d.load_alphabet_dynamic(byte_m)\n",
    "\n",
    "decoder_new = encode.arith_code_dec_k(counts_d, byte_m, whitespace, N)\n",
    "cond = decoder_new.cont()\n",
    "\n",
    "array = []\n",
    "\n",
    "while cond:\n",
    "#for i in range(lim):\n",
    "    array.append(decoder_new.remove_character())\n",
    "    cond = decoder_new.cont()\n",
    "\n",
    "byte_arr = bytearray(array)\n",
    "\n",
    "len_end = min(len(text), len(array))\n",
    "print(bytearray(array)[:len_end]== text[:len_end])\n",
    "print(len(byte_m.byte_store))"
   ]
  },
  {
   "cell_type": "code",
   "execution_count": null,
   "id": "15905563",
   "metadata": {},
   "outputs": [],
   "source": [
    "k = 3\n",
    "\n",
    "counts = encode.count_dynamic_k(k, new_mode=2)\n",
    "encoder_new = encode.arith_code_enc_k(counts, N)\n",
    "\n",
    "for i in text:\n",
    "    encoder_new.add_character(i)\n",
    "\n",
    "whitespace2 = encoder_new.finalize()\n",
    "\n",
    "byte_arr = [whitespace2]\n",
    "byte_arr.append(len(encoder_new.count_m.alphabet))\n",
    "if byte_arr[1] > 255: byte_arr[1] = 0\n",
    "for i in encoder_new.count_m.alphabet: byte_arr.append(i)\n",
    "\n",
    "with open(filename2, \"wb\") as f:\n",
    "    f.write(bytearray(byte_arr))\n",
    "    f.write(bytearray(encoder_new.byte_encode.byte_store))\n",
    "\n",
    "os.path.getsize(filename2)"
   ]
  },
  {
   "cell_type": "code",
   "execution_count": null,
   "id": "40f0f675",
   "metadata": {},
   "outputs": [
    {
     "name": "stdout",
     "output_type": "stream",
     "text": [
      "True\n",
      "1593289\n"
     ]
    }
   ],
   "source": [
    "counts_d = encode.count_dynamic_k(k, new_mode=2)\n",
    "byte_m = encode.byte_mng_dec()\n",
    "byte_m.load_file(filename2)\n",
    "whitespace = byte_m.read_bits(8)\n",
    "counts_d.load_alphabet_dynamic(byte_m)\n",
    "\n",
    "decoder_new = encode.arith_code_dec_k(counts_d, byte_m, whitespace, N)\n",
    "cond = decoder_new.cont()\n",
    "\n",
    "array = []\n",
    "\n",
    "while cond:\n",
    "#for i in range(lim):\n",
    "    array.append(decoder_new.remove_character())\n",
    "    cond = decoder_new.cont()\n",
    "\n",
    "byte_arr = bytearray(array)\n",
    "\n",
    "len_end = min(len(text), len(array))\n",
    "print(bytearray(array)[:len_end]== text[:len_end])\n",
    "print(len(byte_m.byte_store))"
   ]
  },
  {
   "cell_type": "code",
   "execution_count": null,
   "id": "2a66c2c9",
   "metadata": {},
   "outputs": [
    {
     "data": {
      "text/plain": [
       "1399128"
      ]
     },
     "execution_count": 138,
     "metadata": {},
     "output_type": "execute_result"
    }
   ],
   "source": [
    "k = 4\n",
    "\n",
    "counts = encode.count_dynamic_k(k, new_mode=2)\n",
    "encoder_new = encode.arith_code_enc_k(counts, N)\n",
    "\n",
    "for i in text:\n",
    "    encoder_new.add_character(i)\n",
    "\n",
    "whitespace2 = encoder_new.finalize()\n",
    "\n",
    "byte_arr = [whitespace2]\n",
    "byte_arr.append(len(encoder_new.count_m.alphabet))\n",
    "if byte_arr[1] > 255: byte_arr[1] = 0\n",
    "for i in encoder_new.count_m.alphabet: byte_arr.append(i)\n",
    "\n",
    "with open(filename2, \"wb\") as f:\n",
    "    f.write(bytearray(byte_arr))\n",
    "    f.write(bytearray(encoder_new.byte_encode.byte_store))\n",
    "\n",
    "os.path.getsize(filename2)"
   ]
  },
  {
   "cell_type": "code",
   "execution_count": null,
   "id": "6fa62cb2",
   "metadata": {},
   "outputs": [
    {
     "name": "stdout",
     "output_type": "stream",
     "text": [
      "True\n",
      "1399128\n"
     ]
    }
   ],
   "source": [
    "counts_d = encode.count_dynamic_k(k, new_mode=2)\n",
    "byte_m = encode.byte_mng_dec()\n",
    "byte_m.load_file(filename2)\n",
    "whitespace = byte_m.read_bits(8)\n",
    "counts_d.load_alphabet_dynamic(byte_m)\n",
    "\n",
    "decoder_new = encode.arith_code_dec_k(counts_d, byte_m, whitespace, N)\n",
    "cond = decoder_new.cont()\n",
    "\n",
    "array = []\n",
    "\n",
    "while cond:\n",
    "#for i in range(lim):\n",
    "    array.append(decoder_new.remove_character())\n",
    "    cond = decoder_new.cont()\n",
    "\n",
    "byte_arr = bytearray(array)\n",
    "\n",
    "len_end = min(len(text), len(array))\n",
    "print(bytearray(array)[:len_end]== text[:len_end])\n",
    "print(len(byte_m.byte_store))"
   ]
  },
  {
   "cell_type": "code",
   "execution_count": null,
   "id": "3cf483fd",
   "metadata": {},
   "outputs": [
    {
     "data": {
      "text/plain": [
       "1335207"
      ]
     },
     "execution_count": 140,
     "metadata": {},
     "output_type": "execute_result"
    }
   ],
   "source": [
    "k = 5\n",
    "\n",
    "counts = encode.count_dynamic_k(k, new_mode=2)\n",
    "encoder_new = encode.arith_code_enc_k(counts, N)\n",
    "\n",
    "for i in text:\n",
    "    encoder_new.add_character(i)\n",
    "\n",
    "whitespace2 = encoder_new.finalize()\n",
    "\n",
    "byte_arr = [whitespace2]\n",
    "byte_arr.append(len(encoder_new.count_m.alphabet))\n",
    "if byte_arr[1] > 255: byte_arr[1] = 0\n",
    "for i in encoder_new.count_m.alphabet: byte_arr.append(i)\n",
    "\n",
    "with open(filename2, \"wb\") as f:\n",
    "    f.write(bytearray(byte_arr))\n",
    "    f.write(bytearray(encoder_new.byte_encode.byte_store))\n",
    "\n",
    "os.path.getsize(filename2)"
   ]
  },
  {
   "cell_type": "code",
   "execution_count": null,
   "id": "d8894832",
   "metadata": {},
   "outputs": [
    {
     "name": "stdout",
     "output_type": "stream",
     "text": [
      "True\n",
      "1335207\n"
     ]
    }
   ],
   "source": [
    "counts_d = encode.count_dynamic_k(k, new_mode=2)\n",
    "byte_m = encode.byte_mng_dec()\n",
    "byte_m.load_file(filename2)\n",
    "whitespace = byte_m.read_bits(8)\n",
    "counts_d.load_alphabet_dynamic(byte_m)\n",
    "\n",
    "decoder_new = encode.arith_code_dec_k(counts_d, byte_m, whitespace, N)\n",
    "cond = decoder_new.cont()\n",
    "\n",
    "array = []\n",
    "\n",
    "while cond:\n",
    "#for i in range(lim):\n",
    "    array.append(decoder_new.remove_character())\n",
    "    cond = decoder_new.cont()\n",
    "\n",
    "byte_arr = bytearray(array)\n",
    "\n",
    "len_end = min(len(text), len(array))\n",
    "print(bytearray(array)[:len_end]== text[:len_end])\n",
    "print(len(byte_m.byte_store))"
   ]
  },
  {
   "cell_type": "code",
   "execution_count": null,
   "id": "97b5f710",
   "metadata": {},
   "outputs": [
    {
     "data": {
      "text/plain": [
       "1324756"
      ]
     },
     "execution_count": 148,
     "metadata": {},
     "output_type": "execute_result"
    }
   ],
   "source": [
    "k = 6\n",
    "\n",
    "counts = encode.count_dynamic_k(k, new_mode=2)\n",
    "encoder_new = encode.arith_code_enc_k(counts, N)\n",
    "\n",
    "for i in text:\n",
    "    encoder_new.add_character(i)\n",
    "\n",
    "whitespace2 = encoder_new.finalize()\n",
    "\n",
    "byte_arr = [whitespace2]\n",
    "byte_arr.append(len(encoder_new.count_m.alphabet))\n",
    "if byte_arr[1] > 255: byte_arr[1] = 0\n",
    "for i in encoder_new.count_m.alphabet: byte_arr.append(i)\n",
    "\n",
    "with open(filename2, \"wb\") as f:\n",
    "    f.write(bytearray(byte_arr))\n",
    "    f.write(bytearray(encoder_new.byte_encode.byte_store))\n",
    "\n",
    "os.path.getsize(filename2)"
   ]
  },
  {
   "cell_type": "code",
   "execution_count": null,
   "id": "73b228c3",
   "metadata": {},
   "outputs": [
    {
     "name": "stdout",
     "output_type": "stream",
     "text": [
      "True\n"
     ]
    }
   ],
   "source": [
    "counts_d = encode.count_dynamic_k(k, new_mode=2)\n",
    "byte_m = encode.byte_mng_dec()\n",
    "byte_m.load_file(filename2)\n",
    "whitespace = byte_m.read_bits(8)\n",
    "counts_d.load_alphabet_dynamic(byte_m)\n",
    "\n",
    "decoder_new = encode.arith_code_dec_k(counts_d, byte_m, whitespace, N)\n",
    "cond = decoder_new.cont()\n",
    "\n",
    "array = []\n",
    "\n",
    "while cond:\n",
    "#for i in range(lim):\n",
    "    array.append(decoder_new.remove_character())\n",
    "    cond = decoder_new.cont()\n",
    "\n",
    "byte_arr = bytearray(array)\n",
    "\n",
    "len_end = min(len(text), len(array))\n",
    "print(bytearray(array)[:len_end]== text[:len_end])"
   ]
  },
  {
   "cell_type": "code",
   "execution_count": null,
   "id": "5e5f3c71",
   "metadata": {},
   "outputs": [
    {
     "data": {
      "text/plain": [
       "1337819"
      ]
     },
     "execution_count": 144,
     "metadata": {},
     "output_type": "execute_result"
    }
   ],
   "source": [
    "k = 7\n",
    "\n",
    "counts = encode.count_dynamic_k(k, new_mode=2)\n",
    "encoder_new = encode.arith_code_enc_k(counts, N)\n",
    "\n",
    "for i in text:\n",
    "    encoder_new.add_character(i)\n",
    "\n",
    "whitespace2 = encoder_new.finalize()\n",
    "\n",
    "byte_arr = [whitespace2]\n",
    "byte_arr.append(len(encoder_new.count_m.alphabet))\n",
    "if byte_arr[1] > 255: byte_arr[1] = 0\n",
    "for i in encoder_new.count_m.alphabet: byte_arr.append(i)\n",
    "\n",
    "with open(filename2, \"wb\") as f:\n",
    "    f.write(bytearray(byte_arr))\n",
    "    f.write(bytearray(encoder_new.byte_encode.byte_store))\n",
    "\n",
    "os.path.getsize(filename2)"
   ]
  },
  {
   "cell_type": "code",
   "execution_count": null,
   "id": "80d6bcdf",
   "metadata": {},
   "outputs": [
    {
     "name": "stdout",
     "output_type": "stream",
     "text": [
      "True\n"
     ]
    }
   ],
   "source": [
    "counts_d = encode.count_dynamic_k(k, new_mode=2)\n",
    "byte_m = encode.byte_mng_dec()\n",
    "byte_m.load_file(filename2)\n",
    "whitespace = byte_m.read_bits(8)\n",
    "counts_d.load_alphabet_dynamic(byte_m)\n",
    "\n",
    "decoder_new = encode.arith_code_dec_k(counts_d, byte_m, whitespace, N)\n",
    "cond = decoder_new.cont()\n",
    "\n",
    "array = []\n",
    "\n",
    "while cond:\n",
    "#for i in range(lim):\n",
    "    array.append(decoder_new.remove_character())\n",
    "    cond = decoder_new.cont()\n",
    "\n",
    "byte_arr = bytearray(array)\n",
    "\n",
    "len_end = min(len(text), len(array))\n",
    "print(bytearray(array)[:len_end]== text[:len_end])"
   ]
  },
  {
   "cell_type": "code",
   "execution_count": null,
   "id": "432fed5d",
   "metadata": {},
   "outputs": [
    {
     "data": {
      "text/plain": [
       "1359126"
      ]
     },
     "execution_count": 146,
     "metadata": {},
     "output_type": "execute_result"
    }
   ],
   "source": [
    "k = 8\n",
    "\n",
    "counts = encode.count_dynamic_k(k, new_mode=2)\n",
    "encoder_new = encode.arith_code_enc_k(counts, N)\n",
    "\n",
    "for i in text:\n",
    "    encoder_new.add_character(i)\n",
    "\n",
    "whitespace2 = encoder_new.finalize()\n",
    "\n",
    "byte_arr = [whitespace2]\n",
    "byte_arr.append(len(encoder_new.count_m.alphabet))\n",
    "if byte_arr[1] > 255: byte_arr[1] = 0\n",
    "for i in encoder_new.count_m.alphabet: byte_arr.append(i)\n",
    "\n",
    "with open(filename2, \"wb\") as f:\n",
    "    f.write(bytearray(byte_arr))\n",
    "    f.write(bytearray(encoder_new.byte_encode.byte_store))\n",
    "\n",
    "os.path.getsize(filename2)"
   ]
  },
  {
   "cell_type": "code",
   "execution_count": null,
   "id": "98d83359",
   "metadata": {},
   "outputs": [
    {
     "name": "stdout",
     "output_type": "stream",
     "text": [
      "True\n"
     ]
    }
   ],
   "source": [
    "counts_d = encode.count_dynamic_k(k, new_mode=2)\n",
    "byte_m = encode.byte_mng_dec()\n",
    "byte_m.load_file(filename2)\n",
    "whitespace = byte_m.read_bits(8)\n",
    "counts_d.load_alphabet_dynamic(byte_m)\n",
    "\n",
    "decoder_new = encode.arith_code_dec_k(counts_d, byte_m, whitespace, N)\n",
    "cond = decoder_new.cont()\n",
    "\n",
    "array = []\n",
    "\n",
    "while cond:\n",
    "#for i in range(lim):\n",
    "    array.append(decoder_new.remove_character())\n",
    "    cond = decoder_new.cont()\n",
    "\n",
    "byte_arr = bytearray(array)\n",
    "\n",
    "len_end = min(len(text), len(array))\n",
    "print(bytearray(array)[:len_end]== text[:len_end])"
   ]
  },
  {
   "cell_type": "markdown",
   "id": "9350267c",
   "metadata": {},
   "source": [
    "# Decap"
   ]
  },
  {
   "cell_type": "code",
   "execution_count": null,
   "id": "f5e33cfd",
   "metadata": {},
   "outputs": [],
   "source": [
    "filename1 = \"MrZoat_WithThisRingS01_Gould.txt\"\n",
    "filename2 = 'test_dynamic'\n",
    "N = 64\n",
    "\n",
    "with open(filename1, 'rb') as f:\n",
    "    text = f.read()"
   ]
  },
  {
   "cell_type": "code",
   "execution_count": null,
   "id": "f34f191d",
   "metadata": {},
   "outputs": [],
   "source": [
    "text = text.lower()"
   ]
  },
  {
   "cell_type": "code",
   "execution_count": 5,
   "id": "07b467ce",
   "metadata": {},
   "outputs": [
    {
     "name": "stdout",
     "output_type": "stream",
     "text": [
      "4\n"
     ]
    }
   ],
   "source": [
    "print(encode.find_k(text))"
   ]
  },
  {
   "cell_type": "code",
   "execution_count": null,
   "id": "a390df65",
   "metadata": {},
   "outputs": [],
   "source": [
    "k = 2\n",
    "\n",
    "counts = encode.count_dynamic_k(k, new_mode=2)\n",
    "encoder_new = encode.arith_code_enc_k(counts, N)\n",
    "\n",
    "for i in text:\n",
    "    encoder_new.add_character(i)\n",
    "\n",
    "whitespace2 = encoder_new.finalize()\n",
    "\n",
    "byte_arr = [whitespace2]\n",
    "byte_arr.append(len(encoder_new.count_m.alphabet))\n",
    "if byte_arr[1] > 255: byte_arr[1] = 0\n",
    "for i in encoder_new.count_m.alphabet: byte_arr.append(i)\n",
    "\n",
    "with open(filename2, \"wb\") as f:\n",
    "    f.write(bytearray(byte_arr))\n",
    "    f.write(bytearray(encoder_new.byte_encode.byte_store))\n",
    "\n",
    "os.path.getsize(filename2)"
   ]
  },
  {
   "cell_type": "code",
   "execution_count": null,
   "id": "0c656cb8",
   "metadata": {},
   "outputs": [],
   "source": [
    "counts_d = encode.count_dynamic_k(k, new_mode=2)\n",
    "byte_m = encode.byte_mng_dec()\n",
    "byte_m.load_file(filename2)\n",
    "whitespace = byte_m.read_bits(8)\n",
    "counts_d.load_alphabet_dynamic(byte_m)\n",
    "\n",
    "decoder_new = encode.arith_code_dec_k(counts_d, byte_m, whitespace, N)\n",
    "cond = decoder_new.cont()\n",
    "\n",
    "array = []\n",
    "\n",
    "while cond:\n",
    "#for i in range(lim):\n",
    "    array.append(decoder_new.remove_character())\n",
    "    cond = decoder_new.cont()\n",
    "\n",
    "byte_arr = bytearray(array)\n",
    "\n",
    "len_end = min(len(text), len(array))\n",
    "print(bytearray(array)[:len_end]== text[:len_end])\n",
    "print(len(byte_m.byte_store))"
   ]
  },
  {
   "cell_type": "code",
   "execution_count": null,
   "id": "15905563",
   "metadata": {},
   "outputs": [],
   "source": [
    "k = 3\n",
    "\n",
    "counts = encode.count_dynamic_k(k, new_mode=2)\n",
    "encoder_new = encode.arith_code_enc_k(counts, N)\n",
    "\n",
    "for i in text:\n",
    "    encoder_new.add_character(i)\n",
    "\n",
    "whitespace2 = encoder_new.finalize()\n",
    "\n",
    "byte_arr = [whitespace2]\n",
    "byte_arr.append(len(encoder_new.count_m.alphabet))\n",
    "if byte_arr[1] > 255: byte_arr[1] = 0\n",
    "for i in encoder_new.count_m.alphabet: byte_arr.append(i)\n",
    "\n",
    "with open(filename2, \"wb\") as f:\n",
    "    f.write(bytearray(byte_arr))\n",
    "    f.write(bytearray(encoder_new.byte_encode.byte_store))\n",
    "\n",
    "os.path.getsize(filename2)"
   ]
  },
  {
   "cell_type": "code",
   "execution_count": null,
   "id": "40f0f675",
   "metadata": {},
   "outputs": [
    {
     "name": "stdout",
     "output_type": "stream",
     "text": [
      "True\n",
      "1593289\n"
     ]
    }
   ],
   "source": [
    "counts_d = encode.count_dynamic_k(k, new_mode=2)\n",
    "byte_m = encode.byte_mng_dec()\n",
    "byte_m.load_file(filename2)\n",
    "whitespace = byte_m.read_bits(8)\n",
    "counts_d.load_alphabet_dynamic(byte_m)\n",
    "\n",
    "decoder_new = encode.arith_code_dec_k(counts_d, byte_m, whitespace, N)\n",
    "cond = decoder_new.cont()\n",
    "\n",
    "array = []\n",
    "\n",
    "while cond:\n",
    "#for i in range(lim):\n",
    "    array.append(decoder_new.remove_character())\n",
    "    cond = decoder_new.cont()\n",
    "\n",
    "byte_arr = bytearray(array)\n",
    "\n",
    "len_end = min(len(text), len(array))\n",
    "print(bytearray(array)[:len_end]== text[:len_end])\n",
    "print(len(byte_m.byte_store))"
   ]
  },
  {
   "cell_type": "code",
   "execution_count": null,
   "id": "2a66c2c9",
   "metadata": {},
   "outputs": [
    {
     "data": {
      "text/plain": [
       "1399128"
      ]
     },
     "execution_count": 138,
     "metadata": {},
     "output_type": "execute_result"
    }
   ],
   "source": [
    "k = 4\n",
    "\n",
    "counts = encode.count_dynamic_k(k, new_mode=2)\n",
    "encoder_new = encode.arith_code_enc_k(counts, N)\n",
    "\n",
    "for i in text:\n",
    "    encoder_new.add_character(i)\n",
    "\n",
    "whitespace2 = encoder_new.finalize()\n",
    "\n",
    "byte_arr = [whitespace2]\n",
    "byte_arr.append(len(encoder_new.count_m.alphabet))\n",
    "if byte_arr[1] > 255: byte_arr[1] = 0\n",
    "for i in encoder_new.count_m.alphabet: byte_arr.append(i)\n",
    "\n",
    "with open(filename2, \"wb\") as f:\n",
    "    f.write(bytearray(byte_arr))\n",
    "    f.write(bytearray(encoder_new.byte_encode.byte_store))\n",
    "\n",
    "os.path.getsize(filename2)"
   ]
  },
  {
   "cell_type": "code",
   "execution_count": null,
   "id": "6fa62cb2",
   "metadata": {},
   "outputs": [
    {
     "name": "stdout",
     "output_type": "stream",
     "text": [
      "True\n",
      "1399128\n"
     ]
    }
   ],
   "source": [
    "counts_d = encode.count_dynamic_k(k, new_mode=2)\n",
    "byte_m = encode.byte_mng_dec()\n",
    "byte_m.load_file(filename2)\n",
    "whitespace = byte_m.read_bits(8)\n",
    "counts_d.load_alphabet_dynamic(byte_m)\n",
    "\n",
    "decoder_new = encode.arith_code_dec_k(counts_d, byte_m, whitespace, N)\n",
    "cond = decoder_new.cont()\n",
    "\n",
    "array = []\n",
    "\n",
    "while cond:\n",
    "#for i in range(lim):\n",
    "    array.append(decoder_new.remove_character())\n",
    "    cond = decoder_new.cont()\n",
    "\n",
    "byte_arr = bytearray(array)\n",
    "\n",
    "len_end = min(len(text), len(array))\n",
    "print(bytearray(array)[:len_end]== text[:len_end])\n",
    "print(len(byte_m.byte_store))"
   ]
  },
  {
   "cell_type": "code",
   "execution_count": null,
   "id": "3cf483fd",
   "metadata": {},
   "outputs": [
    {
     "data": {
      "text/plain": [
       "1335207"
      ]
     },
     "execution_count": 140,
     "metadata": {},
     "output_type": "execute_result"
    }
   ],
   "source": [
    "k = 5\n",
    "\n",
    "counts = encode.count_dynamic_k(k, new_mode=2)\n",
    "encoder_new = encode.arith_code_enc_k(counts, N)\n",
    "\n",
    "for i in text:\n",
    "    encoder_new.add_character(i)\n",
    "\n",
    "whitespace2 = encoder_new.finalize()\n",
    "\n",
    "byte_arr = [whitespace2]\n",
    "byte_arr.append(len(encoder_new.count_m.alphabet))\n",
    "if byte_arr[1] > 255: byte_arr[1] = 0\n",
    "for i in encoder_new.count_m.alphabet: byte_arr.append(i)\n",
    "\n",
    "with open(filename2, \"wb\") as f:\n",
    "    f.write(bytearray(byte_arr))\n",
    "    f.write(bytearray(encoder_new.byte_encode.byte_store))\n",
    "\n",
    "os.path.getsize(filename2)"
   ]
  },
  {
   "cell_type": "code",
   "execution_count": null,
   "id": "d8894832",
   "metadata": {},
   "outputs": [
    {
     "name": "stdout",
     "output_type": "stream",
     "text": [
      "True\n",
      "1335207\n"
     ]
    }
   ],
   "source": [
    "counts_d = encode.count_dynamic_k(k, new_mode=2)\n",
    "byte_m = encode.byte_mng_dec()\n",
    "byte_m.load_file(filename2)\n",
    "whitespace = byte_m.read_bits(8)\n",
    "counts_d.load_alphabet_dynamic(byte_m)\n",
    "\n",
    "decoder_new = encode.arith_code_dec_k(counts_d, byte_m, whitespace, N)\n",
    "cond = decoder_new.cont()\n",
    "\n",
    "array = []\n",
    "\n",
    "while cond:\n",
    "#for i in range(lim):\n",
    "    array.append(decoder_new.remove_character())\n",
    "    cond = decoder_new.cont()\n",
    "\n",
    "byte_arr = bytearray(array)\n",
    "\n",
    "len_end = min(len(text), len(array))\n",
    "print(bytearray(array)[:len_end]== text[:len_end])\n",
    "print(len(byte_m.byte_store))"
   ]
  },
  {
   "cell_type": "code",
   "execution_count": null,
   "id": "97b5f710",
   "metadata": {},
   "outputs": [
    {
     "data": {
      "text/plain": [
       "1324756"
      ]
     },
     "execution_count": 148,
     "metadata": {},
     "output_type": "execute_result"
    }
   ],
   "source": [
    "k = 6\n",
    "\n",
    "counts = encode.count_dynamic_k(k, new_mode=2)\n",
    "encoder_new = encode.arith_code_enc_k(counts, N)\n",
    "\n",
    "for i in text:\n",
    "    encoder_new.add_character(i)\n",
    "\n",
    "whitespace2 = encoder_new.finalize()\n",
    "\n",
    "byte_arr = [whitespace2]\n",
    "byte_arr.append(len(encoder_new.count_m.alphabet))\n",
    "if byte_arr[1] > 255: byte_arr[1] = 0\n",
    "for i in encoder_new.count_m.alphabet: byte_arr.append(i)\n",
    "\n",
    "with open(filename2, \"wb\") as f:\n",
    "    f.write(bytearray(byte_arr))\n",
    "    f.write(bytearray(encoder_new.byte_encode.byte_store))\n",
    "\n",
    "os.path.getsize(filename2)"
   ]
  },
  {
   "cell_type": "code",
   "execution_count": null,
   "id": "73b228c3",
   "metadata": {},
   "outputs": [
    {
     "name": "stdout",
     "output_type": "stream",
     "text": [
      "True\n"
     ]
    }
   ],
   "source": [
    "counts_d = encode.count_dynamic_k(k, new_mode=2)\n",
    "byte_m = encode.byte_mng_dec()\n",
    "byte_m.load_file(filename2)\n",
    "whitespace = byte_m.read_bits(8)\n",
    "counts_d.load_alphabet_dynamic(byte_m)\n",
    "\n",
    "decoder_new = encode.arith_code_dec_k(counts_d, byte_m, whitespace, N)\n",
    "cond = decoder_new.cont()\n",
    "\n",
    "array = []\n",
    "\n",
    "while cond:\n",
    "#for i in range(lim):\n",
    "    array.append(decoder_new.remove_character())\n",
    "    cond = decoder_new.cont()\n",
    "\n",
    "byte_arr = bytearray(array)\n",
    "\n",
    "len_end = min(len(text), len(array))\n",
    "print(bytearray(array)[:len_end]== text[:len_end])"
   ]
  },
  {
   "cell_type": "code",
   "execution_count": null,
   "id": "5e5f3c71",
   "metadata": {},
   "outputs": [
    {
     "data": {
      "text/plain": [
       "1337819"
      ]
     },
     "execution_count": 144,
     "metadata": {},
     "output_type": "execute_result"
    }
   ],
   "source": [
    "k = 7\n",
    "\n",
    "counts = encode.count_dynamic_k(k, new_mode=2)\n",
    "encoder_new = encode.arith_code_enc_k(counts, N)\n",
    "\n",
    "for i in text:\n",
    "    encoder_new.add_character(i)\n",
    "\n",
    "whitespace2 = encoder_new.finalize()\n",
    "\n",
    "byte_arr = [whitespace2]\n",
    "byte_arr.append(len(encoder_new.count_m.alphabet))\n",
    "if byte_arr[1] > 255: byte_arr[1] = 0\n",
    "for i in encoder_new.count_m.alphabet: byte_arr.append(i)\n",
    "\n",
    "with open(filename2, \"wb\") as f:\n",
    "    f.write(bytearray(byte_arr))\n",
    "    f.write(bytearray(encoder_new.byte_encode.byte_store))\n",
    "\n",
    "os.path.getsize(filename2)"
   ]
  },
  {
   "cell_type": "code",
   "execution_count": null,
   "id": "80d6bcdf",
   "metadata": {},
   "outputs": [
    {
     "name": "stdout",
     "output_type": "stream",
     "text": [
      "True\n"
     ]
    }
   ],
   "source": [
    "counts_d = encode.count_dynamic_k(k, new_mode=2)\n",
    "byte_m = encode.byte_mng_dec()\n",
    "byte_m.load_file(filename2)\n",
    "whitespace = byte_m.read_bits(8)\n",
    "counts_d.load_alphabet_dynamic(byte_m)\n",
    "\n",
    "decoder_new = encode.arith_code_dec_k(counts_d, byte_m, whitespace, N)\n",
    "cond = decoder_new.cont()\n",
    "\n",
    "array = []\n",
    "\n",
    "while cond:\n",
    "#for i in range(lim):\n",
    "    array.append(decoder_new.remove_character())\n",
    "    cond = decoder_new.cont()\n",
    "\n",
    "byte_arr = bytearray(array)\n",
    "\n",
    "len_end = min(len(text), len(array))\n",
    "print(bytearray(array)[:len_end]== text[:len_end])"
   ]
  },
  {
   "cell_type": "code",
   "execution_count": null,
   "id": "432fed5d",
   "metadata": {},
   "outputs": [
    {
     "data": {
      "text/plain": [
       "1359126"
      ]
     },
     "execution_count": 146,
     "metadata": {},
     "output_type": "execute_result"
    }
   ],
   "source": [
    "k = 8\n",
    "\n",
    "counts = encode.count_dynamic_k(k, new_mode=2)\n",
    "encoder_new = encode.arith_code_enc_k(counts, N)\n",
    "\n",
    "for i in text:\n",
    "    encoder_new.add_character(i)\n",
    "\n",
    "whitespace2 = encoder_new.finalize()\n",
    "\n",
    "byte_arr = [whitespace2]\n",
    "byte_arr.append(len(encoder_new.count_m.alphabet))\n",
    "if byte_arr[1] > 255: byte_arr[1] = 0\n",
    "for i in encoder_new.count_m.alphabet: byte_arr.append(i)\n",
    "\n",
    "with open(filename2, \"wb\") as f:\n",
    "    f.write(bytearray(byte_arr))\n",
    "    f.write(bytearray(encoder_new.byte_encode.byte_store))\n",
    "\n",
    "os.path.getsize(filename2)"
   ]
  },
  {
   "cell_type": "code",
   "execution_count": null,
   "id": "98d83359",
   "metadata": {},
   "outputs": [
    {
     "name": "stdout",
     "output_type": "stream",
     "text": [
      "True\n"
     ]
    }
   ],
   "source": [
    "counts_d = encode.count_dynamic_k(k, new_mode=2)\n",
    "byte_m = encode.byte_mng_dec()\n",
    "byte_m.load_file(filename2)\n",
    "whitespace = byte_m.read_bits(8)\n",
    "counts_d.load_alphabet_dynamic(byte_m)\n",
    "\n",
    "decoder_new = encode.arith_code_dec_k(counts_d, byte_m, whitespace, N)\n",
    "cond = decoder_new.cont()\n",
    "\n",
    "array = []\n",
    "\n",
    "while cond:\n",
    "#for i in range(lim):\n",
    "    array.append(decoder_new.remove_character())\n",
    "    cond = decoder_new.cont()\n",
    "\n",
    "byte_arr = bytearray(array)\n",
    "\n",
    "len_end = min(len(text), len(array))\n",
    "print(bytearray(array)[:len_end]== text[:len_end])"
   ]
  },
  {
   "cell_type": "markdown",
   "id": "acf22c36",
   "metadata": {},
   "source": [
    "# Decap Reverse"
   ]
  },
  {
   "cell_type": "code",
   "execution_count": 2,
   "id": "f5e33cfd",
   "metadata": {},
   "outputs": [],
   "source": [
    "import encode\n",
    "import os\n",
    "\n",
    "filename1 = \"Mr.-Zoat-With-This-Ring-S02.txt\"\n",
    "filename2 = 'test_dynamic'\n",
    "N = 64\n",
    "\n",
    "with open(filename1, 'rb') as f:\n",
    "    text = f.read()"
   ]
  },
  {
   "cell_type": "code",
   "execution_count": null,
   "id": "f34f191d",
   "metadata": {},
   "outputs": [],
   "source": [
    "text = text.lower()\n",
    "text = bytearray(text)\n",
    "bytearray.reverse(text)"
   ]
  },
  {
   "cell_type": "code",
   "execution_count": 5,
   "id": "07b467ce",
   "metadata": {},
   "outputs": [
    {
     "name": "stdout",
     "output_type": "stream",
     "text": [
      "4\n"
     ]
    }
   ],
   "source": [
    "print(encode.find_k(text))"
   ]
  },
  {
   "cell_type": "code",
   "execution_count": null,
   "id": "a390df65",
   "metadata": {},
   "outputs": [],
   "source": [
    "k = 2\n",
    "\n",
    "counts = encode.count_dynamic_k(k, new_mode=2)\n",
    "encoder_new = encode.arith_code_enc_k(counts, N)\n",
    "\n",
    "for i in text:\n",
    "    encoder_new.add_character(i)\n",
    "\n",
    "whitespace2 = encoder_new.finalize()\n",
    "\n",
    "byte_arr = [whitespace2]\n",
    "byte_arr.append(len(encoder_new.count_m.alphabet))\n",
    "if byte_arr[1] > 255: byte_arr[1] = 0\n",
    "for i in encoder_new.count_m.alphabet: byte_arr.append(i)\n",
    "\n",
    "with open(filename2, \"wb\") as f:\n",
    "    f.write(bytearray(byte_arr))\n",
    "    f.write(bytearray(encoder_new.byte_encode.byte_store))\n",
    "\n",
    "os.path.getsize(filename2)"
   ]
  },
  {
   "cell_type": "code",
   "execution_count": null,
   "id": "0c656cb8",
   "metadata": {},
   "outputs": [],
   "source": [
    "counts_d = encode.count_dynamic_k(k, new_mode=2)\n",
    "byte_m = encode.byte_mng_dec()\n",
    "byte_m.load_file(filename2)\n",
    "whitespace = byte_m.read_bits(8)\n",
    "counts_d.load_alphabet_dynamic(byte_m)\n",
    "\n",
    "decoder_new = encode.arith_code_dec_k(counts_d, byte_m, whitespace, N)\n",
    "cond = decoder_new.cont()\n",
    "\n",
    "array = []\n",
    "\n",
    "while cond:\n",
    "#for i in range(lim):\n",
    "    array.append(decoder_new.remove_character())\n",
    "    cond = decoder_new.cont()\n",
    "\n",
    "byte_arr = bytearray(array)\n",
    "\n",
    "len_end = min(len(text), len(array))\n",
    "print(bytearray(array)[:len_end]== text[:len_end])\n",
    "print(len(byte_m.byte_store))"
   ]
  },
  {
   "cell_type": "code",
   "execution_count": null,
   "id": "15905563",
   "metadata": {},
   "outputs": [],
   "source": [
    "k = 3\n",
    "\n",
    "counts = encode.count_dynamic_k(k, new_mode=2)\n",
    "encoder_new = encode.arith_code_enc_k(counts, N)\n",
    "\n",
    "for i in text:\n",
    "    encoder_new.add_character(i)\n",
    "\n",
    "whitespace2 = encoder_new.finalize()\n",
    "\n",
    "byte_arr = [whitespace2]\n",
    "byte_arr.append(len(encoder_new.count_m.alphabet))\n",
    "if byte_arr[1] > 255: byte_arr[1] = 0\n",
    "for i in encoder_new.count_m.alphabet: byte_arr.append(i)\n",
    "\n",
    "with open(filename2, \"wb\") as f:\n",
    "    f.write(bytearray(byte_arr))\n",
    "    f.write(bytearray(encoder_new.byte_encode.byte_store))\n",
    "\n",
    "os.path.getsize(filename2)"
   ]
  },
  {
   "cell_type": "code",
   "execution_count": null,
   "id": "40f0f675",
   "metadata": {},
   "outputs": [
    {
     "name": "stdout",
     "output_type": "stream",
     "text": [
      "True\n",
      "1593289\n"
     ]
    }
   ],
   "source": [
    "counts_d = encode.count_dynamic_k(k, new_mode=2)\n",
    "byte_m = encode.byte_mng_dec()\n",
    "byte_m.load_file(filename2)\n",
    "whitespace = byte_m.read_bits(8)\n",
    "counts_d.load_alphabet_dynamic(byte_m)\n",
    "\n",
    "decoder_new = encode.arith_code_dec_k(counts_d, byte_m, whitespace, N)\n",
    "cond = decoder_new.cont()\n",
    "\n",
    "array = []\n",
    "\n",
    "while cond:\n",
    "#for i in range(lim):\n",
    "    array.append(decoder_new.remove_character())\n",
    "    cond = decoder_new.cont()\n",
    "\n",
    "byte_arr = bytearray(array)\n",
    "\n",
    "len_end = min(len(text), len(array))\n",
    "print(bytearray(array)[:len_end]== text[:len_end])\n",
    "print(len(byte_m.byte_store))"
   ]
  },
  {
   "cell_type": "code",
   "execution_count": null,
   "id": "2a66c2c9",
   "metadata": {},
   "outputs": [
    {
     "data": {
      "text/plain": [
       "1399128"
      ]
     },
     "execution_count": 138,
     "metadata": {},
     "output_type": "execute_result"
    }
   ],
   "source": [
    "k = 4\n",
    "\n",
    "counts = encode.count_dynamic_k(k, new_mode=2)\n",
    "encoder_new = encode.arith_code_enc_k(counts, N)\n",
    "\n",
    "for i in text:\n",
    "    encoder_new.add_character(i)\n",
    "\n",
    "whitespace2 = encoder_new.finalize()\n",
    "\n",
    "byte_arr = [whitespace2]\n",
    "byte_arr.append(len(encoder_new.count_m.alphabet))\n",
    "if byte_arr[1] > 255: byte_arr[1] = 0\n",
    "for i in encoder_new.count_m.alphabet: byte_arr.append(i)\n",
    "\n",
    "with open(filename2, \"wb\") as f:\n",
    "    f.write(bytearray(byte_arr))\n",
    "    f.write(bytearray(encoder_new.byte_encode.byte_store))\n",
    "\n",
    "os.path.getsize(filename2)"
   ]
  },
  {
   "cell_type": "code",
   "execution_count": null,
   "id": "6fa62cb2",
   "metadata": {},
   "outputs": [
    {
     "name": "stdout",
     "output_type": "stream",
     "text": [
      "True\n",
      "1399128\n"
     ]
    }
   ],
   "source": [
    "counts_d = encode.count_dynamic_k(k, new_mode=2)\n",
    "byte_m = encode.byte_mng_dec()\n",
    "byte_m.load_file(filename2)\n",
    "whitespace = byte_m.read_bits(8)\n",
    "counts_d.load_alphabet_dynamic(byte_m)\n",
    "\n",
    "decoder_new = encode.arith_code_dec_k(counts_d, byte_m, whitespace, N)\n",
    "cond = decoder_new.cont()\n",
    "\n",
    "array = []\n",
    "\n",
    "while cond:\n",
    "#for i in range(lim):\n",
    "    array.append(decoder_new.remove_character())\n",
    "    cond = decoder_new.cont()\n",
    "\n",
    "byte_arr = bytearray(array)\n",
    "\n",
    "len_end = min(len(text), len(array))\n",
    "print(bytearray(array)[:len_end]== text[:len_end])\n",
    "print(len(byte_m.byte_store))"
   ]
  },
  {
   "cell_type": "code",
   "execution_count": null,
   "id": "3cf483fd",
   "metadata": {},
   "outputs": [
    {
     "data": {
      "text/plain": [
       "1335207"
      ]
     },
     "execution_count": 140,
     "metadata": {},
     "output_type": "execute_result"
    }
   ],
   "source": [
    "k = 5\n",
    "\n",
    "counts = encode.count_dynamic_k(k, new_mode=2)\n",
    "encoder_new = encode.arith_code_enc_k(counts, N)\n",
    "\n",
    "for i in text:\n",
    "    encoder_new.add_character(i)\n",
    "\n",
    "whitespace2 = encoder_new.finalize()\n",
    "\n",
    "byte_arr = [whitespace2]\n",
    "byte_arr.append(len(encoder_new.count_m.alphabet))\n",
    "if byte_arr[1] > 255: byte_arr[1] = 0\n",
    "for i in encoder_new.count_m.alphabet: byte_arr.append(i)\n",
    "\n",
    "with open(filename2, \"wb\") as f:\n",
    "    f.write(bytearray(byte_arr))\n",
    "    f.write(bytearray(encoder_new.byte_encode.byte_store))\n",
    "\n",
    "os.path.getsize(filename2)"
   ]
  },
  {
   "cell_type": "code",
   "execution_count": null,
   "id": "d8894832",
   "metadata": {},
   "outputs": [
    {
     "name": "stdout",
     "output_type": "stream",
     "text": [
      "True\n",
      "1335207\n"
     ]
    }
   ],
   "source": [
    "counts_d = encode.count_dynamic_k(k, new_mode=2)\n",
    "byte_m = encode.byte_mng_dec()\n",
    "byte_m.load_file(filename2)\n",
    "whitespace = byte_m.read_bits(8)\n",
    "counts_d.load_alphabet_dynamic(byte_m)\n",
    "\n",
    "decoder_new = encode.arith_code_dec_k(counts_d, byte_m, whitespace, N)\n",
    "cond = decoder_new.cont()\n",
    "\n",
    "array = []\n",
    "\n",
    "while cond:\n",
    "#for i in range(lim):\n",
    "    array.append(decoder_new.remove_character())\n",
    "    cond = decoder_new.cont()\n",
    "\n",
    "byte_arr = bytearray(array)\n",
    "\n",
    "len_end = min(len(text), len(array))\n",
    "print(bytearray(array)[:len_end]== text[:len_end])\n",
    "print(len(byte_m.byte_store))"
   ]
  },
  {
   "cell_type": "code",
   "execution_count": null,
   "id": "97b5f710",
   "metadata": {},
   "outputs": [
    {
     "data": {
      "text/plain": [
       "1324756"
      ]
     },
     "execution_count": 148,
     "metadata": {},
     "output_type": "execute_result"
    }
   ],
   "source": [
    "k = 6\n",
    "\n",
    "counts = encode.count_dynamic_k(k, new_mode=2)\n",
    "encoder_new = encode.arith_code_enc_k(counts, N)\n",
    "\n",
    "for i in text:\n",
    "    encoder_new.add_character(i)\n",
    "\n",
    "whitespace2 = encoder_new.finalize()\n",
    "\n",
    "byte_arr = [whitespace2]\n",
    "byte_arr.append(len(encoder_new.count_m.alphabet))\n",
    "if byte_arr[1] > 255: byte_arr[1] = 0\n",
    "for i in encoder_new.count_m.alphabet: byte_arr.append(i)\n",
    "\n",
    "with open(filename2, \"wb\") as f:\n",
    "    f.write(bytearray(byte_arr))\n",
    "    f.write(bytearray(encoder_new.byte_encode.byte_store))\n",
    "\n",
    "os.path.getsize(filename2)"
   ]
  },
  {
   "cell_type": "code",
   "execution_count": null,
   "id": "73b228c3",
   "metadata": {},
   "outputs": [
    {
     "name": "stdout",
     "output_type": "stream",
     "text": [
      "True\n"
     ]
    }
   ],
   "source": [
    "counts_d = encode.count_dynamic_k(k, new_mode=2)\n",
    "byte_m = encode.byte_mng_dec()\n",
    "byte_m.load_file(filename2)\n",
    "whitespace = byte_m.read_bits(8)\n",
    "counts_d.load_alphabet_dynamic(byte_m)\n",
    "\n",
    "decoder_new = encode.arith_code_dec_k(counts_d, byte_m, whitespace, N)\n",
    "cond = decoder_new.cont()\n",
    "\n",
    "array = []\n",
    "\n",
    "while cond:\n",
    "#for i in range(lim):\n",
    "    array.append(decoder_new.remove_character())\n",
    "    cond = decoder_new.cont()\n",
    "\n",
    "byte_arr = bytearray(array)\n",
    "\n",
    "len_end = min(len(text), len(array))\n",
    "print(bytearray(array)[:len_end]== text[:len_end])"
   ]
  },
  {
   "cell_type": "code",
   "execution_count": null,
   "id": "5e5f3c71",
   "metadata": {},
   "outputs": [
    {
     "data": {
      "text/plain": [
       "1337819"
      ]
     },
     "execution_count": 144,
     "metadata": {},
     "output_type": "execute_result"
    }
   ],
   "source": [
    "k = 7\n",
    "\n",
    "counts = encode.count_dynamic_k(k, new_mode=2)\n",
    "encoder_new = encode.arith_code_enc_k(counts, N)\n",
    "\n",
    "for i in text:\n",
    "    encoder_new.add_character(i)\n",
    "\n",
    "whitespace2 = encoder_new.finalize()\n",
    "\n",
    "byte_arr = [whitespace2]\n",
    "byte_arr.append(len(encoder_new.count_m.alphabet))\n",
    "if byte_arr[1] > 255: byte_arr[1] = 0\n",
    "for i in encoder_new.count_m.alphabet: byte_arr.append(i)\n",
    "\n",
    "with open(filename2, \"wb\") as f:\n",
    "    f.write(bytearray(byte_arr))\n",
    "    f.write(bytearray(encoder_new.byte_encode.byte_store))\n",
    "\n",
    "os.path.getsize(filename2)"
   ]
  },
  {
   "cell_type": "code",
   "execution_count": null,
   "id": "80d6bcdf",
   "metadata": {},
   "outputs": [
    {
     "name": "stdout",
     "output_type": "stream",
     "text": [
      "True\n"
     ]
    }
   ],
   "source": [
    "counts_d = encode.count_dynamic_k(k, new_mode=2)\n",
    "byte_m = encode.byte_mng_dec()\n",
    "byte_m.load_file(filename2)\n",
    "whitespace = byte_m.read_bits(8)\n",
    "counts_d.load_alphabet_dynamic(byte_m)\n",
    "\n",
    "decoder_new = encode.arith_code_dec_k(counts_d, byte_m, whitespace, N)\n",
    "cond = decoder_new.cont()\n",
    "\n",
    "array = []\n",
    "\n",
    "while cond:\n",
    "#for i in range(lim):\n",
    "    array.append(decoder_new.remove_character())\n",
    "    cond = decoder_new.cont()\n",
    "\n",
    "byte_arr = bytearray(array)\n",
    "\n",
    "len_end = min(len(text), len(array))\n",
    "print(bytearray(array)[:len_end]== text[:len_end])"
   ]
  },
  {
   "cell_type": "code",
   "execution_count": null,
   "id": "432fed5d",
   "metadata": {},
   "outputs": [
    {
     "data": {
      "text/plain": [
       "1359126"
      ]
     },
     "execution_count": 146,
     "metadata": {},
     "output_type": "execute_result"
    }
   ],
   "source": [
    "k = 8\n",
    "\n",
    "counts = encode.count_dynamic_k(k, new_mode=2)\n",
    "encoder_new = encode.arith_code_enc_k(counts, N)\n",
    "\n",
    "for i in text:\n",
    "    encoder_new.add_character(i)\n",
    "\n",
    "whitespace2 = encoder_new.finalize()\n",
    "\n",
    "byte_arr = [whitespace2]\n",
    "byte_arr.append(len(encoder_new.count_m.alphabet))\n",
    "if byte_arr[1] > 255: byte_arr[1] = 0\n",
    "for i in encoder_new.count_m.alphabet: byte_arr.append(i)\n",
    "\n",
    "with open(filename2, \"wb\") as f:\n",
    "    f.write(bytearray(byte_arr))\n",
    "    f.write(bytearray(encoder_new.byte_encode.byte_store))\n",
    "\n",
    "os.path.getsize(filename2)"
   ]
  },
  {
   "cell_type": "code",
   "execution_count": null,
   "id": "98d83359",
   "metadata": {},
   "outputs": [
    {
     "name": "stdout",
     "output_type": "stream",
     "text": [
      "True\n"
     ]
    }
   ],
   "source": [
    "counts_d = encode.count_dynamic_k(k, new_mode=2)\n",
    "byte_m = encode.byte_mng_dec()\n",
    "byte_m.load_file(filename2)\n",
    "whitespace = byte_m.read_bits(8)\n",
    "counts_d.load_alphabet_dynamic(byte_m)\n",
    "\n",
    "decoder_new = encode.arith_code_dec_k(counts_d, byte_m, whitespace, N)\n",
    "cond = decoder_new.cont()\n",
    "\n",
    "array = []\n",
    "\n",
    "while cond:\n",
    "#for i in range(lim):\n",
    "    array.append(decoder_new.remove_character())\n",
    "    cond = decoder_new.cont()\n",
    "\n",
    "byte_arr = bytearray(array)\n",
    "\n",
    "len_end = min(len(text), len(array))\n",
    "print(bytearray(array)[:len_end]== text[:len_end])"
   ]
  },
  {
   "cell_type": "markdown",
   "id": "3b60db8d",
   "metadata": {},
   "source": [
    "# Text 4"
   ]
  },
  {
   "cell_type": "code",
   "execution_count": null,
   "id": "f5e33cfd",
   "metadata": {},
   "outputs": [],
   "source": [
    "import encode\n",
    "import os\n",
    "\n",
    "filename1 = \"Mr.-Zoat-With-This-Ring-S01S02.txt\"\n",
    "filename2 = 'test_dynamic'\n",
    "N = 64\n",
    "\n",
    "with open(filename1, 'rb') as f:\n",
    "    text = f.read()"
   ]
  },
  {
   "cell_type": "code",
   "execution_count": 5,
   "id": "07b467ce",
   "metadata": {},
   "outputs": [
    {
     "name": "stdout",
     "output_type": "stream",
     "text": [
      "4\n"
     ]
    }
   ],
   "source": [
    "print(encode.find_k(text))"
   ]
  },
  {
   "cell_type": "code",
   "execution_count": null,
   "id": "a390df65",
   "metadata": {},
   "outputs": [],
   "source": [
    "k = 2\n",
    "\n",
    "counts = encode.count_dynamic_k(k, new_mode=2)\n",
    "encoder_new = encode.arith_code_enc_k(counts, N)\n",
    "\n",
    "for i in text:\n",
    "    encoder_new.add_character(i)\n",
    "\n",
    "whitespace2 = encoder_new.finalize()\n",
    "\n",
    "byte_arr = [whitespace2]\n",
    "byte_arr.append(len(encoder_new.count_m.alphabet))\n",
    "if byte_arr[1] > 255: byte_arr[1] = 0\n",
    "for i in encoder_new.count_m.alphabet: byte_arr.append(i)\n",
    "\n",
    "with open(filename2, \"wb\") as f:\n",
    "    f.write(bytearray(byte_arr))\n",
    "    f.write(bytearray(encoder_new.byte_encode.byte_store))\n",
    "\n",
    "os.path.getsize(filename2)"
   ]
  },
  {
   "cell_type": "code",
   "execution_count": null,
   "id": "0c656cb8",
   "metadata": {},
   "outputs": [],
   "source": [
    "counts_d = encode.count_dynamic_k(k, new_mode=2)\n",
    "byte_m = encode.byte_mng_dec()\n",
    "byte_m.load_file(filename2)\n",
    "whitespace = byte_m.read_bits(8)\n",
    "counts_d.load_alphabet_dynamic(byte_m)\n",
    "\n",
    "decoder_new = encode.arith_code_dec_k(counts_d, byte_m, whitespace, N)\n",
    "cond = decoder_new.cont()\n",
    "\n",
    "array = []\n",
    "\n",
    "while cond:\n",
    "#for i in range(lim):\n",
    "    array.append(decoder_new.remove_character())\n",
    "    cond = decoder_new.cont()\n",
    "\n",
    "byte_arr = bytearray(array)\n",
    "\n",
    "len_end = min(len(text), len(array))\n",
    "print(bytearray(array)[:len_end]== text[:len_end])\n",
    "print(len(byte_m.byte_store))"
   ]
  },
  {
   "cell_type": "code",
   "execution_count": null,
   "id": "15905563",
   "metadata": {},
   "outputs": [],
   "source": [
    "k = 3\n",
    "\n",
    "counts = encode.count_dynamic_k(k, new_mode=2)\n",
    "encoder_new = encode.arith_code_enc_k(counts, N)\n",
    "\n",
    "for i in text:\n",
    "    encoder_new.add_character(i)\n",
    "\n",
    "whitespace2 = encoder_new.finalize()\n",
    "\n",
    "byte_arr = [whitespace2]\n",
    "byte_arr.append(len(encoder_new.count_m.alphabet))\n",
    "if byte_arr[1] > 255: byte_arr[1] = 0\n",
    "for i in encoder_new.count_m.alphabet: byte_arr.append(i)\n",
    "\n",
    "with open(filename2, \"wb\") as f:\n",
    "    f.write(bytearray(byte_arr))\n",
    "    f.write(bytearray(encoder_new.byte_encode.byte_store))\n",
    "\n",
    "os.path.getsize(filename2)"
   ]
  },
  {
   "cell_type": "code",
   "execution_count": null,
   "id": "40f0f675",
   "metadata": {},
   "outputs": [
    {
     "name": "stdout",
     "output_type": "stream",
     "text": [
      "True\n",
      "1593289\n"
     ]
    }
   ],
   "source": [
    "counts_d = encode.count_dynamic_k(k, new_mode=2)\n",
    "byte_m = encode.byte_mng_dec()\n",
    "byte_m.load_file(filename2)\n",
    "whitespace = byte_m.read_bits(8)\n",
    "counts_d.load_alphabet_dynamic(byte_m)\n",
    "\n",
    "decoder_new = encode.arith_code_dec_k(counts_d, byte_m, whitespace, N)\n",
    "cond = decoder_new.cont()\n",
    "\n",
    "array = []\n",
    "\n",
    "while cond:\n",
    "#for i in range(lim):\n",
    "    array.append(decoder_new.remove_character())\n",
    "    cond = decoder_new.cont()\n",
    "\n",
    "byte_arr = bytearray(array)\n",
    "\n",
    "len_end = min(len(text), len(array))\n",
    "print(bytearray(array)[:len_end]== text[:len_end])\n",
    "print(len(byte_m.byte_store))"
   ]
  },
  {
   "cell_type": "code",
   "execution_count": null,
   "id": "2a66c2c9",
   "metadata": {},
   "outputs": [
    {
     "data": {
      "text/plain": [
       "1399128"
      ]
     },
     "execution_count": 138,
     "metadata": {},
     "output_type": "execute_result"
    }
   ],
   "source": [
    "k = 4\n",
    "\n",
    "counts = encode.count_dynamic_k(k, new_mode=2)\n",
    "encoder_new = encode.arith_code_enc_k(counts, N)\n",
    "\n",
    "for i in text:\n",
    "    encoder_new.add_character(i)\n",
    "\n",
    "whitespace2 = encoder_new.finalize()\n",
    "\n",
    "byte_arr = [whitespace2]\n",
    "byte_arr.append(len(encoder_new.count_m.alphabet))\n",
    "if byte_arr[1] > 255: byte_arr[1] = 0\n",
    "for i in encoder_new.count_m.alphabet: byte_arr.append(i)\n",
    "\n",
    "with open(filename2, \"wb\") as f:\n",
    "    f.write(bytearray(byte_arr))\n",
    "    f.write(bytearray(encoder_new.byte_encode.byte_store))\n",
    "\n",
    "os.path.getsize(filename2)"
   ]
  },
  {
   "cell_type": "code",
   "execution_count": null,
   "id": "6fa62cb2",
   "metadata": {},
   "outputs": [
    {
     "name": "stdout",
     "output_type": "stream",
     "text": [
      "True\n",
      "1399128\n"
     ]
    }
   ],
   "source": [
    "counts_d = encode.count_dynamic_k(k, new_mode=2)\n",
    "byte_m = encode.byte_mng_dec()\n",
    "byte_m.load_file(filename2)\n",
    "whitespace = byte_m.read_bits(8)\n",
    "counts_d.load_alphabet_dynamic(byte_m)\n",
    "\n",
    "decoder_new = encode.arith_code_dec_k(counts_d, byte_m, whitespace, N)\n",
    "cond = decoder_new.cont()\n",
    "\n",
    "array = []\n",
    "\n",
    "while cond:\n",
    "#for i in range(lim):\n",
    "    array.append(decoder_new.remove_character())\n",
    "    cond = decoder_new.cont()\n",
    "\n",
    "byte_arr = bytearray(array)\n",
    "\n",
    "len_end = min(len(text), len(array))\n",
    "print(bytearray(array)[:len_end]== text[:len_end])\n",
    "print(len(byte_m.byte_store))"
   ]
  },
  {
   "cell_type": "code",
   "execution_count": null,
   "id": "3cf483fd",
   "metadata": {},
   "outputs": [
    {
     "data": {
      "text/plain": [
       "1335207"
      ]
     },
     "execution_count": 140,
     "metadata": {},
     "output_type": "execute_result"
    }
   ],
   "source": [
    "k = 5\n",
    "\n",
    "counts = encode.count_dynamic_k(k, new_mode=2)\n",
    "encoder_new = encode.arith_code_enc_k(counts, N)\n",
    "\n",
    "for i in text:\n",
    "    encoder_new.add_character(i)\n",
    "\n",
    "whitespace2 = encoder_new.finalize()\n",
    "\n",
    "byte_arr = [whitespace2]\n",
    "byte_arr.append(len(encoder_new.count_m.alphabet))\n",
    "if byte_arr[1] > 255: byte_arr[1] = 0\n",
    "for i in encoder_new.count_m.alphabet: byte_arr.append(i)\n",
    "\n",
    "with open(filename2, \"wb\") as f:\n",
    "    f.write(bytearray(byte_arr))\n",
    "    f.write(bytearray(encoder_new.byte_encode.byte_store))\n",
    "\n",
    "os.path.getsize(filename2)"
   ]
  },
  {
   "cell_type": "code",
   "execution_count": null,
   "id": "d8894832",
   "metadata": {},
   "outputs": [
    {
     "name": "stdout",
     "output_type": "stream",
     "text": [
      "True\n",
      "1335207\n"
     ]
    }
   ],
   "source": [
    "counts_d = encode.count_dynamic_k(k, new_mode=2)\n",
    "byte_m = encode.byte_mng_dec()\n",
    "byte_m.load_file(filename2)\n",
    "whitespace = byte_m.read_bits(8)\n",
    "counts_d.load_alphabet_dynamic(byte_m)\n",
    "\n",
    "decoder_new = encode.arith_code_dec_k(counts_d, byte_m, whitespace, N)\n",
    "cond = decoder_new.cont()\n",
    "\n",
    "array = []\n",
    "\n",
    "while cond:\n",
    "#for i in range(lim):\n",
    "    array.append(decoder_new.remove_character())\n",
    "    cond = decoder_new.cont()\n",
    "\n",
    "byte_arr = bytearray(array)\n",
    "\n",
    "len_end = min(len(text), len(array))\n",
    "print(bytearray(array)[:len_end]== text[:len_end])\n",
    "print(len(byte_m.byte_store))"
   ]
  },
  {
   "cell_type": "code",
   "execution_count": null,
   "id": "97b5f710",
   "metadata": {},
   "outputs": [
    {
     "data": {
      "text/plain": [
       "1324756"
      ]
     },
     "execution_count": 148,
     "metadata": {},
     "output_type": "execute_result"
    }
   ],
   "source": [
    "k = 6\n",
    "\n",
    "counts = encode.count_dynamic_k(k, new_mode=2)\n",
    "encoder_new = encode.arith_code_enc_k(counts, N)\n",
    "\n",
    "for i in text:\n",
    "    encoder_new.add_character(i)\n",
    "\n",
    "whitespace2 = encoder_new.finalize()\n",
    "\n",
    "byte_arr = [whitespace2]\n",
    "byte_arr.append(len(encoder_new.count_m.alphabet))\n",
    "if byte_arr[1] > 255: byte_arr[1] = 0\n",
    "for i in encoder_new.count_m.alphabet: byte_arr.append(i)\n",
    "\n",
    "with open(filename2, \"wb\") as f:\n",
    "    f.write(bytearray(byte_arr))\n",
    "    f.write(bytearray(encoder_new.byte_encode.byte_store))\n",
    "\n",
    "os.path.getsize(filename2)"
   ]
  },
  {
   "cell_type": "code",
   "execution_count": null,
   "id": "73b228c3",
   "metadata": {},
   "outputs": [
    {
     "name": "stdout",
     "output_type": "stream",
     "text": [
      "True\n"
     ]
    }
   ],
   "source": [
    "counts_d = encode.count_dynamic_k(k, new_mode=2)\n",
    "byte_m = encode.byte_mng_dec()\n",
    "byte_m.load_file(filename2)\n",
    "whitespace = byte_m.read_bits(8)\n",
    "counts_d.load_alphabet_dynamic(byte_m)\n",
    "\n",
    "decoder_new = encode.arith_code_dec_k(counts_d, byte_m, whitespace, N)\n",
    "cond = decoder_new.cont()\n",
    "\n",
    "array = []\n",
    "\n",
    "while cond:\n",
    "#for i in range(lim):\n",
    "    array.append(decoder_new.remove_character())\n",
    "    cond = decoder_new.cont()\n",
    "\n",
    "byte_arr = bytearray(array)\n",
    "\n",
    "len_end = min(len(text), len(array))\n",
    "print(bytearray(array)[:len_end]== text[:len_end])"
   ]
  },
  {
   "cell_type": "code",
   "execution_count": null,
   "id": "5e5f3c71",
   "metadata": {},
   "outputs": [
    {
     "data": {
      "text/plain": [
       "1337819"
      ]
     },
     "execution_count": 144,
     "metadata": {},
     "output_type": "execute_result"
    }
   ],
   "source": [
    "k = 7\n",
    "\n",
    "counts = encode.count_dynamic_k(k, new_mode=2)\n",
    "encoder_new = encode.arith_code_enc_k(counts, N)\n",
    "\n",
    "for i in text:\n",
    "    encoder_new.add_character(i)\n",
    "\n",
    "whitespace2 = encoder_new.finalize()\n",
    "\n",
    "byte_arr = [whitespace2]\n",
    "byte_arr.append(len(encoder_new.count_m.alphabet))\n",
    "if byte_arr[1] > 255: byte_arr[1] = 0\n",
    "for i in encoder_new.count_m.alphabet: byte_arr.append(i)\n",
    "\n",
    "with open(filename2, \"wb\") as f:\n",
    "    f.write(bytearray(byte_arr))\n",
    "    f.write(bytearray(encoder_new.byte_encode.byte_store))\n",
    "\n",
    "os.path.getsize(filename2)"
   ]
  },
  {
   "cell_type": "code",
   "execution_count": null,
   "id": "80d6bcdf",
   "metadata": {},
   "outputs": [
    {
     "name": "stdout",
     "output_type": "stream",
     "text": [
      "True\n"
     ]
    }
   ],
   "source": [
    "counts_d = encode.count_dynamic_k(k, new_mode=2)\n",
    "byte_m = encode.byte_mng_dec()\n",
    "byte_m.load_file(filename2)\n",
    "whitespace = byte_m.read_bits(8)\n",
    "counts_d.load_alphabet_dynamic(byte_m)\n",
    "\n",
    "decoder_new = encode.arith_code_dec_k(counts_d, byte_m, whitespace, N)\n",
    "cond = decoder_new.cont()\n",
    "\n",
    "array = []\n",
    "\n",
    "while cond:\n",
    "#for i in range(lim):\n",
    "    array.append(decoder_new.remove_character())\n",
    "    cond = decoder_new.cont()\n",
    "\n",
    "byte_arr = bytearray(array)\n",
    "\n",
    "len_end = min(len(text), len(array))\n",
    "print(bytearray(array)[:len_end]== text[:len_end])"
   ]
  },
  {
   "cell_type": "code",
   "execution_count": null,
   "id": "432fed5d",
   "metadata": {},
   "outputs": [
    {
     "data": {
      "text/plain": [
       "1359126"
      ]
     },
     "execution_count": 146,
     "metadata": {},
     "output_type": "execute_result"
    }
   ],
   "source": [
    "k = 8\n",
    "\n",
    "counts = encode.count_dynamic_k(k, new_mode=2)\n",
    "encoder_new = encode.arith_code_enc_k(counts, N)\n",
    "\n",
    "for i in text:\n",
    "    encoder_new.add_character(i)\n",
    "\n",
    "whitespace2 = encoder_new.finalize()\n",
    "\n",
    "byte_arr = [whitespace2]\n",
    "byte_arr.append(len(encoder_new.count_m.alphabet))\n",
    "if byte_arr[1] > 255: byte_arr[1] = 0\n",
    "for i in encoder_new.count_m.alphabet: byte_arr.append(i)\n",
    "\n",
    "with open(filename2, \"wb\") as f:\n",
    "    f.write(bytearray(byte_arr))\n",
    "    f.write(bytearray(encoder_new.byte_encode.byte_store))\n",
    "\n",
    "os.path.getsize(filename2)"
   ]
  },
  {
   "cell_type": "code",
   "execution_count": null,
   "id": "98d83359",
   "metadata": {},
   "outputs": [
    {
     "name": "stdout",
     "output_type": "stream",
     "text": [
      "True\n"
     ]
    }
   ],
   "source": [
    "counts_d = encode.count_dynamic_k(k, new_mode=2)\n",
    "byte_m = encode.byte_mng_dec()\n",
    "byte_m.load_file(filename2)\n",
    "whitespace = byte_m.read_bits(8)\n",
    "counts_d.load_alphabet_dynamic(byte_m)\n",
    "\n",
    "decoder_new = encode.arith_code_dec_k(counts_d, byte_m, whitespace, N)\n",
    "cond = decoder_new.cont()\n",
    "\n",
    "array = []\n",
    "\n",
    "while cond:\n",
    "#for i in range(lim):\n",
    "    array.append(decoder_new.remove_character())\n",
    "    cond = decoder_new.cont()\n",
    "\n",
    "byte_arr = bytearray(array)\n",
    "\n",
    "len_end = min(len(text), len(array))\n",
    "print(bytearray(array)[:len_end]== text[:len_end])"
   ]
  }
 ],
 "metadata": {
  "kernelspec": {
   "display_name": "base",
   "language": "python",
   "name": "python3"
  },
  "language_info": {
   "codemirror_mode": {
    "name": "ipython",
    "version": 3
   },
   "file_extension": ".py",
   "mimetype": "text/x-python",
   "name": "python",
   "nbconvert_exporter": "python",
   "pygments_lexer": "ipython3",
   "version": "3.12.9"
  }
 },
 "nbformat": 4,
 "nbformat_minor": 5
}
