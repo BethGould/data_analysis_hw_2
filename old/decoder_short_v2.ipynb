{
 "cells": [
  {
   "cell_type": "markdown",
   "id": "32fd9cdb-0605-4a74-9700-ac40e41deba8",
   "metadata": {
    "jp-MarkdownHeadingCollapsed": true
   },
   "source": [
    "# Counts"
   ]
  },
  {
   "cell_type": "code",
   "execution_count": null,
   "id": "67522c01-05ac-4a3a-b2df-e3a0a4975010",
   "metadata": {},
   "outputs": [],
   "source": [
    "# libraries\n",
    "import encode\n",
    "\n",
    "byte_count = encode.byte_mng_dec()\n",
    "byte_count.load_file(\"count_enc_test\")\n",
    "\n",
    "ch, context, p3_arr, p4_arr, p5_arr, count4 = encode.decode_counts_text(byte_count)\n"
   ]
  }
 ],
 "metadata": {
  "kernelspec": {
   "display_name": "base",
   "language": "python",
   "name": "python3"
  },
  "language_info": {
   "codemirror_mode": {
    "name": "ipython",
    "version": 3
   },
   "file_extension": ".py",
   "mimetype": "text/x-python",
   "name": "python",
   "nbconvert_exporter": "python",
   "pygments_lexer": "ipython3",
   "version": "3.12.9"
  }
 },
 "nbformat": 4,
 "nbformat_minor": 5
}
