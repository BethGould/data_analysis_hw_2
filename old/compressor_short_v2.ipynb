{
 "cells": [
  {
   "cell_type": "markdown",
   "id": "3b04c91d-107f-405e-97b5-26867449a87d",
   "metadata": {
    "jp-MarkdownHeadingCollapsed": true
   },
   "source": [
    "# Loading of the uncapitalized text\n",
    "\n",
    "This should calculate all the counts."
   ]
  },
  {
   "cell_type": "code",
   "execution_count": 1,
   "id": "a46311bc-4231-42bf-8e4f-f496cc7b17aa",
   "metadata": {},
   "outputs": [],
   "source": [
    "#libraries\n",
    "import string\n",
    "import encode\n",
    "\n",
    "#load text\n",
    "with open(\"MrZoat_WithThisRingS01_Gould.txt\") as f:\n",
    "    text = f.read()\n",
    "\n",
    "text = text.lower()\n",
    "\n",
    "low = []\n",
    "for i in range(26):\n",
    "    low.append(string.ascii_lowercase[i])\n",
    "num = []\n",
    "for i in range(10):\n",
    "    num.append(string.digits[i])\n",
    "\n",
    "# now in the correct order\n",
    "sim1 = ['\\n', ' ', '!', '\\\"', '$', '%', '&', '\\'', '(', ')', '*', '+', ',', '-', '.', '/' ]\n",
    "sim2 = [':', ';', '<', '>', '?', '[', ']']\n",
    "sim3 = ['|', '}']\n",
    "ch = sim1 + num + sim2 + low + sim3 # this is our full list of symbols"
   ]
  },
  {
   "cell_type": "code",
   "execution_count": 2,
   "id": "dd1a8b38-df04-4424-a052-854fc330067d",
   "metadata": {},
   "outputs": [],
   "source": [
    "# This is the long part\n",
    "c1_non0, c2_non0, c3_non0, c3n_non0, c4_non0, count4, c4_arr = encode.find_counts_text_enc(text, ch)"
   ]
  },
  {
   "cell_type": "code",
   "execution_count": 3,
   "id": "698d31e5",
   "metadata": {},
   "outputs": [],
   "source": [
    "counts_enc = encode.byte_mng_enc()\n",
    "encode.encode_counts_text(text, counts_enc, ch, c2_non0, c3n_non0, c4_non0, c4_arr)\n",
    "\n",
    "counts_enc.save_bits(\"count_enc_3\")"
   ]
  },
  {
   "cell_type": "code",
   "execution_count": null,
   "id": "e9b188be",
   "metadata": {},
   "outputs": [],
   "source": []
  },
  {
   "cell_type": "code",
   "execution_count": 5,
   "id": "6997ba78",
   "metadata": {},
   "outputs": [
    {
     "data": {
      "text/plain": [
       "True"
      ]
     },
     "execution_count": 5,
     "metadata": {},
     "output_type": "execute_result"
    }
   ],
   "source": [
    "with open('count_enc_3', 'br') as f:\n",
    "    byte1 = f.read()\n",
    "with open('count_enc_test', 'br') as f:\n",
    "    byte2 = f.read()\n",
    "\n",
    "byte1 == byte2"
   ]
  },
  {
   "cell_type": "code",
   "execution_count": null,
   "id": "039e3085",
   "metadata": {},
   "outputs": [],
   "source": []
  }
 ],
 "metadata": {
  "kernelspec": {
   "display_name": "base",
   "language": "python",
   "name": "python3"
  },
  "language_info": {
   "codemirror_mode": {
    "name": "ipython",
    "version": 3
   },
   "file_extension": ".py",
   "mimetype": "text/x-python",
   "name": "python",
   "nbconvert_exporter": "python",
   "pygments_lexer": "ipython3",
   "version": "3.12.9"
  }
 },
 "nbformat": 4,
 "nbformat_minor": 5
}
