{
 "cells": [
  {
   "cell_type": "markdown",
   "id": "32fd9cdb-0605-4a74-9700-ac40e41deba8",
   "metadata": {
    "jp-MarkdownHeadingCollapsed": true
   },
   "source": [
    "# Byte Management Classes and Functions "
   ]
  },
  {
   "cell_type": "code",
   "execution_count": null,
   "id": "67522c01-05ac-4a3a-b2df-e3a0a4975010",
   "metadata": {},
   "outputs": [],
   "source": [
    "# libraries\n",
    "import string\n",
    "import numpy as np\n",
    "import math\n",
    "import encode"
   ]
  },
  {
   "cell_type": "code",
   "execution_count": 2,
   "id": "9a2a0380-e019-4654-ac4d-875ed71b8ffa",
   "metadata": {},
   "outputs": [],
   "source": [
    "# load the file, remove bits from the byte array\n",
    "# byte_store = loaded encoded text\n",
    "# byte = int from 0 to 255, which holds the current byte, with used bits set to 0\n",
    "# jj = index of byte_store (our current byte)\n",
    "# ii = current bit within our current byte, from 0 (all available) to 7 (only the last bit is available)\n",
    "# ll = len(byte_store)\n",
    "class byte_mng:\n",
    "    def __init__(self):\n",
    "        self.byte_store = b'' # here I am filling the bytes, should be integers from 0 to 255\n",
    "        self.byte = 0         # active byte\n",
    "\n",
    "        self.ii = 0           # bits already read, goes from 0 to 7\n",
    "        self.jj = 0           # bytes already read\n",
    "        self.ll = 0           # length of the bytearray\n",
    "\n",
    "        self.iio = 0\n",
    "        self.jjo = 0\n",
    "        self.rem = self.ll\n",
    "        \n",
    "    # unlike the previous version, the file is read first, not last\n",
    "    # I need to check that this does what I think it does\n",
    "    def load_file(self, filename):\n",
    "        with open(filename, \"rb\") as f:\n",
    "            self.byte_store = f.read() # the file should be put into a byte stream\n",
    "            \n",
    "        self.byte = self.byte_store[0]\n",
    "        self.ii = 0         \n",
    "        self.jj = 0          \n",
    "        self.ll = len(self.byte_store) \n",
    "\n",
    "        self.iio = 0\n",
    "        self.jjo = 0\n",
    "        self.byteo = self.byte\n",
    "        self.rem = self.ll\n",
    "        \n",
    "    # Once I open a file, I can start reading it. I never alter the data, but I will not access what has already been read. \n",
    "    # The first function assumes a known number of bits. We remove them one-by-one or 2 by 2 if we don't know how many we need.\n",
    "    # sets self.iio and self.jjo, so the start of reading can be reset\n",
    "    # return: value (int), whether or not we reach or superceed the length of the file\n",
    "    def read_bits(self, lngth):\n",
    "        done = False\n",
    "        self.iio = self.ii\n",
    "        self.jjo = self.jj\n",
    "        self.byteo = self.byte\n",
    "        self.rem = self.ll - self.jj\n",
    "        \n",
    "        # error-checking\n",
    "        if self.ll == 0:\n",
    "            print('File not defined.')\n",
    "            done = True\n",
    "\n",
    "        if self.rem == 0:\n",
    "            print('End of file previously reached.')\n",
    "            done = True\n",
    "\n",
    "        ret_arr = [self.byte] # start with our return here\n",
    "        used_bits = 8 - self.ii # used for length > remaining bit size\n",
    "        k = (lngth - used_bits) // 8 # used for length > remaining bit size + 8\n",
    "\n",
    "        #print(\"part1: \", self.ii, \", \", self.byte, \", \", lngth)\n",
    "        \n",
    "        # don't remove the bytes which don't need to be removed\n",
    "        if (self.ii < (8 - lngth)) & (done == False): \n",
    "            mask = int(255) - int((2**(8 - lngth - self.ii) - 1))\n",
    "            ret_arr[0] = ret_arr[0] & mask\n",
    "            self.ii = self.ii + lngth\n",
    "            mask = int(2**(8-self.ii) - 1)\n",
    "            self.byte = self.byte & mask\n",
    "            done = True\n",
    "\n",
    "        #print(\"part1: \", self.ii, \", \", self.byte, \", \", lngth, \", \", done)\n",
    "\n",
    "        #print(self.ii, self.jj)\n",
    "\n",
    "        # full bytes\n",
    "        if (done == False):\n",
    "            if k > 0:\n",
    "                for i in range(1, k+1):\n",
    "                    if self.jj + i < self.ll:\n",
    "                        ret_arr.append(self.byte_store[self.jj+i])\n",
    "                    else:\n",
    "                        print('Reached end of array.')\n",
    "                        done = True\n",
    "                        break\n",
    "            if k >= 0:\n",
    "                self.jj += k+1\n",
    "                if self.jj < self.ll:\n",
    "                    self.byte = self.byte_store[self.jj]\n",
    "                else:\n",
    "                    self.byte = 0 # end of array\n",
    "                self.ii = 0 # return to beginning\n",
    "                used_bits = used_bits + 8 * k\n",
    "                \n",
    "        if (done == False) & (lngth == used_bits):\n",
    "            done = True\n",
    "        elif (done == False) & (self.jj >= self.ll):\n",
    "            print('Reached end of file')\n",
    "            done = True\n",
    "        elif (done == False) & (used_bits > lngth):\n",
    "            print(lngth, used_bits)\n",
    "            done = True\n",
    "\n",
    "        #print(self.ii, self.jj)\n",
    "\n",
    "        # and for the last byte\n",
    "        if done == False:\n",
    "            ret_arr.append(self.byte)\n",
    "            #remaining bits\n",
    "            rem_bits = lngth - used_bits\n",
    "            #print(\"part2: \", rem_bits, \", \", lngth, \", \", used_bits)\n",
    "            i = rem_bits\n",
    "            mask = int(255) - int((2**(8-i) - 1))\n",
    "            #if i > 8: print(i)\n",
    "            ret_arr[-1] = ret_arr[-1] & mask\n",
    "            self.ii = i\n",
    "            mask = int((2**(8-i) - 1))\n",
    "            self.byte = self.byte & mask\n",
    "\n",
    "        #print(self.ii, self.jj, ret_arr)\n",
    "\n",
    "        return self.byte_to_int(ret_arr, self.iio, self.ii)\n",
    "\n",
    "    # this combines all bits into an integer\n",
    "    def byte_to_int(self, byte_arr, start, end):\n",
    "        lgt = len(byte_arr)\n",
    "        num_bits = (lgt-1)*8 - start + end\n",
    "        if end == 0:\n",
    "            num_bits += 8\n",
    "        out = 0\n",
    "        for i in range(num_bits):\n",
    "            # we want to take of the bit at index start + i\n",
    "            ind = start + i\n",
    "            kk = ind // 8\n",
    "            ind = ind % 8\n",
    "            pwr1 = int(2**(7-ind))\n",
    "            num = pwr1 & byte_arr[kk] \n",
    "            #if ind < 7: num = num >> (7-ind)\n",
    "            pwr_full = int(2**(num_bits - i - 1))\n",
    "            if num > 0: out += pwr_full\n",
    "        return(out)\n",
    "\n",
    "    # if I read the next byte as a test, and find it is for the next section instead\n",
    "    def revert(self):\n",
    "        self.ii = self.iio\n",
    "        self.jj = self.jjo\n",
    "        self.byte = self.byteo\n",
    "        self.rem = self.ll - self.jj\n",
    "        \n",
    "    def to_end_of_byte(self):\n",
    "        if self.ii > 0:\n",
    "            self.jj = self.jj + 1\n",
    "        self.ii = 0\n",
    "        self.rem = self.ll - self.jj\n",
    "        if self.rem > 0:\n",
    "            self.byte = self.byte_store[self.jj]\n",
    "        else:\n",
    "            self.byte = 0\n",
    "\n",
    "    # now for the code for ternary code\n",
    "    def read_ternary(self):\n",
    "        # 00, 01, 10, 11\n",
    "        # leading will be 1 or 0\n",
    "\n",
    "        # 1 for 2 and 0 for 1\n",
    "        # this gets the leading digit\n",
    "        ter = [self.read_bits(1)+1]\n",
    "\n",
    "        # repeat for the rest of the digits\n",
    "        # 01 = 0, 10 = 1, 11 = 2\n",
    "        code = 0\n",
    "        while code >= 0:\n",
    "            code = self.read_bits(2) - 1\n",
    "            if code >= 0:\n",
    "                ter.append(code)\n",
    "\n",
    "        #print(ter, code)\n",
    "\n",
    "        # now to return the number\n",
    "        num = 0\n",
    "        for i in range(len(ter)):\n",
    "            #print(num)\n",
    "            num += ter[i] * (3**(len(ter)-1-i))\n",
    "            \n",
    "        return num\n",
    "\n",
    "    def read_list(self):\n",
    "        word_arr = []\n",
    "        cont = True\n",
    "        while cont:\n",
    "            word = self.read_word()\n",
    "            if word == '':\n",
    "                cont = False\n",
    "            else:\n",
    "                word_arr.append(word)\n",
    "        return word_arr\n",
    "\n",
    "    def read_word(self):\n",
    "        word = ''\n",
    "        cont = True\n",
    "        while cont:\n",
    "            char = self.read_char()\n",
    "            if char == '':\n",
    "                cont = False\n",
    "            else:\n",
    "                word = word + char\n",
    "        return word\n",
    "\n",
    "    def read_char(self):\n",
    "        #000xx = stop\n",
    "        #0010x = stop\n",
    "        #0011x = ab\n",
    "        #01xxx = c-j\n",
    "        #10xxx = k-r\n",
    "        #11xxx = s-z\n",
    "        \n",
    "        code_a = ord('a') - int('110', 2)\n",
    "        #num = ord(cha) - ord('a') + code_a # the order is unchanged, but the numbering starts earlier\n",
    "        #ord(cha) = num + ord('a') - code_a\n",
    "        \n",
    "        f3b = self.read_bits(3)\n",
    "        if f3b == 0:\n",
    "            char = ''\n",
    "        elif f3b == 1:\n",
    "            b4 = self.read_bits(1)\n",
    "            if b4 == 0:\n",
    "                char = '' # I could add a separate behavor here, but right now I have not.\n",
    "            else:\n",
    "                b5 = self.read_bits(1)\n",
    "                if b5 == 0:\n",
    "                    char = 'a'\n",
    "                else:\n",
    "                    char = 'b'\n",
    "        else:\n",
    "            b45 = self.read_bits(2)\n",
    "            char_num = b45 + f3b*4 + code_a\n",
    "            char = chr(char_num)\n",
    "\n",
    "        return char"
   ]
  },
  {
   "cell_type": "code",
   "execution_count": null,
   "id": "117daf47-f381-47cb-aaa0-58c75996bba8",
   "metadata": {},
   "outputs": [],
   "source": [
    "byte_count = byte_mng()\n",
    "byte_count.load_file(\"count_enc_test\")"
   ]
  },
  {
   "cell_type": "code",
   "execution_count": 44,
   "id": "12dffe59-3ed1-49cc-9369-efba21bfdf31",
   "metadata": {},
   "outputs": [
    {
     "name": "stdout",
     "output_type": "stream",
     "text": [
      "90640\n"
     ]
    }
   ],
   "source": [
    "print(byte_count.ll)"
   ]
  },
  {
   "cell_type": "code",
   "execution_count": 45,
   "id": "0cefec55-7367-41ae-9db9-7b453de74396",
   "metadata": {},
   "outputs": [],
   "source": [
    "low = []\n",
    "upp = []\n",
    "for i in range(26):\n",
    "    low.append(string.ascii_lowercase[i])\n",
    "    upp.append(string.ascii_uppercase[i])\n",
    "num = []\n",
    "for i in range(10):\n",
    "    num.append(string.digits[i])\n",
    "sim = []"
   ]
  },
  {
   "cell_type": "markdown",
   "id": "c348d86e",
   "metadata": {},
   "source": [
    "# Arithmetic Decoder Classes and Objects"
   ]
  },
  {
   "cell_type": "code",
   "execution_count": 6,
   "id": "b812cb51",
   "metadata": {},
   "outputs": [],
   "source": [
    "class count_mng:\n",
    "    # defines three modes \n",
    "    # 0 means static counts,\n",
    "    # 1 means dynamic, fixed alphabet\n",
    "    # 2 means dynamic alphabet\n",
    "    # new_mode defines the count of the letter 'new' in the dynamic alphabet\n",
    "    def __init__(self,alphabet_in=None, counts_in=None, new_mode=2):\n",
    "        self.mode = 0\n",
    "        if alphabet_in == None:\n",
    "            self.mode = 2\n",
    "            self.alphabet = []\n",
    "            self.counts = []\n",
    "        elif counts_in == None:\n",
    "            self.mode = 1\n",
    "            self.alphabet = alphabet_in\n",
    "            self.counts = [1]*len(alphabet_in)\n",
    "        else:\n",
    "            self.mode = 0\n",
    "            self.alphabet = alphabet_in\n",
    "            self.counts = counts_in\n",
    "        self.new_mode = new_mode\n",
    "\n",
    "    def increment_count(self, i):\n",
    "        if len(self.alphabet)==0:\n",
    "            self.add_new_count(0)\n",
    "        elif i < len(self.alphabet):\n",
    "            self.counts[i] +=1\n",
    "        else:\n",
    "            self.add_new_count(i)\n",
    "        return self.alphabet[i]\n",
    "\n",
    "    #update\n",
    "    def get_counts(self):\n",
    "        if self.mode == 0: return self.get_counts_0()\n",
    "        elif self.mode == 1: return self.get_counts_0()\n",
    "        else: return self.get_counts_2()\n",
    "\n",
    "    def get_counts_0(self):\n",
    "        return self.counts.copy()\n",
    "    \n",
    "    # this is the most complicated case\n",
    "    # I need to find the structure here and add it\n",
    "    def get_counts_2(self):\n",
    "        if len(self.alphabet) == 0:\n",
    "            return None\n",
    "        else:\n",
    "            ret_arr = self.counts.copy()\n",
    "            ret_arr.append(self.get_count_new())\n",
    "            #print(ret_arr)\n",
    "            return ret_arr\n",
    "        \n",
    "    # both of the following are for dynamic alphabets\n",
    "    def get_count_new(self):\n",
    "        modes = [1, \n",
    "                 max(1,len(self.alphabet)), \n",
    "                 max(1,len(self.alphabet)), \n",
    "                 max(1.0, len(self.alphabet)/2)]\n",
    "        return modes[self.new_mode]\n",
    "    \n",
    "    def add_new_count(self, char):\n",
    "        self.alphabet.append(char)\n",
    "        modes = [1,\n",
    "                 0,\n",
    "                 1,\n",
    "                 0.5]\n",
    "        self.counts.append(modes[self.new_mode])"
   ]
  },
  {
   "cell_type": "code",
   "execution_count": null,
   "id": "ef8af89b",
   "metadata": {},
   "outputs": [],
   "source": [
    "# - keep track of and update l, h, bits\n",
    "# {l_old, h_old, bits_old -> a, b -> h-l+1, h-l+1 / 2^n -> a+ term, b+ term -> l, \n",
    "#  h -> bin l, bin h -> enc update -> new bin l, new bin h, bits_new -> new l, new h}\n",
    "class arith_code_mng:\n",
    "    def __init__(self, counts_mngr, byte_m = byte_count):\n",
    "        # window size\n",
    "        self.N = 40\n",
    "        self.win_size = 2**self.N\n",
    "\n",
    "        # left and right borders\n",
    "        # I know I don't need so many, but it should be fine right now\n",
    "        self.l = 0\n",
    "        self.h = self.win_size - 1\n",
    "        self.bits = 0\n",
    "        self.lo = 0\n",
    "        self.ho = self.win_size - 1\n",
    "        self.ln = 0\n",
    "        self.hn = self.win_size - 1\n",
    "\n",
    "        # counts\n",
    "        self.find_counts = counts_mngr\n",
    "\n",
    "        # encoding\n",
    "        self.byte_encode = byte_m\n",
    "        self.duration_static = 0\n",
    "        self.static_count = 0\n",
    "        self.end = 0\n",
    "        self.window = 0\n",
    "\n",
    "        self.byte_l = self.byte_encode.ll -  1\n",
    "        self.cur_by = self.byte_encode.jj\n",
    "        self.cur_bi = self.byte_encode.ii\n",
    "        self.find_first_byte() # finds my window, removing it from the bit storage\n",
    "\n",
    "\n",
    "    def read_bit(self):\n",
    "        if (self.cur_by < self.byte_l):\n",
    "            bit = self.byte_encode.read_bits(1)\n",
    "            self.cur_by = self.byte_encode.jj\n",
    "            self.cur_bi = self.byte_encode.ii                                                                \n",
    "        else:\n",
    "            bit = 0\n",
    "            self.end = self.end + 1 # I don't think I need this, but ...\n",
    "        return bit\n",
    "\n",
    "    def find_first_byte(self):\n",
    "        byte = 0\n",
    "        for i in range(self.N):\n",
    "            bit = self.read_bit()\n",
    "            byte = byte << 1\n",
    "            byte = byte | bit\n",
    "        self.window = byte\n",
    "\n",
    "    def shift_byte(self, n=1):\n",
    "        for i in range(n):\n",
    "            self.window = (self.window << 1) % self.win_size\n",
    "            self.window = self.window | self.read_bit()\n",
    "\n",
    "    def shift_byte_bits(self, n=1):\n",
    "        for i in range(n):\n",
    "            fb = (self.window // 2**(self.N-1)) << (self.N-1)\n",
    "            self.window = (self.window << 1) % 2**(self.N-1) # removes 2 bits from the start, clearing a spot at the end and at the beginning\n",
    "            self.window = self.window | self.read_bit() # add a bit to the end\n",
    "            self.window = self.window | fb # return the first bit to the beginning\n",
    "\n",
    "    # ----- here we have initialized everything,\n",
    "    #      can check if we need to keep going\n",
    "    #      and can find our byte string to read -----\n",
    "            \n",
    "    def remove_character(self):\n",
    "        # find the location in the probability space for our byte array window \n",
    "        hl1_N = float(self.ho-self.lo+1) / float(self.win_size)\n",
    "        w_pl = (self.window - self.lo) / hl1_N\n",
    "        #print('w_pl, lo, ho, win')\n",
    "        #print(bin(math.ceil(w_pl)), bin(self.lo), bin(self.ho), bin(self.window))\n",
    "\n",
    "        # find the probabilities of various characters\n",
    "        #char_arr = self.find_counts.alphabet.copy()\n",
    "        a, char, b = self.find_window_chars(w_pl)\n",
    "\n",
    "        # update l and h like before\n",
    "        a_pl = math.ceil(hl1_N * a)\n",
    "        b_pl = math.ceil(hl1_N * (b + 1)) - 1\n",
    "\n",
    "        self.l = self.lo + a_pl\n",
    "        self.h = self.lo + b_pl\n",
    "        \n",
    "        #print(format(self.l, '032b'),\",\", format(self.h, '032b'),\",\", format(self.window, '032b'))\n",
    "        #print(\"new l, h: \", bin(self.h), bin(self.l))\n",
    "        enc_n, bit_n = self.update_window() # shifts the window and records how many bits need to be removed from l and h\n",
    "        self.new_lh(enc_n, bit_n) # removes bits from l and h\n",
    "        #print(\"remove: \", bin(self.hn), bin(self.ln), enc_n, bit_n)\n",
    "\n",
    "        # updates for the next run\n",
    "        # there is definately an error here in the encoding ...\n",
    "        self.char = char\n",
    "        self.lo = self.ln\n",
    "        self.ho = self.hn\n",
    "        #self.update_context() # so that the next context uses the current character and removes the oldest\n",
    "\n",
    "        return char #ch[char] # this array should not be global ... \n",
    "\n",
    "    #      a, char, b = self.find_windows_chars(w_pl, ind1, ind2, char_arr)\n",
    "    def find_window_chars(self, w_pl):\n",
    "        # this gets the counts\n",
    "        char_counts = self.find_counts.get_counts()\n",
    "        #print(char_counts)\n",
    "        if char_counts is None:\n",
    "            a = 0\n",
    "            b = self.win_size - 1\n",
    "            i = 0\n",
    "        else:\n",
    "            den = float(sum(char_counts))\n",
    "            b_fl = float(0)\n",
    "            a = lb = 0\n",
    "            num = float(0)\n",
    "            i = b = rb = -1\n",
    "            while rb < math.ceil(w_pl):\n",
    "                a = lb\n",
    "                i += 1\n",
    "                num = num + float(char_counts[i])\n",
    "                b_fl = num / den\n",
    "                rb = math.ceil(b_fl * self.win_size) - 1\n",
    "                b = rb\n",
    "                lb = rb + 1 # for the next cycle\n",
    "        \n",
    "        ret_char = self.find_counts.increment_count(i)\n",
    "\n",
    "        return a, ret_char, b\n",
    "\n",
    "\n",
    "    #enc_n, bit_n = self.update_window() # shifts the window and records how many bits need to be removed from l and h\n",
    "    #self.new_lh(enc_n, bit_n) # removes bits from l and h\n",
    "    # This is from the previous\n",
    "    # This loads the bits into the array and updates bits, but so far doesn't update l and h\n",
    "    def update_window(self):\n",
    "        l = self.l\n",
    "        h = self.h\n",
    "\n",
    "        nbitload = 0\n",
    "        nbits = 0\n",
    "\n",
    "        #print(self.h-self.l)\n",
    "        # both l and h are N bits long\n",
    "        x = self.win_size\n",
    "        #print(l / x, h / x)\n",
    "\n",
    "        lb = 0\n",
    "        hb = 0\n",
    "        \n",
    "        for i in range(self.N):\n",
    "            #print(\"bits:\", i, lb,hb, l/x, h/x)\n",
    "            x = x // 2\n",
    "            lb = l // x\n",
    "            l = l % x\n",
    "            hb = h // x\n",
    "            h = h % x\n",
    "            #print(\"bits:\", i, lb,hb, l/x, h/x, self.bits)\n",
    "            if lb == hb:\n",
    "                self.shift_byte() # we are no longer loading\n",
    "                while self.bits > 0:\n",
    "                    #self.byte_encode.load_bits(1,1) # they are removed earlier\n",
    "                    #self.shift_byte_bits()\n",
    "                    self.bits -= 1\n",
    "                nbitload += 1\n",
    "            else:\n",
    "                #print(i)\n",
    "                break\n",
    "\n",
    "        # the final 0s in the file\n",
    "        if nbitload == 0:\n",
    "            self.duration_static += 1\n",
    "        else:\n",
    "            self.duration_static = 0\n",
    "\n",
    "        # widening the window\n",
    "        # print(l / x, h / x)\n",
    "        for i in range(self.N - nbitload - 1):\n",
    "            x = x // 2\n",
    "            lb = l // x\n",
    "            l = l % x\n",
    "            hb = h // x\n",
    "            h = h % x\n",
    "            if lb == 1 and hb == 0:\n",
    "                nbits += 1\n",
    "                self.bits += 1\n",
    "                self.shift_byte_bits()\n",
    "            else:\n",
    "                break\n",
    "\n",
    "        #print(self.h-self.l, nbitload, nbits)\n",
    "        return nbitload,nbits\n",
    "\n",
    "    # again, I need to check this and check the logic\n",
    "    # should be unchanged\n",
    "    def new_lh(self, nbitload, nbits):\n",
    "        # removing bits\n",
    "        self.ln = (self.l << nbitload) % self.win_size\n",
    "        self.hn = (self.h << nbitload) % self.win_size\n",
    "        self.hn = self.hn | (2**nbitload - 1) # fill the end with 1s, not 0s\n",
    "\n",
    "        # widening of the window\n",
    "        if nbits > 0:\n",
    "            l_fb = (self.ln // 2**(self.N-1)) << (self.N-1)\n",
    "            h_fb = (self.hn // 2**(self.N-1)) << (self.N-1)\n",
    "            self.ln = (self.ln % 2**(self.N-1-nbits)) << nbits\n",
    "            self.hn = (self.hn % 2**(self.N-1-nbits)) << nbits\n",
    "            self.hn = self.hn | (2**nbits - 1) # fill the end with 1s, not 0s\n",
    "            # and return the first bit to the array\n",
    "            self.ln = self.ln | l_fb\n",
    "            self.hn = self.hn | h_fb\n",
    "    \n",
    "    # This deals with the widening of the window removing needed bits from my byte stream \n",
    "    def end_stream(self):\n",
    "        self.byte_encode.ii = self.byte_encode.ii - self.bits\n",
    "        while self.byte_encode.ii < 0:\n",
    "            self.byte_encode.jj -= 1\n",
    "            self.byte_encode.ii += 8\n",
    "        self.byte_encode.byte = self.byte_encode.byte_store[self.byte_encode.jj]\n",
    "        self.byte_encode.byte = self.byte_encode.byte % 2**(8-self.byte_encode.ii)"
   ]
  },
  {
   "cell_type": "markdown",
   "id": "76607213-c2e7-495b-b090-95ab4afc7f31",
   "metadata": {
    "jp-MarkdownHeadingCollapsed": true
   },
   "source": [
    "# Finding the Character Array"
   ]
  },
  {
   "cell_type": "markdown",
   "id": "9fcbd13b",
   "metadata": {},
   "source": [
    "\n",
    "\n",
    " - p1: {10, 22, 1, 1, 2, 1, 1, 1, 1, 1, 1, 1, 1, 1, 1, 1, 1, 1, 1, 2, 1, 2, 2, 5, 1, 3}\n",
    " - size: (bit size -> 7, 6, 6, 6, {5}, 5, ..., 5, {4}, 4, 4, 4, 4, {2}, 2 or just all 7)\n",
    " - p2: {'ABC'} -- The first three characters of the document (index 0 - 60). \n",
    " - p3: {c2_non0\\[1\\]\\[0\\]+1, c2_non0\\[1\\]\\[1:\\]- c2_non0\\[1\\]\\[0:-1\\]} -- Add 61 to all non-positive.\n",
    " - x = 61\n",
    " - p4: {c3n_non0\\[1\\]\\[0\\]+1, c3n_non0\\[1\\]\\[1:\\]- c3n_non0\\[1\\]\\[0:-1\\]} -- Add 61 to all non-positive.\n",
    " - y = 61\n",
    " - p5: {c4_non0\\[1\\]\\[0\\]+1, c4_non0\\[1\\]\\[1:\\]- c4_non0\\[1\\]\\[0:-1\\]} -- Add 61 to all non-positive character spacings. Counts are only important here, as the old counts can be calculated from these counts and the first 3 characters.\n",
    " - z = 61, to indicate end of file \n",
    " - count4\n",
    "\n",
    "Indicies encoded 0-60, 61 indicates need to increment the first index only if not obvious."
   ]
  },
  {
   "cell_type": "code",
   "execution_count": null,
   "id": "8cb57933-9b51-4bc3-b7c6-b1634a04ea74",
   "metadata": {},
   "outputs": [],
   "source": [
    "#byte_count.ii = 0\n",
    "#byte_count.jj = 0\n",
    "#byte_count.byte = byte_count.byte_store[0]"
   ]
  },
  {
   "cell_type": "code",
   "execution_count": 8,
   "id": "45dab8eb-dce0-42b6-a385-f47c7fa8ebc1",
   "metadata": {},
   "outputs": [],
   "source": [
    "# first = p1\n",
    "# Encoding unchanged (not arithmetic)\n",
    "\n",
    "def remove_sym_arr(bm):\n",
    "    sym_space = []\n",
    "    bit_len = int(7)\n",
    "    rem_chars = int(128 - 26*2 - 10)\n",
    "    while rem_chars > 0:\n",
    "        sym_space.append(int(bm.read_bits(bit_len)))\n",
    "        rem_chars = rem_chars - sym_space[-1]\n",
    "        bit_len = len(bin(rem_chars - 1)) - 2\n",
    "        # print(sym_space, rem_chars, bit_len)\n",
    "        # 0 is possible as the first character, but not as a spacing\n",
    "        # if there are no special chars, the last number will be >= 66; \n",
    "        # but 0 may be used instead as the end after this\n",
    "        if sym_space[-1] == 0 and len(sym_space) > 1: \n",
    "            break\n",
    "    \n",
    "    sym_space.pop() # remove the last, unused space, which ends the array\n",
    "    print(sym_space)\n",
    "\n",
    "    #print(len(sym_space))\n",
    "    x1=x2=x3=False\n",
    "    for i in range(1,len(sym_space)):\n",
    "        sym_space[i] = sym_space[i] + sym_space[i-1]\n",
    "        if sym_space[i] >= 48 and x1 == False: # digits\n",
    "            x1 = True\n",
    "            sym_space[i] += 10\n",
    "        if sym_space[i] >= 65 and x2 == False: # uppercase letters\n",
    "            x2 = True\n",
    "            sym_space[i] += 26\n",
    "        if sym_space[i] >= 97 and x3 == False: # lowercase layers\n",
    "            x3 = True\n",
    "            sym_space[i] += 26\n",
    "    # now sym_space gives the ascii code for all the special characters\n",
    "\n",
    "    print(sym_space)\n",
    "\n",
    "    sym = []\n",
    "    for i in sym_space:\n",
    "        sym.append(chr(i))\n",
    "\n",
    "    return sym"
   ]
  },
  {
   "cell_type": "code",
   "execution_count": 46,
   "id": "a70cf3e6-6622-4887-9b99-af0c090af14f",
   "metadata": {},
   "outputs": [
    {
     "name": "stdout",
     "output_type": "stream",
     "text": [
      "[10, 22, 1, 1, 2, 1, 1, 1, 1, 1, 1, 1, 1, 1, 1, 1, 1, 1, 1, 2, 1, 2, 2, 5, 1]\n",
      "[10, 32, 33, 34, 36, 37, 38, 39, 40, 41, 42, 43, 44, 45, 46, 47, 58, 59, 60, 62, 63, 91, 93, 124, 125]\n",
      "6 61 61 ['\\n', ' ', '!', '\"', '$', '%', '&', \"'\", '(', ')', '*', '+', ',', '-', '.', '/', ':', ';', '<', '>', '?', '[', ']', '|', '}']\n"
     ]
    }
   ],
   "source": [
    "sim = remove_sym_arr(byte_count)\n",
    "n = len(sim) + 26 + 10\n",
    "size = len(bin(n)) - 2\n",
    "\n",
    "ch = []\n",
    "for i in range(48):\n",
    "    if chr(i) in sim:    \n",
    "        ch.append(chr(i))\n",
    "ch = ch + num\n",
    "for i in range(58, 97):\n",
    "    if chr(i) in sim:    \n",
    "        ch.append(chr(i))\n",
    "ch = ch + low\n",
    "for i in range(123, 128):\n",
    "    if chr(i) in sim:\n",
    "        ch.append(chr(i))\n",
    "print(size, n, len(ch), sim)"
   ]
  },
  {
   "cell_type": "code",
   "execution_count": null,
   "id": "4d210a4a-84b6-4218-a320-94aee12eef17",
   "metadata": {},
   "outputs": [],
   "source": [
    "# ['\\n', ' ', '!', '\\\"', '$', '%', '&', '\\'', '(', ')', '*', '+', ',', '-', '.', '/' ]\n",
    "# sim2 = [':', ';', '<', '>', '?', '[', ']']\n",
    "# sim3 = ['|', '}']\n",
    "# {10(7), 22(6), 1(6), 1(6), 2(5), 1(5), 1, 1, 1, 1, 1, 1, 1, 1, 1, 1, 1, 1, 1, 2, 1, 2, 2, 5, 1, 3}\n",
    "# size_sim_arr = [7, 6, 6, 6, 5, 5, 5, 5, 5, 5, 5, 5, 5, 5, 5, 5, 5, 5, 5, 4, 4, 4, 4, 4, 2, 2]\n",
    "#len([10, 22, 1, 1, 2, 1, 1, 1, 1, 1, 1, 1, 1, 1, 1, 1, 1, 1, 1, 2, 1, 2, 2, 5, 1, 0])"
   ]
  },
  {
   "cell_type": "markdown",
   "id": "2cac8ce4",
   "metadata": {},
   "source": [
    "# Finding the Machines"
   ]
  },
  {
   "cell_type": "code",
   "execution_count": 47,
   "id": "ba52e457",
   "metadata": {},
   "outputs": [],
   "source": [
    "# set up the alphabet\n",
    "array_nums = [i for i in range(len(ch)+1)]\n",
    "counts_dynamic_static = count_mng(alphabet_in=array_nums)\n",
    "decode_dyn_st = arith_code_mng(counts_mngr=counts_dynamic_static, byte_m=byte_count)"
   ]
  },
  {
   "cell_type": "code",
   "execution_count": 48,
   "id": "2274e865-397d-411b-b7c0-8e72cd98e09b",
   "metadata": {},
   "outputs": [
    {
     "name": "stdout",
     "output_type": "stream",
     "text": [
      "[55, 41, 52]\n"
     ]
    }
   ],
   "source": [
    "# p2: {'ABC'} -- The first three characters of the document (index 0 - 60). \n",
    "context = [] \n",
    "#size = 6\n",
    "for i in range(3):\n",
    "    context.append(decode_dyn_st.remove_character())\n",
    "print(context) # should be [55, 41, 52]"
   ]
  },
  {
   "cell_type": "code",
   "execution_count": null,
   "id": "ceb006e3-ad13-402e-b234-6473ca47cef4",
   "metadata": {},
   "outputs": [
    {
     "name": "stdout",
     "output_type": "stream",
     "text": [
      "5 22 0\n"
     ]
    }
   ],
   "source": [
    "# correct is 5, 22, 0\n",
    "print(byte_count.ii, byte_count.jj, byte_count.byte)"
   ]
  },
  {
   "cell_type": "code",
   "execution_count": 50,
   "id": "480ca5dc-f561-4aba-a316-1d951c3ad900",
   "metadata": {},
   "outputs": [],
   "source": [
    "# p3: {c2_non0\\[1\\]\\[0\\]+1, c2_non0\\[1\\]\\[1:\\]- c2_non0\\[1\\]\\[0:-1\\]} \n",
    "# two indicies, first of length 61, second of leng\n",
    "# there should be 1427 numbers loaded, each with a length of 6 bits\n",
    "\n",
    "p3_arr = ([], [])\n",
    "notdone = True\n",
    "i = 0 # i is increasing by one at the beginning -- this gives the correct results\n",
    "j = 0\n",
    "notFirst= False\n",
    "\n",
    "while notdone:\n",
    "    jo = j\n",
    "    j = decode_dyn_st.remove_character()\n",
    "    if j <= jo and notFirst:\n",
    "        i = i + 1\n",
    "        if i >= len(ch):\n",
    "            print('i greater than len')\n",
    "            #byte_count.revert()\n",
    "            notdone = False\n",
    "    elif j >= len(ch):\n",
    "        i = i + 1\n",
    "        if i < len(ch):\n",
    "            j = decode_dyn_st.remove_character()\n",
    "        else:\n",
    "            notdone = False\n",
    "    if notdone:\n",
    "        p3_arr[0].append(i)\n",
    "        p3_arr[1].append(j)\n",
    "    notFirst = True"
   ]
  },
  {
   "cell_type": "code",
   "execution_count": null,
   "id": "99f95e57-83a2-4291-b329-0fb37e4f8e3e",
   "metadata": {},
   "outputs": [
    {
     "name": "stdout",
     "output_type": "stream",
     "text": [
      "1427\n"
     ]
    }
   ],
   "source": [
    "print(len(p3_arr[0])) # 1427"
   ]
  },
  {
   "cell_type": "raw",
   "id": "3b7b5075",
   "metadata": {
    "vscode": {
     "languageId": "raw"
    }
   },
   "source": [
    "# originally used to test to see if the arrays are the same\n",
    "# arr1 is the decoded array, arr2 is the encoded array\n",
    "# they are the same\n",
    "arr1 = np.array([0, 2, 3, 7, 10, 13, 14, 16, 17, 18, 19, 20, 21, 22, 23, 24, 25, 26, 29, 31, 33, 34, 35, 36, 37, 38, 39, 40, 41, 42, 43, 44, 45, 46, 47, 48, 49, 50, 51, 52, 53, 54, 55, 57, 58, 60, 2, 3, 4, 6, 7, 8, 10, 11, 12, 13, 14, 15, 16, 17, 18, 19, 20, 21, 22, 23, 24, 25, 28, 31, 33, 34, 35, 36, 37, 38, 39, 40, 41, 42, 43, 44, 45, 46, 47, 48, 49, 50, 51, 52, 53, 54, 55, 56, 57, 58, 0, 1, 2, 3, 7, 10, 13, 14, 30, 32, 33, 34, 36, 37, 38, 40, 41, 42, 43, 44, 45, 46, 47, 48, 50, 51, 52, 53, 54, 55, 57, 0, 1, 3, 7, 10, 12, 13, 14, 22, 25, 33, 34, 35, 36, 37, 38, 39, 40, 41, 42, 43, 44, 45, 46, 47, 48, 49, 50, 51, 52, 53, 54, 55, 56, 57, 58, 17, 1, 1, 36, 0, 1, 2, 3, 10, 12, 13, 14, 30, 33, 34, 35, 36, 37, 38, 39, 40, 41, 42, 43, 44, 45, 46, 47, 48, 49, 50, 51, 52, 53, 54, 55, 56, 57, 58, 33, 36, 40, 41, 44, 45, 52, 1, 12, 14, 0, 1, 2, 3, 7, 10, 13, 14, 26, 31, 33, 34, 35, 36, 37, 38, 39, 40, 41, 42, 43, 44, 45, 46, 47, 48, 49, 50, 51, 52, 53, 54, 55, 57, 58, 17, 18, 19, 20, 24, 0, 1, 3, 13, 16, 38, 55, 0, 1, 2, 3, 7, 10, 12, 14, 17, 18, 20, 21, 22, 23, 24, 30, 31, 32, 33, 34, 35, 36, 37, 38, 39, 40, 41, 42, 43, 44, 45, 46, 47, 48, 49, 50, 51, 52, 53, 54, 55, 56, 57, 58, 59, 0, 1, 2, 3, 7, 10, 12, 13, 14, 18, 19, 22, 23, 30, 32, 33, 34, 35, 36, 37, 38, 39, 40, 41, 42, 43, 44, 45, 46, 47, 48, 50, 51, 52, 53, 54, 55, 1, 16, 18, 33, 34, 35, 36, 38, 39, 40, 41, 43, 45, 46, 47, 50, 51, 55, 57, 0, 1, 5, 7, 9, 10, 12, 14, 16, 17, 18, 19, 20, 21, 22, 23, 24, 25, 26, 30, 41, 47, 52, 0, 1, 9, 10, 12, 14, 15, 16, 17, 18, 19, 20, 21, 22, 23, 24, 25, 26, 37, 51, 52, 0, 1, 9, 10, 12, 14, 16, 17, 18, 19, 20, 21, 22, 23, 24, 25, 26, 36, 46, 47, 52, 0, 1, 5, 7, 9, 10, 12, 14, 16, 17, 18, 19, 20, 21, 22, 23, 24, 25, 26, 46, 50, 52, 0, 1, 9, 10, 12, 14, 15, 16, 17, 18, 19, 20, 21, 22, 23, 24, 25, 26, 52, 0, 1, 9, 10, 14, 15, 16, 17, 18, 19, 20, 21, 22, 23, 24, 25, 26, 41, 52, 56, 0, 1, 9, 10, 11, 12, 14, 16, 19, 20, 22, 24, 26, 32, 51, 52, 0, 1, 7, 9, 10, 12, 14, 15, 21, 26, 52, 0, 1, 5, 9, 10, 15, 17, 26, 45, 52, 1, 9, 10, 14, 15, 16, 18, 19, 20, 26, 52, 0, 1, 3, 10, 13, 16, 17, 18, 19, 20, 21, 31, 0, 1, 3, 35, 12, 26, 0, 1, 2, 3, 7, 10, 13, 30, 0, 2, 16, 36, 38, 40, 41, 45, 48, 50, 51, 55, 0, 1, 10, 0, 1, 2, 3, 7, 9, 10, 12, 13, 14, 20, 26, 27, 30, 33, 34, 35, 36, 37, 38, 39, 40, 41, 42, 43, 44, 45, 46, 47, 48, 49, 50, 51, 52, 53, 54, 55, 56, 57, 58, 1, 2, 7, 9, 10, 12, 13, 14, 26, 30, 33, 34, 35, 36, 37, 38, 40, 41, 42, 44, 45, 46, 47, 48, 50, 51, 52, 53, 54, 55, 57, 58, 1, 2, 7, 12, 13, 14, 15, 26, 27, 30, 33, 34, 35, 36, 37, 39, 40, 41, 42, 43, 44, 46, 47, 49, 50, 51, 52, 53, 54, 55, 57, 0, 1, 2, 3, 6, 7, 10, 12, 13, 14, 15, 22, 26, 27, 30, 32, 33, 34, 35, 36, 37, 38, 39, 40, 41, 42, 43, 44, 45, 46, 47, 48, 49, 50, 51, 52, 53, 54, 55, 57, 58, 0, 1, 2, 3, 7, 9, 10, 12, 13, 14, 15, 16, 18, 26, 27, 30, 32, 33, 34, 35, 36, 37, 38, 39, 40, 41, 42, 43, 44, 45, 46, 47, 48, 49, 50, 51, 52, 53, 54, 55, 56, 57, 58, 0, 1, 2, 7, 12, 13, 14, 26, 27, 30, 33, 34, 35, 36, 37, 38, 39, 40, 41, 42, 43, 44, 45, 46, 47, 48, 50, 51, 52, 53, 55, 57, 58, 0, 1, 2, 7, 12, 13, 14, 15, 26, 27, 30, 31, 32, 33, 34, 35, 36, 37, 38, 39, 40, 41, 43, 44, 45, 46, 47, 48, 50, 51, 52, 53, 55, 57, 58, 0, 1, 2, 3, 7, 12, 13, 14, 18, 26, 27, 29, 30, 33, 34, 35, 36, 37, 38, 39, 40, 41, 43, 44, 45, 46, 47, 48, 49, 50, 51, 52, 53, 55, 57, 58, 0, 1, 2, 7, 12, 13, 14, 15, 22, 30, 33, 34, 35, 36, 37, 38, 39, 40, 41, 42, 43, 44, 45, 46, 47, 48, 49, 50, 51, 52, 53, 54, 55, 56, 57, 58, 7, 13, 14, 33, 37, 38, 41, 42, 43, 47, 53, 0, 1, 2, 3, 7, 10, 12, 13, 14, 26, 27, 30, 33, 34, 35, 36, 37, 38, 39, 40, 41, 43, 44, 45, 46, 47, 48, 50, 51, 52, 53, 54, 55, 57, 0, 1, 2, 3, 7, 12, 13, 14, 15, 26, 27, 30, 33, 34, 35, 36, 37, 38, 39, 40, 41, 43, 44, 45, 46, 47, 48, 50, 51, 52, 53, 54, 55, 57, 0, 1, 2, 3, 7, 12, 13, 14, 17, 26, 27, 30, 33, 34, 35, 36, 37, 38, 40, 41, 44, 45, 46, 47, 48, 49, 50, 51, 52, 53, 54, 55, 57, 0, 1, 2, 3, 7, 9, 10, 12, 13, 14, 15, 22, 26, 27, 30, 33, 34, 35, 36, 37, 38, 39, 40, 41, 42, 43, 44, 45, 46, 47, 48, 49, 50, 51, 52, 53, 54, 55, 56, 57, 58, 1, 2, 3, 7, 10, 12, 13, 14, 26, 27, 30, 33, 34, 35, 36, 37, 38, 39, 40, 41, 42, 43, 44, 45, 46, 47, 48, 49, 50, 51, 52, 53, 54, 55, 56, 57, 58, 1, 2, 7, 12, 13, 14, 26, 27, 30, 32, 33, 34, 35, 36, 37, 38, 39, 40, 41, 43, 44, 45, 46, 47, 48, 50, 51, 52, 53, 55, 57, 1, 2, 7, 12, 13, 14, 15, 30, 33, 41, 49, 53, 55, 0, 1, 2, 6, 7, 9, 10, 12, 13, 14, 15, 19, 26, 27, 30, 32, 33, 34, 35, 36, 37, 38, 39, 40, 41, 42, 43, 44, 45, 46, 47, 48, 49, 50, 51, 52, 53, 54, 55, 57, 58, 0, 1, 2, 3, 7, 9, 12, 13, 14, 15, 16, 26, 27, 30, 33, 34, 35, 36, 37, 38, 39, 40, 41, 42, 43, 44, 45, 46, 47, 48, 49, 50, 51, 52, 53, 54, 55, 57, 0, 1, 2, 3, 7, 10, 12, 13, 14, 15, 26, 27, 30, 32, 33, 34, 35, 36, 37, 38, 39, 40, 41, 42, 43, 44, 45, 46, 47, 48, 50, 51, 52, 53, 54, 55, 56, 57, 58, 0, 1, 2, 7, 12, 13, 14, 26, 27, 30, 33, 34, 35, 36, 37, 38, 39, 40, 41, 42, 43, 44, 45, 46, 47, 48, 49, 50, 51, 52, 53, 54, 55, 56, 57, 58, 1, 7, 12, 13, 14, 30, 32, 33, 36, 37, 41, 44, 45, 47, 50, 51, 52, 53, 54, 57, 0, 1, 2, 7, 10, 12, 13, 14, 26, 27, 30, 33, 34, 35, 36, 37, 38, 39, 40, 41, 43, 44, 45, 46, 47, 48, 50, 51, 52, 53, 55, 56, 57, 58, 1, 2, 7, 12, 13, 14, 26, 30, 33, 35, 37, 38, 40, 41, 44, 47, 48, 49, 52, 53, 54, 55, 57, 0, 1, 2, 3, 7, 10, 12, 13, 14, 15, 26, 27, 30, 33, 34, 35, 36, 37, 38, 39, 40, 41, 42, 43, 44, 45, 46, 47, 48, 50, 51, 52, 53, 54, 55, 56, 57, 58, 1, 7, 12, 13, 14, 30, 33, 37, 40, 41, 43, 44, 47, 48, 51, 52, 53, 54, 57, 58, 0, 26])\n",
    "arr2 = np.array([0, 2, 3, 7, 10, 13, 14, 16, 17, 18, 19, 20, 21, 22, 23, 24, 25, 26, 29, 31, 33, 34, 35, 36, 37, 38, 39, 40, 41, 42, 43, 44, 45, 46, 47, 48, 49, 50, 51, 52, 53, 54, 55, 57, 58, 60, 2, 3, 4, 6, 7, 8, 10, 11, 12, 13, 14, 15, 16, 17, 18, 19, 20, 21, 22, 23, 24, 25, 28, 31, 33, 34, 35, 36, 37, 38, 39, 40, 41, 42, 43, 44, 45, 46, 47, 48, 49, 50, 51, 52, 53, 54, 55, 56, 57, 58, 0, 1, 2, 3, 7, 10, 13, 14, 30, 32, 33, 34, 36, 37, 38, 40, 41, 42, 43, 44, 45, 46, 47, 48, 50, 51, 52, 53, 54, 55, 57, 0, 1, 3, 7, 10, 12, 13, 14, 22, 25, 33, 34, 35, 36, 37, 38, 39, 40, 41, 42, 43, 44, 45, 46, 47, 48, 49, 50, 51, 52, 53, 54, 55, 56, 57, 58, 17, 1, 1, 36, 0, 1, 2, 3, 10, 12, 13, 14, 30, 33, 34, 35, 36, 37, 38, 39, 40, 41, 42, 43, 44, 45, 46, 47, 48, 49, 50, 51, 52, 53, 54, 55, 56, 57, 58, 33, 36, 40, 41, 44, 45, 52, 1, 12, 14, 0, 1, 2, 3, 7, 10, 13, 14, 26, 31, 33, 34, 35, 36, 37, 38, 39, 40, 41, 42, 43, 44, 45, 46, 47, 48, 49, 50, 51, 52, 53, 54, 55, 57, 58, 17, 18, 19, 20, 24, 0, 1, 3, 13, 16, 38, 55, 0, 1, 2, 3, 7, 10, 12, 14, 17, 18, 20, 21, 22, 23, 24, 30, 31, 32, 33, 34, 35, 36, 37, 38, 39, 40, 41, 42, 43, 44, 45, 46, 47, 48, 49, 50, 51, 52, 53, 54, 55, 56, 57, 58, 59, 0, 1, 2, 3, 7, 10, 12, 13, 14, 18, 19, 22, 23, 30, 32, 33, 34, 35, 36, 37, 38, 39, 40, 41, 42, 43, 44, 45, 46, 47, 48, 50, 51, 52, 53, 54, 55, 1, 16, 18, 33, 34, 35, 36, 38, 39, 40, 41, 43, 45, 46, 47, 50, 51, 55, 57, 0, 1, 5, 7, 9, 10, 12, 14, 16, 17, 18, 19, 20, 21, 22, 23, 24, 25, 26, 30, 41, 47, 52, 0, 1, 9, 10, 12, 14, 15, 16, 17, 18, 19, 20, 21, 22, 23, 24, 25, 26, 37, 51, 52, 0, 1, 9, 10, 12, 14, 16, 17, 18, 19, 20, 21, 22, 23, 24, 25, 26, 36, 46, 47, 52, 0, 1, 5, 7, 9, 10, 12, 14, 16, 17, 18, 19, 20, 21, 22, 23, 24, 25, 26, 46, 50, 52, 0, 1, 9, 10, 12, 14, 15, 16, 17, 18, 19, 20, 21, 22, 23, 24, 25, 26, 52, 0, 1, 9, 10, 14, 15, 16, 17, 18, 19, 20, 21, 22, 23, 24, 25, 26, 41, 52, 56, 0, 1, 9, 10, 11, 12, 14, 16, 19, 20, 22, 24, 26, 32, 51, 52, 0, 1, 7, 9, 10, 12, 14, 15, 21, 26, 52, 0, 1, 5, 9, 10, 15, 17, 26, 45, 52, 1, 9, 10, 14, 15, 16, 18, 19, 20, 26, 52, 0, 1, 3, 10, 13, 16, 17, 18, 19, 20, 21, 31, 0, 1, 3, 61, 35, 12, 26, 0, 1, 2, 3, 7, 10, 13, 30, 0, 2, 16, 36, 38, 40, 41, 45, 48, 50, 51, 55, 0, 1, 10, 0, 1, 2, 3, 7, 9, 10, 12, 13, 14, 20, 26, 27, 30, 33, 34, 35, 36, 37, 38, 39, 40, 41, 42, 43, 44, 45, 46, 47, 48, 49, 50, 51, 52, 53, 54, 55, 56, 57, 58, 1, 2, 7, 9, 10, 12, 13, 14, 26, 30, 33, 34, 35, 36, 37, 38, 40, 41, 42, 44, 45, 46, 47, 48, 50, 51, 52, 53, 54, 55, 57, 58, 1, 2, 7, 12, 13, 14, 15, 26, 27, 30, 33, 34, 35, 36, 37, 39, 40, 41, 42, 43, 44, 46, 47, 49, 50, 51, 52, 53, 54, 55, 57, 0, 1, 2, 3, 6, 7, 10, 12, 13, 14, 15, 22, 26, 27, 30, 32, 33, 34, 35, 36, 37, 38, 39, 40, 41, 42, 43, 44, 45, 46, 47, 48, 49, 50, 51, 52, 53, 54, 55, 57, 58, 0, 1, 2, 3, 7, 9, 10, 12, 13, 14, 15, 16, 18, 26, 27, 30, 32, 33, 34, 35, 36, 37, 38, 39, 40, 41, 42, 43, 44, 45, 46, 47, 48, 49, 50, 51, 52, 53, 54, 55, 56, 57, 58, 0, 1, 2, 7, 12, 13, 14, 26, 27, 30, 33, 34, 35, 36, 37, 38, 39, 40, 41, 42, 43, 44, 45, 46, 47, 48, 50, 51, 52, 53, 55, 57, 58, 0, 1, 2, 7, 12, 13, 14, 15, 26, 27, 30, 31, 32, 33, 34, 35, 36, 37, 38, 39, 40, 41, 43, 44, 45, 46, 47, 48, 50, 51, 52, 53, 55, 57, 58, 0, 1, 2, 3, 7, 12, 13, 14, 18, 26, 27, 29, 30, 33, 34, 35, 36, 37, 38, 39, 40, 41, 43, 44, 45, 46, 47, 48, 49, 50, 51, 52, 53, 55, 57, 58, 0, 1, 2, 7, 12, 13, 14, 15, 22, 30, 33, 34, 35, 36, 37, 38, 39, 40, 41, 42, 43, 44, 45, 46, 47, 48, 49, 50, 51, 52, 53, 54, 55, 56, 57, 58, 7, 13, 14, 33, 37, 38, 41, 42, 43, 47, 53, 0, 1, 2, 3, 7, 10, 12, 13, 14, 26, 27, 30, 33, 34, 35, 36, 37, 38, 39, 40, 41, 43, 44, 45, 46, 47, 48, 50, 51, 52, 53, 54, 55, 57, 0, 1, 2, 3, 7, 12, 13, 14, 15, 26, 27, 30, 33, 34, 35, 36, 37, 38, 39, 40, 41, 43, 44, 45, 46, 47, 48, 50, 51, 52, 53, 54, 55, 57, 0, 1, 2, 3, 7, 12, 13, 14, 17, 26, 27, 30, 33, 34, 35, 36, 37, 38, 40, 41, 44, 45, 46, 47, 48, 49, 50, 51, 52, 53, 54, 55, 57, 0, 1, 2, 3, 7, 9, 10, 12, 13, 14, 15, 22, 26, 27, 30, 33, 34, 35, 36, 37, 38, 39, 40, 41, 42, 43, 44, 45, 46, 47, 48, 49, 50, 51, 52, 53, 54, 55, 56, 57, 58, 1, 2, 3, 7, 10, 12, 13, 14, 26, 27, 30, 33, 34, 35, 36, 37, 38, 39, 40, 41, 42, 43, 44, 45, 46, 47, 48, 49, 50, 51, 52, 53, 54, 55, 56, 57, 58, 1, 2, 7, 12, 13, 14, 26, 27, 30, 32, 33, 34, 35, 36, 37, 38, 39, 40, 41, 43, 44, 45, 46, 47, 48, 50, 51, 52, 53, 55, 57, 1, 2, 7, 12, 13, 14, 15, 30, 33, 41, 49, 53, 55, 0, 1, 2, 6, 7, 9, 10, 12, 13, 14, 15, 19, 26, 27, 30, 32, 33, 34, 35, 36, 37, 38, 39, 40, 41, 42, 43, 44, 45, 46, 47, 48, 49, 50, 51, 52, 53, 54, 55, 57, 58, 0, 1, 2, 3, 7, 9, 12, 13, 14, 15, 16, 26, 27, 30, 33, 34, 35, 36, 37, 38, 39, 40, 41, 42, 43, 44, 45, 46, 47, 48, 49, 50, 51, 52, 53, 54, 55, 57, 0, 1, 2, 3, 7, 10, 12, 13, 14, 15, 26, 27, 30, 32, 33, 34, 35, 36, 37, 38, 39, 40, 41, 42, 43, 44, 45, 46, 47, 48, 50, 51, 52, 53, 54, 55, 56, 57, 58, 0, 1, 2, 7, 12, 13, 14, 26, 27, 30, 33, 34, 35, 36, 37, 38, 39, 40, 41, 42, 43, 44, 45, 46, 47, 48, 49, 50, 51, 52, 53, 54, 55, 56, 57, 58, 1, 7, 12, 13, 14, 30, 32, 33, 36, 37, 41, 44, 45, 47, 50, 51, 52, 53, 54, 57, 0, 1, 2, 7, 10, 12, 13, 14, 26, 27, 30, 33, 34, 35, 36, 37, 38, 39, 40, 41, 43, 44, 45, 46, 47, 48, 50, 51, 52, 53, 55, 56, 57, 58, 1, 2, 7, 12, 13, 14, 26, 30, 33, 35, 37, 38, 40, 41, 44, 47, 48, 49, 52, 53, 54, 55, 57, 0, 1, 2, 3, 7, 10, 12, 13, 14, 15, 26, 27, 30, 33, 34, 35, 36, 37, 38, 39, 40, 41, 42, 43, 44, 45, 46, 47, 48, 50, 51, 52, 53, 54, 55, 56, 57, 58, 1, 7, 12, 13, 14, 30, 33, 37, 40, 41, 43, 44, 47, 48, 51, 52, 53, 54, 57, 58, 0, 61, 26])\n",
    "arr3 = arr2[np.nonzero(arr2 < 61)[0]]\n",
    "print(np.nonzero(arr1-arr3))"
   ]
  },
  {
   "cell_type": "code",
   "execution_count": null,
   "id": "bab276db-544d-4dbe-b836-915f641d5e7a",
   "metadata": {},
   "outputs": [
    {
     "name": "stdout",
     "output_type": "stream",
     "text": [
      "1 1052 80\n"
     ]
    }
   ],
   "source": [
    "# correct numbers: 1 1052, 80, 2\n",
    "print(byte_count.ii, byte_count.jj, byte_count.byte, decode_dyn_st.bits) # should be 7 1051, not 1 1052, but bits is 2, so this is correct"
   ]
  },
  {
   "cell_type": "code",
   "execution_count": 54,
   "id": "24e442ab-1945-4dd8-8a81-aa847313904a",
   "metadata": {},
   "outputs": [],
   "source": [
    "# p4: {c3n_non0\\[1\\]\\[0\\]+1, c3n_non0\\[1\\]\\[1:\\]- c3n_non0\\[1\\]\\[0:-1\\]} -- Add 61 to all non-positive.\n",
    "# y = 61\n",
    "# target size -- 12699\n",
    "\n",
    "p4_arr = ([], [])\n",
    "notdone = True\n",
    "i = 0\n",
    "j = 0\n",
    "notFirst= False\n",
    "\n",
    "while notdone:\n",
    "    jo = j\n",
    "    j = decode_dyn_st.remove_character()\n",
    "    if j <= jo and notFirst:\n",
    "        i = i + 1\n",
    "        if i >= len(p3_arr[0]):\n",
    "            print('i greater than len')\n",
    "            #byte_count.revert()\n",
    "            notdone = False\n",
    "    elif j >= len(ch):\n",
    "        i = i + 1\n",
    "        if i < len(p3_arr[0]):\n",
    "            j = decode_dyn_st.remove_character()\n",
    "        else:\n",
    "            notdone = False\n",
    "    if notdone:\n",
    "        p4_arr[0].append(i)\n",
    "        p4_arr[1].append(j)\n",
    "    notFirst= True"
   ]
  },
  {
   "cell_type": "code",
   "execution_count": null,
   "id": "974a5aa3-7b8c-4310-b224-fae0eef13ab6",
   "metadata": {},
   "outputs": [
    {
     "name": "stdout",
     "output_type": "stream",
     "text": [
      "12699 1427\n"
     ]
    }
   ],
   "source": [
    "print(len(p4_arr[0]), len(set(p4_arr[0]))) # 12699, 1427"
   ]
  },
  {
   "cell_type": "raw",
   "id": "e912f024",
   "metadata": {
    "vscode": {
     "languageId": "raw"
    }
   },
   "source": [
    "c3n0 = np.loadtxt(\"test.out\") # this needs to be loaded correctly in order to test\n",
    "print(np.nonzero(p4_arr[1] - c3n0))"
   ]
  },
  {
   "cell_type": "code",
   "execution_count": null,
   "id": "8af792e4-8053-4e72-b706-733a0fa99192",
   "metadata": {},
   "outputs": [
    {
     "name": "stdout",
     "output_type": "stream",
     "text": [
      "3 9587 4\n"
     ]
    }
   ],
   "source": [
    "print(byte_count.ii, byte_count.jj, byte_count.byte) # 3 9587 4"
   ]
  },
  {
   "cell_type": "code",
   "execution_count": null,
   "id": "e42d5cdb",
   "metadata": {},
   "outputs": [],
   "source": [
    "# so far correct"
   ]
  },
  {
   "cell_type": "code",
   "execution_count": 57,
   "id": "57020a26-4c2d-4d19-8986-3c77cdac4b26",
   "metadata": {},
   "outputs": [],
   "source": [
    "#  p5: {c4_non0\\[1\\]\\[0\\]+1, c4_non0\\[1\\]\\[1:\\]- c4_non0\\[1\\]\\[0:-1\\]} -- Add 61 to all non-positive character spacings. Counts are only important here, as the old counts can be calculated from these counts and the first 3 characters.\n",
    "# z = 61, to indicate end of file \n",
    "# target size: 59088\n",
    "\n",
    "p5_arr = ([], [])\n",
    "notdone = True\n",
    "i = 0\n",
    "j = 0\n",
    "notFirst= False\n",
    "\n",
    "while notdone:\n",
    "    jo = j\n",
    "    j = decode_dyn_st.remove_character()\n",
    "    if j <= jo and notFirst:\n",
    "        i = i + 1\n",
    "        if i >= len(p4_arr[0]):\n",
    "            print('i greater than len')\n",
    "            #byte_count.revert()\n",
    "            notdone = False\n",
    "    elif j >= len(ch):\n",
    "        i = i + 1\n",
    "        if i < len(p4_arr[0]):\n",
    "            j = decode_dyn_st.remove_character()\n",
    "        else:\n",
    "            notdone = False\n",
    "    if notdone:\n",
    "        p5_arr[0].append(i)\n",
    "        p5_arr[1].append(j)\n",
    "    notFirst= True"
   ]
  },
  {
   "cell_type": "code",
   "execution_count": 83,
   "id": "ebda24c8-bc79-4d85-a9e4-859717ac061d",
   "metadata": {},
   "outputs": [
    {
     "name": "stdout",
     "output_type": "stream",
     "text": [
      "59088 12699\n"
     ]
    }
   ],
   "source": [
    "print(len(p5_arr[0]), len(set(p5_arr[0])))"
   ]
  },
  {
   "cell_type": "raw",
   "id": "fe91ea47",
   "metadata": {
    "vscode": {
     "languageId": "raw"
    }
   },
   "source": [
    "c4n0 = np.loadtxt(\"test.out\")\n",
    "print(np.nonzero(p5_arr[1] - c4n0))\n",
    "print(bin(decode_dyn_st.window))"
   ]
  },
  {
   "cell_type": "markdown",
   "id": "5e2db279",
   "metadata": {},
   "source": [
    "Everything is now correct, including the window. Lets look to see where I am in the byte stream."
   ]
  },
  {
   "cell_type": "code",
   "execution_count": null,
   "id": "48abba9e-6d66-4034-b425-aeea36e28074",
   "metadata": {},
   "outputs": [
    {
     "name": "stdout",
     "output_type": "stream",
     "text": [
      "6 48644 2\n"
     ]
    }
   ],
   "source": [
    "print(byte_count.ii, byte_count.jj, byte_count.byte, decode_dyn_st.bits) # 6 48644 2 0"
   ]
  },
  {
   "cell_type": "code",
   "execution_count": null,
   "id": "8ed4b19e",
   "metadata": {},
   "outputs": [
    {
     "name": "stdout",
     "output_type": "stream",
     "text": [
      "6 48644 2\n"
     ]
    }
   ],
   "source": [
    "decode_dyn_st.end_stream()\n",
    "print(byte_count.ii, byte_count.jj, byte_count.byte) # shouldn't change anything"
   ]
  },
  {
   "cell_type": "markdown",
   "id": "d88081e7",
   "metadata": {},
   "source": [
    "It is starting at the correct place right now, right after the 39 zeros. Now I could either load the new alphabet first, or afterwords. Loading it first is probably better, but I will start with afterwords. \n",
    "\n",
    "Loading first means skipping to the start of the next byte, whereas I need to load 39 more zeros if it is afterwords. I will do the second version since this needs to be added to a big file. I could probably do it with less whitespace, but the amount of whitespace is actually not that large in total -- no more than 8 bytes here."
   ]
  },
  {
   "cell_type": "markdown",
   "id": "ef7a2fff",
   "metadata": {},
   "source": [
    "# Finding the Counts"
   ]
  },
  {
   "cell_type": "code",
   "execution_count": null,
   "id": "b9387495-22f4-41cb-a455-71715aa5001a",
   "metadata": {},
   "outputs": [
    {
     "name": "stdout",
     "output_type": "stream",
     "text": [
      "6 48644 2 90640 59088\n"
     ]
    }
   ],
   "source": [
    "print(byte_count.ii, byte_count.jj, byte_count.byte, byte_count.ll, len(p5_arr[0])) # 6 48644 2 90640 59088"
   ]
  },
  {
   "cell_type": "markdown",
   "id": "673baaaf",
   "metadata": {},
   "source": [
    "We now have a dynamic alphabet. We will actually be retrieving indicies of the number in the alphabet to be decoded later. The alphabet will then give us the count."
   ]
  },
  {
   "cell_type": "code",
   "execution_count": 68,
   "id": "3dff114e",
   "metadata": {},
   "outputs": [],
   "source": [
    "# set up the alphabet\n",
    "# we have a new count management, but the same byte management\n",
    "counts_dynamic = count_mng()\n",
    "decode_dyn = arith_code_mng(counts_mngr=counts_dynamic, byte_m=byte_count)"
   ]
  },
  {
   "cell_type": "code",
   "execution_count": 69,
   "id": "de9a3c86-f46c-421a-9752-e31f2b4f99a8",
   "metadata": {},
   "outputs": [],
   "source": [
    "count4 = [] #np.zeros(len(p5_arr[0]), 'int')\n",
    "\n",
    "# count4\n",
    "for i in range(len(p5_arr[0])):\n",
    "    count4.append(decode_dyn.remove_character())\n",
    "\n",
    "#whitespace2 = byte_count.read_bits(3) # this exists only in the full file encod\n",
    "#byte_count.to_end_of_byte() # should be the end now, but needed if the files are joined"
   ]
  },
  {
   "cell_type": "code",
   "execution_count": 76,
   "id": "68254ec3",
   "metadata": {},
   "outputs": [],
   "source": [
    "decode_dyn.end_stream()"
   ]
  },
  {
   "cell_type": "code",
   "execution_count": 70,
   "id": "a0f2b785",
   "metadata": {},
   "outputs": [
    {
     "data": {
      "text/plain": [
       "1476"
      ]
     },
     "execution_count": 70,
     "metadata": {},
     "output_type": "execute_result"
    }
   ],
   "source": [
    "len(counts_dynamic.alphabet)"
   ]
  },
  {
   "cell_type": "code",
   "execution_count": 71,
   "id": "951706a4",
   "metadata": {},
   "outputs": [
    {
     "name": "stdout",
     "output_type": "stream",
     "text": [
      "[2603, 16878, 3838, 1091, 2014, 1552, 396, 235, 451, 1282, 6560, 236, 60, 85, 2, 4, 11, 8, 28, 28, 14, 3, 1, 64, 29, 29, 5, 4, 2, 9, 6, 2, 3, 9, 232, 2, 2, 2, 251, 117, 824, 178, 696, 889, 693, 588, 546, 456, 10, 296, 376, 116, 58, 6, 175, 25, 343, 22, 247, 99, 115, 305, 35, 159, 59, 59, 483, 191, 118, 134, 88, 2, 21, 133, 136, 147, 1, 17, 187, 103, 255, 54, 264, 20, 20, 18, 30, 52, 10, 37, 86, 175, 166, 89, 6, 34, 4, 102, 82, 62, 1, 96, 12, 13, 15, 60, 28, 36, 8, 31, 185, 56, 40, 326, 36, 15, 94, 59, 3, 167, 11, 2, 9, 98, 25, 51, 10, 42, 6, 70, 11, 105, 59, 115, 26, 20, 42, 70, 16, 85, 2, 132, 33, 43, 8, 2, 65, 6, 8, 72, 88, 62, 107, 28, 121, 73, 4, 41, 30, 29, 7, 14, 24, 26, 17, 13, 2, 73, 52, 1, 18, 21, 237, 75, 34, 7, 14, 59, 17, 25, 3, 8, 5, 32, 9, 25, 1, 1, 4, 2, 2, 7, 55, 82, 2, 1, 4, 2, 1, 1, 3, 10, 5, 16, 3, 2, 61, 2, 13, 2, 14, 27, 3, 1, 25, 21, 66, 7, 12, 11, 1, 12, 8, 10, 4, 2, 1, 3, 1, 9, 4, 22, 21, 1, 1, 1, 2, 3, 1, 19, 4, 1, 1, 17, 31, 1, 1, 13, 41, 4, 4, 1, 29, 3, 2, 1, 2, 6, 2, 4, 22, 13, 3, 14, 78, 80, 4, 6, 16, 47, 6, 39, 16, 29, 7, 4, 9, 3, 9, 8, 31, 1, 1, 46, 48, 6, 1, 6, 8, 9, 43, 4, 13, 2, 3, 19, 18, 10, 5, 3, 44, 4, 1, 1, 28, 5, 1, 5, 8, 10, 38, 13, 14, 8, 13, 17, 11, 5, 3, 49, 11, 27, 11, 15, 3, 5, 21, 9, 1, 5, 2, 54, 1, 3, 1, 4, 1, 15, 10, 4, 15, 7, 8, 39, 14, 10, 30, 3, 37, 1, 55, 5, 14, 1, 4, 1, 6, 7, 5, 1, 5, 4, 7, 3, 1, 14, 6, 5, 2, 11, 12, 5, 1, 3, 5, 1, 6, 18, 10, 29, 2, 25, 1, 2, 6, 2, 22, 4, 2, 1, 52, 2, 9, 3, 4, 12, 12, 1, 12, 1, 2, 3, 1, 1, 1, 1, 1, 3, 1, 17, 1, 1, 6, 1, 21, 30, 7, 2, 4, 18, 10, 1, 1, 1, 1, 2, 2, 4, 6, 4, 3, 4, 1, 1, 25, 1, 5, 1, 2, 19, 27, 1, 1, 43, 7, 16, 1, 9, 10, 3, 1, 1, 4, 1, 2, 4, 1, 8, 11, 13, 31, 53, 1, 5, 44, 9, 5, 2, 2, 1, 12, 6, 10, 14, 1, 1, 13, 4, 10, 5, 1, 5, 3, 1, 1, 11, 2, 3, 2, 2, 5, 5, 1, 4, 1, 1, 2, 28, 4, 1, 11, 3, 2, 24, 1, 5, 1, 4, 3, 2, 10, 1, 5, 19, 1, 5, 6, 4, 5, 7, 1, 1, 31, 1, 2, 26, 1, 8, 1, 3, 21, 1, 2, 24, 15, 1, 1, 1, 1, 2, 11, 24, 1, 9, 1, 1, 15, 2, 2, 9, 1, 13, 2, 2, 1, 6, 42, 3, 6, 1, 4, 38, 3, 1, 2, 27, 1, 1, 3, 37, 2, 21, 3, 20, 8, 7, 2, 17, 5, 5, 1, 2, 10, 2, 1, 2, 1, 10, 1, 4, 5, 4, 10, 2, 6, 5, 1, 13, 1, 2, 2, 7, 2, 13, 1, 1, 1, 1, 6, 14, 2, 1, 73, 8, 1, 2, 11, 6, 2, 1, 1, 1, 1, 1, 2, 1, 1, 5, 1, 3, 2, 3, 4, 1, 12, 1, 21, 4, 1, 3, 27, 9, 1, 8, 1, 4, 12, 1, 1, 4, 5, 1, 1, 1, 4, 1, 1, 4, 1, 1, 34, 9, 7, 1, 2, 1, 2, 2, 11, 3, 10, 4, 7, 41, 6, 14, 14, 2, 6, 16, 5, 2, 2, 2, 1, 2, 6, 15, 6, 4, 2, 5, 7, 7, 1, 9, 3, 16, 1, 1, 1, 2, 1, 1, 1, 32, 1, 2, 26, 21, 3, 5, 6, 3, 1, 3, 15, 2, 1, 5, 5, 1, 23, 5, 9, 7, 7, 8, 2, 3, 4, 1, 15, 8, 4, 1, 1, 1, 14, 16, 2, 4, 15, 1, 15, 1, 1, 3, 2, 3, 3, 4, 1, 3, 1, 8, 2, 2, 5, 5, 2, 5, 11, 13, 5, 1, 2, 1, 1, 10, 1, 3, 4, 1, 6, 3, 3, 2, 1, 3, 4, 1, 5, 2, 4, 1, 3, 8, 3, 6, 6, 4, 11, 1, 4, 1, 14, 1, 5, 10, 5, 1, 2, 2, 2, 2, 1, 6, 3, 1, 2, 1, 8, 2, 6, 3, 1, 1, 3, 6, 3, 16, 1, 1, 1, 2, 1, 2, 1, 2, 2, 1, 1, 2, 2, 3, 2, 6, 5, 2, 7, 4, 2, 1, 1, 1, 3, 14, 3, 1, 1, 2, 1, 4, 5, 1, 4, 3, 1, 1, 5, 6, 1, 13, 2, 1, 6, 3, 2, 1, 4, 5, 1, 1, 6, 1, 1, 2, 8, 3, 7, 1, 3, 1, 1, 4, 2, 2, 1, 1, 11, 3, 9, 3, 4, 3, 3, 8, 1, 4, 1, 7, 3, 6, 2, 3, 4, 4, 2, 1, 3, 1, 3, 2, 2, 2, 5, 1, 3, 1, 2, 2, 1, 1, 1, 1, 2, 13, 5, 1, 1, 2, 1, 1, 1, 9, 1, 2, 2, 2, 1, 2, 5, 3, 1, 2, 2, 1, 4, 1, 1, 1, 3, 1, 2, 1, 1, 1, 1, 1, 1, 1, 2, 3, 3, 1, 1, 1, 2, 1, 1, 1, 2, 1, 1, 1, 1, 1, 3, 1, 1, 9, 1, 2, 1, 1, 2, 3, 1, 2, 1, 4, 1, 1, 1, 2, 2, 3, 1, 3, 5, 1, 2, 1, 1, 5, 1, 2, 1, 1, 3, 2, 2, 1, 2, 1, 1, 1, 2, 2, 1, 1, 1, 1, 3, 1, 5, 1, 2, 2, 5, 2, 1, 1, 1, 3, 5, 6, 4, 3, 3, 1, 2, 1, 1, 4, 1, 1, 2, 3, 1, 2, 3, 1, 1, 1, 2, 2, 4, 1, 7, 1, 4, 2, 2, 1, 1, 2, 1, 1, 4, 2, 4, 3, 1, 2, 1, 2, 1, 2, 2, 2, 1, 1, 2, 1, 2, 1, 5, 1, 2, 1, 1, 1, 3, 6, 2, 1, 3, 1, 1, 2, 2, 2, 1, 2, 1, 1, 2, 1, 1, 2, 1, 1, 1, 2, 1, 1, 2, 1, 1, 1, 1, 1, 1, 1, 1, 2, 3, 1, 2, 1, 1, 1, 1, 1, 1, 5, 1, 1, 1, 2, 1, 1, 1, 1, 1, 2, 1, 3, 2, 1, 3, 1, 1, 1, 4, 2, 1, 2, 1, 2, 3, 1, 1, 3, 1, 1, 1, 3, 1, 1, 2, 1, 1, 1, 3, 1, 1, 1, 1, 2, 1, 2, 4, 2, 1, 1, 5, 2, 3, 1, 1, 1, 1, 5, 1, 1, 1, 2, 4, 1, 5, 1, 1, 1, 1, 8, 5, 1, 1, 4, 3, 6, 2, 2, 4, 1, 1, 1, 4, 1, 2, 1, 1, 1, 1, 4, 4, 3, 3, 1, 1, 1, 2, 1, 2, 1, 3, 1, 1, 1, 1, 1, 1, 1, 3, 1, 1, 3, 1, 1, 2, 1, 1, 2, 1, 3, 1, 1, 3, 1, 1, 2, 2, 1, 1, 4, 1, 1, 1, 1, 2, 2, 1, 1, 1, 1, 1, 1, 1, 3, 1, 1, 1, 2, 1, 1, 1, 2, 4, 1, 1, 1, 1, 3, 1, 1, 4, 1, 1, 1, 1, 1, 1, 1, 1, 1, 1, 1, 1, 1, 2, 3, 1, 1, 1, 1, 1, 1, 1, 1, 2, 1, 2, 1, 1, 1, 1, 1, 1, 1, 1, 1, 1, 2, 1, 1, 3, 1, 1, 1, 1, 2, 2, 1, 1, 2, 1, 1, 1, 1, 1, 1, 1, 1, 1, 1, 1, 1, 1, 1, 1, 1, 2, 1, 1, 1, 1, 1, 1, 2, 1, 2, 1, 1, 2, 1, 1, 1, 1, 1, 1, 1, 3, 1, 2, 1, 2, 1, 1, 1, 1, 1, 1, 1, 1, 3, 2, 1, 1, 1, 1, 1, 1, 1, 1, 1, 1, 1, 1, 1, 1, 1, 1, 1, 1, 1, 1, 1, 1, 1, 1, 1, 2, 1, 1, 1, 1, 1, 1, 1, 1, 1, 2, 1, 1, 1, 1, 1, 1, 1, 1, 1, 1, 1, 1, 1, 1, 1, 1, 1, 1, 1, 1, 1, 1, 1, 1, 1, 1, 1, 2, 1, 1, 1, 1, 1, 1, 1, 1, 1, 1, 1, 1, 1]\n"
     ]
    }
   ],
   "source": [
    "print(counts_dynamic.counts)"
   ]
  },
  {
   "cell_type": "code",
   "execution_count": 72,
   "id": "496d034d",
   "metadata": {},
   "outputs": [],
   "source": [
    "arr1 = np.array(counts_dynamic.counts)\n",
    "arr2 = np.array([2603, 16878, 3838, 1091, 2014, 1552, 396, 235, 451, 1282, 6560, 236, 60, 85, 2, 4, 11, 8, 28, 28, 14, 3, 1, 64, 29, 29, 5, 4, 2, 9, 6, 2, 3, 9, 232, 2, 2, 2, 251, 117, 824, 178, 696, 889, 693, 588, 546, 456, 10, 296, 376, 116, 58, 6, 175, 25, 343, 22, 247, 99, 115, 305, 35, 159, 59, 59, 483, 191, 118, 134, 88, 2, 21, 133, 136, 147, 1, 17, 187, 103, 255, 54, 264, 20, 20, 18, 30, 52, 10, 37, 86, 175, 166, 89, 6, 34, 4, 102, 82, 62, 1, 96, 12, 13, 15, 60, 28, 36, 8, 31, 185, 56, 40, 326, 36, 15, 94, 59, 3, 167, 11, 2, 9, 98, 25, 51, 10, 42, 6, 70, 11, 105, 59, 115, 26, 20, 42, 70, 16, 85, 2, 132, 33, 43, 8, 2, 65, 6, 8, 72, 88, 62, 107, 28, 121, 73, 4, 41, 30, 29, 7, 14, 24, 26, 17, 13, 2, 73, 52, 1, 18, 21, 237, 75, 34, 7, 14, 59, 17, 25, 3, 8, 5, 32, 9, 25, 1, 1, 4, 2, 2, 7, 55, 82, 2, 1, 4, 2, 1, 1, 3, 10, 5, 16, 3, 2, 61, 2, 13, 2, 14, 27, 3, 1, 25, 21, 66, 7, 12, 11, 1, 12, 8, 10, 4, 2, 1, 3, 1, 9, 4, 22, 21, 1, 1, 1, 2, 3, 1, 19, 4, 1, 1, 17, 31, 1, 1, 13, 41, 4, 4, 1, 29, 3, 2, 1, 2, 6, 2, 4, 22, 13, 3, 14, 78, 80, 4, 6, 16, 47, 6, 39, 16, 29, 7, 4, 9, 3, 9, 8, 31, 1, 1, 46, 48, 6, 1, 6, 8, 9, 43, 4, 13, 2, 3, 19, 18, 10, 5, 3, 44, 4, 1, 1, 28, 5, 1, 5, 8, 10, 38, 13, 14, 8, 13, 17, 11, 5, 3, 49, 11, 27, 11, 15, 3, 5, 21, 9, 1, 5, 2, 54, 1, 3, 1, 4, 1, 15, 10, 4, 15, 7, 8, 39, 14, 10, 30, 3, 37, 1, 55, 5, 14, 1, 4, 1, 6, 7, 5, 1, 5, 4, 7, 3, 1, 14, 6, 5, 2, 11, 12, 5, 1, 3, 5, 1, 6, 18, 10, 29, 2, 25, 1, 2, 6, 2, 22, 4, 2, 1, 52, 2, 9, 3, 4, 12, 12, 1, 12, 1, 2, 3, 1, 1, 1, 1, 1, 3, 1, 17, 1, 1, 6, 1, 21, 30, 7, 2, 4, 18, 10, 1, 1, 1, 1, 2, 2, 4, 6, 4, 3, 4, 1, 1, 25, 1, 5, 1, 2, 19, 27, 1, 1, 43, 7, 16, 1, 9, 10, 3, 1, 1, 4, 1, 2, 4, 1, 8, 11, 13, 31, 53, 1, 5, 44, 9, 5, 2, 2, 1, 12, 6, 10, 14, 1, 1, 13, 4, 10, 5, 1, 5, 3, 1, 1, 11, 2, 3, 2, 2, 5, 5, 1, 4, 1, 1, 2, 28, 4, 1, 11, 3, 2, 24, 1, 5, 1, 4, 3, 2, 10, 1, 5, 19, 1, 5, 6, 4, 5, 7, 1, 1, 31, 1, 2, 26, 1, 8, 1, 3, 21, 1, 2, 24, 15, 1, 1, 1, 1, 2, 11, 24, 1, 9, 1, 1, 15, 2, 2, 9, 1, 13, 2, 2, 1, 6, 42, 3, 6, 1, 4, 38, 3, 1, 2, 27, 1, 1, 3, 37, 2, 21, 3, 20, 8, 7, 2, 17, 5, 5, 1, 2, 10, 2, 1, 2, 1, 10, 1, 4, 5, 4, 10, 2, 6, 5, 1, 13, 1, 2, 2, 7, 2, 13, 1, 1, 1, 1, 6, 14, 2, 1, 73, 8, 1, 2, 11, 6, 2, 1, 1, 1, 1, 1, 2, 1, 1, 5, 1, 3, 2, 3, 4, 1, 12, 1, 21, 4, 1, 3, 27, 9, 1, 8, 1, 4, 12, 1, 1, 4, 5, 1, 1, 1, 4, 1, 1, 4, 1, 1, 34, 9, 7, 1, 2, 1, 2, 2, 11, 3, 10, 4, 7, 41, 6, 14, 14, 2, 6, 16, 5, 2, 2, 2, 1, 2, 6, 15, 6, 4, 2, 5, 7, 7, 1, 9, 3, 16, 1, 1, 1, 2, 1, 1, 1, 32, 1, 2, 26, 21, 3, 5, 6, 3, 1, 3, 15, 2, 1, 5, 5, 1, 23, 5, 9, 7, 7, 8, 2, 3, 4, 1, 15, 8, 4, 1, 1, 1, 14, 16, 2, 4, 15, 1, 15, 1, 1, 3, 2, 3, 3, 4, 1, 3, 1, 8, 2, 2, 5, 5, 2, 5, 11, 13, 5, 1, 2, 1, 1, 10, 1, 3, 4, 1, 6, 3, 3, 2, 1, 3, 4, 1, 5, 2, 4, 1, 3, 8, 3, 6, 6, 4, 11, 1, 4, 1, 14, 1, 5, 10, 5, 1, 2, 2, 2, 2, 1, 6, 3, 1, 2, 1, 8, 2, 6, 3, 1, 1, 3, 6, 3, 16, 1, 1, 1, 2, 1, 2, 1, 2, 2, 1, 1, 2, 2, 3, 2, 6, 5, 2, 7, 4, 2, 1, 1, 1, 3, 14, 3, 1, 1, 2, 1, 4, 5, 1, 4, 3, 1, 1, 5, 6, 1, 13, 2, 1, 6, 3, 2, 1, 4, 5, 1, 1, 6, 1, 1, 2, 8, 3, 7, 1, 3, 1, 1, 4, 2, 2, 1, 1, 11, 3, 9, 3, 4, 3, 3, 8, 1, 4, 1, 7, 3, 6, 2, 3, 4, 4, 2, 1, 3, 1, 3, 2, 2, 2, 5, 1, 3, 1, 2, 2, 1, 1, 1, 1, 2, 13, 5, 1, 1, 2, 1, 1, 1, 9, 1, 2, 2, 2, 1, 2, 5, 3, 1, 2, 2, 1, 4, 1, 1, 1, 3, 1, 2, 1, 1, 1, 1, 1, 1, 1, 2, 3, 3, 1, 1, 1, 2, 1, 1, 1, 2, 1, 1, 1, 1, 1, 3, 1, 1, 9, 1, 2, 1, 1, 2, 3, 1, 2, 1, 4, 1, 1, 1, 2, 2, 3, 1, 3, 5, 1, 2, 1, 1, 5, 1, 2, 1, 1, 3, 2, 2, 1, 2, 1, 1, 1, 2, 2, 1, 1, 1, 1, 3, 1, 5, 1, 2, 2, 5, 2, 1, 1, 1, 3, 5, 6, 4, 3, 3, 1, 2, 1, 1, 4, 1, 1, 2, 3, 1, 2, 3, 1, 1, 1, 2, 2, 4, 1, 7, 1, 4, 2, 2, 1, 1, 2, 1, 1, 4, 2, 4, 3, 1, 2, 1, 2, 1, 2, 2, 2, 1, 1, 2, 1, 2, 1, 5, 1, 2, 1, 1, 1, 3, 6, 2, 1, 3, 1, 1, 2, 2, 2, 1, 2, 1, 1, 2, 1, 1, 2, 1, 1, 1, 2, 1, 1, 2, 1, 1, 1, 1, 1, 1, 1, 1, 2, 3, 1, 2, 1, 1, 1, 1, 1, 1, 5, 1, 1, 1, 2, 1, 1, 1, 1, 1, 2, 1, 3, 2, 1, 3, 1, 1, 1, 4, 2, 1, 2, 1, 2, 3, 1, 1, 3, 1, 1, 1, 3, 1, 1, 2, 1, 1, 1, 3, 1, 1, 1, 1, 2, 1, 2, 4, 2, 1, 1, 5, 2, 3, 1, 1, 1, 1, 5, 1, 1, 1, 2, 4, 1, 5, 1, 1, 1, 1, 8, 5, 1, 1, 4, 3, 6, 2, 2, 4, 1, 1, 1, 4, 1, 2, 1, 1, 1, 1, 4, 4, 3, 3, 1, 1, 1, 2, 1, 2, 1, 3, 1, 1, 1, 1, 1, 1, 1, 3, 1, 1, 3, 1, 1, 2, 1, 1, 2, 1, 3, 1, 1, 3, 1, 1, 2, 2, 1, 1, 4, 1, 1, 1, 1, 2, 2, 1, 1, 1, 1, 1, 1, 1, 3, 1, 1, 1, 2, 1, 1, 1, 2, 4, 1, 1, 1, 1, 3, 1, 1, 4, 1, 1, 1, 1, 1, 1, 1, 1, 1, 1, 1, 1, 1, 2, 3, 1, 1, 1, 1, 1, 1, 1, 1, 2, 1, 2, 1, 1, 1, 1, 1, 1, 1, 1, 1, 1, 2, 1, 1, 3, 1, 1, 1, 1, 2, 2, 1, 1, 2, 1, 1, 1, 1, 1, 1, 1, 1, 1, 1, 1, 1, 1, 1, 1, 1, 2, 1, 1, 1, 1, 1, 1, 2, 1, 2, 1, 1, 2, 1, 1, 1, 1, 1, 1, 1, 3, 1, 2, 1, 2, 1, 1, 1, 1, 1, 1, 1, 1, 3, 2, 1, 1, 1, 1, 1, 1, 1, 1, 1, 1, 1, 1, 1, 1, 1, 1, 1, 1, 1, 1, 1, 1, 1, 1, 1, 2, 1, 1, 1, 1, 1, 1, 1, 1, 1, 2, 1, 1, 1, 1, 1, 1, 1, 1, 1, 1, 1, 1, 1, 1, 1, 1, 1, 1, 1, 1, 1, 1, 1, 1, 1, 1, 1, 2, 1, 1, 1, 1, 1, 1, 1, 1, 1, 1, 1, 1, 1])"
   ]
  },
  {
   "cell_type": "code",
   "execution_count": 73,
   "id": "0f1dbffc",
   "metadata": {},
   "outputs": [
    {
     "name": "stdout",
     "output_type": "stream",
     "text": [
      "(array([], dtype=int64),)\n"
     ]
    }
   ],
   "source": [
    "print(np.nonzero(arr1-arr2))"
   ]
  },
  {
   "cell_type": "code",
   "execution_count": null,
   "id": "6c5daca2-5c09-4605-8023-e28449f7f330",
   "metadata": {},
   "outputs": [
    {
     "name": "stdout",
     "output_type": "stream",
     "text": [
      "3 88080 8 90640\n"
     ]
    }
   ],
   "source": [
    "print(byte_count.ii, byte_count.jj, byte_count.byte, byte_count.ll, decode_dyn.bits) # 3 88080 8 90640 2"
   ]
  },
  {
   "cell_type": "markdown",
   "id": "1d9be29a",
   "metadata": {},
   "source": [
    "# Getting the Counts"
   ]
  },
  {
   "cell_type": "markdown",
   "id": "1902fcfa",
   "metadata": {},
   "source": [
    "Below is the correct starting point. Counts are correct. I will figure out why I got the wrong starting point."
   ]
  },
  {
   "cell_type": "code",
   "execution_count": null,
   "id": "e5aaff65",
   "metadata": {},
   "outputs": [
    {
     "name": "stdout",
     "output_type": "stream",
     "text": [
      "3 88080 8 90640\n"
     ]
    }
   ],
   "source": [
    "print(byte_count.ii, byte_count.jj, byte_count.byte, byte_count.ll) # 3 88080 8 90640\n",
    "tar_len = len(counts_dynamic.alphabet)"
   ]
  },
  {
   "cell_type": "code",
   "execution_count": 79,
   "id": "ba06ad4f",
   "metadata": {},
   "outputs": [],
   "source": [
    "count_alphabet = []\n",
    "for i in range(tar_len):\n",
    "    count_alphabet.append(byte_count.read_ternary())"
   ]
  },
  {
   "cell_type": "code",
   "execution_count": 80,
   "id": "9846b348",
   "metadata": {},
   "outputs": [
    {
     "name": "stdout",
     "output_type": "stream",
     "text": [
      "[4, 1, 3, 8, 5, 6, 18, 24, 17, 7, 2, 32, 98, 71, 1066, 336, 276, 441, 151, 180, 221, 791, 2179, 78, 134, 169, 371, 876, 706, 281, 443, 718, 1316, 234, 30, 1305, 1213, 1072, 25, 49, 10, 40, 12, 9, 11, 13, 14, 16, 248, 23, 19, 54, 95, 279, 34, 178, 20, 184, 26, 51, 48, 22, 147, 45, 84, 82, 15, 35, 42, 41, 57, 1033, 160, 46, 44, 43, 2247, 224, 31, 53, 29, 105, 27, 201, 213, 185, 159, 106, 263, 165, 64, 37, 36, 68, 368, 156, 775, 58, 59, 87, 1186, 52, 290, 269, 188, 86, 141, 124, 326, 128, 33, 96, 99, 21, 116, 245, 62, 102, 350, 39, 192, 1017, 396, 65, 166, 107, 327, 92, 776, 73, 297, 55, 80, 61, 176, 187, 115, 76, 278, 56, 1160, 38, 114, 100, 393, 679, 85, 536, 647, 60, 63, 81, 50, 144, 47, 79, 841, 117, 140, 139, 417, 240, 146, 161, 197, 286, 720, 69, 122, 962, 204, 191, 28, 67, 154, 644, 254, 74, 177, 157, 575, 231, 471, 138, 369, 170, 1525, 1491, 586, 1077, 898, 493, 93, 70, 1698, 1810, 430, 1277, 707, 2226, 691, 230, 627, 237, 650, 2803, 91, 577, 262, 1318, 214, 155, 764, 1042, 152, 158, 94, 573, 264, 256, 1763, 292, 553, 296, 402, 1867, 15677, 495, 2901, 212, 1260, 142, 183, 3403, 1391, 1501, 685, 654, 4606, 210, 569, 4327, 986, 167, 118, 955, 2119, 289, 132, 458, 662, 4083, 133, 477, 693, 1487, 1294, 535, 763, 633, 203, 329, 840, 261, 75, 66, 850, 622, 194, 119, 422, 112, 232, 200, 253, 437, 465, 714, 364, 345, 137, 5346, 1409, 108, 97, 312, 4236, 372, 392, 300, 101, 335, 375, 1344, 911, 209, 242, 361, 559, 862, 103, 529, 2836, 3805, 129, 530, 2704, 462, 229, 324, 110, 359, 268, 351, 243, 218, 308, 678, 548, 89, 331, 126, 226, 198, 842, 454, 193, 405, 2068, 611, 1216, 83, 2160, 1618, 3070, 508, 1460, 206, 283, 623, 244, 347, 466, 104, 172, 401, 171, 728, 127, 2230, 111, 513, 271, 1011, 377, 1127, 362, 540, 464, 1090, 445, 568, 321, 1375, 1224, 236, 552, 452, 651, 322, 225, 380, 6617, 676, 407, 3652, 459, 196, 238, 143, 646, 162, 2548, 1020, 460, 670, 233, 1301, 941, 1446, 77, 1043, 259, 716, 413, 235, 316, 1458, 356, 2193, 967, 773, 1331, 5078, 5191, 1433, 2507, 880, 5513, 266, 3708, 5331, 384, 1046, 257, 163, 360, 1502, 476, 247, 260, 760, 2423, 2241, 606, 631, 1328, 560, 457, 781, 397, 742, 2021, 1580, 190, 1923, 673, 2476, 957, 181, 149, 797, 3036, 113, 330, 252, 8114, 381, 365, 660, 2737, 5255, 867, 7226, 1684, 541, 1772, 388, 288, 208, 123, 90, 3035, 522, 88, 399, 333, 2748, 908, 1532, 295, 436, 291, 164, 2210, 945, 311, 488, 280, 616, 2553, 363, 927, 643, 3741, 217, 814, 603, 1526, 1214, 684, 343, 905, 704, 3158, 1346, 944, 153, 655, 787, 228, 1075, 1611, 189, 1170, 543, 1756, 410, 597, 1040, 338, 5776, 520, 175, 1272, 431, 652, 526, 1530, 403, 4842, 1253, 130, 13470, 1572, 168, 4764, 451, 2277, 878, 195, 1688, 1067, 125, 202, 1348, 983, 3160, 1514, 473, 227, 207, 1181, 303, 913, 1152, 220, 1577, 815, 273, 1105, 255, 1508, 566, 2608, 505, 109, 712, 479, 3264, 628, 136, 601, 1191, 1408, 150, 1997, 2062, 444, 131, 909, 179, 695, 186, 382, 587, 726, 215, 340, 827, 2401, 754, 447, 1207, 3256, 901, 2730, 306, 790, 528, 318, 591, 239, 874, 456, 500, 1283, 174, 3368, 1076, 645, 307, 1124, 274, 2779, 1482, 1059, 1481, 663, 250, 1868, 1770, 72, 293, 2026, 749, 328, 285, 948, 11638, 42912, 7243, 1822, 1718, 1422, 21975, 830, 579, 1257, 625, 1028, 1230, 837, 915, 319, 2458, 145, 873, 1431, 668, 148, 391, 1899, 414, 4307, 812, 282, 1113, 2811, 836, 774, 3039, 2531, 1623, 823, 1293, 5743, 426, 2446, 2434, 121, 383, 320, 11341, 951, 9689, 1107, 1555, 272, 682, 440, 996, 408, 120, 341, 246, 216, 918, 636, 223, 416, 1015, 1095, 1259, 1860, 1566, 574, 305, 314, 472, 539, 497, 309, 310, 999, 609, 612, 251, 891, 863, 1117, 1657, 1221, 2991, 3238, 135, 1615, 649, 199, 173, 698, 373, 358, 504, 2866, 879, 211, 635, 3481, 354, 398, 782, 182, 509, 277, 294, 455, 385, 1285, 786, 510, 1099, 219, 517, 567, 5381, 1381, 1101, 241, 267, 1320, 519, 222, 3982, 275, 732, 10710, 624, 751, 705, 659, 480, 2075, 743, 5364, 265, 721, 739, 390, 374, 638, 302, 325, 287, 355, 1708, 1136, 2711, 1896, 284, 2320, 865, 434, 959, 639, 715, 730, 819, 1053, 800, 607, 1393, 518, 483, 669, 2358, 1108, 323, 516, 332, 686, 594, 378, 2214, 734, 3644, 304, 1369, 353, 342, 475, 946, 580, 759, 900, 1252, 788, 412, 1279, 17485, 772, 2176, 376, 703, 576, 710, 1774, 1906, 1429, 379, 435, 249, 1085, 1096, 3235, 572, 596, 486, 681, 1503, 688, 746, 907, 1023, 758, 429, 1405, 386, 313, 780, 205, 690, 984, 1097, 1512, 2335, 463, 270, 1058, 2958, 1407, 640, 1274, 349, 507, 953, 801, 615, 1044, 2484, 619, 558, 851, 299, 912, 4905, 450, 490, 834, 583, 557, 499, 942, 2163, 337, 1086, 1368, 1313, 427, 339, 542, 1933, 395, 2714, 5167, 404, 626, 822, 3031, 1256, 482, 756, 406, 904, 489, 352, 700, 301, 584, 442, 769, 433, 549, 474, 1306, 453, 534, 394, 1080, 1854, 409, 1149, 590, 621, 970, 1159, 370, 1735, 461, 1103, 1200, 877, 1513, 792, 563, 1041, 778, 258, 571, 5430, 4094, 511, 503, 1092, 859, 389, 811, 1343, 816, 1082, 1945, 2257, 485, 600, 1696, 561, 491, 1475, 554, 2694, 711, 2927, 1336, 1816, 582, 2503, 1032, 1629, 618, 701, 1049, 1672, 869, 1164, 894, 1700, 1746, 856, 637, 1271, 2398, 1541, 1094, 1142, 1060, 789, 1435, 3553, 1493, 608, 672, 470, 860, 872, 2000, 1455, 803, 820, 994, 1413, 1325, 565, 1658, 7639, 4466, 2585, 1439, 989, 3396, 717, 438, 1374, 1112, 1561, 1758, 418, 752, 1534, 1258, 544, 689, 1070, 1667, 902, 496, 1247, 831, 4563, 602, 1168, 1183, 2822, 1353, 858, 964, 1228, 448, 833, 1128, 1178, 425, 1055, 804, 991, 1175, 387, 420, 357, 733, 546, 1110, 550, 919, 1787, 868, 667, 1291, 1073, 940, 570, 736, 3194, 1121, 954, 1643, 4066, 683, 532, 346, 1679, 419, 2078, 1052, 980, 950, 1037, 1527, 1123, 1352, 1248, 317, 593, 334, 1536, 2191, 961, 428, 657, 4977, 938, 848, 838, 4608, 1546, 1134, 3000, 468, 727, 533, 828, 766, 2845, 2708, 1130, 699, 315, 1902, 4277, 692, 929, 1327, 656, 713, 1985, 1268, 2017, 589, 992, 1120, 11256, 4831, 1833, 2134, 3111, 2008, 2297, 1938, 1141, 501, 2372, 1989, 1929, 3188, 4899, 2672, 2871, 1862, 1767, 498, 1244, 556, 1479, 3447, 6625, 5620, 2397, 2150, 432, 5166, 2533, 8013, 494, 1239, 1521, 1871, 777, 1802, 1974, 1184, 702, 1163, 1499, 687, 2963, 1138, 1083, 630, 1235, 629, 610, 1036, 889, 641, 762, 6424, 1019, 2565, 972, 1622, 671, 3151, 1365, 747, 24084, 1370, 2686, 1034, 2108, 3832, 982, 725, 1447, 771, 523, 613, 492, 1223, 1402, 449, 832, 738, 1310, 4946, 886, 1498, 367, 3165, 897, 914, 1276, 892, 1192, 481, 3022, 2738, 735, 795, 348, 400, 1047, 1702, 737, 1003, 344, 664, 947, 411, 1524, 2703, 722, 415, 977, 515, 642, 3213, 3764, 1143, 527, 366, 709, 675, 847, 753, 956, 578, 846, 1317, 1093, 478, 1448, 1226, 1241, 2863, 1329, 821, 592, 512, 1607, 439, 298, 1410, 1773, 484, 599, 985, 799, 783, 524, 6446, 1366, 1139, 9567, 2082, 1900, 694, 1520, 2904, 1150, 620, 4010, 757, 829, 1148, 1292, 3584, 924, 2232, 1890, 5872, 1436, 1722, 521, 2046, 4020, 1031, 731, 2337, 839, 2425, 487, 446, 895, 1522, 719, 805, 598, 3912, 952, 779, 4384, 1872, 870, 2086, 1189, 1377, 1270, 581, 2667, 3054, 1220, 3727, 969, 1002, 1668, 922, 1754, 2696, 1187, 1218, 910, 2430, 545, 741, 661, 740, 981, 3286, 5892, 2884, 3614, 5408, 2117, 993, 1634, 1683, 537, 604, 1211, 423, 853, 421, 1456, 1275, 813, 467, 3051, 1264, 469, 882, 2060, 1963, 793, 2590, 4392, 729, 2894, 2135, 666, 1071, 906, 2984, 2734, 665, 1225, 748, 1022, 887, 1079, 2199, 966, 2069, 1281, 824, 562, 1467, 1864, 1255, 4826, 2789, 937, 806, 1116, 845, 1177, 949, 3225, 1576, 1950, 1154, 2692, 3477, 677, 864, 1434, 1406, 1616, 1761, 585, 1165, 1169, 2047, 1682, 1219, 2218, 1459, 3704, 506, 1379, 933, 8287, 3208, 1834, 723, 1290, 1451, 3243, 1131, 1025, 1843, 849, 2523, 3616, 525, 1670, 1715, 10628, 32681, 2402, 2251, 6895, 3266, 7329, 3452, 5403, 871, 1666, 1904, 796, 1210, 1956, 1819, 1970, 4178, 617, 1063, 765, 4475, 1492, 2992, 2680, 2355, 1236, 1401, 2361, 1392, 809, 1185, 1823, 3578, 1383, 1282, 1001, 1308, 3817, 1599, 1284, 5783, 2497, 1005, 680, 1725, 514, 744, 7869, 2022, 653]\n"
     ]
    }
   ],
   "source": [
    "print(count_alphabet)"
   ]
  },
  {
   "cell_type": "code",
   "execution_count": 81,
   "id": "a8a72eba",
   "metadata": {},
   "outputs": [
    {
     "name": "stdout",
     "output_type": "stream",
     "text": [
      "(array([], dtype=int64),)\n"
     ]
    }
   ],
   "source": [
    "arr1 = np.array(count_alphabet)\n",
    "arr2 = [4, 1, 3, 8, 5, 6, 18, 24, 17, 7, 2, 32, 98, 71, 1066, 336, 276, 441, 151, 180, 221, 791, 2179, 78, 134, 169, 371, 876, 706, 281, 443, 718, 1316, 234, 30, 1305, 1213, 1072, 25, 49, 10, 40, 12, 9, 11, 13, 14, 16, 248, 23, 19, 54, 95, 279, 34, 178, 20, 184, 26, 51, 48, 22, 147, 45, 84, 82, 15, 35, 42, 41, 57, 1033, 160, 46, 44, 43, 2247, 224, 31, 53, 29, 105, 27, 201, 213, 185, 159, 106, 263, 165, 64, 37, 36, 68, 368, 156, 775, 58, 59, 87, 1186, 52, 290, 269, 188, 86, 141, 124, 326, 128, 33, 96, 99, 21, 116, 245, 62, 102, 350, 39, 192, 1017, 396, 65, 166, 107, 327, 92, 776, 73, 297, 55, 80, 61, 176, 187, 115, 76, 278, 56, 1160, 38, 114, 100, 393, 679, 85, 536, 647, 60, 63, 81, 50, 144, 47, 79, 841, 117, 140, 139, 417, 240, 146, 161, 197, 286, 720, 69, 122, 962, 204, 191, 28, 67, 154, 644, 254, 74, 177, 157, 575, 231, 471, 138, 369, 170, 1525, 1491, 586, 1077, 898, 493, 93, 70, 1698, 1810, 430, 1277, 707, 2226, 691, 230, 627, 237, 650, 2803, 91, 577, 262, 1318, 214, 155, 764, 1042, 152, 158, 94, 573, 264, 256, 1763, 292, 553, 296, 402, 1867, 15677, 495, 2901, 212, 1260, 142, 183, 3403, 1391, 1501, 685, 654, 4606, 210, 569, 4327, 986, 167, 118, 955, 2119, 289, 132, 458, 662, 4083, 133, 477, 693, 1487, 1294, 535, 763, 633, 203, 329, 840, 261, 75, 66, 850, 622, 194, 119, 422, 112, 232, 200, 253, 437, 465, 714, 364, 345, 137, 5346, 1409, 108, 97, 312, 4236, 372, 392, 300, 101, 335, 375, 1344, 911, 209, 242, 361, 559, 862, 103, 529, 2836, 3805, 129, 530, 2704, 462, 229, 324, 110, 359, 268, 351, 243, 218, 308, 678, 548, 89, 331, 126, 226, 198, 842, 454, 193, 405, 2068, 611, 1216, 83, 2160, 1618, 3070, 508, 1460, 206, 283, 623, 244, 347, 466, 104, 172, 401, 171, 728, 127, 2230, 111, 513, 271, 1011, 377, 1127, 362, 540, 464, 1090, 445, 568, 321, 1375, 1224, 236, 552, 452, 651, 322, 225, 380, 6617, 676, 407, 3652, 459, 196, 238, 143, 646, 162, 2548, 1020, 460, 670, 233, 1301, 941, 1446, 77, 1043, 259, 716, 413, 235, 316, 1458, 356, 2193, 967, 773, 1331, 5078, 5191, 1433, 2507, 880, 5513, 266, 3708, 5331, 384, 1046, 257, 163, 360, 1502, 476, 247, 260, 760, 2423, 2241, 606, 631, 1328, 560, 457, 781, 397, 742, 2021, 1580, 190, 1923, 673, 2476, 957, 181, 149, 797, 3036, 113, 330, 252, 8114, 381, 365, 660, 2737, 5255, 867, 7226, 1684, 541, 1772, 388, 288, 208, 123, 90, 3035, 522, 88, 399, 333, 2748, 908, 1532, 295, 436, 291, 164, 2210, 945, 311, 488, 280, 616, 2553, 363, 927, 643, 3741, 217, 814, 603, 1526, 1214, 684, 343, 905, 704, 3158, 1346, 944, 153, 655, 787, 228, 1075, 1611, 189, 1170, 543, 1756, 410, 597, 1040, 338, 5776, 520, 175, 1272, 431, 652, 526, 1530, 403, 4842, 1253, 130, 13470, 1572, 168, 4764, 451, 2277, 878, 195, 1688, 1067, 125, 202, 1348, 983, 3160, 1514, 473, 227, 207, 1181, 303, 913, 1152, 220, 1577, 815, 273, 1105, 255, 1508, 566, 2608, 505, 109, 712, 479, 3264, 628, 136, 601, 1191, 1408, 150, 1997, 2062, 444, 131, 909, 179, 695, 186, 382, 587, 726, 215, 340, 827, 2401, 754, 447, 1207, 3256, 901, 2730, 306, 790, 528, 318, 591, 239, 874, 456, 500, 1283, 174, 3368, 1076, 645, 307, 1124, 274, 2779, 1482, 1059, 1481, 663, 250, 1868, 1770, 72, 293, 2026, 749, 328, 285, 948, 11638, 42912, 7243, 1822, 1718, 1422, 21975, 830, 579, 1257, 625, 1028, 1230, 837, 915, 319, 2458, 145, 873, 1431, 668, 148, 391, 1899, 414, 4307, 812, 282, 1113, 2811, 836, 774, 3039, 2531, 1623, 823, 1293, 5743, 426, 2446, 2434, 121, 383, 320, 11341, 951, 9689, 1107, 1555, 272, 682, 440, 996, 408, 120, 341, 246, 216, 918, 636, 223, 416, 1015, 1095, 1259, 1860, 1566, 574, 305, 314, 472, 539, 497, 309, 310, 999, 609, 612, 251, 891, 863, 1117, 1657, 1221, 2991, 3238, 135, 1615, 649, 199, 173, 698, 373, 358, 504, 2866, 879, 211, 635, 3481, 354, 398, 782, 182, 509, 277, 294, 455, 385, 1285, 786, 510, 1099, 219, 517, 567, 5381, 1381, 1101, 241, 267, 1320, 519, 222, 3982, 275, 732, 10710, 624, 751, 705, 659, 480, 2075, 743, 5364, 265, 721, 739, 390, 374, 638, 302, 325, 287, 355, 1708, 1136, 2711, 1896, 284, 2320, 865, 434, 959, 639, 715, 730, 819, 1053, 800, 607, 1393, 518, 483, 669, 2358, 1108, 323, 516, 332, 686, 594, 378, 2214, 734, 3644, 304, 1369, 353, 342, 475, 946, 580, 759, 900, 1252, 788, 412, 1279, 17485, 772, 2176, 376, 703, 576, 710, 1774, 1906, 1429, 379, 435, 249, 1085, 1096, 3235, 572, 596, 486, 681, 1503, 688, 746, 907, 1023, 758, 429, 1405, 386, 313, 780, 205, 690, 984, 1097, 1512, 2335, 463, 270, 1058, 2958, 1407, 640, 1274, 349, 507, 953, 801, 615, 1044, 2484, 619, 558, 851, 299, 912, 4905, 450, 490, 834, 583, 557, 499, 942, 2163, 337, 1086, 1368, 1313, 427, 339, 542, 1933, 395, 2714, 5167, 404, 626, 822, 3031, 1256, 482, 756, 406, 904, 489, 352, 700, 301, 584, 442, 769, 433, 549, 474, 1306, 453, 534, 394, 1080, 1854, 409, 1149, 590, 621, 970, 1159, 370, 1735, 461, 1103, 1200, 877, 1513, 792, 563, 1041, 778, 258, 571, 5430, 4094, 511, 503, 1092, 859, 389, 811, 1343, 816, 1082, 1945, 2257, 485, 600, 1696, 561, 491, 1475, 554, 2694, 711, 2927, 1336, 1816, 582, 2503, 1032, 1629, 618, 701, 1049, 1672, 869, 1164, 894, 1700, 1746, 856, 637, 1271, 2398, 1541, 1094, 1142, 1060, 789, 1435, 3553, 1493, 608, 672, 470, 860, 872, 2000, 1455, 803, 820, 994, 1413, 1325, 565, 1658, 7639, 4466, 2585, 1439, 989, 3396, 717, 438, 1374, 1112, 1561, 1758, 418, 752, 1534, 1258, 544, 689, 1070, 1667, 902, 496, 1247, 831, 4563, 602, 1168, 1183, 2822, 1353, 858, 964, 1228, 448, 833, 1128, 1178, 425, 1055, 804, 991, 1175, 387, 420, 357, 733, 546, 1110, 550, 919, 1787, 868, 667, 1291, 1073, 940, 570, 736, 3194, 1121, 954, 1643, 4066, 683, 532, 346, 1679, 419, 2078, 1052, 980, 950, 1037, 1527, 1123, 1352, 1248, 317, 593, 334, 1536, 2191, 961, 428, 657, 4977, 938, 848, 838, 4608, 1546, 1134, 3000, 468, 727, 533, 828, 766, 2845, 2708, 1130, 699, 315, 1902, 4277, 692, 929, 1327, 656, 713, 1985, 1268, 2017, 589, 992, 1120, 11256, 4831, 1833, 2134, 3111, 2008, 2297, 1938, 1141, 501, 2372, 1989, 1929, 3188, 4899, 2672, 2871, 1862, 1767, 498, 1244, 556, 1479, 3447, 6625, 5620, 2397, 2150, 432, 5166, 2533, 8013, 494, 1239, 1521, 1871, 777, 1802, 1974, 1184, 702, 1163, 1499, 687, 2963, 1138, 1083, 630, 1235, 629, 610, 1036, 889, 641, 762, 6424, 1019, 2565, 972, 1622, 671, 3151, 1365, 747, 24084, 1370, 2686, 1034, 2108, 3832, 982, 725, 1447, 771, 523, 613, 492, 1223, 1402, 449, 832, 738, 1310, 4946, 886, 1498, 367, 3165, 897, 914, 1276, 892, 1192, 481, 3022, 2738, 735, 795, 348, 400, 1047, 1702, 737, 1003, 344, 664, 947, 411, 1524, 2703, 722, 415, 977, 515, 642, 3213, 3764, 1143, 527, 366, 709, 675, 847, 753, 956, 578, 846, 1317, 1093, 478, 1448, 1226, 1241, 2863, 1329, 821, 592, 512, 1607, 439, 298, 1410, 1773, 484, 599, 985, 799, 783, 524, 6446, 1366, 1139, 9567, 2082, 1900, 694, 1520, 2904, 1150, 620, 4010, 757, 829, 1148, 1292, 3584, 924, 2232, 1890, 5872, 1436, 1722, 521, 2046, 4020, 1031, 731, 2337, 839, 2425, 487, 446, 895, 1522, 719, 805, 598, 3912, 952, 779, 4384, 1872, 870, 2086, 1189, 1377, 1270, 581, 2667, 3054, 1220, 3727, 969, 1002, 1668, 922, 1754, 2696, 1187, 1218, 910, 2430, 545, 741, 661, 740, 981, 3286, 5892, 2884, 3614, 5408, 2117, 993, 1634, 1683, 537, 604, 1211, 423, 853, 421, 1456, 1275, 813, 467, 3051, 1264, 469, 882, 2060, 1963, 793, 2590, 4392, 729, 2894, 2135, 666, 1071, 906, 2984, 2734, 665, 1225, 748, 1022, 887, 1079, 2199, 966, 2069, 1281, 824, 562, 1467, 1864, 1255, 4826, 2789, 937, 806, 1116, 845, 1177, 949, 3225, 1576, 1950, 1154, 2692, 3477, 677, 864, 1434, 1406, 1616, 1761, 585, 1165, 1169, 2047, 1682, 1219, 2218, 1459, 3704, 506, 1379, 933, 8287, 3208, 1834, 723, 1290, 1451, 3243, 1131, 1025, 1843, 849, 2523, 3616, 525, 1670, 1715, 10628, 32681, 2402, 2251, 6895, 3266, 7329, 3452, 5403, 871, 1666, 1904, 796, 1210, 1956, 1819, 1970, 4178, 617, 1063, 765, 4475, 1492, 2992, 2680, 2355, 1236, 1401, 2361, 1392, 809, 1185, 1823, 3578, 1383, 1282, 1001, 1308, 3817, 1599, 1284, 5783, 2497, 1005, 680, 1725, 514, 744, 7869, 2022, 653]\n",
    "arr2 = np.array(arr2)\n",
    "print(np.nonzero(arr1-arr2))"
   ]
  },
  {
   "cell_type": "markdown",
   "id": "698f8096",
   "metadata": {
    "vscode": {
     "languageId": "raw"
    }
   },
   "source": [
    "All correct."
   ]
  },
  {
   "cell_type": "markdown",
   "id": "8786b620",
   "metadata": {},
   "source": [
    "# Forming the Count Array"
   ]
  },
  {
   "cell_type": "markdown",
   "id": "5c5ab8d1",
   "metadata": {},
   "source": [
    "All the data has been loaded sucessfully. The lists of contexts are identical to the old format, but the counts are not quite in the required format for decoding the text like before."
   ]
  },
  {
   "cell_type": "code",
   "execution_count": 87,
   "id": "a19cc177",
   "metadata": {},
   "outputs": [
    {
     "data": {
      "text/plain": [
       "(1476, 1476)"
      ]
     },
     "execution_count": 87,
     "metadata": {},
     "output_type": "execute_result"
    }
   ],
   "source": [
    "len(count_alphabet), len(set(count4))"
   ]
  },
  {
   "cell_type": "code",
   "execution_count": 88,
   "id": "822aeef3",
   "metadata": {},
   "outputs": [],
   "source": [
    "for i in range(len(count4)):\n",
    "    count4[i] = count_alphabet[count4[i]]"
   ]
  },
  {
   "cell_type": "code",
   "execution_count": null,
   "id": "f048a26f",
   "metadata": {},
   "outputs": [
    {
     "name": "stdout",
     "output_type": "stream",
     "text": [
      "[4, 1, 4, 1, 3, 4, 3, 8, 5, 6, 18, 3, 24, 17, 1, 7, 6, 8, 8, 2, 1, 8, 2, 2, 1, 32, 98, 71, 1, 1] [4, 8, 1, 1, 17, 1, 1, 2, 1, 5, 1, 4, 1, 1, 2, 1, 4, 7, 1, 110, 8, 2, 2, 6, 1, 1, 1, 2, 1, 1]\n"
     ]
    }
   ],
   "source": [
    "print(count4[0:30], count4[-30:])\n",
    "# [4, 1, 4, 1, 3, 4, 3, 8, 5, 6, 18, 3, 24, 17, 1, 7, 6, 8, 8, 2, 1, 8, 2, 2, 1, 32, 98, 71, 1, 1] \n",
    "# [4, 8, 1, 1, 17, 1, 1, 2, 1, 5, 1, 4, 1, 1, 2, 1, 4, 7, 1, 110, 8, 2, 2, 6, 1, 1, 1, 2, 1, 1]"
   ]
  },
  {
   "cell_type": "markdown",
   "id": "178424ab",
   "metadata": {},
   "source": [
    "Correct."
   ]
  }
 ],
 "metadata": {
  "kernelspec": {
   "display_name": "base",
   "language": "python",
   "name": "python3"
  },
  "language_info": {
   "codemirror_mode": {
    "name": "ipython",
    "version": 3
   },
   "file_extension": ".py",
   "mimetype": "text/x-python",
   "name": "python",
   "nbconvert_exporter": "python",
   "pygments_lexer": "ipython3",
   "version": "3.12.9"
  }
 },
 "nbformat": 4,
 "nbformat_minor": 5
}
