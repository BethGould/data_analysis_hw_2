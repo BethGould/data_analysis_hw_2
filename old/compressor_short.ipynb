{
 "cells": [
  {
   "cell_type": "markdown",
   "id": "3b04c91d-107f-405e-97b5-26867449a87d",
   "metadata": {
    "jp-MarkdownHeadingCollapsed": true
   },
   "source": [
    "# Loading of the uncapitalized text\n",
    "\n",
    "This should calculate all the counts."
   ]
  },
  {
   "cell_type": "code",
   "execution_count": 2,
   "id": "a46311bc-4231-42bf-8e4f-f496cc7b17aa",
   "metadata": {},
   "outputs": [],
   "source": [
    "#libraries\n",
    "import string\n",
    "import re\n",
    "import numpy as np\n",
    "import math\n",
    "\n",
    "\n",
    "#load text\n",
    "f = open(\"MrZoat_WithThisRingS01_Gould.txt\")\n",
    "text = f.read()\n",
    "f.close()\n",
    "#print(text[0:200])\n",
    "\n",
    "text = text.lower()\n",
    "\n",
    "\n",
    "# these are most likely not the most effective variants, but it is irrelevant here\n",
    "sim = ['*', '+', '|', '/', ':', '-', ';', '\\'', '\\\"', ',', '.', '?', '!', '$', '%', '&', '}', '[', ']', '(', ')', '<', '>', ' ', '\\n']\n",
    "\n",
    "low = []\n",
    "for i in range(26):\n",
    "    low.append(string.ascii_lowercase[i])\n",
    "num = []\n",
    "for i in range(10):\n",
    "    num.append(string.digits[i])"
   ]
  },
  {
   "cell_type": "code",
   "execution_count": 3,
   "id": "24bfda56-344e-4410-b2ec-caffc52a8180",
   "metadata": {},
   "outputs": [
    {
     "data": {
      "text/plain": [
       "61"
      ]
     },
     "execution_count": 3,
     "metadata": {},
     "output_type": "execute_result"
    }
   ],
   "source": [
    "# now in the correct order\n",
    "sim1 = ['\\n', ' ', '!', '\\\"', '$', '%', '&', '\\'', '(', ')', '*', '+', ',', '-', '.', '/' ]\n",
    "sim2 = [':', ';', '<', '>', '?', '[', ']']\n",
    "sim3 = ['|', '}']\n",
    "ch = sim1 + num + sim2 + low + sim3 # this is our full list of symbols\n",
    "len(ch)"
   ]
  },
  {
   "cell_type": "code",
   "execution_count": 4,
   "id": "dd1a8b38-df04-4424-a052-854fc330067d",
   "metadata": {},
   "outputs": [
    {
     "name": "stdout",
     "output_type": "stream",
     "text": [
      "12699\n"
     ]
    }
   ],
   "source": [
    "# numpy to make 3-D arrays easily; they are all counts\n",
    "count3 = np.zeros((61,61,61), int)\n",
    "\n",
    "str3 = '000'\n",
    "\n",
    "# again, this is very slow\n",
    "# I don't think predefining str3 helps\n",
    "for i in range(61):\n",
    "    for j in range(61):\n",
    "        for k in range(61):\n",
    "            str3 = ch[i]+ch[j]+ch[k]\n",
    "            count3[i,j,k] = text.count(str3)\n",
    "            \n",
    "num_non0 = np.count_nonzero(count3) # much smaller -- 94.4% of cases don't exist\n",
    "print(num_non0)\n",
    "c3_non0 = np.nonzero(count3)"
   ]
  },
  {
   "cell_type": "code",
   "execution_count": 5,
   "id": "02568574-e070-4f22-8e34-557bb622ec47",
   "metadata": {},
   "outputs": [
    {
     "name": "stdout",
     "output_type": "stream",
     "text": [
      "59088\n"
     ]
    }
   ],
   "source": [
    "# initialize variables\n",
    "ii = jj = kk = 0\n",
    "str4 = '0000'\n",
    "count4 = np.zeros((num_non0, len(ch)), int)\n",
    "\n",
    "for i in range(num_non0):\n",
    "    ii=c3_non0[0][i]\n",
    "    jj=c3_non0[1][i]\n",
    "    kk=c3_non0[2][i]\n",
    "    for j in range(len(ch)):\n",
    "        str4 = ch[ii]+ch[jj]+ch[kk]+ch[j]\n",
    "        count4[i,j] = text.count(str4)\n",
    "\n",
    "num4_non0 = np.count_nonzero(count4)\n",
    "print(num4_non0)\n",
    "c4_non0 = np.nonzero(count4)"
   ]
  },
  {
   "cell_type": "code",
   "execution_count": 6,
   "id": "a5917c7f-5e01-4036-af60-84b1679329e1",
   "metadata": {},
   "outputs": [
    {
     "name": "stdout",
     "output_type": "stream",
     "text": [
      "1427\n"
     ]
    }
   ],
   "source": [
    "str2 = '00'\n",
    "count2=np.zeros((61,61), int)\n",
    "\n",
    "for i in range(61):\n",
    "    for j in range(61):\n",
    "        str2 = ch[i]+ch[j]\n",
    "        count2[i,j] = text.count(str2)\n",
    "\n",
    "num2_non0 = np.count_nonzero(count2)\n",
    "print(num2_non0)\n",
    "c2_non0 = np.nonzero(count2)"
   ]
  },
  {
   "cell_type": "code",
   "execution_count": 7,
   "id": "57ebc58a-8859-4204-a859-db6640082b74",
   "metadata": {},
   "outputs": [
    {
     "name": "stdout",
     "output_type": "stream",
     "text": [
      "12699\n"
     ]
    }
   ],
   "source": [
    "# initialize variables\n",
    "ii = jj = 0\n",
    "str3 = '000'\n",
    "count3n = np.zeros((num2_non0, len(ch)), int)\n",
    "\n",
    "for i in range(num2_non0):\n",
    "    ii=c2_non0[0][i]\n",
    "    jj=c2_non0[1][i]\n",
    "    for j in range(len(ch)):\n",
    "        str3 = ch[ii]+ch[jj]+ch[j]\n",
    "        count3n[i,j] = text.count(str3)\n",
    "\n",
    "num3n_non0 = np.count_nonzero(count3n)\n",
    "print(num3n_non0)\n",
    "c3n_non0 = np.nonzero(count3n)"
   ]
  },
  {
   "cell_type": "code",
   "execution_count": 8,
   "id": "e0d7ea68-cfdd-4d62-83b8-89f5ce4aa03e",
   "metadata": {},
   "outputs": [
    {
     "name": "stdout",
     "output_type": "stream",
     "text": [
      "61\n"
     ]
    }
   ],
   "source": [
    "count1=np.zeros((61), int)\n",
    "\n",
    "for i in range(61):\n",
    "    count1[i] = text.count(ch[i])\n",
    "\n",
    "num1_non0 = np.count_nonzero(count1)\n",
    "print(num1_non0)\n",
    "c1_non0 = np.nonzero(count1)"
   ]
  },
  {
   "cell_type": "code",
   "execution_count": 10,
   "id": "c09db40a",
   "metadata": {},
   "outputs": [],
   "source": [
    "c4_arr = [0]*num4_non0\n",
    "for i in range(num4_non0):\n",
    "    c4_arr[i] = count4[c4_non0[0][i], c4_non0[1][i]]"
   ]
  },
  {
   "cell_type": "markdown",
   "id": "de3c8a44",
   "metadata": {},
   "source": [
    "# Unencoded Count and Numerical Encoding Tests\n",
    "\n",
    "This is my attempt to use numerical compression for the data, but I found that a fixed width number is shorter."
   ]
  },
  {
   "cell_type": "markdown",
   "id": "88bbdb15-5421-415c-8ae4-3ab596ac54dc",
   "metadata": {},
   "source": [
    "We can instead ask what it costs to save all the contexts for our 42210 + 10158 + 1258 + 57 + 1 = 53684 potential counts. We can also calculate for 59088 + 12699 + 1427 + 61 + 1 = 73276 when we just want to calculate for non-empty counts. I am not quite sure when we should cut off a context.\n",
    "\n",
    "Each character can be encoded in 6 bits as we have 61 characters and counts can be given with a number encoding. Characters can be further reduced by examining spacing between characters rather than needing to provide the characters, as the structure is ordered.\n",
    "\n",
    " - Provide array of non-zero symbols. (25 bytes typically, although this could be reduced by counting spacing instead.) If we encode each character in 8 bits, we may not need to provide this. We end this with a border (like 'A' or a number which takes the spacing beyond ASCII).\n",
    " - Provide counts for context '': Each count is 1 character and one positive integer long. We have 61 counts.\n",
    " - Provide counts for context 'x': Each count is 2 characters and one positive integer long. We have 1427 counts.\n",
    " - Provide counts for context 'xx': Each count is 3 characters and one positive integer long. We have 12699 counts.\n",
    " - Provide counts for context 'xxx': Each count is 4 characters and one positive integer long. \n",
    " - End of each array can be indicated by:\n",
    "   a) With full character encoding, or 6 bit encoding, the next context will start again at the begining of the alphabet.\n",
    "   b) With only spacing counted, we can save a mark or just go beyond the end of our character array length.\n",
    "\n",
    "Each character is 1 byte. Our maximum count is 724362, which requires 20 bits to encode. We could do this with 3 bytes (but not 2 bytes), but 4 bytes is more typical. Total cost, with typical encoding:\n",
    "5* 61 + 6 * 1427 + 7 * 12699 + 8 * 59088 = 570464 bytes = 0.57 MB."
   ]
  },
  {
   "cell_type": "markdown",
   "id": "91d148f5-27db-4caf-88c2-84b3f0a46f4a",
   "metadata": {},
   "source": [
    "Spacings: (the last 3 is for the end of the list)\n",
    "This assumes all digits and letters are used.\n",
    " - p1: {10, 22, 1, 1, 2, 1, 1, 1, 1, 1, 1, 1, 1, 1, 1, 1, 1, 1, 1, 2, 1, 2, 2, 5, 1, 3} -- 3 at the end is used to indicate end of file\n",
    " - p2: {count1} -- without any charater spacing, because all are used\n",
    " - p3: {c2_non0\\[1\\]\\[0\\]+1, c2_non0\\[1\\]\\[1:\\]- c2_non0\\[1\\]\\[0:-1\\]} {count2} -- The first character spacing is removed, since all are going to exist. The second is as given, but the negative values in it need to be recalculated (+61 I think, I need to check this). This will indicate incrementing the first character by 1. Going to 61 is the most effecient version, and works. The additional +1 is already included.\n",
    " - x = 60 - the last index -- this will encode the first non-existing count, which indicates end of list\n",
    " - p4: {c3_non0\\[1\\]\\[0\\]+1, c3_non0\\[1\\]\\[1:\\]- c3_non0\\[1\\]\\[0:-1\\]} {c3_non0\\[2\\]\\[0\\]+1, c3_non0\\[2\\]\\[1:\\]- c3_non0\\[2\\]\\[0:-1\\]} {count3} -- Rules like the previous.\n",
    " - y = 60 - the last index -- as x\n",
    " - p5: {c4_non0\\[1\\]\\[0\\]+1, c4_non0\\[1\\]\\[1:\\]- c4_non0\\[1\\]\\[0:-1\\]} {c4_non0\\[2\\]\\[0\\]+1, c4_non0\\[2\\]\\[1:\\]- c4_non0\\[2\\]\\[0:-1\\]} {c4_non0\\[3\\]\\[0\\]+1, c4_non0\\[3\\]\\[1:\\]- c4_non0\\[3\\]\\[0:-1\\]} {count4} -- For this case, the formalism is not actually correct for how I have calculated the data, which uses c3 numbers for calculating c4 numbers. However, the structure for transmition is similar\n",
    " -  z = 60 - the last index, to indicate end of file, may now add the text\n",
    "\n",
    "All numbers will be encoded with ternary code, to maintain consistency, despite not being the best choise. I should calculate costs, separating spacings and counts as two separate encodings. Counts most likely want ternary code, while this is likely inefficent for spacings.\n",
    "\n",
    "9 bits is the greatest spacing. However, this encoding doesn't quite work. The alternative encoding, which I did for c4, does work. \n",
    " - p1: {10, 22, 1, 1, 2, 1, 1, 1, 1, 1, 1, 1, 1, 1, 1, 1, 1, 1, 1, 2, 1, 2, 2, 5, 1, 3}\n",
    " - p2: {count1}\n",
    " - p3: {c2_non0\\[1\\]\\[0\\]+1, c2_non0\\[1\\]\\[1:\\]- c2_non0\\[1\\]\\[0:-1\\]} {count2}\n",
    " - x = 60 - the last index\n",
    " - p4: {c3n_non0\\[1\\]\\[0\\]+1, c3n_non0\\[1\\]\\[1:\\]- c3n_non0\\[1\\]\\[0:-1\\]} {count3n} -- Like p2, we have a context (the set of all non-zero contexts from p3), which always increments by 1, and our added letter counts. Therefore, everytime there will be exactly 2 numbers, a spacing and a count. We know which previous contexts exist from the previous process. We deal with negatives in our array like indicated before.\n",
    " - y = 60 - the last index\n",
    " - p5: {c4_non0\\[1\\]\\[0\\]+1, c4_non0\\[1\\]\\[1:\\]- c4_non0\\[1\\]\\[0:-1\\]} {count4} -- Like previous. This is the correct formulation of my calculation of counts.\n",
    " - z = 60 - the last index, to indicate end of file"
   ]
  },
  {
   "cell_type": "markdown",
   "id": "e28af6b2-9102-40e8-ad32-443b58d67758",
   "metadata": {},
   "source": [
    "Except for the first few characters, every character has a 3 character preceding context. However, I wish to keep all the single count elements and the smaller machines due to how they count the context. I can recalculate the contexts as below:\n",
    "\n",
    " - p1: {10, 22, 1, 1, 2, 1, 1, 1, 1, 1, 1, 1, 1, 1, 1, 1, 1, 1, 1, 2, 1, 2, 2, 5, 1, 3}\n",
    " - p2: {'ABC'} -- The first three characters of the document, encoded from 1 - 61 (index 0 - 60). \n",
    " - p3: {c2_non0\\[1\\]\\[0\\]+1, c2_non0\\[1\\]\\[1:\\]- c2_non0\\[1\\]\\[0:-1\\]} -- Add 61 to all non-positive.\n",
    " - x = 60 - the last index (note, last index here, not last spacing)\n",
    " - p4: {c3n_non0\\[1\\]\\[0\\]+1, c3n_non0\\[1\\]\\[1:\\]- c3n_non0\\[1\\]\\[0:-1\\]} -- Add 61 to all non-positive.\n",
    " - y = 60 - the last index (note, last index here, not last spacing)\n",
    " - p5: {c4_non0\\[1\\]\\[0\\]+1, c4_non0\\[1\\]\\[1:\\]- c4_non0\\[1\\]\\[0:-1\\]} {count4} -- Add 61 to all non-positive character spacings. Counts are only important here, as the old counts can be calculated from these counts and the first 3 characters.\n",
    " - z = 60 - the last index, to indicate end of file (note, last index here, not last spacing)\n",
    "\n",
    "I should be able to here calculate the bit / byte length and figure out which number encodings are better. \n",
    "\n",
    "***\n",
    "\n",
    "I have a problem with the encoding -- if the index of the last element of the old context is less than the first element of the next, the encoder / decoder will not recognize the requirement to increment to the next element. I can fix this by inserting an unused number (62 or 63) between the two elements, to indicate the need to increment. I have not yet added this fix to the algorithm (due to time constraints). The increase in size should be relatively small. \n",
    "\n",
    "Also, I can just put the indicies in straight, and not use the spacings. This doesn't alter the space usage, but decreases processing time. \n",
    "\n",
    "The first array needs to have a separate encoding (and be based on spacing) as we don't know the size of our array until after reading the first array. (bit size -> 7, 6, 6, 6, {5}, 5, ..., 5, {4}, 4, 4, 4, 4, {2}, 2 or just all 7) Now we can calculate the size of the array = 26 + 10 + number of special elements. We have 1 more element as our stop, to indicate needing to increment the first index by one if it is not obvious. When this index reaches the size of our previous array, we know that the next number will be for the next array. The last byte is finished with zeros (they will be ignored).\n",
    "\n",
    "All future calculation of efficency is not effected by this change. The size will increase, but not significantly. \n",
    "\n",
    "Our count number also needs something to indicate the size of the array. After the p5 array, before the extra 0s and count array, I should add a ternary encoded number for the number of bits in the maximum count, defining the size of the next array. I don't want a fixed-length encoding here, in order to not assume the size of the maximum count. Then I should ignore the trailing 0s until the end and load the next numbers straight onto the byte string, as there is no reason to believe they will be a whole number of bits (although they are)."
   ]
  },
  {
   "cell_type": "raw",
   "id": "87b6ecdd-38da-4e7b-93ef-4ffe80ee408f",
   "metadata": {
    "vscode": {
     "languageId": "raw"
    }
   },
   "source": [
    "np.max(count4) # This number is in my table. Lets bring the table here."
   ]
  },
  {
   "cell_type": "raw",
   "id": "d96a30f1-9030-47b4-b291-585454df959a",
   "metadata": {},
   "source": [
    "# Lets put in the tables\n",
    "range_max = [1,2,3,4,7,8,12,15,20,26,31,33,54,63,80,88,127,133,222,242,255,376,511,609,728,986,1023,1596,2047,2186,2583,4095,4180,6560,6764,8191,10945,16383,17710,19682,28656,32767,46367]\n",
    "gam = [1,3,3,5,5,7,7,7,9,9,9,11,11,11,13,13,13,15,15,15,15,17,17,19,19,19,19,21,21,23,23,23,25,25,25,25,27,27,29,29,29,29,31]\n",
    "delt = [1,4,3,5,5,8,8,8,9,9,9,10,10,10,11,11,11,14,14,14,14,15,15,16,16,16,16,17,17,18,18,18,19,19,19,19,20,20,21,21,21,21,24]\n",
    "fib = [2,3,4,4,5,6,6,7,7,8,8,8,9,10,10,10,11,11,12,13,13,13,14,14,15,15,16,16,17,17,17,18,18,19,19,20,20,21,21,22,22,23,23]\n",
    "thr = [3,3,5,5,5,5,7,7,7,7,9,9,9,9,9,11,11,11,11,11,13,13,13,13,13,15,15,15,15,15,17,17,17,17,19,19,19,19,19,19,21,21,21]"
   ]
  },
  {
   "cell_type": "raw",
   "id": "72a80034-42df-4a42-b218-e0d4ec23899a",
   "metadata": {},
   "source": [
    "print(len(range_max), len(gam), len(delt), len(fib), len(thr))"
   ]
  },
  {
   "cell_type": "raw",
   "id": "d88df89b-dab5-4f83-b231-4e0473dba15d",
   "metadata": {
    "vscode": {
     "languageId": "raw"
    }
   },
   "source": [
    "# calculate p3, p4, p5 character spacings, x,y,z"
   ]
  },
  {
   "cell_type": "raw",
   "id": "38b1cd6b-ea30-4d16-9b76-dd92efa7529d",
   "metadata": {},
   "source": [
    "p3_arr = np.zeros(len(c2_non0[0]), int)\n",
    "p4_arr = np.zeros(len(c3n_non0[0]), int)\n",
    "p5_arr = np.zeros(len(c4_non0[0]), int)\n",
    "print(p3_arr.shape, p4_arr.shape, p5_arr.shape)\n",
    "\n",
    "#(1427,) (12699,) (59088,)"
   ]
  },
  {
   "cell_type": "raw",
   "id": "72475e6e-ca6b-408a-80ea-daf83795fcfc",
   "metadata": {},
   "source": [
    "p3_arr[0] = c2_non0[1][0]+1\n",
    "p4_arr[0] = c3n_non0[1][0]+1\n",
    "p5_arr[0] = c4_non0[1][0]+1\n",
    "p3_arr[1:] = c2_non0[1][1:]- c2_non0[1][0:-1]\n",
    "p4_arr[1:] = c3n_non0[1][1:]- c3n_non0[1][0:-1]\n",
    "p5_arr[1:] = c4_non0[1][1:]- c4_non0[1][0:-1]"
   ]
  },
  {
   "cell_type": "raw",
   "id": "1336fa3b-20ce-44cd-a27a-a4142e63583d",
   "metadata": {},
   "source": [
    "for i in range(len(p3_arr)):\n",
    "    if p3_arr[i] < 1: \n",
    "        p3_arr[i] += 61\n",
    "for i in range(len(p4_arr)):\n",
    "    if p4_arr[i] < 1: \n",
    "        p4_arr[i] += 61\n",
    "for i in range(len(p5_arr)):\n",
    "    if p5_arr[i] < 1: \n",
    "        p5_arr[i] += 61"
   ]
  },
  {
   "cell_type": "raw",
   "id": "ac1391f6-4867-40dd-b654-37c8844f4284",
   "metadata": {},
   "source": [
    "print(c2_non0[1][-1], c3n_non0[1][-1], c4_non0[1][-1])\n",
    "endf = [60 - c2_non0[1][-1], 60 - c3n_non0[1][-1], 60 -c4_non0[1][-1]]\n",
    "endf\n",
    "\n",
    "#26 31 0\n",
    "#[34, 29, 60]"
   ]
  },
  {
   "cell_type": "raw",
   "id": "d94a7f3a-2d24-49e0-9f74-54ea176a7b7d",
   "metadata": {
    "vscode": {
     "languageId": "raw"
    }
   },
   "source": [
    "p1_arr = [10, 22, 1, 1, 2, 1, 1, 1, 1, 1, 1, 1, 1, 1, 1, 1, 1, 1, 1, 2, 1, 2, 2, 5, 1, 3]"
   ]
  },
  {
   "cell_type": "raw",
   "id": "c5f3944a-1107-4cf2-836a-ae0fbdf9a782",
   "metadata": {},
   "source": [
    "#print(text[0:3], ch.index(text[0]), ch.index(text[1]), ch.index(text[2]))\n",
    "#print(ch[55], ch[41], ch[52])\n",
    "f3ch = [ch.index(text[0])+1, ch.index(text[1])+1, ch.index(text[2])+1]\n",
    "f3ch\n",
    "\n",
    "#[56, 42, 53]"
   ]
  },
  {
   "cell_type": "raw",
   "id": "f842d9ba-9e26-4c5b-be41-3cade22be5b9",
   "metadata": {},
   "source": [
    "# so far without the counts\n",
    "long_arr = p1_arr + f3ch + list(p3_arr) + [endf[0]] + list(p4_arr) + [endf[1]] + list(p5_arr) + [endf[2]]"
   ]
  },
  {
   "cell_type": "raw",
   "id": "4d06d934-37d8-4c9b-921e-c274cab019fe",
   "metadata": {},
   "source": [
    "long_arr2 = long_arr\n",
    "long_arr.sort"
   ]
  },
  {
   "cell_type": "raw",
   "id": "dc5d4448-9f19-44bd-b8a2-9cf451ef9133",
   "metadata": {},
   "source": [
    "j = 0\n",
    "sums = [0,0,0,0,0]\n",
    "for i in range(len(long_arr2)):\n",
    "    while long_arr2[i] > range_max[j]:\n",
    "        j = j + 1\n",
    "    sums[0] += gam[j]\n",
    "    sums[1] += delt[j]\n",
    "    sums[2] += fib[j]\n",
    "    sums[3] += thr[j]\n",
    "    sums[4] += 6  # 2^6 = 64\n",
    "print(sums)\n",
    "\n",
    "#[805652, 732433, 732406, 659162, 439476]"
   ]
  },
  {
   "cell_type": "markdown",
   "id": "87543b55-f66a-48ae-9105-65d4a77d9cd3",
   "metadata": {},
   "source": [
    "Unencoded 6 bit length for the spacings is optimal, it looks like. I can just add zeros to the end to reach a full byte if needed due to the fact that I already signalled the end of file. It is likely unneeded."
   ]
  },
  {
   "cell_type": "raw",
   "id": "8322643b-043e-47e2-be84-49a49e03b5f3",
   "metadata": {},
   "source": [
    "float(sums[4]) / 8.0\n",
    "\n",
    "#54934.5"
   ]
  },
  {
   "cell_type": "raw",
   "id": "d35df190-6f4a-4a3f-b995-0543d16accef",
   "metadata": {},
   "source": [
    "len(long_arr)\n",
    "\n",
    "#73246"
   ]
  },
  {
   "cell_type": "raw",
   "id": "2e86ebef-e657-48ff-82a7-b418698b6002",
   "metadata": {
    "vscode": {
     "languageId": "raw"
    }
   },
   "source": [
    "#count4\n",
    "c4_non0"
   ]
  },
  {
   "cell_type": "raw",
   "id": "67fd4d15-9632-45df-b8aa-407689e8200b",
   "metadata": {
    "vscode": {
     "languageId": "raw"
    }
   },
   "source": [
    "c4_arr = [0]*num4_non0\n",
    "for i in range(num4_non0):\n",
    "    c4_arr[i] = count4[c4_non0[0][i], c4_non0[1][i]]"
   ]
  },
  {
   "cell_type": "raw",
   "id": "996aa305-1931-4e84-a474-8452991be802",
   "metadata": {},
   "source": [
    "c4_arr2 = c4_arr\n",
    "c4_arr2.sort"
   ]
  },
  {
   "cell_type": "raw",
   "id": "ddb0fa54-f650-437b-ab3b-916dd64e411e",
   "metadata": {},
   "source": [
    "j = 0\n",
    "sums = [0,0,0,0,0]\n",
    "for i in range(len(c4_arr2)):\n",
    "    while c4_arr2[i] > range_max[j]:\n",
    "        j = j + 1\n",
    "    sums[0] += gam[j]\n",
    "    sums[1] += delt[j]\n",
    "    sums[2] += fib[j]\n",
    "    sums[3] += thr[j]\n",
    "    sums[4] += 16  # 2^16 = 65536, max count = 42912\n",
    "print(sums)\n",
    "\n",
    "#[1801320, 1393076, 1338640, 1225238, 945408]"
   ]
  },
  {
   "cell_type": "raw",
   "id": "72195116-fa53-4d8b-957f-c61fdd37ed10",
   "metadata": {},
   "source": [
    "max(c4_arr2)"
   ]
  },
  {
   "cell_type": "raw",
   "id": "258576a4-7dc9-4f90-9512-9306e3b92b50",
   "metadata": {},
   "source": [
    "float(sums[4]) / 8.0\n",
    "\n",
    "#118176.0"
   ]
  },
  {
   "cell_type": "raw",
   "id": "1a69d7df-8130-4bb0-810e-3d4b76bfc18a",
   "metadata": {},
   "source": [
    "bc = np.ceil(54934.5+118176)\n",
    "bc\n",
    "\n",
    "#173111.0"
   ]
  },
  {
   "cell_type": "markdown",
   "id": "d498fea6-d7be-4c29-9369-092b76e01fd3",
   "metadata": {},
   "source": [
    "Our total cost after encoding is 173 kB, which is less than half the old calculation. Note that, despite the unencoded form, there are still two separate types of encoding due to the difference in bit length of the numbers. I wonder if I can just label them as uint * 6 and uint * 16 and just write the binary. There is no issue with putting the counts at the end, as we already know the order and number of counts, so we know what to expect. We need 4 extra zeros to reach a whole number of bits, but they still can be added to the end of the file."
   ]
  },
  {
   "cell_type": "raw",
   "id": "d77259c5-a5ed-447e-a2c2-c68936934a43",
   "metadata": {},
   "source": [
    "#byte_encode_1 = bytearray(b'') # this is my encoding for file storage\n",
    "byte_store = [0] # here I am filling the bytes, should be integers from 0 to 255\n",
    "bit_count = 0    # this is the number of bits in byte_store which are full; ensures that I don't overfill bytes and send them to the string when ready\n",
    "j = 0            # counts the length of byte_store\n",
    "\n",
    "# I should create an object to run this, with the approriate functions.\n",
    "for i in long_arr:\n",
    "    # the old bits are already shifted appropriately\n",
    "    jj = byte_store[j]\n",
    "    # bit shift new bits\n",
    "    if bit_count < 2: \n",
    "        ii = i << (2 - bit_count)\n",
    "    elif bit_count == 2:\n",
    "        ii = i\n",
    "    else:\n",
    "        ii = i >> (bit_count - 2) # The excess will go off the end. I will encode them later.\n",
    "\n",
    "    # bitwise or is the same as + in this case\n",
    "    byte_store[j] = jj | ii\n",
    "    bit_count += 6\n",
    "\n",
    "    # now, to work on the next byte\n",
    "    if bit_count > 7:\n",
    "        j += 1\n",
    "        bit_count -=8 \n",
    "        # we now need to take only the right most bit_count bits and put it in ii\n",
    "        ii = (i << (8 - bit_count))%256\n",
    "        byte_store.append(ii)\n",
    "        \n",
    "# This encoding adds 0s to the end if I don't fill the last byte, which is actually what I want, despite being non-ideal. \n",
    "# I could continue to fill the byte string instead, but the next encoding has a whole number of bits, and the extra 0s\n",
    "# don't bother the encoding at all.\n",
    "\n",
    "byte_encode_1 = bytearray(byte_store)"
   ]
  },
  {
   "cell_type": "raw",
   "id": "472fa124-f985-4306-884d-b9c51aae48f5",
   "metadata": {},
   "source": [
    "with open(\"model_counts.txt\", \"wb\") as f:\n",
    "    f.write(byte_encode_1+byte_encode_2)"
   ]
  },
  {
   "cell_type": "markdown",
   "id": "1c82bec5-6b24-4251-a80f-e3b5ab6d37d6",
   "metadata": {},
   "source": [
    "170 kB, success, although I need to read it properly to truely check. Also .txt is not correct."
   ]
  },
  {
   "cell_type": "raw",
   "id": "4c63790b-f201-485e-aeae-837407ae0fa5",
   "metadata": {},
   "source": [
    "byte_encode_2 = bytearray(b'')\n",
    "\n",
    "# Now we have two bytes added each time, but every number is a whole number of bytes. In theory, I can add this directly to the\n",
    "# previous stream, but I don't want to.\n",
    "for i in c4_arr:\n",
    "    i1 = i // 256 # the upper bit\n",
    "    i2 = i % 256  # the lower bit\n",
    "    # bitwise or is the same as + in this case\n",
    "    byte_encode_2.append(i1)\n",
    "    byte_encode_2.append(i2)"
   ]
  },
  {
   "cell_type": "markdown",
   "id": "8a78950b",
   "metadata": {},
   "source": [
    "# Classes"
   ]
  },
  {
   "cell_type": "markdown",
   "id": "27424a56",
   "metadata": {},
   "source": [
    " - byte_mng()\n",
    " - count_mng(alphabet_in=None, counts_in=None, new_mode=2)\n",
    " - arith_code_mng(counts_mngr, bits_store) -- requires an instance of both of the above classes"
   ]
  },
  {
   "cell_type": "code",
   "execution_count": 11,
   "id": "aa125e69",
   "metadata": {},
   "outputs": [],
   "source": [
    "# - store bits and bytes, take bits and add it to the byte list (input array of bools, update encoding)\n",
    "class byte_mng:\n",
    "    def __init__(self):\n",
    "        self.byte_store = [0] # here I am filling the bytes, should be integers from 0 to 255\n",
    "        self.bit_count = 0    # this is the number of bits in byte_store which are full; ensures that I don't overfill bytes and send them to the string when ready\n",
    "        self.j = 0            # counts the length of byte_store\n",
    "        \n",
    "    def load_bits(self, bits, lngth):\n",
    "        # the old bits are already shifted appropriately\n",
    "        jj = self.byte_store[self.j]\n",
    "        \n",
    "        # bit shift new bits\n",
    "        if self.bit_count < (8 - lngth): \n",
    "            ii = bits << (8 - lngth - self.bit_count)\n",
    "        elif self.bit_count == (8 - lngth):\n",
    "            ii = bits\n",
    "        else:\n",
    "            ii = bits >> (self.bit_count - 8 + lngth) # The excess will go off the end. I will encode them later.\n",
    "\n",
    "        #print(lngth, self.bit_count, jj, ii)\n",
    "        # bitwise or is the same as + in this case\n",
    "        self.byte_store[self.j] = jj | ii\n",
    "        used_bits = 8 - self.bit_count     # for when bit_count + lngth > 7\n",
    "        self.bit_count += lngth\n",
    "\n",
    "        bits_n = bits\n",
    "        lngth_n = lngth\n",
    "\n",
    "        #print(lngth, self.bit_count, jj, ii)\n",
    "        # now, to work on the next byte\n",
    "        while self.bit_count > 7:\n",
    "            #print('here')\n",
    "            self.j += 1\n",
    "            self.bit_count -=8\n",
    "            \n",
    "            # we now need to take only the right most bit_count bits and put it in ii\n",
    "            lngth_n -= used_bits\n",
    "            bits_n = bits_n % (2**lngth_n) # removes the used bits\n",
    "            if self.bit_count < 8:\n",
    "                ii = (bits_n << 8 - lngth_n)%256\n",
    "            else:\n",
    "                ii = bits_n >> (lngth_n - 8)\n",
    "                used_bits = 8\n",
    "                \n",
    "            self.byte_store.append(ii)\n",
    "\n",
    "    # now for the code for ternary code\n",
    "    def load_ternary(self, num):\n",
    "        # 00, 01, 10, 11\n",
    "        # leading will be 1 or 0\n",
    "\n",
    "        # number of digits for base 3 representation\n",
    "        n = 0\n",
    "        x = num\n",
    "        while x >= 1:\n",
    "            x = x / 3\n",
    "            n += 1\n",
    "        n2 = n\n",
    "\n",
    "        # start with the leading bit\n",
    "        # there are two variants only: 1 or 2\n",
    "        n = n-1\n",
    "        x = num // 3**n\n",
    "        y = num % 3**n\n",
    "\n",
    "        #print(x,y, x-1)\n",
    "        self.load_bits(x-1,1) # 1 for 2 and 0 for 1\n",
    "        \n",
    "        # repeat for the rest of the digits\n",
    "        for i in range(n2-1):\n",
    "            n = n-1\n",
    "            x = y // 3**n\n",
    "            y = y % 3**n\n",
    "            #print(x,y,1+x)\n",
    "            self.load_bits(1+x,2) # 01 = 0, 10 = 1, 11 = 2\n",
    "\n",
    "        # and load the end of number code\n",
    "        self.load_bits(0,2)\n",
    "            \n",
    "    def save_bits(self, filename):\n",
    "        self.byte_encode = bytearray(self.byte_store)\n",
    "        with open(filename, \"wb\") as f:\n",
    "            f.write(self.byte_encode)"
   ]
  },
  {
   "cell_type": "code",
   "execution_count": 194,
   "id": "c2349f9b",
   "metadata": {},
   "outputs": [],
   "source": [
    "class count_mng:\n",
    "    # defines three modes \n",
    "    # 0 means static counts,\n",
    "    # 1 means dynamic, fixed alphabet\n",
    "    # 2 means dynamic alphabet\n",
    "    # new_mode defines the count of the letter 'new' in the dynamic alphabet\n",
    "    def __init__(self,alphabet_in=None, counts_in=None, new_mode=2):\n",
    "        self.mode = 0\n",
    "        if alphabet_in == None:\n",
    "            self.mode = 2\n",
    "            self.alphabet = []\n",
    "            self.counts = []\n",
    "        elif counts_in == None:\n",
    "            self.mode = 1\n",
    "            self.alphabet = alphabet_in\n",
    "            self.counts = [1]*len(alphabet_in)\n",
    "        else:\n",
    "            self.mode = 0\n",
    "            self.alphabet = alphabet_in\n",
    "            self.counts = counts_in\n",
    "        self.new_mode = new_mode\n",
    "\n",
    "    def get_counts(self, char):\n",
    "        num_char = self.find_num_char(char)\n",
    "        if self.mode == 0: return self.get_counts_0(num_char)\n",
    "        elif self.mode == 1: return self.get_counts_1(num_char)\n",
    "        else: return self.get_counts_2(num_char, char)\n",
    "\n",
    "    def get_counts_0(self,num_char):\n",
    "        return [sum(self.counts[:num_char]), self.counts[num_char], sum(self.counts[num_char+1:])]\n",
    "    \n",
    "    def get_counts_1(self,num_char):\n",
    "        countret = [sum(self.counts[:num_char]), self.counts[num_char], sum(self.counts[num_char+1:])]\n",
    "        self.counts[num_char] += 1\n",
    "        return [countret[0], countret[1], countret[2]]\n",
    "    \n",
    "    # this is the most complicated case\n",
    "    # I need to find the structure here and add it\n",
    "    def get_counts_2(self,num_char, char):\n",
    "        if num_char < len(self.alphabet):\n",
    "            if self.counts[num_char] == 0:\n",
    "                countret = [sum(self.counts), self.get_count_new(), 0]\n",
    "            else:\n",
    "                countret = [sum(self.counts[:num_char]), self.counts[num_char], sum(self.counts[num_char+1:])+self.get_count_new()]\n",
    "            self.counts[num_char] += 1\n",
    "            return [countret[0], countret[1], countret[2]]\n",
    "        else:\n",
    "            countret = [sum(self.counts), self.get_count_new()]\n",
    "            self.add_new_count(char)\n",
    "            return [countret[0], countret[1], 0]\n",
    "        \n",
    "    # both of the following are for dynamic alphabets\n",
    "    def get_count_new(self):\n",
    "        modes = [1, \n",
    "                 max(1,len(self.alphabet)), \n",
    "                 max(1,len(self.alphabet)), \n",
    "                 max(1.0, len(self.alphabet)/2)]\n",
    "        return modes[self.new_mode]\n",
    "    \n",
    "    def add_new_count(self, char):\n",
    "        self.alphabet.append(char)\n",
    "        modes = [1,\n",
    "                 0,\n",
    "                 1,\n",
    "                 0.5]\n",
    "        self.counts.append(modes[self.new_mode])\n",
    "\n",
    "    # this will need to return the corresponding index in the alphabet for the number\n",
    "    # in the case of mode == 2, I need to return len(alphabet) for char not in alphabet\n",
    "    def find_num_char(self, char):\n",
    "        if self.mode == 2 and char not in self.alphabet:\n",
    "            return len(self.alphabet)\n",
    "        else:\n",
    "            return self.alphabet.index(char)"
   ]
  },
  {
   "cell_type": "code",
   "execution_count": 178,
   "id": "77d718fe",
   "metadata": {},
   "outputs": [],
   "source": [
    "# - keep track of and update l, h, bits\n",
    "# {l_old, h_old, bits_old -> a, b -> h-l+1, h-l+1 / 2^n -> a+ term, b+ term -> l, \n",
    "#  h -> bin l, bin h -> enc update -> new bin l, new bin h, bits_new -> new l, new h}\n",
    "class arith_code_mng:\n",
    "    def __init__(self, counts_mngr, bits_store):\n",
    "        # window size\n",
    "        self.N = 40\n",
    "        self.win_size = 2**self.N\n",
    "\n",
    "        # left and right borders\n",
    "        # I know I don't need so many, but it should be fine right now\n",
    "        self.l = 0\n",
    "        self.h = self.win_size - 1\n",
    "        self.bits = 0\n",
    "        self.lo = 0\n",
    "        self.ho = self.win_size - 1\n",
    "        self.ln = 0\n",
    "        self.hn = self.win_size - 1\n",
    "\n",
    "        #counts\n",
    "        self.find_counts = counts_mngr\n",
    "\n",
    "        # encoding\n",
    "        self.byte_encode = bits_store\n",
    "\n",
    "        self.duration_static = 0\n",
    "\n",
    "    def find_probs(self, counts):\n",
    "        den = float(counts[0]+counts[1]+counts[2])\n",
    "        num1 = float(counts[0])\n",
    "        num2 = float(counts[0]+counts[1])\n",
    "        lb_fl = num1 / den\n",
    "        rb_fl = num2 / den\n",
    "        lb = math.ceil(lb_fl * self.win_size)\n",
    "        rb = math.ceil(rb_fl * self.win_size) - 1\n",
    "        return lb, rb\n",
    "\n",
    "    def add_character(self, char):\n",
    "        counts = self.find_counts.get_counts(char)\n",
    "        a,b = self.find_probs(counts)\n",
    "\n",
    "        #print(\"ch: \", char, \"a,b: \", format(a, '032b'), format(b, '032b'))\n",
    "        \n",
    "        hl1_N = float(self.ho-self.lo+1) / float(self.win_size)\n",
    "        a_pl = math.ceil(hl1_N * a)\n",
    "        b_pl = math.ceil(hl1_N * (b + 1)) - 1\n",
    "\n",
    "        #print(format(self.window, '032b'))\n",
    "\n",
    "        self.l = self.lo + a_pl\n",
    "        self.h = self.lo + b_pl\n",
    "\n",
    "        #print(\"ch: \", char, \"l,h:\", format(self.l, '032b'), format(self.h, '032b'))\n",
    "\n",
    "        #print(\"new l, h: \", float(self.h-self.l))\n",
    "        enc_n, bit_n = self.encode() # loads bits into the bit array and records how many bits need to be removed from l and h\n",
    "        self.new_lh(enc_n, bit_n) # removes bits from l and h\n",
    "        #print(\"remove: \", float(self.hn-self.ln), enc_n, bit_n)\n",
    "\n",
    "        # updates for the next run\n",
    "        self.lo = self.ln\n",
    "        self.ho = self.hn\n",
    "\n",
    "    # This appears to work properly.\n",
    "    # This loads the bits into the array and updates bits, but so far doesn't update l and h\n",
    "    def encode(self):\n",
    "        l = self.l\n",
    "        h = self.h\n",
    "\n",
    "        nbitload = 0\n",
    "        nbits = 0\n",
    "\n",
    "        #print(self.h-self.l)\n",
    "        # both l and h are N bits long\n",
    "        x = self.win_size\n",
    "        #print(l / x, h / x)\n",
    "\n",
    "        lb = 0\n",
    "        hb = 0\n",
    "        \n",
    "        for i in range(self.N):\n",
    "            #print(\"bits:\", i, lb,hb, l/x, h/x)\n",
    "            x = x // 2\n",
    "            lb = l // x\n",
    "            l = l % x\n",
    "            hb = h // x\n",
    "            h = h % x\n",
    "            #print(\"bits:\", i, lb,hb, l/x, h/x, self.bits)\n",
    "            if lb == hb:\n",
    "                self.byte_encode.load_bits(lb, 1)\n",
    "                while self.bits > 0:\n",
    "                    self.byte_encode.load_bits(not(lb),1)\n",
    "                    self.bits -= 1\n",
    "                nbitload += 1\n",
    "            else:\n",
    "                #print(i)\n",
    "                break\n",
    "\n",
    "        # the final 0s in the file\n",
    "        if nbitload == 0:\n",
    "            self.duration_static += 1\n",
    "        else:\n",
    "            self.duration_static = 0\n",
    "\n",
    "        # widening the window\n",
    "        # print(l / x, h / x)\n",
    "        for i in range(self.N - nbitload - 1):\n",
    "            x = x // 2\n",
    "            lb = l // x\n",
    "            l = l % x\n",
    "            hb = h // x\n",
    "            h = h % x\n",
    "            if lb == 1 and hb == 0:\n",
    "                nbits += 1\n",
    "                self.bits += 1\n",
    "            else:\n",
    "                break\n",
    "\n",
    "        #print(self.h-self.l, nbitload, nbits)\n",
    "        return nbitload,nbits\n",
    "\n",
    "    # again, I need to check this and check the logic\n",
    "    def new_lh(self, nbitload, nbits):\n",
    "        # removing bits\n",
    "        self.ln = (self.l << nbitload) % self.win_size\n",
    "        self.hn = (self.h << nbitload) % self.win_size\n",
    "        self.hn = self.hn | (2**nbitload - 1) # fill the end with 1s, not 0s\n",
    "\n",
    "        # widening of the window\n",
    "        if nbits > 0:\n",
    "            l_fb = (self.ln // 2**(self.N-1)) << (self.N-1)\n",
    "            h_fb = (self.hn // 2**(self.N-1)) << (self.N-1)\n",
    "            self.ln = (self.ln % 2**(self.N-1-nbits)) << nbits\n",
    "            self.hn = (self.hn % 2**(self.N-1-nbits)) << nbits\n",
    "            self.hn = self.hn | (2**nbits - 1) # fill the end with 1s, not 0s\n",
    "            # and return the first bit to the array\n",
    "            self.ln = self.ln | l_fb\n",
    "            self.hn = self.hn | h_fb\n",
    "\n",
    "    # I need error-checking here to prevent using any routines if this has already been applied\n",
    "    def finalize(self):\n",
    "        self.byte_encode.load_bits(1,1) # this is always 1, because 00, 01, 11 are the only possibilities, and 00 and 11 will already be removed.\n",
    "        if self.duration_static > 0:\n",
    "            self.byte_encode.load_bits(0, self.duration_static) # how many final characters the fraction was unchanged\n",
    "            \n",
    "        # now to finalize the bytestream\n",
    "        a = 8 - self.byte_encode.bit_count\n",
    "        # the encoding is already correct unless a = 8\n",
    "        if a == 8:\n",
    "            a = 0\n",
    "            # remove the last zero byte\n",
    "            b = self.byte_encode.byte_store.pop()\n",
    "        return a\n",
    "    \n",
    "    # I am pretty sure that there is a more intelligent way to do this. But this is easiest and only 4 bytes (total, because called only once).\n",
    "    def partial_finalize(self):\n",
    "        self.byte_encode.load_bits(1,1) # this is always 1, because 00, 01, 11 are the only possibilities, and 00 and 11 will already be removed.\n",
    "        self.byte_encode.load_bits(0, self.N-1) # to the end of the window"
   ]
  },
  {
   "cell_type": "markdown",
   "id": "2cddd61b",
   "metadata": {},
   "source": [
    "# Final Numerical Encoding Variant\n",
    "\n",
    "This is my final encoding with fixed-length numerical encoding, removal of repeated information, and no other data compression. This encoding works for decoding the text, and has a size of 170 kB."
   ]
  },
  {
   "cell_type": "markdown",
   "id": "3a4b8b8e-7276-42b4-bea8-bfe2638cf392",
   "metadata": {},
   "source": [
    "New variant:\n",
    "\n",
    " - p1: {10, 22, 1, 1, 2, 1, 1, 1, 1, 1, 1, 1, 1, 1, 1, 1, 1, 1, 1, 2, 1, 2, 2, 5, 1, 3}\n",
    " - size: (bit size -> 7, 6, 6, 6, {5}, 5, ..., 5, {4}, 4, 4, 4, 4, {2}, 2 or just all 7)\n",
    " - p2: {'ABC'} -- The first three characters of the document (index 0 - 60). \n",
    " - p3: {c2_non0\\[1\\]\\[0\\]+1, c2_non0\\[1\\]\\[1:\\]- c2_non0\\[1\\]\\[0:-1\\]} -- Add 61 to all non-positive.\n",
    " - x = 61\n",
    " - p4: {c3n_non0\\[1\\]\\[0\\]+1, c3n_non0\\[1\\]\\[1:\\]- c3n_non0\\[1\\]\\[0:-1\\]} -- Add 61 to all non-positive.\n",
    " - y = 61\n",
    " - p5: {c4_non0\\[1\\]\\[0\\]+1, c4_non0\\[1\\]\\[1:\\]- c4_non0\\[1\\]\\[0:-1\\]} -- Add 61 to all non-positive character spacings. Counts are only important here, as the old counts can be calculated from these counts and the first 3 characters.\n",
    " - z = 61, to indicate end of file \n",
    " - w = (bin(max(count4)) - 2) = number of bits in max count - ternary encoding\n",
    " - count4\n",
    "\n",
    "Indicies encoded 0-60 (straight) 61 indicates need to increment the first index only if not obvious."
   ]
  },
  {
   "cell_type": "code",
   "execution_count": 128,
   "id": "31407dca-1885-421f-a66b-35f50420edb7",
   "metadata": {},
   "outputs": [],
   "source": [
    "def np2D_to_list1D(arr, mng_arr, m_ind = 0):\n",
    "    out_arr = [arr[0]]\n",
    "    max_ind = max(max(arr) + 1, m_ind) # so that giving this value is also allowed\n",
    "\n",
    "    for i in range(1,len(arr)):\n",
    "        # this is my exception, when the increase is not obvious\n",
    "        # first condition -- that the old array increments, \n",
    "        # second condition, that the new index is greater than the previous, which won't increment the first normally\n",
    "        if (mng_arr[i] != mng_arr[i-1]) and (arr[i] > arr[i-1]):\n",
    "            out_arr.append(max_ind)\n",
    "        out_arr.append(arr[i])\n",
    "\n",
    "        # small bit of error-checking\n",
    "        if (mng_arr[i] != mng_arr[i-1]) and (mng_arr[i] != (mng_arr[i-1] + 1)):\n",
    "            print('error: ', i, ', ', mng_arr[i], ', ', mng_arr[i-1])\n",
    "\n",
    "    return out_arr"
   ]
  },
  {
   "cell_type": "raw",
   "id": "583e25e0-29a8-4434-9eb7-43fd344ea6c4",
   "metadata": {
    "vscode": {
     "languageId": "raw"
    }
   },
   "source": [
    "# old, unencoded version\n",
    "# length = 170 kB\n",
    "# can decode text\n",
    "counts_enc = byte_mng()\n",
    "\n",
    "# p1\n",
    "# 0 means ending the array\n",
    "sim_arr = [10, 22, 1, 1, 2, 1, 1, 1, 1, 1, 1, 1, 1, 1, 1, 1, 1, 1, 1, 2, 1, 2, 2, 5, 1, 0]\n",
    "# - size: (bit size -> 7, 6, 6, 6, {5}, 5, ..., 5, {4}, 4, 4, 4, 4, {2}, 2 or just all 7)\n",
    "# should be calculated automatically:  calc_sim_size(sim)\n",
    "size_sim_arr = [7, 6, 6, 6, 5, 5, 5, 5, 5, 5, 5, 5, 5, 5, 5, 5, 5, 5, 5, 4, 4, 4, 4, 4, 2, 2]\n",
    "\n",
    "for i in range(len(sim_arr)):\n",
    "    counts_enc.load_bits(sim_arr[i], size_sim_arr[i])\n",
    "\n",
    "# p2: {'ABC'} -- The first three characters of the document (index 0 - 60). \n",
    "f3_num = [ch.index(text[0]), ch.index(text[1]), ch.index(text[2])]\n",
    "for i in f3_num:\n",
    "    counts_enc.load_bits(i, 6)\n",
    "\n",
    "print('p2: ', len(f3_num), len(counts_enc.byte_store))\n",
    "\n",
    "# p3_arr = c2_non0[1][:], add 61 for unclear boundaries\n",
    "p3_arr = np2D_to_list1D(c2_non0[1][:], c2_non0[0][:], 61)\n",
    "for i in p3_arr:\n",
    "    counts_enc.load_bits(i, 6)\n",
    "\n",
    "counts_enc.load_bits(61, 6)\n",
    "\n",
    "print('p3: ', len(p3_arr), len(counts_enc.byte_store))\n",
    "\n",
    "# p4_arr = c3n_non0[1][:], add 61 for unclear boundaries\n",
    "p4_arr = np2D_to_list1D(c3n_non0[1][:], c3n_non0[0][:], 61)\n",
    "for i in p4_arr:\n",
    "    counts_enc.load_bits(i, 6)\n",
    "\n",
    "counts_enc.load_bits(61, 6)\n",
    "\n",
    "print('p4: ', len(p4_arr), len(counts_enc.byte_store))\n",
    "\n",
    "# p5_arr = c4_non0[1][:], add 61 for unclear boundaries\n",
    "p5_arr = np2D_to_list1D(c4_non0[1][:], c4_non0[0][:], 61)\n",
    "for i in p5_arr:\n",
    "    counts_enc.load_bits(i, 6)\n",
    "\n",
    "counts_enc.load_bits(61, 6)\n",
    "\n",
    "print('p5: ', len(p5_arr), len(counts_enc.byte_store))\n",
    "\n",
    "# - w = (bin(max(count4)) - 2) = number of bits in max count - ternary encoding\n",
    "w = len(bin(np.max(count4))) - 2 # 2 characters are for the indication of being a binary number\n",
    "counts_enc.load_ternary(w)\n",
    "\n",
    "print('w = ', w) # I believe this is 16 here\n",
    "\n",
    "# - count4\n",
    "for i in c4_arr:\n",
    "    counts_enc.load_bits(i, w)\n",
    "\n",
    "print('p6: ', len(c4_arr), len(counts_enc.byte_store))\n",
    "\n",
    "# remove the trailing null byte if it exists\n",
    "\n",
    "#counts_enc.save_bits('count_enc_test')"
   ]
  },
  {
   "cell_type": "markdown",
   "id": "6824c366",
   "metadata": {},
   "source": [
    "We will now load the alphabet into the byte stream. The encoding is simple, with a known byte width based on the remaining number of potential characters. It decodes properly. This leads us into arithmetic encoding with a known alphabet and a byte stream which has already been initialized."
   ]
  },
  {
   "cell_type": "code",
   "execution_count": 232,
   "id": "3789b861",
   "metadata": {},
   "outputs": [],
   "source": [
    "counts_enc = byte_mng()\n",
    "\n",
    "# p1\n",
    "# 0 means ending the array\n",
    "sim_arr = [10, 22, 1, 1, 2, 1, 1, 1, 1, 1, 1, 1, 1, 1, 1, 1, 1, 1, 1, 2, 1, 2, 2, 5, 1, 0]\n",
    "# - size: (bit size -> 7, 6, 6, 6, {5}, 5, ..., 5, {4}, 4, 4, 4, 4, {2}, 2 or just all 7)\n",
    "# should be calculated automatically:  calc_sim_size(sim)\n",
    "size_sim_arr = [7, 6, 6, 6, 5, 5, 5, 5, 5, 5, 5, 5, 5, 5, 5, 5, 5, 5, 5, 4, 4, 4, 4, 4, 2, 2]\n",
    "\n",
    "for i in range(len(sim_arr)):\n",
    "    counts_enc.load_bits(sim_arr[i], size_sim_arr[i])"
   ]
  },
  {
   "cell_type": "code",
   "execution_count": 233,
   "id": "c9131f43-04bc-4d13-a439-569fc5f5e441",
   "metadata": {},
   "outputs": [
    {
     "name": "stdout",
     "output_type": "stream",
     "text": [
      "64 4\n"
     ]
    }
   ],
   "source": [
    "print(counts_enc.byte_store[-1], counts_enc.bit_count) # also fine; but need to add functionality in future"
   ]
  },
  {
   "cell_type": "markdown",
   "id": "17d32e89",
   "metadata": {},
   "source": [
    "# Arithmetic Encoding of Machines"
   ]
  },
  {
   "cell_type": "markdown",
   "id": "d6936f00",
   "metadata": {},
   "source": [
    "p2 to p5 have a fixed alphabet encription of length 62 (0 to 61). The removal from arithmetic encoding is identical to the case without any encription. 4 bytes are \"removed\" from the byte stream while decrypting, but can be returned after the end of the file is reached. This means that I can just load charaters into an encoder. End of text is noted like in the unencrypted case, by measuring known byte lengths. I can add 0s to the end, but it shouldn't even be necessary, as excess bits on the end of any type don't change the decoding, and I know they are for the next encoding."
   ]
  },
  {
   "cell_type": "markdown",
   "id": "125881ef",
   "metadata": {},
   "source": [
    "2) p2: {'ABC'} -- The first three characters of the document (index 0 - 60). \n",
    "3) p3_arr = c2_non0[1][:], add 61 for unclear boundaries\n",
    "4) p4_arr = c3n_non0[1][:], add 61 for unclear boundaries\n",
    "5) p5_arr = c4_non0[1][:], add 61 for unclear boundaries"
   ]
  },
  {
   "cell_type": "code",
   "execution_count": 234,
   "id": "94f51071",
   "metadata": {},
   "outputs": [],
   "source": [
    "# set up the alphabet\n",
    "array_nums = [i for i in range(len(ch)+1)]\n",
    "counts_dynamic_static = count_mng(alphabet_in=array_nums)\n",
    "enc_mng_ds = arith_code_mng(counts_mngr=counts_dynamic_static, bits_store=counts_enc)"
   ]
  },
  {
   "cell_type": "code",
   "execution_count": null,
   "id": "d5ce8a40",
   "metadata": {},
   "outputs": [
    {
     "name": "stdout",
     "output_type": "stream",
     "text": [
      "p2:  3 5 23\n"
     ]
    }
   ],
   "source": [
    "#p2\n",
    "f3_num = [ch.index(text[0]), ch.index(text[1]), ch.index(text[2])]\n",
    "for i in f3_num:\n",
    "    enc_mng_ds.add_character(i)\n",
    "\n",
    "print('p2: ', len(f3_num),counts_enc.bit_count, len(counts_enc.byte_store)+4)"
   ]
  },
  {
   "cell_type": "code",
   "execution_count": 236,
   "id": "21665911",
   "metadata": {},
   "outputs": [
    {
     "name": "stdout",
     "output_type": "stream",
     "text": [
      "p3:  1429 7 1051\n"
     ]
    }
   ],
   "source": [
    "#p3\n",
    "p3_arr = np2D_to_list1D(c2_non0[1][:], c2_non0[0][:], 61)\n",
    "for i in p3_arr:\n",
    "    enc_mng_ds.add_character(i)\n",
    "enc_mng_ds.add_character(61)\n",
    "\n",
    "print('p3: ', len(p3_arr), counts_enc.bit_count, len(counts_enc.byte_store)+4)"
   ]
  },
  {
   "cell_type": "code",
   "execution_count": 237,
   "id": "0e091e73",
   "metadata": {},
   "outputs": [
    {
     "name": "stdout",
     "output_type": "stream",
     "text": [
      "p4:  12848 3 9583\n"
     ]
    }
   ],
   "source": [
    "#p4\n",
    "p4_arr = np2D_to_list1D(c3n_non0[1][:], c3n_non0[0][:], 61)\n",
    "for i in p4_arr:\n",
    "    enc_mng_ds.add_character(i)\n",
    "enc_mng_ds.add_character(61)\n",
    "\n",
    "print('p4: ', len(p4_arr), counts_enc.bit_count, len(counts_enc.byte_store))"
   ]
  },
  {
   "cell_type": "raw",
   "id": "560dc40c",
   "metadata": {
    "vscode": {
     "languageId": "raw"
    }
   },
   "source": [
    "np.savetxt('test.out', c3n_non0[1][:])"
   ]
  },
  {
   "cell_type": "code",
   "execution_count": 238,
   "id": "185855a5",
   "metadata": {},
   "outputs": [
    {
     "name": "stdout",
     "output_type": "stream",
     "text": [
      "p5:  61366 6 48640\n"
     ]
    }
   ],
   "source": [
    "#p5\n",
    "p5_arr = np2D_to_list1D(c4_non0[1][:], c4_non0[0][:], 61)\n",
    "for i in p5_arr:\n",
    "    enc_mng_ds.add_character(i)\n",
    "enc_mng_ds.add_character(61)\n",
    "\n",
    "print('p5: ', len(p5_arr), counts_enc.bit_count, len(counts_enc.byte_store))"
   ]
  },
  {
   "cell_type": "raw",
   "id": "95f804e4",
   "metadata": {
    "vscode": {
     "languageId": "raw"
    }
   },
   "source": [
    "np.savetxt('test.out', c4_non0[1][:])"
   ]
  },
  {
   "cell_type": "code",
   "execution_count": 239,
   "id": "94f81264",
   "metadata": {},
   "outputs": [],
   "source": [
    "# end of first arithmetic encoding\n",
    "enc_mng_ds.partial_finalize()"
   ]
  },
  {
   "cell_type": "markdown",
   "id": "d0572d45",
   "metadata": {},
   "source": [
    "Now we go to the counts. We know how many characters (numbers). We no longer need the max length as each count is encoded as a seperate character."
   ]
  },
  {
   "cell_type": "code",
   "execution_count": 240,
   "id": "9677ae1f",
   "metadata": {},
   "outputs": [],
   "source": [
    "counts_dynamic = count_mng()\n",
    "enc_mng_d = arith_code_mng(counts_mngr=counts_dynamic, bits_store=counts_enc)"
   ]
  },
  {
   "cell_type": "code",
   "execution_count": 241,
   "id": "b3b1ccd6",
   "metadata": {},
   "outputs": [
    {
     "name": "stdout",
     "output_type": "stream",
     "text": [
      "p6:  59088 3 88076\n"
     ]
    }
   ],
   "source": [
    "for i in c4_arr:\n",
    "    enc_mng_d.add_character(i)\n",
    "\n",
    "print('p6: ', len(c4_arr),counts_enc.bit_count, len(counts_enc.byte_store))"
   ]
  },
  {
   "cell_type": "code",
   "execution_count": 243,
   "id": "6f17c271",
   "metadata": {},
   "outputs": [],
   "source": [
    "enc_mng_d.partial_finalize()"
   ]
  },
  {
   "cell_type": "raw",
   "id": "85c94128",
   "metadata": {
    "vscode": {
     "languageId": "raw"
    }
   },
   "source": [
    "counts_enc.byte_store[88080]"
   ]
  },
  {
   "cell_type": "code",
   "execution_count": null,
   "id": "657d5ed8",
   "metadata": {},
   "outputs": [],
   "source": [
    "for i in range(len(counts_dynamic.alphabet)):\n",
    "    counts_enc.load_ternary(counts_dynamic.alphabet[i])\n",
    "    print(counts_dynamic.alphabet[i], counts_enc.bit_count, len(counts_enc.byte_store), counts_enc.byte_store[-1])"
   ]
  },
  {
   "cell_type": "code",
   "execution_count": 177,
   "id": "e888140b",
   "metadata": {},
   "outputs": [
    {
     "name": "stdout",
     "output_type": "stream",
     "text": [
      "[1406, 5014, 1068, 1283, 4, 11, 12, 1590, 16, 87, 779, 7, 1781, 1701, 2876, 106, 171, 180, 175, 131, 116, 110, 119, 86, 71, 78, 318, 285, 4, 7, 1408, 32, 45, 4026, 1400, 1835, 1781, 4110, 1335, 1555, 2112, 3817, 463, 1041, 2700, 1855, 2616, 3519, 1483, 421, 2961, 3174, 2764, 2530, 864, 1370, 296, 1743, 422, 4, 4, 2433]\n",
      "1476 [4, 1, 3, 8, 5, 6, 18, 24, 17, 7, 2, 32, 98, 71, 1066, 336, 276, 441, 151, 180, 221, 791, 2179, 78, 134, 169, 371, 876, 706, 281, 443, 718, 1316, 234, 30, 1305, 1213, 1072, 25, 49, 10, 40, 12, 9, 11, 13, 14, 16, 248, 23, 19, 54, 95, 279, 34, 178, 20, 184, 26, 51, 48, 22, 147, 45, 84, 82, 15, 35, 42, 41, 57, 1033, 160, 46, 44, 43, 2247, 224, 31, 53, 29, 105, 27, 201, 213, 185, 159, 106, 263, 165, 64, 37, 36, 68, 368, 156, 775, 58, 59, 87, 1186, 52, 290, 269, 188, 86, 141, 124, 326, 128, 33, 96, 99, 21, 116, 245, 62, 102, 350, 39, 192, 1017, 396, 65, 166, 107, 327, 92, 776, 73, 297, 55, 80, 61, 176, 187, 115, 76, 278, 56, 1160, 38, 114, 100, 393, 679, 85, 536, 647, 60, 63, 81, 50, 144, 47, 79, 841, 117, 140, 139, 417, 240, 146, 161, 197, 286, 720, 69, 122, 962, 204, 191, 28, 67, 154, 644, 254, 74, 177, 157, 575, 231, 471, 138, 369, 170, 1525, 1491, 586, 1077, 898, 493, 93, 70, 1698, 1810, 430, 1277, 707, 2226, 691, 230, 627, 237, 650, 2803, 91, 577, 262, 1318, 214, 155, 764, 1042, 152, 158, 94, 573, 264, 256, 1763, 292, 553, 296, 402, 1867, 15677, 495, 2901, 212, 1260, 142, 183, 3403, 1391, 1501, 685, 654, 4606, 210, 569, 4327, 986, 167, 118, 955, 2119, 289, 132, 458, 662, 4083, 133, 477, 693, 1487, 1294, 535, 763, 633, 203, 329, 840, 261, 75, 66, 850, 622, 194, 119, 422, 112, 232, 200, 253, 437, 465, 714, 364, 345, 137, 5346, 1409, 108, 97, 312, 4236, 372, 392, 300, 101, 335, 375, 1344, 911, 209, 242, 361, 559, 862, 103, 529, 2836, 3805, 129, 530, 2704, 462, 229, 324, 110, 359, 268, 351, 243, 218, 308, 678, 548, 89, 331, 126, 226, 198, 842, 454, 193, 405, 2068, 611, 1216, 83, 2160, 1618, 3070, 508, 1460, 206, 283, 623, 244, 347, 466, 104, 172, 401, 171, 728, 127, 2230, 111, 513, 271, 1011, 377, 1127, 362, 540, 464, 1090, 445, 568, 321, 1375, 1224, 236, 552, 452, 651, 322, 225, 380, 6617, 676, 407, 3652, 459, 196, 238, 143, 646, 162, 2548, 1020, 460, 670, 233, 1301, 941, 1446, 77, 1043, 259, 716, 413, 235, 316, 1458, 356, 2193, 967, 773, 1331, 5078, 5191, 1433, 2507, 880, 5513, 266, 3708, 5331, 384, 1046, 257, 163, 360, 1502, 476, 247, 260, 760, 2423, 2241, 606, 631, 1328, 560, 457, 781, 397, 742, 2021, 1580, 190, 1923, 673, 2476, 957, 181, 149, 797, 3036, 113, 330, 252, 8114, 381, 365, 660, 2737, 5255, 867, 7226, 1684, 541, 1772, 388, 288, 208, 123, 90, 3035, 522, 88, 399, 333, 2748, 908, 1532, 295, 436, 291, 164, 2210, 945, 311, 488, 280, 616, 2553, 363, 927, 643, 3741, 217, 814, 603, 1526, 1214, 684, 343, 905, 704, 3158, 1346, 944, 153, 655, 787, 228, 1075, 1611, 189, 1170, 543, 1756, 410, 597, 1040, 338, 5776, 520, 175, 1272, 431, 652, 526, 1530, 403, 4842, 1253, 130, 13470, 1572, 168, 4764, 451, 2277, 878, 195, 1688, 1067, 125, 202, 1348, 983, 3160, 1514, 473, 227, 207, 1181, 303, 913, 1152, 220, 1577, 815, 273, 1105, 255, 1508, 566, 2608, 505, 109, 712, 479, 3264, 628, 136, 601, 1191, 1408, 150, 1997, 2062, 444, 131, 909, 179, 695, 186, 382, 587, 726, 215, 340, 827, 2401, 754, 447, 1207, 3256, 901, 2730, 306, 790, 528, 318, 591, 239, 874, 456, 500, 1283, 174, 3368, 1076, 645, 307, 1124, 274, 2779, 1482, 1059, 1481, 663, 250, 1868, 1770, 72, 293, 2026, 749, 328, 285, 948, 11638, 42912, 7243, 1822, 1718, 1422, 21975, 830, 579, 1257, 625, 1028, 1230, 837, 915, 319, 2458, 145, 873, 1431, 668, 148, 391, 1899, 414, 4307, 812, 282, 1113, 2811, 836, 774, 3039, 2531, 1623, 823, 1293, 5743, 426, 2446, 2434, 121, 383, 320, 11341, 951, 9689, 1107, 1555, 272, 682, 440, 996, 408, 120, 341, 246, 216, 918, 636, 223, 416, 1015, 1095, 1259, 1860, 1566, 574, 305, 314, 472, 539, 497, 309, 310, 999, 609, 612, 251, 891, 863, 1117, 1657, 1221, 2991, 3238, 135, 1615, 649, 199, 173, 698, 373, 358, 504, 2866, 879, 211, 635, 3481, 354, 398, 782, 182, 509, 277, 294, 455, 385, 1285, 786, 510, 1099, 219, 517, 567, 5381, 1381, 1101, 241, 267, 1320, 519, 222, 3982, 275, 732, 10710, 624, 751, 705, 659, 480, 2075, 743, 5364, 265, 721, 739, 390, 374, 638, 302, 325, 287, 355, 1708, 1136, 2711, 1896, 284, 2320, 865, 434, 959, 639, 715, 730, 819, 1053, 800, 607, 1393, 518, 483, 669, 2358, 1108, 323, 516, 332, 686, 594, 378, 2214, 734, 3644, 304, 1369, 353, 342, 475, 946, 580, 759, 900, 1252, 788, 412, 1279, 17485, 772, 2176, 376, 703, 576, 710, 1774, 1906, 1429, 379, 435, 249, 1085, 1096, 3235, 572, 596, 486, 681, 1503, 688, 746, 907, 1023, 758, 429, 1405, 386, 313, 780, 205, 690, 984, 1097, 1512, 2335, 463, 270, 1058, 2958, 1407, 640, 1274, 349, 507, 953, 801, 615, 1044, 2484, 619, 558, 851, 299, 912, 4905, 450, 490, 834, 583, 557, 499, 942, 2163, 337, 1086, 1368, 1313, 427, 339, 542, 1933, 395, 2714, 5167, 404, 626, 822, 3031, 1256, 482, 756, 406, 904, 489, 352, 700, 301, 584, 442, 769, 433, 549, 474, 1306, 453, 534, 394, 1080, 1854, 409, 1149, 590, 621, 970, 1159, 370, 1735, 461, 1103, 1200, 877, 1513, 792, 563, 1041, 778, 258, 571, 5430, 4094, 511, 503, 1092, 859, 389, 811, 1343, 816, 1082, 1945, 2257, 485, 600, 1696, 561, 491, 1475, 554, 2694, 711, 2927, 1336, 1816, 582, 2503, 1032, 1629, 618, 701, 1049, 1672, 869, 1164, 894, 1700, 1746, 856, 637, 1271, 2398, 1541, 1094, 1142, 1060, 789, 1435, 3553, 1493, 608, 672, 470, 860, 872, 2000, 1455, 803, 820, 994, 1413, 1325, 565, 1658, 7639, 4466, 2585, 1439, 989, 3396, 717, 438, 1374, 1112, 1561, 1758, 418, 752, 1534, 1258, 544, 689, 1070, 1667, 902, 496, 1247, 831, 4563, 602, 1168, 1183, 2822, 1353, 858, 964, 1228, 448, 833, 1128, 1178, 425, 1055, 804, 991, 1175, 387, 420, 357, 733, 546, 1110, 550, 919, 1787, 868, 667, 1291, 1073, 940, 570, 736, 3194, 1121, 954, 1643, 4066, 683, 532, 346, 1679, 419, 2078, 1052, 980, 950, 1037, 1527, 1123, 1352, 1248, 317, 593, 334, 1536, 2191, 961, 428, 657, 4977, 938, 848, 838, 4608, 1546, 1134, 3000, 468, 727, 533, 828, 766, 2845, 2708, 1130, 699, 315, 1902, 4277, 692, 929, 1327, 656, 713, 1985, 1268, 2017, 589, 992, 1120, 11256, 4831, 1833, 2134, 3111, 2008, 2297, 1938, 1141, 501, 2372, 1989, 1929, 3188, 4899, 2672, 2871, 1862, 1767, 498, 1244, 556, 1479, 3447, 6625, 5620, 2397, 2150, 432, 5166, 2533, 8013, 494, 1239, 1521, 1871, 777, 1802, 1974, 1184, 702, 1163, 1499, 687, 2963, 1138, 1083, 630, 1235, 629, 610, 1036, 889, 641, 762, 6424, 1019, 2565, 972, 1622, 671, 3151, 1365, 747, 24084, 1370, 2686, 1034, 2108, 3832, 982, 725, 1447, 771, 523, 613, 492, 1223, 1402, 449, 832, 738, 1310, 4946, 886, 1498, 367, 3165, 897, 914, 1276, 892, 1192, 481, 3022, 2738, 735, 795, 348, 400, 1047, 1702, 737, 1003, 344, 664, 947, 411, 1524, 2703, 722, 415, 977, 515, 642, 3213, 3764, 1143, 527, 366, 709, 675, 847, 753, 956, 578, 846, 1317, 1093, 478, 1448, 1226, 1241, 2863, 1329, 821, 592, 512, 1607, 439, 298, 1410, 1773, 484, 599, 985, 799, 783, 524, 6446, 1366, 1139, 9567, 2082, 1900, 694, 1520, 2904, 1150, 620, 4010, 757, 829, 1148, 1292, 3584, 924, 2232, 1890, 5872, 1436, 1722, 521, 2046, 4020, 1031, 731, 2337, 839, 2425, 487, 446, 895, 1522, 719, 805, 598, 3912, 952, 779, 4384, 1872, 870, 2086, 1189, 1377, 1270, 581, 2667, 3054, 1220, 3727, 969, 1002, 1668, 922, 1754, 2696, 1187, 1218, 910, 2430, 545, 741, 661, 740, 981, 3286, 5892, 2884, 3614, 5408, 2117, 993, 1634, 1683, 537, 604, 1211, 423, 853, 421, 1456, 1275, 813, 467, 3051, 1264, 469, 882, 2060, 1963, 793, 2590, 4392, 729, 2894, 2135, 666, 1071, 906, 2984, 2734, 665, 1225, 748, 1022, 887, 1079, 2199, 966, 2069, 1281, 824, 562, 1467, 1864, 1255, 4826, 2789, 937, 806, 1116, 845, 1177, 949, 3225, 1576, 1950, 1154, 2692, 3477, 677, 864, 1434, 1406, 1616, 1761, 585, 1165, 1169, 2047, 1682, 1219, 2218, 1459, 3704, 506, 1379, 933, 8287, 3208, 1834, 723, 1290, 1451, 3243, 1131, 1025, 1843, 849, 2523, 3616, 525, 1670, 1715, 10628, 32681, 2402, 2251, 6895, 3266, 7329, 3452, 5403, 871, 1666, 1904, 796, 1210, 1956, 1819, 1970, 4178, 617, 1063, 765, 4475, 1492, 2992, 2680, 2355, 1236, 1401, 2361, 1392, 809, 1185, 1823, 3578, 1383, 1282, 1001, 1308, 3817, 1599, 1284, 5783, 2497, 1005, 680, 1725, 514, 744, 7869, 2022, 653]\n",
      "[2603, 16878, 3838, 1091, 2014, 1552, 396, 235, 451, 1282, 6560, 236, 60, 85, 2, 4, 11, 8, 28, 28, 14, 3, 1, 64, 29, 29, 5, 4, 2, 9, 6, 2, 3, 9, 232, 2, 2, 2, 251, 117, 824, 178, 696, 889, 693, 588, 546, 456, 10, 296, 376, 116, 58, 6, 175, 25, 343, 22, 247, 99, 115, 305, 35, 159, 59, 59, 483, 191, 118, 134, 88, 2, 21, 133, 136, 147, 1, 17, 187, 103, 255, 54, 264, 20, 20, 18, 30, 52, 10, 37, 86, 175, 166, 89, 6, 34, 4, 102, 82, 62, 1, 96, 12, 13, 15, 60, 28, 36, 8, 31, 185, 56, 40, 326, 36, 15, 94, 59, 3, 167, 11, 2, 9, 98, 25, 51, 10, 42, 6, 70, 11, 105, 59, 115, 26, 20, 42, 70, 16, 85, 2, 132, 33, 43, 8, 2, 65, 6, 8, 72, 88, 62, 107, 28, 121, 73, 4, 41, 30, 29, 7, 14, 24, 26, 17, 13, 2, 73, 52, 1, 18, 21, 237, 75, 34, 7, 14, 59, 17, 25, 3, 8, 5, 32, 9, 25, 1, 1, 4, 2, 2, 7, 55, 82, 2, 1, 4, 2, 1, 1, 3, 10, 5, 16, 3, 2, 61, 2, 13, 2, 14, 27, 3, 1, 25, 21, 66, 7, 12, 11, 1, 12, 8, 10, 4, 2, 1, 3, 1, 9, 4, 22, 21, 1, 1, 1, 2, 3, 1, 19, 4, 1, 1, 17, 31, 1, 1, 13, 41, 4, 4, 1, 29, 3, 2, 1, 2, 6, 2, 4, 22, 13, 3, 14, 78, 80, 4, 6, 16, 47, 6, 39, 16, 29, 7, 4, 9, 3, 9, 8, 31, 1, 1, 46, 48, 6, 1, 6, 8, 9, 43, 4, 13, 2, 3, 19, 18, 10, 5, 3, 44, 4, 1, 1, 28, 5, 1, 5, 8, 10, 38, 13, 14, 8, 13, 17, 11, 5, 3, 49, 11, 27, 11, 15, 3, 5, 21, 9, 1, 5, 2, 54, 1, 3, 1, 4, 1, 15, 10, 4, 15, 7, 8, 39, 14, 10, 30, 3, 37, 1, 55, 5, 14, 1, 4, 1, 6, 7, 5, 1, 5, 4, 7, 3, 1, 14, 6, 5, 2, 11, 12, 5, 1, 3, 5, 1, 6, 18, 10, 29, 2, 25, 1, 2, 6, 2, 22, 4, 2, 1, 52, 2, 9, 3, 4, 12, 12, 1, 12, 1, 2, 3, 1, 1, 1, 1, 1, 3, 1, 17, 1, 1, 6, 1, 21, 30, 7, 2, 4, 18, 10, 1, 1, 1, 1, 2, 2, 4, 6, 4, 3, 4, 1, 1, 25, 1, 5, 1, 2, 19, 27, 1, 1, 43, 7, 16, 1, 9, 10, 3, 1, 1, 4, 1, 2, 4, 1, 8, 11, 13, 31, 53, 1, 5, 44, 9, 5, 2, 2, 1, 12, 6, 10, 14, 1, 1, 13, 4, 10, 5, 1, 5, 3, 1, 1, 11, 2, 3, 2, 2, 5, 5, 1, 4, 1, 1, 2, 28, 4, 1, 11, 3, 2, 24, 1, 5, 1, 4, 3, 2, 10, 1, 5, 19, 1, 5, 6, 4, 5, 7, 1, 1, 31, 1, 2, 26, 1, 8, 1, 3, 21, 1, 2, 24, 15, 1, 1, 1, 1, 2, 11, 24, 1, 9, 1, 1, 15, 2, 2, 9, 1, 13, 2, 2, 1, 6, 42, 3, 6, 1, 4, 38, 3, 1, 2, 27, 1, 1, 3, 37, 2, 21, 3, 20, 8, 7, 2, 17, 5, 5, 1, 2, 10, 2, 1, 2, 1, 10, 1, 4, 5, 4, 10, 2, 6, 5, 1, 13, 1, 2, 2, 7, 2, 13, 1, 1, 1, 1, 6, 14, 2, 1, 73, 8, 1, 2, 11, 6, 2, 1, 1, 1, 1, 1, 2, 1, 1, 5, 1, 3, 2, 3, 4, 1, 12, 1, 21, 4, 1, 3, 27, 9, 1, 8, 1, 4, 12, 1, 1, 4, 5, 1, 1, 1, 4, 1, 1, 4, 1, 1, 34, 9, 7, 1, 2, 1, 2, 2, 11, 3, 10, 4, 7, 41, 6, 14, 14, 2, 6, 16, 5, 2, 2, 2, 1, 2, 6, 15, 6, 4, 2, 5, 7, 7, 1, 9, 3, 16, 1, 1, 1, 2, 1, 1, 1, 32, 1, 2, 26, 21, 3, 5, 6, 3, 1, 3, 15, 2, 1, 5, 5, 1, 23, 5, 9, 7, 7, 8, 2, 3, 4, 1, 15, 8, 4, 1, 1, 1, 14, 16, 2, 4, 15, 1, 15, 1, 1, 3, 2, 3, 3, 4, 1, 3, 1, 8, 2, 2, 5, 5, 2, 5, 11, 13, 5, 1, 2, 1, 1, 10, 1, 3, 4, 1, 6, 3, 3, 2, 1, 3, 4, 1, 5, 2, 4, 1, 3, 8, 3, 6, 6, 4, 11, 1, 4, 1, 14, 1, 5, 10, 5, 1, 2, 2, 2, 2, 1, 6, 3, 1, 2, 1, 8, 2, 6, 3, 1, 1, 3, 6, 3, 16, 1, 1, 1, 2, 1, 2, 1, 2, 2, 1, 1, 2, 2, 3, 2, 6, 5, 2, 7, 4, 2, 1, 1, 1, 3, 14, 3, 1, 1, 2, 1, 4, 5, 1, 4, 3, 1, 1, 5, 6, 1, 13, 2, 1, 6, 3, 2, 1, 4, 5, 1, 1, 6, 1, 1, 2, 8, 3, 7, 1, 3, 1, 1, 4, 2, 2, 1, 1, 11, 3, 9, 3, 4, 3, 3, 8, 1, 4, 1, 7, 3, 6, 2, 3, 4, 4, 2, 1, 3, 1, 3, 2, 2, 2, 5, 1, 3, 1, 2, 2, 1, 1, 1, 1, 2, 13, 5, 1, 1, 2, 1, 1, 1, 9, 1, 2, 2, 2, 1, 2, 5, 3, 1, 2, 2, 1, 4, 1, 1, 1, 3, 1, 2, 1, 1, 1, 1, 1, 1, 1, 2, 3, 3, 1, 1, 1, 2, 1, 1, 1, 2, 1, 1, 1, 1, 1, 3, 1, 1, 9, 1, 2, 1, 1, 2, 3, 1, 2, 1, 4, 1, 1, 1, 2, 2, 3, 1, 3, 5, 1, 2, 1, 1, 5, 1, 2, 1, 1, 3, 2, 2, 1, 2, 1, 1, 1, 2, 2, 1, 1, 1, 1, 3, 1, 5, 1, 2, 2, 5, 2, 1, 1, 1, 3, 5, 6, 4, 3, 3, 1, 2, 1, 1, 4, 1, 1, 2, 3, 1, 2, 3, 1, 1, 1, 2, 2, 4, 1, 7, 1, 4, 2, 2, 1, 1, 2, 1, 1, 4, 2, 4, 3, 1, 2, 1, 2, 1, 2, 2, 2, 1, 1, 2, 1, 2, 1, 5, 1, 2, 1, 1, 1, 3, 6, 2, 1, 3, 1, 1, 2, 2, 2, 1, 2, 1, 1, 2, 1, 1, 2, 1, 1, 1, 2, 1, 1, 2, 1, 1, 1, 1, 1, 1, 1, 1, 2, 3, 1, 2, 1, 1, 1, 1, 1, 1, 5, 1, 1, 1, 2, 1, 1, 1, 1, 1, 2, 1, 3, 2, 1, 3, 1, 1, 1, 4, 2, 1, 2, 1, 2, 3, 1, 1, 3, 1, 1, 1, 3, 1, 1, 2, 1, 1, 1, 3, 1, 1, 1, 1, 2, 1, 2, 4, 2, 1, 1, 5, 2, 3, 1, 1, 1, 1, 5, 1, 1, 1, 2, 4, 1, 5, 1, 1, 1, 1, 8, 5, 1, 1, 4, 3, 6, 2, 2, 4, 1, 1, 1, 4, 1, 2, 1, 1, 1, 1, 4, 4, 3, 3, 1, 1, 1, 2, 1, 2, 1, 3, 1, 1, 1, 1, 1, 1, 1, 3, 1, 1, 3, 1, 1, 2, 1, 1, 2, 1, 3, 1, 1, 3, 1, 1, 2, 2, 1, 1, 4, 1, 1, 1, 1, 2, 2, 1, 1, 1, 1, 1, 1, 1, 3, 1, 1, 1, 2, 1, 1, 1, 2, 4, 1, 1, 1, 1, 3, 1, 1, 4, 1, 1, 1, 1, 1, 1, 1, 1, 1, 1, 1, 1, 1, 2, 3, 1, 1, 1, 1, 1, 1, 1, 1, 2, 1, 2, 1, 1, 1, 1, 1, 1, 1, 1, 1, 1, 2, 1, 1, 3, 1, 1, 1, 1, 2, 2, 1, 1, 2, 1, 1, 1, 1, 1, 1, 1, 1, 1, 1, 1, 1, 1, 1, 1, 1, 2, 1, 1, 1, 1, 1, 1, 2, 1, 2, 1, 1, 2, 1, 1, 1, 1, 1, 1, 1, 3, 1, 2, 1, 2, 1, 1, 1, 1, 1, 1, 1, 1, 3, 2, 1, 1, 1, 1, 1, 1, 1, 1, 1, 1, 1, 1, 1, 1, 1, 1, 1, 1, 1, 1, 1, 1, 1, 1, 1, 2, 1, 1, 1, 1, 1, 1, 1, 1, 1, 2, 1, 1, 1, 1, 1, 1, 1, 1, 1, 1, 1, 1, 1, 1, 1, 1, 1, 1, 1, 1, 1, 1, 1, 1, 1, 1, 1, 2, 1, 1, 1, 1, 1, 1, 1, 1, 1, 1, 1, 1, 1]\n"
     ]
    }
   ],
   "source": [
    "print(counts_dynamic_static.counts)\n",
    "print(len(counts_dynamic.alphabet), counts_dynamic.alphabet)\n",
    "print(counts_dynamic.counts)"
   ]
  },
  {
   "cell_type": "code",
   "execution_count": 191,
   "id": "7a55867f",
   "metadata": {},
   "outputs": [],
   "source": [
    "#whitespace2 = enc_mng_d.finalize() # remove the trailing null byte if it exists\n",
    "counts_enc.save_bits('count_enc_test')"
   ]
  },
  {
   "cell_type": "code",
   "execution_count": 246,
   "id": "71194c2d",
   "metadata": {},
   "outputs": [
    {
     "data": {
      "text/plain": [
       "90640"
      ]
     },
     "execution_count": 246,
     "metadata": {},
     "output_type": "execute_result"
    }
   ],
   "source": [
    "len(counts_enc.byte_store)"
   ]
  },
  {
   "cell_type": "markdown",
   "id": "b307ca30",
   "metadata": {},
   "source": [
    "size is now 89 kB"
   ]
  }
 ],
 "metadata": {
  "kernelspec": {
   "display_name": "base",
   "language": "python",
   "name": "python3"
  },
  "language_info": {
   "codemirror_mode": {
    "name": "ipython",
    "version": 3
   },
   "file_extension": ".py",
   "mimetype": "text/x-python",
   "name": "python",
   "nbconvert_exporter": "python",
   "pygments_lexer": "ipython3",
   "version": "3.12.9"
  }
 },
 "nbformat": 4,
 "nbformat_minor": 5
}
