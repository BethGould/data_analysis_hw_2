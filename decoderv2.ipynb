{
 "cells": [
  {
   "cell_type": "markdown",
   "id": "32fd9cdb-0605-4a74-9700-ac40e41deba8",
   "metadata": {
    "jp-MarkdownHeadingCollapsed": true
   },
   "source": [
    "# Counts "
   ]
  },
  {
   "cell_type": "code",
   "execution_count": 1,
   "id": "67522c01-05ac-4a3a-b2df-e3a0a4975010",
   "metadata": {},
   "outputs": [],
   "source": [
    "# libraries\n",
    "import string\n",
    "import encode"
   ]
  },
  {
   "cell_type": "code",
   "execution_count": 2,
   "id": "117daf47-f381-47cb-aaa0-58c75996bba8",
   "metadata": {},
   "outputs": [],
   "source": [
    "# I currently need to load three separate binary files, but they will be unified\n",
    "# The order is as follows: a) encoding info and counts, b) capitalization data, c) text\n",
    "byte_count = encode.byte_mng_dec()\n",
    "byte_count.load_file(\"full_text_encode_Gould\")"
   ]
  },
  {
   "cell_type": "code",
   "execution_count": 3,
   "id": "0cefec55-7367-41ae-9db9-7b453de74396",
   "metadata": {},
   "outputs": [],
   "source": [
    "low = []\n",
    "upp = []\n",
    "for i in range(26):\n",
    "    low.append(string.ascii_lowercase[i])\n",
    "    upp.append(string.ascii_uppercase[i])\n",
    "num = []\n",
    "for i in range(10):\n",
    "    num.append(string.digits[i])\n",
    "sim = []"
   ]
  },
  {
   "cell_type": "code",
   "execution_count": 4,
   "id": "faadfb3d",
   "metadata": {},
   "outputs": [],
   "source": [
    "# unload counts\n",
    "ch, context, p3_arr, p4_arr, p5_arr, count4 = encode.decode_counts_text(byte_count)"
   ]
  },
  {
   "cell_type": "code",
   "execution_count": 5,
   "id": "76a03581-25f3-494d-aa6b-e37e32a5d8b2",
   "metadata": {},
   "outputs": [
    {
     "name": "stdout",
     "output_type": "stream",
     "text": [
      "42912\n"
     ]
    }
   ],
   "source": [
    "print(max(count4))"
   ]
  },
  {
   "cell_type": "code",
   "execution_count": 6,
   "id": "fc397c57-e197-494d-b246-939238945ae1",
   "metadata": {},
   "outputs": [
    {
     "name": "stdout",
     "output_type": "stream",
     "text": [
      "[4, 1, 4, 1, 3, 4, 3, 8, 5, 6, 18, 3, 24, 17, 1, 7, 6, 8, 8, 2, 1, 8, 2, 2, 1, 32, 98, 71, 1, 1] [4, 8, 1, 1, 17, 1, 1, 2, 1, 5, 1, 4, 1, 1, 2, 1, 4, 7, 1, 110, 8, 2, 2, 6, 1, 1, 1, 2, 1, 1]\n"
     ]
    }
   ],
   "source": [
    "print(count4[0:30], count4[-30:])"
   ]
  },
  {
   "cell_type": "code",
   "execution_count": 7,
   "id": "92eed6b6",
   "metadata": {},
   "outputs": [],
   "source": [
    "# need to decode this properly\n",
    "whitespace2 = byte_count.read_bits(3)"
   ]
  },
  {
   "cell_type": "code",
   "execution_count": 8,
   "id": "ccd3d522",
   "metadata": {},
   "outputs": [],
   "source": [
    "byte_count.to_end_of_byte()"
   ]
  },
  {
   "cell_type": "markdown",
   "id": "79df3e75-74ec-426f-9d0d-04c5334ff385",
   "metadata": {
    "jp-MarkdownHeadingCollapsed": true
   },
   "source": [
    "# Capitalization Array"
   ]
  },
  {
   "cell_type": "code",
   "execution_count": 9,
   "id": "910e62be-d3b8-41a8-aaa2-0b7d2af17436",
   "metadata": {},
   "outputs": [],
   "source": [
    "abr_arr = byte_count.read_list()\n",
    "name_arr = byte_count.read_list()\n",
    "\n",
    "exc_size = byte_count.read_ternary()\n",
    "exc_arr = []\n",
    "for i in range(exc_size):\n",
    "    exc_arr.append(byte_count.read_ternary())\n",
    "byte_count.to_end_of_byte() # should be the end now, but needed if the files are joined"
   ]
  },
  {
   "cell_type": "code",
   "execution_count": 10,
   "id": "a8b9c27d-4153-4a39-9102-d4669b201e0a",
   "metadata": {},
   "outputs": [
    {
     "name": "stdout",
     "output_type": "stream",
     "text": [
      "['ftl', 'scu', 'cia', 'hud', 'ceo', 'bbc', 'emp', 'gmt', 'dcu', 'ged', 'gbs', 'gcse', 'babum', 'wxyz', 'xcom']\n"
     ]
    }
   ],
   "source": [
    "# should be ['GBS','GMT', 'BBC', 'FTL', 'SCU', 'CIA','HUD','DCU','CEO','EMP','GED','GCSE','XCOM','WXYZ','BABUM']\n",
    "print(abr_arr)"
   ]
  },
  {
   "cell_type": "code",
   "execution_count": 11,
   "id": "e0c77206-c730-476f-b45a-1eda6c401a6f",
   "metadata": {},
   "outputs": [
    {
     "name": "stdout",
     "output_type": "stream",
     "text": [
      "756\n"
     ]
    }
   ],
   "source": [
    "print(len(name_arr)) #756 is the target"
   ]
  },
  {
   "cell_type": "code",
   "execution_count": 12,
   "id": "7947a5a9-afca-4e97-b6f4-8adca8795e76",
   "metadata": {},
   "outputs": [
    {
     "name": "stdout",
     "output_type": "stream",
     "text": [
      "['jade', 'mister', 'truro', 'mmmmm', 'africa', 'ammut', 'raven', 'shadow', 'superbo', 'lazarus', 'pennyworth', 'bialya', 'smith', 'garrick', 'gong', 'william', 'praexis', 'alkiphron', 'hawkwoman', 'london'] ['grandma', 'mc', 'vykin', 'british', 'torpedo', 'gardner', 'oan', 'nigma', 'maybe', 'oooh']\n"
     ]
    }
   ],
   "source": [
    "print(name_arr[0:20], name_arr[-10:])"
   ]
  },
  {
   "cell_type": "code",
   "execution_count": 13,
   "id": "193ffc42-1f3a-4518-a637-46aca354742b",
   "metadata": {},
   "outputs": [
    {
     "name": "stdout",
     "output_type": "stream",
     "text": [
      "17850 4359\n"
     ]
    }
   ],
   "source": [
    "print(len(exc_arr), max(exc_arr)) #17850 4359"
   ]
  },
  {
   "cell_type": "code",
   "execution_count": 14,
   "id": "16d2551b-90f4-4da1-8741-40ba89d8856d",
   "metadata": {},
   "outputs": [],
   "source": [
    "exc_arr[0] = exc_arr[0] - 1 # subtract one from the first index\n",
    "\n",
    "for i in range(1,len(exc_arr)):\n",
    "    exc_arr[i] = exc_arr[i] + exc_arr[i-1] # add the previous to go from spacing to index"
   ]
  },
  {
   "cell_type": "markdown",
   "id": "cfaba34d-8c8b-49a5-8721-35629657fc0d",
   "metadata": {
    "jp-MarkdownHeadingCollapsed": true
   },
   "source": [
    "# Text Decoding"
   ]
  },
  {
   "cell_type": "code",
   "execution_count": 15,
   "id": "138da96c-278d-4820-960e-3f51e18a79e1",
   "metadata": {},
   "outputs": [],
   "source": [
    "# this is where are decoded text will be stored\n",
    "#context = [ch.index('w'), ch.index('i'), ch.index('t')]\n",
    "text = []\n",
    "for i in context:\n",
    "    text.append(ch[i])"
   ]
  },
  {
   "cell_type": "code",
   "execution_count": 16,
   "id": "a292c4b1-e794-4e48-8a02-72d04025e445",
   "metadata": {},
   "outputs": [
    {
     "name": "stdout",
     "output_type": "stream",
     "text": [
      "['w', 'i', 't']\n"
     ]
    }
   ],
   "source": [
    "print(text)"
   ]
  },
  {
   "cell_type": "code",
   "execution_count": 17,
   "id": "5081169a",
   "metadata": {},
   "outputs": [],
   "source": [
    "#counts.counts_index_new[2][56748:56756]"
   ]
  },
  {
   "cell_type": "code",
   "execution_count": null,
   "id": "b336c62d",
   "metadata": {},
   "outputs": [],
   "source": []
  },
  {
   "cell_type": "code",
   "execution_count": 18,
   "id": "920c781a-3179-468f-9c96-95ba2e6e919b",
   "metadata": {},
   "outputs": [
    {
     "name": "stdout",
     "output_type": "stream",
     "text": [
      "with this ring [s01e01 - s01e26]\n",
      "\n",
      "information\n",
      "[story only and latest thread]\n",
      "second half of 2010\n",
      "author: mr. zoat [sb / sv]\n",
      "compiled by: twilight d. dragon [sb / sv]\n",
      "content: 26 episodes / 590 snippets\n",
      "length: 754.363 words\n",
      "status: completed\n",
      "\n",
      "started on: 14/08/2013\n",
      "completed on: 07/04/2015\n",
      "rewrite: [01/01/2016 - 09/04/2016]\n",
      "compliled on: 25/01/2017\n",
      "\n",
      "table of contents\n",
      "\n",
      "01 & 02) dependency day\n",
      "03) welcome to happy hour\n",
      "04) prod zone\n",
      "05) skived\n",
      "06) exfiltrator\n",
      "07) acceptance\n",
      "08) initiative\n",
      "09) clueless\n",
      "10) tracers\n",
      "11) exaltations\n",
      "12) home font\n",
      "13) beta male\n",
      "14) revolution\n",
      "15) inhumanity\n",
      "16) contingency\n",
      "17) reordered\n",
      "18) transparency\n",
      "19) displaced\n",
      "20) half-hearted\n",
      "21) mirage\n",
      "22) minutes\n",
      "23) insincerity\n",
      "24) preparation\n",
      "25) unusual suspicions\n",
      "26) gude-willie waught\n",
      "\n",
      "*episode 01 & 02:* dependency day\n",
      "\n",
      "5th july\n",
      "\n",
      "my bed feels soft. did i go to sleep on top of the duvet? stars? did i leave the blinds open? i try to turn to the clock, but there's just more stars? i wake up pretty much instantly at that point and oh shit that's the earth! i see the earth and it's a long way away and i'm breathing? i bring my hands up to my face. no, no space suit. i see the earth and i'm breathing and i'm not cold or hot and there's no space suit? i'm in space. what?\n",
      "\n",
      "there's something glowing on my left hand. i don't wear rings but i now have one on my ring finger? it's orange. in fact, i'm orange. i'm glowing orange. i hold my hand up to my eyes and-\n",
      "\n",
      "-aaaaaaaauuhhhh!?\n",
      "\n",
      "that's an orange power ring. i'm being kept alive in space by an orange power ring. well i... i suppose i've never felt suicidal, so that much makes sense. i poke my other arm. yes, definitely flesh, i haven't been turned into a construct. i don't seem to feel the overwhelming avarice that comes from the orange central power battery, so i guess this is one of the other rings? one of the ones that larfleeze keeps in his cave? does he know it's gone?\n",
      "\n",
      "fucking stupid. it's larfleeze. of course he knows it's gone.\n",
      "\n",
      "alright. i'm ca\n"
     ]
    }
   ],
   "source": [
    "#context_start = [ch.index(text[0]), ch.index(text[1]), ch.index(text[2])]\n",
    "counts = encode.count_static_k(3, ch, count4, [p3_arr, p4_arr, p5_arr])\n",
    "encoder_new = encode.arith_code_dec_k_fixed(context, counts, byte_count, whitespace2)\n",
    "cond = encoder_new.cont()\n",
    "\n",
    "\n",
    "while cond:\n",
    "#for i in range(1900):\n",
    "    text.append(encoder_new.remove_character())\n",
    "    cond = encoder_new.cont()\n",
    "\n",
    "text_out_f = ''.join(text)\n",
    "\n",
    "print(text_out_f[0:2000])\n",
    "\n",
    "#whitespace2 = encoder_new.finalize()\n",
    "\n",
    "# I also need to add a number somewhere to indicate how many 0s are added to the end due to not being a full byte, and the size of the capitalization encoding,\n",
    "# since neither this nor the captialization encoding have a definite end (I can add an end to the capitalization only when I know the text size)"
   ]
  },
  {
   "cell_type": "code",
   "execution_count": 19,
   "id": "053f77e2-9a46-4e6b-8da4-1837d0cdc3c5",
   "metadata": {},
   "outputs": [
    {
     "name": "stdout",
     "output_type": "stream",
     "text": [
      "4213440\n",
      "ere's no you shaped hole in it. he neither needs nor wants you, and all you trying to get involved now will do is.. mess him about. if you want to talk to him, he's just up there.\" i point up at the main hall. \"but i'm not helping you patch things up when there's never been anything there to break.\"\n"
     ]
    }
   ],
   "source": [
    "print(len(text))\n",
    "text_out_f = ''.join(text)\n",
    "print(text_out_f[-300:])"
   ]
  },
  {
   "cell_type": "code",
   "execution_count": 20,
   "id": "bd196816-a38f-4ef5-beda-a932068ec7b7",
   "metadata": {},
   "outputs": [],
   "source": [
    "filename = 'MrZoat_WithThisRingS01_Gould.txt'\n",
    "with open(filename) as f:\n",
    "    text3 = f.read()"
   ]
  },
  {
   "cell_type": "code",
   "execution_count": 21,
   "id": "6bdbf7a6-6e57-4c9e-b631-4b4df3ede7d8",
   "metadata": {},
   "outputs": [
    {
     "data": {
      "text/plain": [
       "True"
      ]
     },
     "execution_count": 21,
     "metadata": {},
     "output_type": "execute_result"
    }
   ],
   "source": [
    "text_out_f[:782805] == text3[:782805].lower()"
   ]
  },
  {
   "cell_type": "markdown",
   "id": "b8436860",
   "metadata": {},
   "source": [
    "Recap time < 5 min. Decode time is 70 minutes."
   ]
  },
  {
   "cell_type": "markdown",
   "id": "50be4891",
   "metadata": {},
   "source": []
  }
 ],
 "metadata": {
  "kernelspec": {
   "display_name": "base",
   "language": "python",
   "name": "python3"
  },
  "language_info": {
   "codemirror_mode": {
    "name": "ipython",
    "version": 3
   },
   "file_extension": ".py",
   "mimetype": "text/x-python",
   "name": "python",
   "nbconvert_exporter": "python",
   "pygments_lexer": "ipython3",
   "version": "3.12.9"
  }
 },
 "nbformat": 4,
 "nbformat_minor": 5
}
