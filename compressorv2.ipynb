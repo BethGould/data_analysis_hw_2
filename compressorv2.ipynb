{
 "cells": [
  {
   "cell_type": "markdown",
   "id": "3b04c91d-107f-405e-97b5-26867449a87d",
   "metadata": {
    "jp-MarkdownHeadingCollapsed": true
   },
   "source": [
    "# Encryption of the Uncapitalized Text"
   ]
  },
  {
   "cell_type": "markdown",
   "id": "aba20204",
   "metadata": {},
   "source": [
    "Decap time = 1.5 hours. Find count time = 1.5 hours. The encoder seems to want 3 hours right now."
   ]
  },
  {
   "cell_type": "code",
   "execution_count": 2,
   "id": "8dea3b4c",
   "metadata": {},
   "outputs": [],
   "source": [
    "#libraries\n",
    "import string\n",
    "import encode\n",
    "import numpy as np\n",
    "\n",
    "#load text\n",
    "with open(\"MrZoat_WithThisRingS01_Gould.txt\") as f:\n",
    "    text = f.read()\n",
    "\n",
    "text = text.lower()\n",
    "\n",
    "low = []\n",
    "for i in range(26):\n",
    "    low.append(string.ascii_lowercase[i])\n",
    "num = []\n",
    "for i in range(10):\n",
    "    num.append(string.digits[i])\n",
    "\n",
    "# now in the correct order\n",
    "sim1 = ['\\n', ' ', '!', '\\\"', '$', '%', '&', '\\'', '(', ')', '*', '+', ',', '-', '.', '/' ]\n",
    "sim2 = [':', ';', '<', '>', '?', '[', ']']\n",
    "sim3 = ['|', '}']\n",
    "ch = sim1 + num + sim2 + low + sim3 # this is our full list of symbols"
   ]
  },
  {
   "cell_type": "code",
   "execution_count": 3,
   "id": "89ecb202",
   "metadata": {},
   "outputs": [],
   "source": [
    "# This is the long part\n",
    "c1_non0, c2_non0, c3_non0, c3n_non0, c4_non0, count4, c4_arr = encode.find_counts_text_enc(text, ch)"
   ]
  },
  {
   "cell_type": "code",
   "execution_count": 4,
   "id": "bb73dc2e",
   "metadata": {},
   "outputs": [],
   "source": [
    "counts_enc = encode.byte_mng_enc()\n",
    "encode.encode_counts_text(text, counts_enc, ch, c2_non0, c3n_non0, c4_non0, c4_arr)"
   ]
  },
  {
   "cell_type": "markdown",
   "id": "53639685-c65a-4148-9de5-f02801270d88",
   "metadata": {
    "jp-MarkdownHeadingCollapsed": true
   },
   "source": [
    "# Text Compression\n",
    "\n",
    "My assumption is that I already have the capitalization, which I will not deal with here, and the context-based probabilities, which are already loaded. Do to how I store the probabilities, I will ignore the first three characters (already recorded in the model) and work only with probabilities based on the previous three characters.\n",
    "\n",
    "I need routines to: \n",
    "{l_old, h_old, bits_old -> a, b -> h-l+1, h-l+1 / 2^n -> a+ term, b+ term -> l, h -> bin l, bin h -> enc update -> new bin l, new bin h, bits_new -> new l, new h}\n",
    " - find the counts based on the context (give context, find counts)\n",
    " - find the probabilities and borders based on the counts (give counts and char, find left and right border)\n",
    " - store bits and bytes, take bits and add it to the byte list (input array of bools, update encoding)\n",
    " - keep track of and update l, h, bits"
   ]
  },
  {
   "cell_type": "markdown",
   "id": "133040f0-53eb-417d-ae8b-9847cda51108",
   "metadata": {},
   "source": [
    "I can fix the end of file issue by adding 3 bits to the beginning, setting them to 0, then later setting them to encode how many zeros at the end of the text are not intended / don't indicate extra cycles. This prevents from needing to play around with the order of the files."
   ]
  },
  {
   "cell_type": "code",
   "execution_count": 5,
   "id": "0b1bd606",
   "metadata": {},
   "outputs": [],
   "source": [
    "c2_non0v2 = [list(c2_non0[0]), list(c2_non0[1])]\n",
    "c3_non0v2 = [list(c3n_non0[0]), list(c3n_non0[1])]\n",
    "c4_non0v2 = [list(c4_non0[0]), list(c4_non0[1])]"
   ]
  },
  {
   "cell_type": "code",
   "execution_count": 6,
   "id": "af46c9ba-924b-4ae0-acc5-ee0dbcc1413a",
   "metadata": {},
   "outputs": [
    {
     "name": "stdout",
     "output_type": "stream",
     "text": [
      "0 2\n"
     ]
    }
   ],
   "source": [
    "context_start = [ch.index(text[0]), ch.index(text[1]), ch.index(text[2])]\n",
    "\n",
    "counts = encode.count_static_k(3, ch, c4_arr, [c2_non0v2, c3_non0v2, c4_non0v2])\n",
    "encoder_new = encode.arith_code_enc_k_fixed(context_start, counts)\n",
    "\n",
    "for i in text[3:]:\n",
    "    encoder_new.add_character(i)\n",
    "\n",
    "whitespace2 = encoder_new.finalize()\n",
    "encoder_new.byte_encode.save_bits('text_encode') # This will be used to test the size of the compressed text once I run the algorithm. \n",
    "                                                 # I need to switch 'wb' to 'ab' for this to actually work as intended.\n",
    "print(encoder_new.duration_static, whitespace2)\n",
    "\n",
    "# I also need to add a number somewhere to indicate how many 0s are added to the end due to not being a full byte, and the size of the capitalization encoding,\n",
    "# since neither this nor the captialization encoding have a definite end (I can add an end to the capitalization only when I know the text size)"
   ]
  },
  {
   "cell_type": "code",
   "execution_count": 7,
   "id": "6302892e",
   "metadata": {},
   "outputs": [
    {
     "data": {
      "text/plain": [
       "1426"
      ]
     },
     "execution_count": 7,
     "metadata": {},
     "output_type": "execute_result"
    }
   ],
   "source": [
    "max(c3_non0v2[0])"
   ]
  },
  {
   "cell_type": "code",
   "execution_count": 8,
   "id": "06633107-77c2-4c89-9922-9ac1ee51d5b6",
   "metadata": {},
   "outputs": [],
   "source": [
    "text_byte_array = bytearray(encoder_new.byte_encode.byte_store)"
   ]
  },
  {
   "cell_type": "code",
   "execution_count": 9,
   "id": "ee41672a",
   "metadata": {},
   "outputs": [],
   "source": [
    "filename = \"arith_enc_test_2\"\n",
    "with open(filename, 'wb') as f:\n",
    "    f.write(text_byte_array)"
   ]
  },
  {
   "cell_type": "code",
   "execution_count": 10,
   "id": "175b9b4b",
   "metadata": {},
   "outputs": [
    {
     "data": {
      "text/plain": [
       "1148570"
      ]
     },
     "execution_count": 10,
     "metadata": {},
     "output_type": "execute_result"
    }
   ],
   "source": [
    "len(text_byte_array)"
   ]
  }
 ],
 "metadata": {
  "kernelspec": {
   "display_name": "base",
   "language": "python",
   "name": "python3"
  },
  "language_info": {
   "codemirror_mode": {
    "name": "ipython",
    "version": 3
   },
   "file_extension": ".py",
   "mimetype": "text/x-python",
   "name": "python",
   "nbconvert_exporter": "python",
   "pygments_lexer": "ipython3",
   "version": "3.12.9"
  }
 },
 "nbformat": 4,
 "nbformat_minor": 5
}
